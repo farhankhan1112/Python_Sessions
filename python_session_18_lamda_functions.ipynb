{
 "cells": [
  {
   "cell_type": "markdown",
   "id": "a4a8639c-6b69-48c7-8fa0-e81864b6bfcc",
   "metadata": {},
   "source": [
    "**Lamda functions**"
   ]
  },
  {
   "cell_type": "code",
   "execution_count": 2,
   "id": "d09a2569-27cb-4540-9def-d3242b3746a7",
   "metadata": {},
   "outputs": [
    {
     "data": {
      "text/plain": [
       "20"
      ]
     },
     "execution_count": 2,
     "metadata": {},
     "output_type": "execute_result"
    }
   ],
   "source": [
    "def summ(n):\n",
    "    return(n+10)\n",
    "\n",
    "summ(10)"
   ]
  },
  {
   "cell_type": "markdown",
   "id": "5f388386-f510-48ad-bef6-563b6b187966",
   "metadata": {},
   "source": [
    "$pattern-1$\n",
    "\n",
    "**function with one argument**\n",
    "\n",
    "- what is the function name\n",
    "\n",
    "- what id the argument name\n",
    "\n",
    "- what is the rerturn statement\n",
    "\n",
    "  "
   ]
  },
  {
   "cell_type": "code",
   "execution_count": null,
   "id": "c3fefa15-11e1-42d3-8c3c-cb2188f169d4",
   "metadata": {},
   "outputs": [],
   "source": [
    "# syntax:\n",
    "# func_name= lamda <arg name> : <return statement>\n",
    "# function name =summ\n",
    "# argument name= n\n",
    "# return stateemnt = n+10"
   ]
  },
  {
   "cell_type": "code",
   "execution_count": 6,
   "id": "82a1b3b5-2930-4470-b51f-e2e8101e943e",
   "metadata": {},
   "outputs": [
    {
     "data": {
      "text/plain": [
       "20"
      ]
     },
     "execution_count": 6,
     "metadata": {},
     "output_type": "execute_result"
    }
   ],
   "source": [
    "summ= lambda n : n+10\n",
    "summ(10)"
   ]
  },
  {
   "cell_type": "code",
   "execution_count": 8,
   "id": "8e950c53-17f4-49c0-94d6-a8871e2a076a",
   "metadata": {},
   "outputs": [
    {
     "data": {
      "text/plain": [
       "1000"
      ]
     },
     "execution_count": 8,
     "metadata": {},
     "output_type": "execute_result"
    }
   ],
   "source": [
    "def cube(n1):\n",
    "    return(n1*n1*n1)\n",
    "\n",
    "cube(10)"
   ]
  },
  {
   "cell_type": "code",
   "execution_count": 12,
   "id": "647a1f65-febe-4edc-9bf1-672620459286",
   "metadata": {},
   "outputs": [
    {
     "data": {
      "text/plain": [
       "25"
      ]
     },
     "execution_count": 12,
     "metadata": {},
     "output_type": "execute_result"
    }
   ],
   "source": [
    "def cube(n1):\n",
    "    return(n1*n1)\n",
    "\n",
    "cube(5)"
   ]
  },
  {
   "cell_type": "code",
   "execution_count": 14,
   "id": "cccef772-7b8b-4362-87ab-c17b9c952d85",
   "metadata": {},
   "outputs": [
    {
     "data": {
      "text/plain": [
       "1000"
      ]
     },
     "execution_count": 14,
     "metadata": {},
     "output_type": "execute_result"
    }
   ],
   "source": [
    "cube= lambda n1 : n1**3\n",
    "cube(10)"
   ]
  },
  {
   "cell_type": "markdown",
   "id": "bbd223d8-830b-46f8-8383-4a0f9bf46ee1",
   "metadata": {},
   "source": [
    "$pattern-2$\n",
    "\n",
    "**Function with two argument**"
   ]
  },
  {
   "cell_type": "code",
   "execution_count": 19,
   "id": "30e34964-554c-4b85-a853-7b6171596be6",
   "metadata": {},
   "outputs": [
    {
     "data": {
      "text/plain": [
       "300"
      ]
     },
     "execution_count": 19,
     "metadata": {},
     "output_type": "execute_result"
    }
   ],
   "source": [
    "def add(n1,n2):\n",
    "    return(n1+n2)\n",
    "\n",
    "add(100,200)"
   ]
  },
  {
   "cell_type": "code",
   "execution_count": 23,
   "id": "e0f3ec1f-0bd5-4ee3-b392-70c2660d9e52",
   "metadata": {},
   "outputs": [
    {
     "data": {
      "text/plain": [
       "300"
      ]
     },
     "execution_count": 23,
     "metadata": {},
     "output_type": "execute_result"
    }
   ],
   "source": [
    "add= lambda n1,n2 : n1+n2\n",
    "add(100,200)"
   ]
  },
  {
   "cell_type": "code",
   "execution_count": 29,
   "id": "91dad18b-b986-4fd0-b559-42365c7d53a0",
   "metadata": {},
   "outputs": [
    {
     "data": {
      "text/plain": [
       "20.0"
      ]
     },
     "execution_count": 29,
     "metadata": {},
     "output_type": "execute_result"
    }
   ],
   "source": [
    "avg= lambda n1,n2,n3 : (n1+n2+n3)/3\n",
    "avg(10,20,30)"
   ]
  },
  {
   "cell_type": "code",
   "execution_count": null,
   "id": "d507c4e3-d9f5-4ed1-8172-692c07a14271",
   "metadata": {},
   "outputs": [],
   "source": []
  },
  {
   "cell_type": "markdown",
   "id": "f1a9ac84-681d-4215-8e66-e3f6838eeee8",
   "metadata": {},
   "source": [
    "$pattern-3$\n",
    "\n",
    "**Function with default argument**"
   ]
  },
  {
   "cell_type": "code",
   "execution_count": 31,
   "id": "0e335cfc-e739-4873-b7c3-da6e3c20c698",
   "metadata": {},
   "outputs": [
    {
     "ename": "SyntaxError",
     "evalue": "unmatched ')' (1398372424.py, line 1)",
     "output_type": "error",
     "traceback": [
      "\u001b[1;36m  Cell \u001b[1;32mIn[31], line 1\u001b[1;36m\u001b[0m\n\u001b[1;33m    avg= lambda n1,n2,n3=100 : round((n1+n2+n3)/3,2))\u001b[0m\n\u001b[1;37m                                                    ^\u001b[0m\n\u001b[1;31mSyntaxError\u001b[0m\u001b[1;31m:\u001b[0m unmatched ')'\n"
     ]
    }
   ],
   "source": [
    "avg= lambda n1,n2,n3=100 : round(())\n",
    "avg(101,20)"
   ]
  },
  {
   "cell_type": "markdown",
   "id": "29afb874-0379-480b-9a3b-01ae7612b9e9",
   "metadata": {},
   "source": [
    "$pattern-4$\n",
    "\n",
    "**if-else**"
   ]
  },
  {
   "cell_type": "code",
   "execution_count": 34,
   "id": "b0c1cd18-65c1-4c0d-8570-5ffa3a4cf16b",
   "metadata": {},
   "outputs": [
    {
     "data": {
      "text/plain": [
       "200"
      ]
     },
     "execution_count": 34,
     "metadata": {},
     "output_type": "execute_result"
    }
   ],
   "source": [
    "def greater(n1,n2):\n",
    "    if n1>n2:\n",
    "        return(n1)\n",
    "    else:\n",
    "        return(n2)\n",
    "greater(100,200)"
   ]
  },
  {
   "cell_type": "code",
   "execution_count": null,
   "id": "68e5d04e-bf50-4a83-9a74-20c9e90d4d98",
   "metadata": {},
   "outputs": [],
   "source": [
    "# syntax\n",
    "# func_name = lambda arg1,arg2 : <if out> <if cond> <else> <elseout>"
   ]
  },
  {
   "cell_type": "code",
   "execution_count": 36,
   "id": "93ee67ff-bf51-40f0-a48a-d797e900d7ba",
   "metadata": {},
   "outputs": [
    {
     "data": {
      "text/plain": [
       "20"
      ]
     },
     "execution_count": 36,
     "metadata": {},
     "output_type": "execute_result"
    }
   ],
   "source": [
    "greater = lambda n1,n2: n1 if n1>n2 else n2\n",
    "greater(10,20)"
   ]
  },
  {
   "cell_type": "markdown",
   "id": "70583360-846b-49bc-a1f8-9fd64994ab2d",
   "metadata": {},
   "source": [
    "$pattern-5$\n",
    "\n",
    "**using list**"
   ]
  },
  {
   "cell_type": "code",
   "execution_count": 41,
   "id": "0a000bd8-cdd6-4bf7-bd4c-1c7ac78ff97f",
   "metadata": {},
   "outputs": [
    {
     "data": {
      "text/plain": [
       "[1, 4, 9, 16, 25]"
      ]
     },
     "execution_count": 41,
     "metadata": {},
     "output_type": "execute_result"
    }
   ],
   "source": [
    "# Take 5 numbers from a list do the square\n",
    "# append in a list\n",
    "\n",
    "l=[1,2,3,4,5]\n",
    "sq_list=[]\n",
    "for i in l:\n",
    "    sq_list.append(i*i)\n",
    "sq_list"
   ]
  },
  {
   "cell_type": "code",
   "execution_count": 43,
   "id": "777c0f9f-3f3d-432c-bde3-f0acdd1a8743",
   "metadata": {},
   "outputs": [
    {
     "data": {
      "text/plain": [
       "[1, 4, 9, 16, 25]"
      ]
     },
     "execution_count": 43,
     "metadata": {},
     "output_type": "execute_result"
    }
   ],
   "source": [
    "sq_list = [i*i for i in l]\n",
    "sq_list"
   ]
  },
  {
   "cell_type": "markdown",
   "id": "79932f39-66f9-4314-82d0-272c356cb452",
   "metadata": {},
   "source": [
    "# map"
   ]
  },
  {
   "cell_type": "code",
   "execution_count": null,
   "id": "16ef80ef-5350-4de2-902e-107827ab8f0e",
   "metadata": {},
   "outputs": [],
   "source": [
    "lambda arg: op\n",
    "lambda n : n=10\n",
    "lambda n : n*n*n\n",
    "\n",
    "# what is your variable : 'i'\n",
    "# what is your output   : 'i*i'\n",
    "# From whenever we ae taking 'i' : list\n",
    "# syntax:\n",
    "# lambda <variable>:<cop>,iterator"
   ]
  },
  {
   "cell_type": "code",
   "execution_count": 45,
   "id": "a1451cd3-69ea-46ad-a36f-e712d87aebb4",
   "metadata": {},
   "outputs": [
    {
     "data": {
      "text/plain": [
       "<function __main__.<lambda>(i)>"
      ]
     },
     "execution_count": 45,
     "metadata": {},
     "output_type": "execute_result"
    }
   ],
   "source": [
    "lambda  i : i*i"
   ]
  },
  {
   "cell_type": "code",
   "execution_count": 50,
   "id": "fd2ac9d5-5349-4eea-8e7a-659e51ce74fc",
   "metadata": {},
   "outputs": [
    {
     "data": {
      "text/plain": [
       "<map at 0x21b10c64a30>"
      ]
     },
     "execution_count": 50,
     "metadata": {},
     "output_type": "execute_result"
    }
   ],
   "source": [
    "map(lambda i : i*i,l)"
   ]
  },
  {
   "cell_type": "code",
   "execution_count": 52,
   "id": "1fa6d382-74ce-49ff-8508-0bdc9dcc3976",
   "metadata": {},
   "outputs": [
    {
     "data": {
      "text/plain": [
       "[1, 4, 9, 16, 25]"
      ]
     },
     "execution_count": 52,
     "metadata": {},
     "output_type": "execute_result"
    }
   ],
   "source": [
    "list(map(lambda i : i*i,l))"
   ]
  },
  {
   "cell_type": "markdown",
   "id": "3aaba1c0-7143-4bf5-991d-09b712e79324",
   "metadata": {},
   "source": [
    "- step-1 : what is a variable\n",
    "\n",
    "- step-2 : what is the output\n",
    "\n",
    "- step-3 : what is the iterator\n",
    "\n",
    "- step-4 : syntax : lambda variable : ouput,iterate\n",
    "\n",
    "     - iterater canbe list\n",
    "\n",
    "     - iterator can be tuple\n",
    "\n",
    "**iterator**.anything can be print using for loop\n",
    "\n",
    "- step-5 : use **map** to combine function and iterate\n",
    "\n",
    "    - map( lambda variable : ouput,iterate)\n",
    "\n",
    "- step-6 : apply list or tuple to save the redult\n",
    "\n",
    "    - list( map( lambda variable : ouput,iterate))"
   ]
  },
  {
   "cell_type": "code",
   "execution_count": 63,
   "id": "cc77af7b-ac33-4b8d-885f-232ff425c0dd",
   "metadata": {},
   "outputs": [
    {
     "data": {
      "text/plain": [
       "['HYD', 'MUMBAI', 'CHENNAI']"
      ]
     },
     "execution_count": 63,
     "metadata": {},
     "output_type": "execute_result"
    }
   ],
   "source": [
    "# L=['hyd','mumbai','chennai']\n",
    "# o=['HYD','MUMBAI','CHENNAI']\n",
    "\n",
    "L=['hyd','mumbai','chennai']\n",
    "list(map(lambda i : i.upper(), L))"
   ]
  },
  {
   "cell_type": "code",
   "execution_count": 70,
   "id": "3284a4aa-fd67-4dd8-a1b8-9a146b8f40c6",
   "metadata": {},
   "outputs": [
    {
     "data": {
      "text/plain": [
       "['Hyd', 'Mumbai', 'Chennai']"
      ]
     },
     "execution_count": 70,
     "metadata": {},
     "output_type": "execute_result"
    }
   ],
   "source": [
    "# L=['hyd','mumbai','chennai']\n",
    "# o=['Hd','Mumbai',Chennai]\n",
    "\n",
    "L=['hyd','mumbai','chennai']\n",
    "list(map(lambda i : i.capitalize(), L))"
   ]
  },
  {
   "cell_type": "code",
   "execution_count": 67,
   "id": "4fe486bb-8434-4f6a-9223-809cefdeb7b0",
   "metadata": {},
   "outputs": [
    {
     "data": {
      "text/plain": [
       "[False, True, True]"
      ]
     },
     "execution_count": 67,
     "metadata": {},
     "output_type": "execute_result"
    }
   ],
   "source": [
    "# L=['hyd','mum#bai','che#nai']\n",
    "# o=['Hd','Mum#bai','Che#nai']\n",
    "\n",
    "L=['hyd','mum#bai','che#nai']\n",
    "\n",
    "# when ever if condition are using in a list\n",
    "# write conditional offer only\n",
    "# dont write if condition\n",
    "list(map(lambda i : '#' in i, L))"
   ]
  },
  {
   "cell_type": "markdown",
   "id": "8a5562a9-a9f6-4b33-8409-0095c787a89b",
   "metadata": {},
   "source": [
    "# filter\n",
    "\n",
    "- Map method , map the each and every elelment with function\n",
    "\n",
    "- It will give direct answer on each element\n",
    "\n",
    "- It will give True and False on each element\n",
    "\n",
    "- whenever we seee True or False\n",
    "\n",
    "- instead of map apply filter"
   ]
  },
  {
   "cell_type": "code",
   "execution_count": 80,
   "id": "eb120c59-e927-4feb-a25a-8d662eceb9f0",
   "metadata": {},
   "outputs": [
    {
     "data": {
      "text/plain": [
       "['mum#bai', 'che#nai']"
      ]
     },
     "execution_count": 80,
     "metadata": {},
     "output_type": "execute_result"
    }
   ],
   "source": [
    "L=['hyd','mum#bai','che#nai']\n",
    "list(filter(lambda i : '#' in i.capitalize(),L))"
   ]
  },
  {
   "cell_type": "code",
   "execution_count": 76,
   "id": "983742d6-3661-4cb3-9815-32ebc655cd47",
   "metadata": {},
   "outputs": [
    {
     "data": {
      "text/plain": [
       "15"
      ]
     },
     "execution_count": 76,
     "metadata": {},
     "output_type": "execute_result"
    }
   ],
   "source": [
    "l=[1,2,3,4,5]\n",
    "sum(l)"
   ]
  },
  {
   "cell_type": "code",
   "execution_count": 82,
   "id": "1708b09a-a52b-4c56-9004-6f11793f0613",
   "metadata": {},
   "outputs": [
    {
     "name": "stdout",
     "output_type": "stream",
     "text": [
      "15\n"
     ]
    }
   ],
   "source": [
    "s=0\n",
    "for i in l:\n",
    "    s=s+i\n",
    "print(s)"
   ]
  },
  {
   "cell_type": "code",
   "execution_count": 90,
   "id": "1b75a802-9e79-4892-98f1-04baee6637e8",
   "metadata": {},
   "outputs": [
    {
     "ename": "NameError",
     "evalue": "name 's1' is not defined",
     "output_type": "error",
     "traceback": [
      "\u001b[1;31m---------------------------------------------------------------------------\u001b[0m",
      "\u001b[1;31mNameError\u001b[0m                                 Traceback (most recent call last)",
      "Cell \u001b[1;32mIn[90], line 2\u001b[0m\n\u001b[0;32m      1\u001b[0m l\n\u001b[1;32m----> 2\u001b[0m \u001b[38;5;28mlist\u001b[39m(\u001b[38;5;28mfilter\u001b[39m(\u001b[38;5;28;01mlambda\u001b[39;00m i : s1\u001b[38;5;241m+\u001b[39mi, l))\n",
      "Cell \u001b[1;32mIn[90], line 2\u001b[0m, in \u001b[0;36m<lambda>\u001b[1;34m(i)\u001b[0m\n\u001b[0;32m      1\u001b[0m l\n\u001b[1;32m----> 2\u001b[0m \u001b[38;5;28mlist\u001b[39m(\u001b[38;5;28mfilter\u001b[39m(\u001b[38;5;28;01mlambda\u001b[39;00m i : s1\u001b[38;5;241m+\u001b[39mi, l))\n",
      "\u001b[1;31mNameError\u001b[0m: name 's1' is not defined"
     ]
    }
   ],
   "source": [
    "l\n",
    "list(filter(lambda i : s1+i, l))"
   ]
  },
  {
   "cell_type": "markdown",
   "id": "d42af73a-9513-4e44-b280-38a585962b34",
   "metadata": {},
   "source": [
    "**reduce**\n",
    "\n",
    "- all inbuilt function we can achive using for loop\n",
    "\n",
    "- for example find sum of list of element\n",
    "\n",
    "- this we can achive using **sum** : sum(l)\n",
    "\n",
    "- also this we can achive using normal for loop , by intializing s=0\n",
    "\n",
    "- the same thinh we can achieve using **reduce**\n",
    "\n",
    "- reduce available in func_tools packages"
   ]
  },
  {
   "cell_type": "code",
   "execution_count": 93,
   "id": "ab7d3d42-7e0d-4e10-8385-bd441c0b02c1",
   "metadata": {},
   "outputs": [],
   "source": [
    "import functools"
   ]
  },
  {
   "cell_type": "code",
   "execution_count": 95,
   "id": "5d907b38-fca9-4eb7-8cca-22e3b0ee287b",
   "metadata": {},
   "outputs": [
    {
     "data": {
      "text/plain": [
       "['GenericAlias',\n",
       " 'RLock',\n",
       " 'WRAPPER_ASSIGNMENTS',\n",
       " 'WRAPPER_UPDATES',\n",
       " '_CacheInfo',\n",
       " '_HashedSeq',\n",
       " '_NOT_FOUND',\n",
       " '__all__',\n",
       " '__builtins__',\n",
       " '__cached__',\n",
       " '__doc__',\n",
       " '__file__',\n",
       " '__loader__',\n",
       " '__name__',\n",
       " '__package__',\n",
       " '__spec__',\n",
       " '_c3_merge',\n",
       " '_c3_mro',\n",
       " '_compose_mro',\n",
       " '_convert',\n",
       " '_find_impl',\n",
       " '_ge_from_gt',\n",
       " '_ge_from_le',\n",
       " '_ge_from_lt',\n",
       " '_gt_from_ge',\n",
       " '_gt_from_le',\n",
       " '_gt_from_lt',\n",
       " '_initial_missing',\n",
       " '_le_from_ge',\n",
       " '_le_from_gt',\n",
       " '_le_from_lt',\n",
       " '_lru_cache_wrapper',\n",
       " '_lt_from_ge',\n",
       " '_lt_from_gt',\n",
       " '_lt_from_le',\n",
       " '_make_key',\n",
       " '_unwrap_partial',\n",
       " 'cache',\n",
       " 'cached_property',\n",
       " 'cmp_to_key',\n",
       " 'get_cache_token',\n",
       " 'lru_cache',\n",
       " 'namedtuple',\n",
       " 'partial',\n",
       " 'partialmethod',\n",
       " 'recursive_repr',\n",
       " 'reduce',\n",
       " 'singledispatch',\n",
       " 'singledispatchmethod',\n",
       " 'total_ordering',\n",
       " 'update_wrapper',\n",
       " 'wraps']"
      ]
     },
     "execution_count": 95,
     "metadata": {},
     "output_type": "execute_result"
    }
   ],
   "source": [
    "dir(functools)"
   ]
  },
  {
   "cell_type": "code",
   "execution_count": 99,
   "id": "70f3a529-5a80-410c-b280-87580f6aa97c",
   "metadata": {},
   "outputs": [
    {
     "data": {
      "text/plain": [
       "15"
      ]
     },
     "execution_count": 99,
     "metadata": {},
     "output_type": "execute_result"
    }
   ],
   "source": [
    "L=[1,2,3,4,5]\n",
    "import functools\n",
    "functools.reduce(lambda summ,i:summ+i,L)"
   ]
  },
  {
   "cell_type": "code",
   "execution_count": 101,
   "id": "1c92c3a9-fe14-46de-8eca-da6ba7be12c0",
   "metadata": {},
   "outputs": [],
   "source": [
    "from functools import reduce"
   ]
  },
  {
   "cell_type": "code",
   "execution_count": 103,
   "id": "16851f5c-e85a-4057-83d6-52a81de5759e",
   "metadata": {},
   "outputs": [
    {
     "data": {
      "text/plain": [
       "16"
      ]
     },
     "execution_count": 103,
     "metadata": {},
     "output_type": "execute_result"
    }
   ],
   "source": [
    "import random\n",
    "random.randint(10,20)\n",
    "\n",
    "from random import randint\n",
    "randint(10,20)"
   ]
  },
  {
   "cell_type": "code",
   "execution_count": 105,
   "id": "30ff871c-2ca4-45a6-9bc3-e87105360b26",
   "metadata": {},
   "outputs": [
    {
     "data": {
      "text/plain": [
       "15"
      ]
     },
     "execution_count": 105,
     "metadata": {},
     "output_type": "execute_result"
    }
   ],
   "source": [
    "L=[1,2,3,4,5]\n",
    "import functools\n",
    "functools.reduce(lambda summ,i:summ+i,L)\n",
    "\n",
    "from functools import reduce\n",
    "reduce(lambda summ,i:summ+i,L)\n",
    "\n",
    "import functools as ft\n",
    "ft.reduce(lambda summ,i:summ+i,L)"
   ]
  },
  {
   "cell_type": "code",
   "execution_count": 107,
   "id": "e7778bbb-3c38-44f3-a19b-cffac6dd9a0b",
   "metadata": {},
   "outputs": [
    {
     "data": {
      "text/plain": [
       "15"
      ]
     },
     "execution_count": 107,
     "metadata": {},
     "output_type": "execute_result"
    }
   ],
   "source": [
    "L=[1,2,3,4,5]\n",
    "import functools\n",
    "functools.reduce(lambda i,summ:summ+i,L)"
   ]
  },
  {
   "cell_type": "code",
   "execution_count": 109,
   "id": "d97733dc-09b1-4731-8e30-5f6cb001fd4e",
   "metadata": {},
   "outputs": [
    {
     "data": {
      "text/plain": [
       "15"
      ]
     },
     "execution_count": 109,
     "metadata": {},
     "output_type": "execute_result"
    }
   ],
   "source": [
    "L=[1,2,3,4,5]\n",
    "import functools\n",
    "functools.reduce(lambda i,summ=100:summ+i,L)"
   ]
  },
  {
   "cell_type": "code",
   "execution_count": 111,
   "id": "dad8aa86-3a5e-4904-952e-843320567406",
   "metadata": {},
   "outputs": [
    {
     "data": {
      "text/plain": [
       "115"
      ]
     },
     "execution_count": 111,
     "metadata": {},
     "output_type": "execute_result"
    }
   ],
   "source": [
    "L=[1,2,3,4,5]\n",
    "import functools\n",
    "functools.reduce(lambda i,summ:summ+i,L,100)"
   ]
  },
  {
   "cell_type": "code",
   "execution_count": null,
   "id": "c9332760-1240-4f64-8c72-d6c08ad9885e",
   "metadata": {},
   "outputs": [],
   "source": [
    "L=[1,2,3,4,5]\n",
    "import functools\n",
    "functools.reduce(lambda i,summ:summ+i,L)   # summ =0\n",
    "functools.reduce(lambda i,summ:summ+i,L,100)  # summ = 100"
   ]
  },
  {
   "cell_type": "code",
   "execution_count": null,
   "id": "7e0c883b-27ab-4876-a0ae-bae02c25e0e6",
   "metadata": {},
   "outputs": [],
   "source": [
    "# practice on map , filter , reduce"
   ]
  },
  {
   "cell_type": "code",
   "execution_count": null,
   "id": "eb5892c2-9c3f-457a-8115-b1992c042028",
   "metadata": {},
   "outputs": [],
   "source": [
    "# map : no True Flase \n",
    "# filter : True False\n",
    "# refuce: inbuilt functions\n",
    "\n",
    "# Assignment \n",
    "#  [20,1,4,25,67,8,14]  Max value using reduce"
   ]
  },
  {
   "cell_type": "code",
   "execution_count": null,
   "id": "ae7d2113-78f0-4c37-9849-9702bb641e22",
   "metadata": {},
   "outputs": [],
   "source": []
  }
 ],
 "metadata": {
  "kernelspec": {
   "display_name": "Python 3 (ipykernel)",
   "language": "python",
   "name": "python3"
  },
  "language_info": {
   "codemirror_mode": {
    "name": "ipython",
    "version": 3
   },
   "file_extension": ".py",
   "mimetype": "text/x-python",
   "name": "python",
   "nbconvert_exporter": "python",
   "pygments_lexer": "ipython3",
   "version": "3.12.4"
  }
 },
 "nbformat": 4,
 "nbformat_minor": 5
}
