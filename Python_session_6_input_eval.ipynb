{
 "cells": [
  {
   "cell_type": "markdown",
   "id": "eb89cfd0-f149-4e74-817e-7b766b812911",
   "metadata": {},
   "source": [
    "**input**"
   ]
  },
  {
   "cell_type": "code",
   "execution_count": null,
   "id": "4cb2e583-2dde-43be-b258-915e5e357d4a",
   "metadata": {},
   "outputs": [],
   "source": [
    "# variable name can be any thing\n",
    "\n",
    "round(45.789)"
   ]
  },
  {
   "cell_type": "code",
   "execution_count": null,
   "id": "b90f41e6-6196-4be1-9d30-c496254ed2e0",
   "metadata": {},
   "outputs": [],
   "source": [
    "round(45.56789,1)"
   ]
  },
  {
   "cell_type": "code",
   "execution_count": null,
   "id": "ef5be362-282f-47f4-bd9c-3b2329b77379",
   "metadata": {},
   "outputs": [],
   "source": [
    "round(45.56789,3)"
   ]
  },
  {
   "cell_type": "code",
   "execution_count": null,
   "id": "89f149f7-a9f0-4409-94f9-375efc42a932",
   "metadata": {},
   "outputs": [],
   "source": [
    "- we can take the values directly in python code\n",
    "\n",
    "      - ex: num=10\n",
    "- we can take the values from user like from keyboard \n",
    "\n",
    "- imagine there is application from we need to fill\n",
    "\n",
    "- in the applicaton from name "
   ]
  },
  {
   "cell_type": "markdown",
   "id": "449c40ba-a8b0-4429-83ab-81a64f02dc0b",
   "metadata": {},
   "source": [
    "- when we type input()\n",
    "\n",
    "- a square box will appear\n",
    "\n",
    "- you need to observe 3 things \n",
    "\n",
    "      - square box\n",
    "\n",
    "       - * mark inside aquare bracket that is brfore the code cell\n",
    "\n",
    "       - python kernel is black color\n",
    "\n",
    "- mark and black color means kernel is busy\n",
    "\n",
    "- first fill the box with some value\n",
    "\n",
    "- then do enter"
   ]
  },
  {
   "cell_type": "markdown",
   "id": "461900e8-11f5-4b36-9480-923ac7758ea6",
   "metadata": {},
   "source": [
    "**Note**\n",
    "\n",
    " - what ever w type in square "
   ]
  },
  {
   "cell_type": "code",
   "execution_count": 1,
   "id": "7bdeea2b-1c6e-4711-b9ab-7e501dd9dbca",
   "metadata": {},
   "outputs": [
    {
     "name": "stdin",
     "output_type": "stream",
     "text": [
      " 2\n",
      " 2\n"
     ]
    },
    {
     "name": "stdout",
     "output_type": "stream",
     "text": [
      "2\n",
      "2\n",
      "The value of a is: 2 and  2 is :2\n"
     ]
    }
   ],
   "source": [
    "a=input()\n",
    "b=input()\n",
    "print(a)\n",
    "print(b)\n",
    "print(f'The value of a is: {a} and  {b} is :{b}')"
   ]
  },
  {
   "cell_type": "code",
   "execution_count": 11,
   "id": "509a9d1e-732a-43ab-aced-5e8f06f47abc",
   "metadata": {},
   "outputs": [
    {
     "name": "stdin",
     "output_type": "stream",
     "text": [
      " 6\n",
      " 9\n"
     ]
    },
    {
     "name": "stdout",
     "output_type": "stream",
     "text": [
      "6\n",
      "9\n"
     ]
    }
   ],
   "source": [
    "a=input()\n",
    "b=input()\n",
    "print(a)\n",
    "print(b)\n"
   ]
  },
  {
   "cell_type": "code",
   "execution_count": 1,
   "id": "f70ca1a3-86a5-4c22-8817-78dcdb585cb9",
   "metadata": {},
   "outputs": [
    {
     "name": "stdout",
     "output_type": "stream",
     "text": [
      "My name is farhan khan, Im from parbhani\n"
     ]
    }
   ],
   "source": [
    "# askthe user enter the name\n",
    "# print the statement\n",
    "\n",
    "name='farhan khan'\n",
    "city='parbhani'\n",
    "country='India'\n",
    "print(f\"My name is {name}, Im from {city}\")"
   ]
  },
  {
   "cell_type": "code",
   "execution_count": null,
   "id": "93fde857-f949-4da4-baca-09dc794d4fd7",
   "metadata": {},
   "outputs": [],
   "source": [
    "name=input()\n",
    "city=input()\n",
    "country"
   ]
  },
  {
   "cell_type": "code",
   "execution_count": 15,
   "id": "6eb5c6d1-2434-4ea7-bb60-d59e18cec620",
   "metadata": {},
   "outputs": [
    {
     "name": "stdin",
     "output_type": "stream",
     "text": [
      " form\n",
      "Enter the Name: khan\n",
      "Enter the name: khan\n",
      "Enter the city: pathri\n",
      "Enter ok\n"
     ]
    },
    {
     "data": {
      "text/plain": [
       "'ok'"
      ]
     },
     "execution_count": 15,
     "metadata": {},
     "output_type": "execute_result"
    }
   ],
   "source": [
    "input()\n",
    "input(\"Enter the Name:\")\n",
    "input(\"Enter the name:\")\n",
    "input(\"Enter the city:\")\n",
    "input(\"Enter\")"
   ]
  },
  {
   "cell_type": "code",
   "execution_count": 11,
   "id": "81301058-33f5-49be-81a9-82111fc9e951",
   "metadata": {},
   "outputs": [
    {
     "name": "stdin",
     "output_type": "stream",
     "text": [
      "Enter the Number1: 10\n",
      "Enter the Number2: 10\n"
     ]
    },
    {
     "data": {
      "text/plain": [
       "'1010'"
      ]
     },
     "execution_count": 11,
     "metadata": {},
     "output_type": "execute_result"
    }
   ],
   "source": [
    "# wap take input from user\n",
    "# n1 and n2\n",
    "# add the two number\n",
    "# n1=input(\"Enter the\")\n",
    "\n",
    "n1=input(\"Enter the Number1:\")  # n1=10\n",
    "n2=input(\"Enter the Number2:\")  # n2=20\n",
    "n1+n2"
   ]
  },
  {
   "cell_type": "code",
   "execution_count": 17,
   "id": "a9d64946-5e56-4669-8f69-5d9ba102f5e8",
   "metadata": {},
   "outputs": [
    {
     "name": "stdin",
     "output_type": "stream",
     "text": [
      "Enter the Number1: 100\n",
      "Enter the Number2: 200\n"
     ]
    },
    {
     "data": {
      "text/plain": [
       "'100200'"
      ]
     },
     "execution_count": 17,
     "metadata": {},
     "output_type": "execute_result"
    }
   ],
   "source": [
    "# wap \n",
    "# n1 and n2\n",
    "# add the two number\n",
    "# n1=input(\"E\")\n",
    "\n",
    "n1=input(\"Enter the Number1:\")  # n1=100\n",
    "n2=input(\"Enter the Number2:\")  # n2=200\n",
    "n1+n2"
   ]
  },
  {
   "cell_type": "code",
   "execution_count": 15,
   "id": "43cedd31-5b30-481c-a962-e7b4164b3f02",
   "metadata": {},
   "outputs": [
    {
     "data": {
      "text/plain": [
       "100"
      ]
     },
     "execution_count": 15,
     "metadata": {},
     "output_type": "execute_result"
    }
   ],
   "source": [
    "int('100')"
   ]
  },
  {
   "cell_type": "code",
   "execution_count": 17,
   "id": "2a77aacf-7c6f-4434-b4e7-0438bee9d723",
   "metadata": {},
   "outputs": [
    {
     "data": {
      "text/plain": [
       "300"
      ]
     },
     "execution_count": 17,
     "metadata": {},
     "output_type": "execute_result"
    }
   ],
   "source": [
    "n1=int('100')\n",
    "n2=int('200')\n",
    "n1+n2"
   ]
  },
  {
   "cell_type": "code",
   "execution_count": 21,
   "id": "b886071c-1754-4721-9ff2-d2d9e47f154e",
   "metadata": {},
   "outputs": [
    {
     "name": "stdin",
     "output_type": "stream",
     "text": [
      "Enter the Number1: 100\n",
      "Enter the Number2: 200\n"
     ]
    },
    {
     "data": {
      "text/plain": [
       "300"
      ]
     },
     "execution_count": 21,
     "metadata": {},
     "output_type": "execute_result"
    }
   ],
   "source": [
    "n1=int(input(\"Enter the Number1:\")) # n1=int('100')\n",
    "n2=int(input(\"Enter the Number2:\")) # n2=int('200')\n",
    "n1+n2"
   ]
  },
  {
   "cell_type": "code",
   "execution_count": 21,
   "id": "0e92bbe2-bd85-4faf-acf5-b14fea17e64e",
   "metadata": {},
   "outputs": [
    {
     "data": {
      "text/plain": [
       "'100200'"
      ]
     },
     "execution_count": 21,
     "metadata": {},
     "output_type": "execute_result"
    }
   ],
   "source": [
    "n1='100'\n",
    "n2='200'\n",
    "n1+n2"
   ]
  },
  {
   "cell_type": "code",
   "execution_count": 23,
   "id": "da311a6b-eec9-45fc-9054-54fce42a3135",
   "metadata": {},
   "outputs": [
    {
     "data": {
      "text/plain": [
       "300"
      ]
     },
     "execution_count": 23,
     "metadata": {},
     "output_type": "execute_result"
    }
   ],
   "source": [
    "n1='100'\n",
    "n2='200'\n",
    "int(n1)+int(n2)"
   ]
  },
  {
   "cell_type": "code",
   "execution_count": 25,
   "id": "bc8c5b35-e9d6-4e3e-8be1-89ff56a3902b",
   "metadata": {},
   "outputs": [
    {
     "data": {
      "text/plain": [
       "100200"
      ]
     },
     "execution_count": 25,
     "metadata": {},
     "output_type": "execute_result"
    }
   ],
   "source": [
    "n1='100'\n",
    "n2='200'\n",
    "int(n1+n2)   # wrong method"
   ]
  },
  {
   "cell_type": "code",
   "execution_count": 27,
   "id": "2f606a6d-869d-422d-8f0b-418e559c970c",
   "metadata": {},
   "outputs": [
    {
     "name": "stdin",
     "output_type": "stream",
     "text": [
      "Enter the number1: 100\n",
      "Enter the number2: 200.25\n"
     ]
    },
    {
     "ename": "ValueError",
     "evalue": "invalid literal for int() with base 10: '200.25'",
     "output_type": "error",
     "traceback": [
      "\u001b[1;31m---------------------------------------------------------------------------\u001b[0m",
      "\u001b[1;31mValueError\u001b[0m                                Traceback (most recent call last)",
      "Cell \u001b[1;32mIn[27], line 2\u001b[0m\n\u001b[0;32m      1\u001b[0m n1\u001b[38;5;241m=\u001b[39m\u001b[38;5;28mint\u001b[39m(\u001b[38;5;28minput\u001b[39m(\u001b[38;5;124m\"\u001b[39m\u001b[38;5;124mEnter the number1:\u001b[39m\u001b[38;5;124m\"\u001b[39m))\n\u001b[1;32m----> 2\u001b[0m n2\u001b[38;5;241m=\u001b[39m\u001b[38;5;28mint\u001b[39m(\u001b[38;5;28minput\u001b[39m(\u001b[38;5;124m\"\u001b[39m\u001b[38;5;124mEnter the number2:\u001b[39m\u001b[38;5;124m\"\u001b[39m))\n\u001b[0;32m      3\u001b[0m n1\u001b[38;5;241m+\u001b[39mn2\n",
      "\u001b[1;31mValueError\u001b[0m: invalid literal for int() with base 10: '200.25'"
     ]
    }
   ],
   "source": [
    "n1=int(input(\"Enter the number1:\"))\n",
    "n2=int(input(\"Enter the number2:\"))\n",
    "n1+n2"
   ]
  },
  {
   "cell_type": "code",
   "execution_count": 29,
   "id": "ce4d2d16-3fc3-474b-a2e3-19825de9567e",
   "metadata": {},
   "outputs": [
    {
     "name": "stdin",
     "output_type": "stream",
     "text": [
      "Enter the number1: 100\n",
      "Enter the number2: 200.25\n"
     ]
    },
    {
     "data": {
      "text/plain": [
       "300.25"
      ]
     },
     "execution_count": 29,
     "metadata": {},
     "output_type": "execute_result"
    }
   ],
   "source": [
    "n1=int(input(\"Enter the number1:\"))\n",
    "n2=float(input(\"Enter the number2:\"))\n",
    "n1+n2"
   ]
  },
  {
   "cell_type": "markdown",
   "id": "1c337aac-7868-4d93-b7e3-44fcf4846309",
   "metadata": {},
   "source": [
    "**Eval**\n",
    "\n",
    "- when ever you listen eval : evaluate\n",
    "- evaluate is belong to math family\n",
    "- it will convert integer value to the integer\n",
    "- it will convert float value to the float only\n",
    "- directly apply the eval and it will convert into corresponding data type\n",
    "- when ever you use eval , dont provide string: it will give the error\n",
    "  "
   ]
  },
  {
   "cell_type": "code",
   "execution_count": 25,
   "id": "7c8d949f-aacd-448e-9261-805dbfc8b673",
   "metadata": {},
   "outputs": [
    {
     "name": "stdin",
     "output_type": "stream",
     "text": [
      "Enter the number1 :  2\n",
      "Enter the number2 :  2.5\n"
     ]
    },
    {
     "name": "stdout",
     "output_type": "stream",
     "text": [
      "4.5\n"
     ]
    }
   ],
   "source": [
    "n1=eval(input(\"Enter the number1 : \"))\n",
    "n2=eval(input(\"Enter the number2 : \"))\n",
    "print(n1+n2)"
   ]
  },
  {
   "cell_type": "code",
   "execution_count": 35,
   "id": "50805eb3-92a6-4d4d-8a99-6cbb20f003c6",
   "metadata": {},
   "outputs": [
    {
     "name": "stdin",
     "output_type": "stream",
     "text": [
      "Enter the number1 100\n",
      "Enter the number2 200.4\n"
     ]
    },
    {
     "name": "stdout",
     "output_type": "stream",
     "text": [
      "300.4\n"
     ]
    }
   ],
   "source": [
    "# eval ==== two cases at a time\n",
    "\n",
    "n1=float(input(\"Enter the number1\"))\n",
    "n2=float(input(\"Enter the number2\"))\n",
    "print(n1+n2)\n"
   ]
  },
  {
   "cell_type": "code",
   "execution_count": null,
   "id": "52add363-4225-4d24-8402-12edce4b181d",
   "metadata": {},
   "outputs": [],
   "source": [
    "c\n",
    "# Q2) ask the user take the height and breadth find the right angle traingle area\n",
    "# Q3) ask the user ask the enter length and breadth, calculate area of rectangle\n",
    "# Q4) ask the user take the radius calculate area of the cirle\n",
    "# Q5) ask the user how much bill amount\n",
    "#         how much tip_percentage you want to pay\n",
    "#         calculate the total bill\n"
   ]
  }
 ],
 "metadata": {
  "kernelspec": {
   "display_name": "Python 3 (ipykernel)",
   "language": "python",
   "name": "python3"
  },
  "language_info": {
   "codemirror_mode": {
    "name": "ipython",
    "version": 3
   },
   "file_extension": ".py",
   "mimetype": "text/x-python",
   "name": "python",
   "nbconvert_exporter": "python",
   "pygments_lexer": "ipython3",
   "version": "3.12.4"
  }
 },
 "nbformat": 4,
 "nbformat_minor": 5
}
