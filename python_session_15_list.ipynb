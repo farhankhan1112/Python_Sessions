{
 "cells": [
  {
   "cell_type": "code",
   "execution_count": null,
   "id": "c99ba466-f6d3-4d97-b131-5b05b14668fa",
   "metadata": {},
   "outputs": [],
   "source": [
    "- initialization\n",
    "\n",
    "- type\n",
    "\n",
    "- len\n",
    "\n",
    "- min \n",
    "\n",
    "- max\n",
    "\n",
    "- sorted\n",
    "\n",
    "- reversed\n",
    "\n",
    "- in \n",
    "\n",
    "- for loop with index\n",
    "\n",
    "- index\n",
    "\n",
    "- "
   ]
  },
  {
   "cell_type": "markdown",
   "id": "192a3970-76c5-4a5c-a1c4-4d8395346f6b",
   "metadata": {},
   "source": [
    "#  21 - 08 - 24"
   ]
  },
  {
   "cell_type": "code",
   "execution_count": 1,
   "id": "3f415356-7271-4f21-8312-ce94a9343107",
   "metadata": {},
   "outputs": [
    {
     "data": {
      "text/plain": [
       "[1, 2, 3, 4, 5]"
      ]
     },
     "execution_count": 1,
     "metadata": {},
     "output_type": "execute_result"
    }
   ],
   "source": [
    "list1=[1,2,3,4,5]\n",
    "list1"
   ]
  },
  {
   "cell_type": "code",
   "execution_count": 3,
   "id": "7a26eaca-e332-40ec-88fc-c8c219c47f27",
   "metadata": {},
   "outputs": [
    {
     "data": {
      "text/plain": [
       "list"
      ]
     },
     "execution_count": 3,
     "metadata": {},
     "output_type": "execute_result"
    }
   ],
   "source": [
    "type(list1)"
   ]
  },
  {
   "cell_type": "code",
   "execution_count": 5,
   "id": "b0ef9a55-b3af-4837-a48a-08348070a0cb",
   "metadata": {},
   "outputs": [
    {
     "data": {
      "text/plain": [
       "['A', 'B', 'C']"
      ]
     },
     "execution_count": 5,
     "metadata": {},
     "output_type": "execute_result"
    }
   ],
   "source": [
    "list2=['A','B','C']\n",
    "list2"
   ]
  },
  {
   "cell_type": "code",
   "execution_count": 7,
   "id": "2337754e-c513-4494-8dac-95c258b6f5cc",
   "metadata": {},
   "outputs": [
    {
     "data": {
      "text/plain": [
       "[1, 2, 3, 'A', 'B', 'C']"
      ]
     },
     "execution_count": 7,
     "metadata": {},
     "output_type": "execute_result"
    }
   ],
   "source": [
    "list3=[1,2,3,'A','B','C']\n",
    "list3"
   ]
  },
  {
   "cell_type": "code",
   "execution_count": 13,
   "id": "a67d57d1-e5e5-496c-9cb8-e784935855a1",
   "metadata": {},
   "outputs": [
    {
     "data": {
      "text/plain": [
       "[2.4, 4, 'Apple', True, False, (10+30j), 'A', 'B', 'C']"
      ]
     },
     "execution_count": 13,
     "metadata": {},
     "output_type": "execute_result"
    }
   ],
   "source": [
    "list4=[2.4,4, 'Apple', True,False,10+30j,'A','B','C']\n",
    "list4"
   ]
  },
  {
   "cell_type": "code",
   "execution_count": 15,
   "id": "acc73978-56b3-4a4f-8019-5822705b3ab0",
   "metadata": {},
   "outputs": [
    {
     "data": {
      "text/plain": [
       "[10, 10, 10]"
      ]
     },
     "execution_count": 15,
     "metadata": {},
     "output_type": "execute_result"
    }
   ],
   "source": [
    "list5=[10,10,10]\n",
    "list5"
   ]
  },
  {
   "cell_type": "code",
   "execution_count": 19,
   "id": "6f0b0d3e-b508-44b9-8e4f-ecca08fe3628",
   "metadata": {},
   "outputs": [
    {
     "data": {
      "text/plain": [
       "[1, 2, 3, 4, ['a', 'b', 'c']]"
      ]
     },
     "execution_count": 19,
     "metadata": {},
     "output_type": "execute_result"
    }
   ],
   "source": [
    "list6=[1,2,3,4, ['a','b','c']]\n",
    "list6"
   ]
  },
  {
   "cell_type": "code",
   "execution_count": 21,
   "id": "c5ad2c68-17f1-4b71-9c22-d28390a12c53",
   "metadata": {},
   "outputs": [
    {
     "data": {
      "text/plain": [
       "[]"
      ]
     },
     "execution_count": 21,
     "metadata": {},
     "output_type": "execute_result"
    }
   ],
   "source": [
    "list7=[]\n",
    "list7"
   ]
  },
  {
   "cell_type": "code",
   "execution_count": 29,
   "id": "19a9cd16-8894-406a-b4c1-56d4e6be4b41",
   "metadata": {},
   "outputs": [
    {
     "data": {
      "text/plain": [
       "['{\"dataframes\": [], \"user\": \"Asef\"}']"
      ]
     },
     "execution_count": 29,
     "metadata": {},
     "output_type": "execute_result"
    }
   ],
   "source": [
    "list8=[_]\n",
    "list8"
   ]
  },
  {
   "cell_type": "markdown",
   "id": "d09d402a-74d5-46d4-821f-0c41556aefe7",
   "metadata": {},
   "source": [
    "- List represent with aquare brackets\n",
    "\n",
    "- List can access the array of elements\n",
    "\n",
    "- The values inside list we are calling as element\n",
    "\n",
    "- List can be have any data type \n",
    "\n",
    "- List can have duplicates\n",
    "\n",
    "- List in list possible , because list also a data type"
   ]
  },
  {
   "cell_type": "code",
   "execution_count": 31,
   "id": "d39592cc-6644-485f-9bcf-ecb6af98ce08",
   "metadata": {},
   "outputs": [
    {
     "data": {
      "text/plain": [
       "list"
      ]
     },
     "execution_count": 31,
     "metadata": {},
     "output_type": "execute_result"
    }
   ],
   "source": [
    "type([10])"
   ]
  },
  {
   "cell_type": "code",
   "execution_count": 54,
   "id": "c7bfc13c-6fab-447a-9593-51c0e9110760",
   "metadata": {},
   "outputs": [],
   "source": [
    "list1=[11,23,33,44,54]\n",
    "list2=['Apple', 'Banana', 'Cherry']\n",
    "list3=[10,20,30,'Apple','Banana']\n",
    "\n",
    "# len\n",
    "# max\n",
    "# min\n",
    "# reversed\n",
    "# sorted\n",
    "\n"
   ]
  },
  {
   "cell_type": "code",
   "execution_count": 56,
   "id": "d91bde3a-f449-4ef4-b7de-d06b2c05424c",
   "metadata": {},
   "outputs": [
    {
     "data": {
      "text/plain": [
       "(5, 3, 5)"
      ]
     },
     "execution_count": 56,
     "metadata": {},
     "output_type": "execute_result"
    }
   ],
   "source": [
    "len(list1),len(list2), len(list3)"
   ]
  },
  {
   "cell_type": "code",
   "execution_count": 66,
   "id": "15508ecc-58f6-42c2-b871-3cd0cf54d895",
   "metadata": {},
   "outputs": [
    {
     "ename": "TypeError",
     "evalue": "'>' not supported between instances of 'str' and 'int'",
     "output_type": "error",
     "traceback": [
      "\u001b[1;31m---------------------------------------------------------------------------\u001b[0m",
      "\u001b[1;31mTypeError\u001b[0m                                 Traceback (most recent call last)",
      "Cell \u001b[1;32mIn[66], line 1\u001b[0m\n\u001b[1;32m----> 1\u001b[0m \u001b[38;5;28mmax\u001b[39m(list1),\u001b[38;5;28mmax\u001b[39m(list2),\u001b[38;5;28mmax\u001b[39m(list3)\n",
      "\u001b[1;31mTypeError\u001b[0m: '>' not supported between instances of 'str' and 'int'"
     ]
    }
   ],
   "source": [
    "max(list1),max(list2),max(list3)"
   ]
  },
  {
   "cell_type": "code",
   "execution_count": 58,
   "id": "1e93f737-77f2-4e92-8bdb-6c25dea3bf31",
   "metadata": {},
   "outputs": [
    {
     "data": {
      "text/plain": [
       "<list_reverseiterator at 0x22235eb60b0>"
      ]
     },
     "execution_count": 58,
     "metadata": {},
     "output_type": "execute_result"
    }
   ],
   "source": [
    "reversed(list1)"
   ]
  },
  {
   "cell_type": "code",
   "execution_count": 60,
   "id": "1b220e43-5ba0-4720-a525-c0d233d527c5",
   "metadata": {},
   "outputs": [
    {
     "name": "stdout",
     "output_type": "stream",
     "text": [
      "54\n",
      "44\n",
      "33\n",
      "23\n",
      "11\n"
     ]
    }
   ],
   "source": [
    "for i in reversed(list1):\n",
    "    print(i)"
   ]
  },
  {
   "cell_type": "code",
   "execution_count": 62,
   "id": "cd51d7bb-bd1b-4981-8c6e-eca1cc2c2eb6",
   "metadata": {},
   "outputs": [
    {
     "data": {
      "text/plain": [
       "[54, 44, 33, 23, 11]"
      ]
     },
     "execution_count": 62,
     "metadata": {},
     "output_type": "execute_result"
    }
   ],
   "source": [
    "list(reversed(list1))"
   ]
  },
  {
   "cell_type": "code",
   "execution_count": 64,
   "id": "192e029f-3b13-4405-909a-2fa4e9ba2bae",
   "metadata": {},
   "outputs": [
    {
     "data": {
      "text/plain": [
       "['Banana', 'Apple', 30, 20, 10]"
      ]
     },
     "execution_count": 64,
     "metadata": {},
     "output_type": "execute_result"
    }
   ],
   "source": [
    "list(reversed(list3))"
   ]
  },
  {
   "cell_type": "markdown",
   "id": "f62c10f5-a5cc-4338-be13-18a0eb58063c",
   "metadata": {},
   "source": [
    "# 1) in"
   ]
  },
  {
   "cell_type": "code",
   "execution_count": 4,
   "id": "4997c553-d237-46eb-8198-3f3db1e86406",
   "metadata": {},
   "outputs": [
    {
     "name": "stdout",
     "output_type": "stream",
     "text": [
      "1 2 3 4 A B c "
     ]
    }
   ],
   "source": [
    "list1=[1,2,3,4,'A','B','c']\n",
    "for i in list1:\n",
    "    print(i,end=' ')"
   ]
  },
  {
   "cell_type": "code",
   "execution_count": 77,
   "id": "ec7a44ee-7592-4057-8be8-7d0a9bcd14c3",
   "metadata": {},
   "outputs": [
    {
     "name": "stdout",
     "output_type": "stream",
     "text": [
      "1 2 3 A B C "
     ]
    }
   ],
   "source": [
    "for i in '123ABC':\n",
    "    print(i,end=' ')"
   ]
  },
  {
   "cell_type": "markdown",
   "id": "1d702b9a-e75f-4adb-a9f3-82d43325106a",
   "metadata": {},
   "source": [
    "# index"
   ]
  },
  {
   "cell_type": "code",
   "execution_count": 87,
   "id": "b2da3257-6aed-4744-bd95-bf3a3dab9e49",
   "metadata": {},
   "outputs": [
    {
     "data": {
      "text/plain": [
       "(11, 44)"
      ]
     },
     "execution_count": 87,
     "metadata": {},
     "output_type": "execute_result"
    }
   ],
   "source": [
    "list1=[11,22,33,44,'A','B','C']\n",
    "\n",
    "#  -7  -6  -5  -4   -3    -2   -1 \n",
    "#  11  22  33  44  'A'   'B'  'C'\n",
    "#  0   1   2    3   4     5    6\n",
    "\n",
    "list1[0],list1[-4]"
   ]
  },
  {
   "cell_type": "markdown",
   "id": "e1d6df4f-8330-4cd0-9d38-294149b73c24",
   "metadata": {},
   "source": [
    "# 2) slice"
   ]
  },
  {
   "cell_type": "code",
   "execution_count": 5,
   "id": "8fbf9d74-dd4f-41cc-89b0-90a57c0adfa3",
   "metadata": {},
   "outputs": [
    {
     "data": {
      "text/plain": [
       "['C', 'B', 'A', 10, 9, 8, 7, 6, 5, 4, 3, 2, 1]"
      ]
     },
     "execution_count": 5,
     "metadata": {},
     "output_type": "execute_result"
    }
   ],
   "source": [
    "l=[1,2,3,4,5,6,7,8,9,10, 'A','B','C']\n",
    "l[::-1]"
   ]
  },
  {
   "cell_type": "code",
   "execution_count": 7,
   "id": "27f77f78-e900-4e67-b294-8b75947cb089",
   "metadata": {},
   "outputs": [
    {
     "data": {
      "text/plain": [
       "[33, 55, 77, 99, 'A']"
      ]
     },
     "execution_count": 7,
     "metadata": {},
     "output_type": "execute_result"
    }
   ],
   "source": [
    "l=[11,22,33,44,55,66,77,88,99,100,'A','B','C']\n",
    "l[2:12:2]\n"
   ]
  },
  {
   "cell_type": "code",
   "execution_count": 9,
   "id": "77629b23-a851-4c8b-a8b0-6070ee10194f",
   "metadata": {},
   "outputs": [
    {
     "data": {
      "text/plain": [
       "[]"
      ]
     },
     "execution_count": 9,
     "metadata": {},
     "output_type": "execute_result"
    }
   ],
   "source": [
    "l[2:12:-2]"
   ]
  },
  {
   "cell_type": "code",
   "execution_count": 102,
   "id": "79514e23-83d2-43a0-8160-58f335bdb401",
   "metadata": {},
   "outputs": [
    {
     "data": {
      "text/plain": [
       "[]"
      ]
     },
     "execution_count": 102,
     "metadata": {},
     "output_type": "execute_result"
    }
   ],
   "source": [
    "l[2:-12:2]"
   ]
  },
  {
   "cell_type": "code",
   "execution_count": 110,
   "id": "17b1d06c-4158-4327-bc33-a7decc57df37",
   "metadata": {},
   "outputs": [
    {
     "data": {
      "text/plain": [
       "['B']"
      ]
     },
     "execution_count": 110,
     "metadata": {},
     "output_type": "execute_result"
    }
   ],
   "source": [
    "l[-2:12:2]"
   ]
  },
  {
   "cell_type": "code",
   "execution_count": 112,
   "id": "9d3981f8-2ac8-44fc-b9ab-635890318fc1",
   "metadata": {},
   "outputs": [
    {
     "data": {
      "text/plain": [
       "[33]"
      ]
     },
     "execution_count": 112,
     "metadata": {},
     "output_type": "execute_result"
    }
   ],
   "source": [
    "l[2:-12:-2]"
   ]
  },
  {
   "cell_type": "code",
   "execution_count": 114,
   "id": "29577bef-3872-4f98-ba0b-ba19130762c5",
   "metadata": {},
   "outputs": [
    {
     "data": {
      "text/plain": [
       "[]"
      ]
     },
     "execution_count": 114,
     "metadata": {},
     "output_type": "execute_result"
    }
   ],
   "source": [
    "l[-2:12:-2]"
   ]
  },
  {
   "cell_type": "code",
   "execution_count": 116,
   "id": "9826023b-1036-43e5-8f3b-0b553b63beec",
   "metadata": {},
   "outputs": [
    {
     "data": {
      "text/plain": [
       "['B', 100, 88, 66, 44]"
      ]
     },
     "execution_count": 116,
     "metadata": {},
     "output_type": "execute_result"
    }
   ],
   "source": [
    "l[-2:-12:-2]"
   ]
  },
  {
   "cell_type": "code",
   "execution_count": 118,
   "id": "410b5905-7f37-4cd6-8e92-f23a08961e18",
   "metadata": {},
   "outputs": [
    {
     "data": {
      "text/plain": [
       "[]"
      ]
     },
     "execution_count": 118,
     "metadata": {},
     "output_type": "execute_result"
    }
   ],
   "source": [
    "l[12:2:2]"
   ]
  },
  {
   "cell_type": "code",
   "execution_count": 120,
   "id": "06cbf9ff-f44a-45da-b62d-077f05fd07ac",
   "metadata": {},
   "outputs": [
    {
     "data": {
      "text/plain": [
       "['C', 'A', 99, 77, 55]"
      ]
     },
     "execution_count": 120,
     "metadata": {},
     "output_type": "execute_result"
    }
   ],
   "source": [
    "l[12:2:-2]"
   ]
  },
  {
   "cell_type": "code",
   "execution_count": 122,
   "id": "89a4b5e7-35de-4311-b89a-db17252341af",
   "metadata": {},
   "outputs": [
    {
     "data": {
      "text/plain": [
       "[]"
      ]
     },
     "execution_count": 122,
     "metadata": {},
     "output_type": "execute_result"
    }
   ],
   "source": [
    "l[12:-2:2]"
   ]
  },
  {
   "cell_type": "code",
   "execution_count": 124,
   "id": "c9289d8a-4210-4912-bb5b-f131bd92f326",
   "metadata": {},
   "outputs": [
    {
     "data": {
      "text/plain": [
       "['C']"
      ]
     },
     "execution_count": 124,
     "metadata": {},
     "output_type": "execute_result"
    }
   ],
   "source": [
    "l[12:-2:-2]"
   ]
  },
  {
   "cell_type": "code",
   "execution_count": 126,
   "id": "62b9dc5f-b01f-4848-8913-fb7903875b97",
   "metadata": {},
   "outputs": [
    {
     "data": {
      "text/plain": [
       "[22]"
      ]
     },
     "execution_count": 126,
     "metadata": {},
     "output_type": "execute_result"
    }
   ],
   "source": [
    "l[-12:2:2]"
   ]
  },
  {
   "cell_type": "code",
   "execution_count": null,
   "id": "ad396f9b-99be-438f-80d9-409f7c9e3e72",
   "metadata": {},
   "outputs": [],
   "source": [
    "l[2:12:2]  # works\n",
    "l[2:12:-2] # empty\n",
    "l[2:-12:2] # empty\n",
    "l[-2:12:2] # works\n",
    "l[2:-12:-2] # works\n",
    "l[-2:12:-2] # empty\n",
    "l[-2:-12:-2] # works\n",
    "l[12:2:2]   # empty\n",
    "l[12:2:-2]  # works\n",
    "l[12:-2:2]  # empty\n",
    "l[12:-2:-2] # works\n",
    "l[-12:2:2]  # works\n",
    "\n",
    "\n"
   ]
  },
  {
   "cell_type": "code",
   "execution_count": 128,
   "id": "3cf1348b-a89b-4336-a687-6c23299446de",
   "metadata": {},
   "outputs": [
    {
     "data": {
      "text/plain": [
       "10"
      ]
     },
     "execution_count": 128,
     "metadata": {},
     "output_type": "execute_result"
    }
   ],
   "source": [
    "l=[10,20]\n",
    "l[0]"
   ]
  },
  {
   "cell_type": "code",
   "execution_count": 132,
   "id": "a40b1e1a-f371-447a-bef6-14d4767bb7cf",
   "metadata": {},
   "outputs": [
    {
     "data": {
      "text/plain": [
       "10"
      ]
     },
     "execution_count": 132,
     "metadata": {},
     "output_type": "execute_result"
    }
   ],
   "source": [
    "l=[[10]]\n",
    "# how can you get 10\n",
    "# on a list 'L' how many element are there : one elelmment \n",
    "# How can i access one elelemt using index: 0\n",
    "l[0]\n",
    "l[0][0]"
   ]
  },
  {
   "cell_type": "code",
   "execution_count": 134,
   "id": "4f403a5c-ce1d-4e14-8f2c-55ffc339ebff",
   "metadata": {},
   "outputs": [
    {
     "data": {
      "text/plain": [
       "10"
      ]
     },
     "execution_count": 134,
     "metadata": {},
     "output_type": "execute_result"
    }
   ],
   "source": [
    "l=[1,2,[10]]\n",
    "l[2][0]"
   ]
  },
  {
   "cell_type": "code",
   "execution_count": 138,
   "id": "0b25f0a5-e39a-48da-baf5-5fcf85fa5fa7",
   "metadata": {},
   "outputs": [
    {
     "data": {
      "text/plain": [
       "[5, 6, ['Apple']]"
      ]
     },
     "execution_count": 138,
     "metadata": {},
     "output_type": "execute_result"
    }
   ],
   "source": [
    "l=[1,2,3,[5,6,['Apple']]]\n",
    "len(l)\n",
    "l[3]"
   ]
  },
  {
   "cell_type": "code",
   "execution_count": 140,
   "id": "f61b391a-1965-4dfd-82f4-e17ccd4ce40f",
   "metadata": {},
   "outputs": [
    {
     "data": {
      "text/plain": [
       "'Apple'"
      ]
     },
     "execution_count": 140,
     "metadata": {},
     "output_type": "execute_result"
    }
   ],
   "source": [
    "l=[1,2,3,[5,6,['Apple']]]\n",
    "len(l)\n",
    "l[3] [2] [0]"
   ]
  },
  {
   "cell_type": "code",
   "execution_count": 152,
   "id": "4b5ae5df-ca87-4da6-acc6-877da970eb32",
   "metadata": {},
   "outputs": [
    {
     "data": {
      "text/plain": [
       "3"
      ]
     },
     "execution_count": 152,
     "metadata": {},
     "output_type": "execute_result"
    }
   ],
   "source": [
    "l=[1,2,[3,4,['A'],['B']]]\n",
    "len(l)\n"
   ]
  },
  {
   "cell_type": "code",
   "execution_count": 154,
   "id": "b3157c2b-fd8d-464a-afd6-12ca24ca90d4",
   "metadata": {},
   "outputs": [
    {
     "data": {
      "text/plain": [
       "'B'"
      ]
     },
     "execution_count": 154,
     "metadata": {},
     "output_type": "execute_result"
    }
   ],
   "source": [
    "l[2][3][0]"
   ]
  },
  {
   "cell_type": "code",
   "execution_count": 156,
   "id": "f311ab19-1ae6-4304-843e-ccd1090e2b3d",
   "metadata": {},
   "outputs": [
    {
     "data": {
      "text/plain": [
       "2"
      ]
     },
     "execution_count": 156,
     "metadata": {},
     "output_type": "execute_result"
    }
   ],
   "source": [
    "l=[1,[2,[3,[4,[5,['Banana']]]]]]\n",
    "len(l)"
   ]
  },
  {
   "cell_type": "code",
   "execution_count": 160,
   "id": "c78e5f2e-7443-4439-9526-9d8fc0f6d249",
   "metadata": {},
   "outputs": [
    {
     "data": {
      "text/plain": [
       "'Banana'"
      ]
     },
     "execution_count": 160,
     "metadata": {},
     "output_type": "execute_result"
    }
   ],
   "source": [
    "l[1][1][1][1][1][0]"
   ]
  },
  {
   "cell_type": "code",
   "execution_count": 162,
   "id": "607fd608-f75e-4df4-9bbe-57bbc4a13a31",
   "metadata": {},
   "outputs": [
    {
     "data": {
      "text/plain": [
       "1"
      ]
     },
     "execution_count": 162,
     "metadata": {},
     "output_type": "execute_result"
    }
   ],
   "source": [
    "l=[[[[[[[[['onion']]]]]]]]]\n",
    "len(l)"
   ]
  },
  {
   "cell_type": "code",
   "execution_count": 170,
   "id": "e4f9209d-23e8-46ef-a47e-d5afac5c0425",
   "metadata": {},
   "outputs": [
    {
     "data": {
      "text/plain": [
       "'onion'"
      ]
     },
     "execution_count": 170,
     "metadata": {},
     "output_type": "execute_result"
    }
   ],
   "source": [
    "l[0][0][0][0][0][0][0][0][0]"
   ]
  },
  {
   "cell_type": "markdown",
   "id": "d30b612b-ff6e-453c-93f1-449e16989677",
   "metadata": {},
   "source": [
    "# 23 - 08 - 24"
   ]
  },
  {
   "cell_type": "markdown",
   "id": "294860b5-8c37-4ed9-9f4d-35074bb5b37a",
   "metadata": {},
   "source": [
    "# 3) methods"
   ]
  },
  {
   "cell_type": "code",
   "execution_count": 3,
   "id": "b4a5c801-b5a2-48c0-889c-0d21961b73e7",
   "metadata": {},
   "outputs": [
    {
     "data": {
      "text/plain": [
       "['__add__',\n",
       " '__class__',\n",
       " '__class_getitem__',\n",
       " '__contains__',\n",
       " '__delattr__',\n",
       " '__delitem__',\n",
       " '__dir__',\n",
       " '__doc__',\n",
       " '__eq__',\n",
       " '__format__',\n",
       " '__ge__',\n",
       " '__getattribute__',\n",
       " '__getitem__',\n",
       " '__getstate__',\n",
       " '__gt__',\n",
       " '__hash__',\n",
       " '__iadd__',\n",
       " '__imul__',\n",
       " '__init__',\n",
       " '__init_subclass__',\n",
       " '__iter__',\n",
       " '__le__',\n",
       " '__len__',\n",
       " '__lt__',\n",
       " '__mul__',\n",
       " '__ne__',\n",
       " '__new__',\n",
       " '__reduce__',\n",
       " '__reduce_ex__',\n",
       " '__repr__',\n",
       " '__reversed__',\n",
       " '__rmul__',\n",
       " '__setattr__',\n",
       " '__setitem__',\n",
       " '__sizeof__',\n",
       " '__str__',\n",
       " '__subclasshook__',\n",
       " 'append',\n",
       " 'clear',\n",
       " 'copy',\n",
       " 'count',\n",
       " 'extend',\n",
       " 'index',\n",
       " 'insert',\n",
       " 'pop',\n",
       " 'remove',\n",
       " 'reverse',\n",
       " 'sort']"
      ]
     },
     "execution_count": 3,
     "metadata": {},
     "output_type": "execute_result"
    }
   ],
   "source": [
    "dir([])"
   ]
  },
  {
   "cell_type": "code",
   "execution_count": null,
   "id": "66bf69be-7816-484c-81a0-45aee68df9a9",
   "metadata": {},
   "outputs": [],
   "source": [
    "- clear\n",
    "\n",
    "- copy\n",
    "\n",
    "- count\n",
    "\n",
    "- reverse\n",
    "\n",
    "- sort\n"
   ]
  },
  {
   "cell_type": "code",
   "execution_count": 15,
   "id": "a7f612bb-4de8-4f83-8299-012d424653d7",
   "metadata": {},
   "outputs": [],
   "source": [
    "l1=[1,2,3,'A','B','C']\n",
    "l1.clear()"
   ]
  },
  {
   "cell_type": "markdown",
   "id": "51ffbe32-dbc6-4ee5-a3de-250ec9da60c4",
   "metadata": {},
   "source": [
    "# 3) copy and clear"
   ]
  },
  {
   "cell_type": "code",
   "execution_count": 11,
   "id": "a7b69d11-a1cb-4ece-a8a9-83f290656646",
   "metadata": {},
   "outputs": [
    {
     "data": {
      "text/plain": [
       "[]"
      ]
     },
     "execution_count": 11,
     "metadata": {},
     "output_type": "execute_result"
    }
   ],
   "source": [
    "l1=[1,2,3,'A','B','C']\n",
    "l2=l1.copy()\n",
    "l1.clear()\n",
    "l1"
   ]
  },
  {
   "cell_type": "code",
   "execution_count": 13,
   "id": "c6d1cda5-d87f-4282-9a9b-394242290fe0",
   "metadata": {},
   "outputs": [
    {
     "data": {
      "text/plain": [
       "['Apple', 'A', 1, 2]"
      ]
     },
     "execution_count": 13,
     "metadata": {},
     "output_type": "execute_result"
    }
   ],
   "source": [
    "l2=['Apple','A',1,2]\n",
    "l2.copy()"
   ]
  },
  {
   "cell_type": "code",
   "execution_count": 25,
   "id": "8bb4b9b9-b991-4422-97bd-d9f88080dd5c",
   "metadata": {},
   "outputs": [
    {
     "data": {
      "text/plain": [
       "[1, 2, 3, 'A', 'B', 'C']"
      ]
     },
     "execution_count": 25,
     "metadata": {},
     "output_type": "execute_result"
    }
   ],
   "source": [
    "l2"
   ]
  },
  {
   "cell_type": "code",
   "execution_count": null,
   "id": "58beee18-94e8-40f7-8ced-f2f20a21c1d1",
   "metadata": {},
   "outputs": [],
   "source": []
  },
  {
   "cell_type": "code",
   "execution_count": 33,
   "id": "7adee5f3-f99d-4616-8f6b-42eca8015855",
   "metadata": {},
   "outputs": [
    {
     "data": {
      "text/plain": [
       "4"
      ]
     },
     "execution_count": 33,
     "metadata": {},
     "output_type": "execute_result"
    }
   ],
   "source": [
    "l1=[1,2,3,3,3,3,'A','A','A','A','B','C']\n",
    "l1.count(3)"
   ]
  },
  {
   "cell_type": "code",
   "execution_count": 19,
   "id": "84731fbb-d019-487a-ad1f-f07aff6a31c4",
   "metadata": {},
   "outputs": [
    {
     "data": {
      "text/plain": [
       "6"
      ]
     },
     "execution_count": 19,
     "metadata": {},
     "output_type": "execute_result"
    }
   ],
   "source": [
    "s1='aaaaaaaaabbbbbbbbcc'\n",
    "s1.count('a',3)"
   ]
  },
  {
   "cell_type": "code",
   "execution_count": 39,
   "id": "65b6716d-bc23-411c-95ba-fb4330934499",
   "metadata": {},
   "outputs": [
    {
     "ename": "TypeError",
     "evalue": "list.count() takes exactly one argument (2 given)",
     "output_type": "error",
     "traceback": [
      "\u001b[1;31m---------------------------------------------------------------------------\u001b[0m",
      "\u001b[1;31mTypeError\u001b[0m                                 Traceback (most recent call last)",
      "Cell \u001b[1;32mIn[39], line 2\u001b[0m\n\u001b[0;32m      1\u001b[0m l1\u001b[38;5;241m=\u001b[39m[\u001b[38;5;241m1\u001b[39m,\u001b[38;5;241m2\u001b[39m,\u001b[38;5;241m3\u001b[39m,\u001b[38;5;241m3\u001b[39m,\u001b[38;5;241m3\u001b[39m,\u001b[38;5;241m3\u001b[39m,\u001b[38;5;124m'\u001b[39m\u001b[38;5;124mA\u001b[39m\u001b[38;5;124m'\u001b[39m,\u001b[38;5;124m'\u001b[39m\u001b[38;5;124mA\u001b[39m\u001b[38;5;124m'\u001b[39m,\u001b[38;5;124m'\u001b[39m\u001b[38;5;124mA\u001b[39m\u001b[38;5;124m'\u001b[39m,\u001b[38;5;124m'\u001b[39m\u001b[38;5;124mA\u001b[39m\u001b[38;5;124m'\u001b[39m,\u001b[38;5;124m'\u001b[39m\u001b[38;5;124mB\u001b[39m\u001b[38;5;124m'\u001b[39m,\u001b[38;5;124m'\u001b[39m\u001b[38;5;124mC\u001b[39m\u001b[38;5;124m'\u001b[39m]\n\u001b[1;32m----> 2\u001b[0m l1\u001b[38;5;241m.\u001b[39mcount(\u001b[38;5;241m3\u001b[39m,\u001b[38;5;241m2\u001b[39m)\n",
      "\u001b[1;31mTypeError\u001b[0m: list.count() takes exactly one argument (2 given)"
     ]
    }
   ],
   "source": [
    "l1=[1,2,3,3,3,3,'A','A','A','A','B','C']\n",
    "l1.count(3,2)"
   ]
  },
  {
   "cell_type": "markdown",
   "id": "4d1d3ea3-3a1b-4289-83e6-3bd241af18ee",
   "metadata": {},
   "source": [
    "# 4)  reverse"
   ]
  },
  {
   "cell_type": "code",
   "execution_count": 23,
   "id": "f2c16c05-a480-48c5-8e61-67dcf818f9b4",
   "metadata": {},
   "outputs": [
    {
     "data": {
      "text/plain": [
       "['C', 'B', 'A', 'A', 'A', 'A', 3, 3, 3, 3, 2, 1]"
      ]
     },
     "execution_count": 23,
     "metadata": {},
     "output_type": "execute_result"
    }
   ],
   "source": [
    "l1=[1,2,3,3,3,3,'A','A','A','A','B','C']\n",
    "l1.reverse()\n",
    "l1\n"
   ]
  },
  {
   "cell_type": "code",
   "execution_count": 17,
   "id": "d18f2325-022d-41ef-b9a3-acac58ca0f5e",
   "metadata": {},
   "outputs": [
    {
     "data": {
      "text/plain": [
       "[1, 2, 3]"
      ]
     },
     "execution_count": 17,
     "metadata": {},
     "output_type": "execute_result"
    }
   ],
   "source": [
    "l2=[3,2,1]\n",
    "l2.reverse()\n",
    "l2"
   ]
  },
  {
   "cell_type": "code",
   "execution_count": 49,
   "id": "747f697e-bacb-41af-82b7-1d50f1cfd4b1",
   "metadata": {},
   "outputs": [
    {
     "data": {
      "text/plain": [
       "[1, 2, 3, 4, 5, 6]"
      ]
     },
     "execution_count": 49,
     "metadata": {},
     "output_type": "execute_result"
    }
   ],
   "source": [
    "l1=[1,2,3]\n",
    "l2=[4,5,6]\n",
    "l1+l2"
   ]
  },
  {
   "cell_type": "markdown",
   "id": "87acc1b7-d843-4700-951b-b6f9aa2ddffe",
   "metadata": {},
   "source": [
    "# IN PLACE"
   ]
  },
  {
   "cell_type": "markdown",
   "id": "a48d3e71-2194-420b-a731-ba59913e16cb",
   "metadata": {},
   "source": [
    "- whenevr you want to overwrite the operation output\n",
    "\n",
    "- in same variable we will use **inplace**\n",
    "\n",
    "- In place means overwriting the existing elements\n",
    "\n",
    "- some methodes have inplace argument\n",
    "\n",
    "- inplace= True means overwrite \n",
    "d\n",
    "- inlace = False means do not overwritesm\n"
   ]
  },
  {
   "cell_type": "code",
   "execution_count": 58,
   "id": "37450586-7d87-46b8-8340-a1fa8706d43c",
   "metadata": {},
   "outputs": [],
   "source": [
    "lst=[10,20,30,'apple','apple','banana','axe','ape']\n",
    "lst.reverse()"
   ]
  },
  {
   "cell_type": "markdown",
   "id": "539d02ab-6817-494f-aa58-4d20689bd01e",
   "metadata": {},
   "source": [
    "# 5) sort\n",
    "\n",
    "- serial wise kerne ke liye (like 1,2,3,4...)"
   ]
  },
  {
   "cell_type": "code",
   "execution_count": 56,
   "id": "bbaf67dc-7b1c-4369-8958-5b23516f6879",
   "metadata": {},
   "outputs": [
    {
     "ename": "TypeError",
     "evalue": "'<' not supported between instances of 'str' and 'int'",
     "output_type": "error",
     "traceback": [
      "\u001b[1;31m---------------------------------------------------------------------------\u001b[0m",
      "\u001b[1;31mTypeError\u001b[0m                                 Traceback (most recent call last)",
      "Cell \u001b[1;32mIn[56], line 2\u001b[0m\n\u001b[0;32m      1\u001b[0m lst\u001b[38;5;241m=\u001b[39m[\u001b[38;5;241m10\u001b[39m,\u001b[38;5;241m20\u001b[39m,\u001b[38;5;241m30\u001b[39m,\u001b[38;5;124m'\u001b[39m\u001b[38;5;124mapple\u001b[39m\u001b[38;5;124m'\u001b[39m,\u001b[38;5;124m'\u001b[39m\u001b[38;5;124mapple\u001b[39m\u001b[38;5;124m'\u001b[39m,\u001b[38;5;124m'\u001b[39m\u001b[38;5;124mbanana\u001b[39m\u001b[38;5;124m'\u001b[39m,\u001b[38;5;124m'\u001b[39m\u001b[38;5;124maxe\u001b[39m\u001b[38;5;124m'\u001b[39m,\u001b[38;5;124m'\u001b[39m\u001b[38;5;124mape\u001b[39m\u001b[38;5;124m'\u001b[39m]\n\u001b[1;32m----> 2\u001b[0m lst\u001b[38;5;241m.\u001b[39msort()\n",
      "\u001b[1;31mTypeError\u001b[0m: '<' not supported between instances of 'str' and 'int'"
     ]
    }
   ],
   "source": [
    "-lst=[10,20,30,'apple','apple','banana','axe','ape']\n",
    "lst.sort()"
   ]
  },
  {
   "cell_type": "code",
   "execution_count": 1,
   "id": "500e4508-eb5a-4ad8-a92c-95ce1018af48",
   "metadata": {},
   "outputs": [
    {
     "data": {
      "text/plain": [
       "[1, 3, 22, 33]"
      ]
     },
     "execution_count": 1,
     "metadata": {},
     "output_type": "execute_result"
    }
   ],
   "source": [
    "l1=[1,22,33,3]\n",
    "l1.sort()\n",
    "l1"
   ]
  },
  {
   "cell_type": "code",
   "execution_count": 74,
   "id": "b9cb24b8-afbb-4a87-b61b-c0a20e92d641",
   "metadata": {},
   "outputs": [
    {
     "data": {
      "text/plain": [
       "[1, 3, 22, 33]"
      ]
     },
     "execution_count": 74,
     "metadata": {},
     "output_type": "execute_result"
    }
   ],
   "source": [
    "l1=[1,22,33,3]\n",
    "sorted(l1)"
   ]
  },
  {
   "cell_type": "code",
   "execution_count": 21,
   "id": "427b8c9b-612d-45e2-91fb-dfebaa67d608",
   "metadata": {},
   "outputs": [
    {
     "data": {
      "text/plain": [
       "[10, 50, 99, 100]"
      ]
     },
     "execution_count": 21,
     "metadata": {},
     "output_type": "execute_result"
    }
   ],
   "source": [
    "l2=[10,99,50,100]\n",
    "sorted(l2)"
   ]
  },
  {
   "cell_type": "code",
   "execution_count": 25,
   "id": "4c6478f5-105a-4281-9f33-c0805279a96e",
   "metadata": {},
   "outputs": [
    {
     "data": {
      "text/plain": [
       "[-3, -2, 1, 2, 3]"
      ]
     },
     "execution_count": 25,
     "metadata": {},
     "output_type": "execute_result"
    }
   ],
   "source": [
    "l3=[-3,1,-2,3,2]\n",
    "l3.sort()\n",
    "l3\n"
   ]
  },
  {
   "cell_type": "code",
   "execution_count": 27,
   "id": "c5a79d66-350e-464a-b746-1067fb2d168e",
   "metadata": {},
   "outputs": [
    {
     "data": {
      "text/plain": [
       "[0, 3, 3, 4, 5, 6, 8, 8]"
      ]
     },
     "execution_count": 27,
     "metadata": {},
     "output_type": "execute_result"
    }
   ],
   "source": [
    "l3=[3,5,8,4,0,3,6,8]\n",
    "sorted(l3)"
   ]
  },
  {
   "cell_type": "code",
   "execution_count": 76,
   "id": "60ad396d-2840-483f-a8d9-7efce35bd17d",
   "metadata": {},
   "outputs": [
    {
     "data": {
      "text/plain": [
       "3"
      ]
     },
     "execution_count": 76,
     "metadata": {},
     "output_type": "execute_result"
    }
   ],
   "source": [
    "len([1,2,3])"
   ]
  },
  {
   "cell_type": "code",
   "execution_count": 78,
   "id": "aee86654-c0c3-4b6e-a50b-1ca6cba0ffcf",
   "metadata": {},
   "outputs": [
    {
     "data": {
      "text/plain": [
       "3"
      ]
     },
     "execution_count": 78,
     "metadata": {},
     "output_type": "execute_result"
    }
   ],
   "source": [
    "len('123')"
   ]
  },
  {
   "cell_type": "code",
   "execution_count": 80,
   "id": "eeffa6fb-7e8a-485c-a2fa-43d80073ef56",
   "metadata": {},
   "outputs": [
    {
     "data": {
      "text/plain": [
       "['__add__',\n",
       " '__class__',\n",
       " '__contains__',\n",
       " '__delattr__',\n",
       " '__dir__',\n",
       " '__doc__',\n",
       " '__eq__',\n",
       " '__format__',\n",
       " '__ge__',\n",
       " '__getattribute__',\n",
       " '__getitem__',\n",
       " '__getnewargs__',\n",
       " '__getstate__',\n",
       " '__gt__',\n",
       " '__hash__',\n",
       " '__init__',\n",
       " '__init_subclass__',\n",
       " '__iter__',\n",
       " '__le__',\n",
       " '__len__',\n",
       " '__lt__',\n",
       " '__mod__',\n",
       " '__mul__',\n",
       " '__ne__',\n",
       " '__new__',\n",
       " '__reduce__',\n",
       " '__reduce_ex__',\n",
       " '__repr__',\n",
       " '__rmod__',\n",
       " '__rmul__',\n",
       " '__setattr__',\n",
       " '__sizeof__',\n",
       " '__str__',\n",
       " '__subclasshook__',\n",
       " 'capitalize',\n",
       " 'casefold',\n",
       " 'center',\n",
       " 'count',\n",
       " 'encode',\n",
       " 'endswith',\n",
       " 'expandtabs',\n",
       " 'find',\n",
       " 'format',\n",
       " 'format_map',\n",
       " 'index',\n",
       " 'isalnum',\n",
       " 'isalpha',\n",
       " 'isascii',\n",
       " 'isdecimal',\n",
       " 'isdigit',\n",
       " 'isidentifier',\n",
       " 'islower',\n",
       " 'isnumeric',\n",
       " 'isprintable',\n",
       " 'isspace',\n",
       " 'istitle',\n",
       " 'isupper',\n",
       " 'join',\n",
       " 'ljust',\n",
       " 'lower',\n",
       " 'lstrip',\n",
       " 'maketrans',\n",
       " 'partition',\n",
       " 'removeprefix',\n",
       " 'removesuffix',\n",
       " 'replace',\n",
       " 'rfind',\n",
       " 'rindex',\n",
       " 'rjust',\n",
       " 'rpartition',\n",
       " 'rsplit',\n",
       " 'rstrip',\n",
       " 'split',\n",
       " 'splitlines',\n",
       " 'startswith',\n",
       " 'strip',\n",
       " 'swapcase',\n",
       " 'title',\n",
       " 'translate',\n",
       " 'upper',\n",
       " 'zfill']"
      ]
     },
     "execution_count": 80,
     "metadata": {},
     "output_type": "execute_result"
    }
   ],
   "source": [
    "cdir('')"
   ]
  },
  {
   "cell_type": "markdown",
   "id": "762c4e19-c6d1-4e09-bf6e-8c5527dc4d30",
   "metadata": {},
   "source": [
    "- Keywords or inbuit function str , list etc\n",
    "\n",
    "- methods is respective data types only"
   ]
  },
  {
   "cell_type": "markdown",
   "id": "a96bcdf3-101f-4076-b2c1-a5a2fcec0237",
   "metadata": {},
   "source": [
    "# 6) append\n",
    "\n",
    "- add kerna"
   ]
  },
  {
   "cell_type": "markdown",
   "id": "e406d88f-be02-4884-afc4-f01269e277d2",
   "metadata": {},
   "source": [
    "- TIll now we just printed the output\n",
    "\n",
    "- If you want to save the output in a list\n",
    "\n",
    "- Then we can use append method\n",
    "\n",
    "- append means adding an element in a list\n",
    "\n",
    "- the element will add last and the "
   ]
  },
  {
   "cell_type": "code",
   "execution_count": 87,
   "id": "1d1497f6-dab2-46e0-b0cc-72253853e4d5",
   "metadata": {},
   "outputs": [
    {
     "data": {
      "text/plain": [
       "[1, 2, 3, 4, 40]"
      ]
     },
     "execution_count": 87,
     "metadata": {},
     "output_type": "execute_result"
    }
   ],
   "source": [
    "l=[1,2,3,4]\n",
    "l.append(40)\n",
    "l"
   ]
  },
  {
   "cell_type": "code",
   "execution_count": 89,
   "id": "1ef0612e-2a6b-4a78-9c56-364a1328547d",
   "metadata": {},
   "outputs": [
    {
     "data": {
      "text/plain": [
       "[1, 2, 3, 4, 20, 40]"
      ]
     },
     "execution_count": 89,
     "metadata": {},
     "output_type": "execute_result"
    }
   ],
   "source": [
    "l=[1,2,3,4]\n",
    "l.append(20)\n",
    "l.append(40)\n",
    "l"
   ]
  },
  {
   "cell_type": "code",
   "execution_count": 91,
   "id": "d0d5ea58-53a6-488f-8008-3aa42b63f3de",
   "metadata": {},
   "outputs": [
    {
     "ename": "TypeError",
     "evalue": "list.append() takes exactly one argument (2 given)",
     "output_type": "error",
     "traceback": [
      "\u001b[1;31m---------------------------------------------------------------------------\u001b[0m",
      "\u001b[1;31mTypeError\u001b[0m                                 Traceback (most recent call last)",
      "Cell \u001b[1;32mIn[91], line 1\u001b[0m\n\u001b[1;32m----> 1\u001b[0m l\u001b[38;5;241m.\u001b[39mappend(\u001b[38;5;241m20\u001b[39m,\u001b[38;5;241m30\u001b[39m)\n",
      "\u001b[1;31mTypeError\u001b[0m: list.append() takes exactly one argument (2 given)"
     ]
    }
   ],
   "source": [
    "l.append(20,30)"
   ]
  },
  {
   "cell_type": "code",
   "execution_count": 95,
   "id": "2e209179-2f0a-4f1e-8d8c-924e0d586cb1",
   "metadata": {},
   "outputs": [
    {
     "data": {
      "text/plain": [
       "[1, 2, 3, 3, ['Apple', 'Banana']]"
      ]
     },
     "execution_count": 95,
     "metadata": {},
     "output_type": "execute_result"
    }
   ],
   "source": [
    "l=[1,2,3,3]\n",
    "l.append(['Apple','Banana'])\n",
    "l"
   ]
  },
  {
   "cell_type": "markdown",
   "id": "304aa06e-c3be-4c10-818f-5ceb26710345",
   "metadata": {},
   "source": [
    "**How to fill the values in a empty string**\n",
    "\n",
    "**How to fill the value in a empty list**"
   ]
  },
  {
   "cell_type": "code",
   "execution_count": 100,
   "id": "83b0a862-3a5a-498e-905e-fe1e2a9f121a",
   "metadata": {},
   "outputs": [
    {
     "data": {
      "text/plain": [
       "'apple'"
      ]
     },
     "execution_count": 100,
     "metadata": {},
     "output_type": "execute_result"
    }
   ],
   "source": [
    "s=''\n",
    "s=s+'apple'\n",
    "s"
   ]
  },
  {
   "cell_type": "code",
   "execution_count": 104,
   "id": "1679d4c6-897d-4285-9aee-0c51138abe1a",
   "metadata": {},
   "outputs": [
    {
     "data": {
      "text/plain": [
       "['apple']"
      ]
     },
     "execution_count": 104,
     "metadata": {},
     "output_type": "execute_result"
    }
   ],
   "source": [
    "l=[]\n",
    "l=l+['apple']\n",
    "l"
   ]
  },
  {
   "cell_type": "code",
   "execution_count": 108,
   "id": "d90b9c4c-47a3-4986-ac74-ad02b8af9aa8",
   "metadata": {},
   "outputs": [
    {
     "data": {
      "text/plain": [
       "['Apple']"
      ]
     },
     "execution_count": 108,
     "metadata": {},
     "output_type": "execute_result"
    }
   ],
   "source": [
    "l=[]\n",
    "l.append('Apple')\n",
    "l"
   ]
  },
  {
   "cell_type": "code",
   "execution_count": 110,
   "id": "04635d65-6dcf-4244-b8e1-3add95e5c379",
   "metadata": {},
   "outputs": [],
   "source": [
    "# but if we need to add 10 elemnt then we have to d do 10 times append\n",
    "l=[]\n",
    "l.append(10)\n",
    "l.append(10)\n",
    "l.append(10)"
   ]
  },
  {
   "cell_type": "code",
   "execution_count": 114,
   "id": "47ab09dc-52c2-4ca8-9716-395840684458",
   "metadata": {},
   "outputs": [
    {
     "data": {
      "text/plain": [
       "[10, 10, 10, 10, 10, 10, 10, 10, 10, 10]"
      ]
     },
     "execution_count": 114,
     "metadata": {},
     "output_type": "execute_result"
    }
   ],
   "source": [
    "l=[]\n",
    "for i in range(10):\n",
    "    l.append(10)\n",
    "\n",
    "l"
   ]
  },
  {
   "cell_type": "code",
   "execution_count": 116,
   "id": "f85d2702-7ef0-4e4e-b9e2-003b87b5978b",
   "metadata": {},
   "outputs": [
    {
     "data": {
      "text/plain": [
       "[1, 2, 3, 4, 5, 6, 7, 8, 9, 10]"
      ]
     },
     "execution_count": 116,
     "metadata": {},
     "output_type": "execute_result"
    }
   ],
   "source": [
    "l=[]\n",
    "for i in range(1,11):\n",
    "    l.append(i)\n",
    "l"
   ]
  },
  {
   "cell_type": "code",
   "execution_count": 123,
   "id": "18e20ea2-d6d1-49b2-9e30-141da2c2bd4a",
   "metadata": {},
   "outputs": [
    {
     "name": "stdout",
     "output_type": "stream",
     "text": [
      "1\n",
      "4\n",
      "9\n",
      "16\n",
      "25\n"
     ]
    }
   ],
   "source": [
    "l=[]\n",
    "for i in range(1,6):\n",
    "    print(i*i)\n"
   ]
  },
  {
   "cell_type": "markdown",
   "id": "63e195a4-9876-4435-8764-7e9c0b717c97",
   "metadata": {},
   "source": [
    "# Extend"
   ]
  },
  {
   "cell_type": "code",
   "execution_count": null,
   "id": "e81e0bcf-c2ef-426f-9f3d-cd572a52f7ef",
   "metadata": {},
   "outputs": [],
   "source": [
    "# take 1 list = l1=[1,2,3,4]\n",
    "# take 2 list = l2=['A','B','C']\n",
    "# l1.append(l2)\n",
    "# l1+l2\n",
    "# l1.extend(l2)\n",
    "\n",
    "# "
   ]
  },
  {
   "cell_type": "code",
   "execution_count": 127,
   "id": "390017fe-f51f-495a-857d-1662a7cd262d",
   "metadata": {},
   "outputs": [
    {
     "name": "stdout",
     "output_type": "stream",
     "text": [
      "l1: [1, 2, 3, 4, ['A', 'B', 'C']]\n",
      "l2:  ['A', 'B', 'C']\n"
     ]
    }
   ],
   "source": [
    "l1=[1,2,3,4]\n",
    "l2=['A','B','C']\n",
    "l1.append(l2)\n",
    "print('l1:' ,l1)\n",
    "print('l2: ',l2)"
   ]
  },
  {
   "cell_type": "markdown",
   "id": "a2ba3b4d-9f10-40c1-bd46-d222dd261dce",
   "metadata": {},
   "source": [
    "# 24 - 08 - 24 "
   ]
  },
  {
   "cell_type": "markdown",
   "id": "1902cf67-1068-46bf-b26b-4384d3bf2af6",
   "metadata": {},
   "source": [
    "# Q1) wap ask the user rnter 5 values get the even numbers and odd numbers list\n",
    "\n",
    "- Idea : we already did this but we use print statements instead of print te values,value append the values\n",
    "\n",
    "- take two list\n",
    "- even_list=[ ]\n",
    "- odd_list[ ]\n",
    "- perform the oprationm"
   ]
  },
  {
   "cell_type": "code",
   "execution_count": 9,
   "id": "71856358-e465-4efc-a22e-527c860fbd98",
   "metadata": {},
   "outputs": [
    {
     "name": "stdin",
     "output_type": "stream",
     "text": [
      "Enter the number 5\n",
      "Enter the number 6\n",
      "Enter the number 7\n",
      "Enter the number 8\n",
      "Enter the number 9\n"
     ]
    },
    {
     "data": {
      "text/plain": [
       "([6, 8], [5, 7, 9])"
      ]
     },
     "execution_count": 9,
     "metadata": {},
     "output_type": "execute_result"
    }
   ],
   "source": [
    "\n",
    "even_list,odd_list=[],[]\n",
    "for i in range(5):\n",
    "    num=eval(input('Enter the number'))\n",
    "    if num%2==0:\n",
    "        even_list.append(num)\n",
    "    else:\n",
    "        odd_list.append(num)\n",
    "even_list,odd_list\n",
    "        \n",
    "    "
   ]
  },
  {
   "cell_type": "markdown",
   "id": "b136ce44-5f4c-47cf-8e7a-195fdb9b8f25",
   "metadata": {},
   "source": [
    "# Q2) \n",
    "- L=['hyd','mumbai','chennai']\n",
    "- o=['HYD','MUMBAI','CHENNAI']\n"
   ]
  },
  {
   "cell_type": "code",
   "execution_count": 14,
   "id": "2839fd9e-aec6-4d6c-bc39-436bcdac63ac",
   "metadata": {},
   "outputs": [
    {
     "data": {
      "text/plain": [
       "['HYD', 'MUMBAI', 'CHENNAI']"
      ]
     },
     "execution_count": 14,
     "metadata": {},
     "output_type": "execute_result"
    }
   ],
   "source": [
    "L=['hyd','mumbai','chennai']\n",
    "o=[]\n",
    "for i in L:\n",
    "    o.append(i.upper())\n",
    "\n",
    "o"
   ]
  },
  {
   "cell_type": "markdown",
   "id": "55385a25-cef4-4823-9de6-463504ea1b67",
   "metadata": {},
   "source": [
    "# Q3) \n",
    "- L=['hyd','mumbai','chennai']\n",
    "-  o=['Hyd','Mumbai','Chennai']"
   ]
  },
  {
   "cell_type": "code",
   "execution_count": 12,
   "id": "477a25c1-610d-458d-84c0-726ca8a2b162",
   "metadata": {},
   "outputs": [
    {
     "data": {
      "text/plain": [
       "['Hyd', 'Mumbai', 'Chennai']"
      ]
     },
     "execution_count": 12,
     "metadata": {},
     "output_type": "execute_result"
    }
   ],
   "source": [
    "L=['hyd','mumbai','chennai']\n",
    "o=[]\n",
    "for i in L:\n",
    "    o.append(i.capitalize())\n",
    "\n",
    "o"
   ]
  },
  {
   "cell_type": "markdown",
   "id": "1b3cec04-f893-4422-afec-63f8314f4ee2",
   "metadata": {},
   "source": [
    "# Q4)\n",
    "- L=['hyd','mum#bai','chen#nai']\n",
    "- o=['mum#bai','chen#nai']"
   ]
  },
  {
   "cell_type": "code",
   "execution_count": 1,
   "id": "76b219f9-db7a-4ba9-a6e0-ed412582cf5e",
   "metadata": {},
   "outputs": [
    {
     "data": {
      "text/plain": [
       "['mum#bai', 'chen#nai']"
      ]
     },
     "execution_count": 1,
     "metadata": {},
     "output_type": "execute_result"
    }
   ],
   "source": [
    "L=['hyd','mum#bai','chen#nai']\n",
    "o=[]\n",
    "for i in L:\n",
    "    if '#' in i:\n",
    "        o.append(i)\n",
    "\n",
    "o"
   ]
  },
  {
   "cell_type": "markdown",
   "id": "b7d60a95-0138-4013-bd1e-42876b76d84c",
   "metadata": {},
   "source": [
    "# Q5)\n",
    "- L=['hyd','mun#bai','chen#nai']\n",
    "- o=['hyd']"
   ]
  },
  {
   "cell_type": "code",
   "execution_count": 18,
   "id": "ab53154b-437c-44cc-87a6-9ef69682b6b9",
   "metadata": {},
   "outputs": [
    {
     "data": {
      "text/plain": [
       "['hyd']"
      ]
     },
     "execution_count": 18,
     "metadata": {},
     "output_type": "execute_result"
    }
   ],
   "source": [
    "L=['hyd','mun#bai','chen#nai']\n",
    "o=[]\n",
    "for i in L:\n",
    "    if '#' not in i:\n",
    "        o.append(i)\n",
    "\n",
    "o"
   ]
  },
  {
   "cell_type": "markdown",
   "id": "96a1fc24-c488-4105-9fe0-c4946bf8533b",
   "metadata": {},
   "source": [
    "# Q6) \n",
    "- string='hello hai how are you'\n",
    "- o=['Hello','Hai','How','Are','You']"
   ]
  },
  {
   "cell_type": "code",
   "execution_count": 3,
   "id": "47da8825-df17-49b6-a3aa-a32b5b0e668d",
   "metadata": {},
   "outputs": [
    {
     "data": {
      "text/plain": [
       "['Hello', 'Hai', 'How', 'Are', 'You']"
      ]
     },
     "execution_count": 3,
     "metadata": {},
     "output_type": "execute_result"
    }
   ],
   "source": [
    "string='hello hai how are you'\n",
    "lst=string.split()\n",
    "o=[]\n",
    "for i in lst:\n",
    "    o.append(i.capitalize())\n",
    "\n",
    "o"
   ]
  },
  {
   "cell_type": "markdown",
   "id": "26e3d5e9-7dce-423b-9a0d-46a070dfa328",
   "metadata": {},
   "source": [
    "# 7)  join"
   ]
  },
  {
   "cell_type": "code",
   "execution_count": 8,
   "id": "eb4561a4-8a51-4c06-a92f-aed487bf3829",
   "metadata": {},
   "outputs": [
    {
     "data": {
      "text/plain": [
       "['hello', 'hai', 'how', 'are', 'you']"
      ]
     },
     "execution_count": 8,
     "metadata": {},
     "output_type": "execute_result"
    }
   ],
   "source": [
    "string='hello hai how are you'\n",
    "l=string.split()\n",
    "l"
   ]
  },
  {
   "cell_type": "code",
   "execution_count": 10,
   "id": "0164f86c-492b-4bbe-b32c-549ecd78829e",
   "metadata": {},
   "outputs": [
    {
     "data": {
      "text/plain": [
       "'hello hai how are you'"
      ]
     },
     "execution_count": 10,
     "metadata": {},
     "output_type": "execute_result"
    }
   ],
   "source": [
    "' '.join(l)"
   ]
  },
  {
   "cell_type": "code",
   "execution_count": 12,
   "id": "41a1c021-a323-409e-b6d2-6a278f9c7514",
   "metadata": {},
   "outputs": [
    {
     "data": {
      "text/plain": [
       "'hello**hai**how**are**you'"
      ]
     },
     "execution_count": 12,
     "metadata": {},
     "output_type": "execute_result"
    }
   ],
   "source": [
    "'**'.join(l)"
   ]
  },
  {
   "cell_type": "markdown",
   "id": "b60ec17c-a8d3-44e9-af20-b550feec5c7c",
   "metadata": {},
   "source": [
    "- split and join together \n",
    "\n",
    "- split works for string\n",
    "\n",
    "- join works for list m"
   ]
  },
  {
   "cell_type": "code",
   "execution_count": 37,
   "id": "83e9b950-7816-4244-b8b6-0d5bf4f88491",
   "metadata": {},
   "outputs": [
    {
     "name": "stderr",
     "output_type": "stream",
     "text": [
      "<>:9: SyntaxWarning: 'int' object is not subscriptable; perhaps you missed a comma?\n",
      "<>:9: SyntaxWarning: 'int' object is not subscriptable; perhaps you missed a comma?\n"
     ]
    },
    {
     "ename": "ValueError",
     "evalue": "substring not found",
     "output_type": "error",
     "traceback": [
      "\u001b[1;31m---------------------------------------------------------------------------\u001b[0m",
      "\u001b[1;31mValueError\u001b[0m                                Traceback (most recent call last)",
      "Cell \u001b[1;32mIn[37], line 4\u001b[0m\n\u001b[0;32m      2\u001b[0m l\u001b[38;5;241m=\u001b[39mstring\u001b[38;5;241m.\u001b[39msplit()\n\u001b[0;32m      3\u001b[0m l[\u001b[38;5;241m0\u001b[39m]\n\u001b[1;32m----> 4\u001b[0m first_dot_index\u001b[38;5;241m=\u001b[39ml[\u001b[38;5;241m0\u001b[39m]\u001b[38;5;241m.\u001b[39mindex(\u001b[38;5;124m'\u001b[39m\u001b[38;5;124m.\u001b[39m\u001b[38;5;124m'\u001b[39m)\n\u001b[0;32m      5\u001b[0m second_dot_index\u001b[38;5;241m=\u001b[39ml[\u001b[38;5;241m0\u001b[39m]\u001b[38;5;241m.\u001b[39mindex(\u001b[38;5;124m'\u001b[39m\u001b[38;5;124m.\u001b[39m\u001b[38;5;124m'\u001b[39m, \u001b[38;5;241m1\u001b[39m\u001b[38;5;241m+\u001b[39mfirst_dot_index)\n\u001b[0;32m      6\u001b[0m index_at_the_rat\u001b[38;5;241m=\u001b[39ml[\u001b[38;5;241m0\u001b[39m]\u001b[38;5;241m.\u001b[39mindex(\u001b[38;5;124m'\u001b[39m\u001b[38;5;124m@\u001b[39m\u001b[38;5;124m'\u001b[39m)\n",
      "\u001b[1;31mValueError\u001b[0m: substring not found"
     ]
    }
   ],
   "source": [
    "string1='virat.kohli@rcb.com, Rohit.sharma@Mi.co, Dhoni.Mahendra@csk.com'\n",
    "l=string.split()\n",
    "l[0]\n",
    "first_dot_index=l[0].index('.')\n",
    "second_dot_index=l[0].index('.', 1+first_dot_index)\n",
    "index_at_the_rat=l[0].index('@')\n",
    "first_name=l[0][:first_dot_index]\n",
    "sname=l[0][first_dot_index+1:index_at_the_rat]\n",
    "cname=1[0][index_at_the_rat+1:second_dot_index]\n",
    "first_name,sname,cname\n"
   ]
  },
  {
   "cell_type": "code",
   "execution_count": null,
   "id": "44097c98-1de1-4d8d-a3b1-f60f9ea19321",
   "metadata": {},
   "outputs": [],
   "source": []
  },
  {
   "cell_type": "code",
   "execution_count": 51,
   "id": "ed51fa8d-e386-4236-976d-f2ff2bd7d40a",
   "metadata": {},
   "outputs": [
    {
     "data": {
      "text/plain": [
       "['can-5', 'canner-2', 'you-1', 'not-1', 'be-1']"
      ]
     },
     "execution_count": 51,
     "metadata": {},
     "output_type": "execute_result"
    }
   ],
   "source": [
    "\n",
    "# Q8) \n",
    "\n",
    "string1='can canner can you can not canner can be can'\n",
    "l=string1.split()\n",
    "l1=[]\n",
    "o=[]\n",
    "for i in l:\n",
    "    if i not in l1:\n",
    "        o.append(f\"{i}-{l.count(i)}\")\n",
    "        l1.append(i)\n",
    "o\n",
    "# step-1=   i='can' 'can'  "
   ]
  },
  {
   "cell_type": "code",
   "execution_count": 41,
   "id": "7e8c5895-6940-405b-a489-dfd638c76962",
   "metadata": {},
   "outputs": [
    {
     "data": {
      "text/plain": [
       "3"
      ]
     },
     "execution_count": 41,
     "metadata": {},
     "output_type": "execute_result"
    }
   ],
   "source": [
    "string1='can canner can you can not canner can be can'\n",
    "string1.count('e')"
   ]
  },
  {
   "cell_type": "code",
   "execution_count": 63,
   "id": "bfb1c5c1-c0df-42b7-bd55-0a4d6d873288",
   "metadata": {},
   "outputs": [
    {
     "data": {
      "text/plain": [
       "2"
      ]
     },
     "execution_count": 63,
     "metadata": {},
     "output_type": "execute_result"
    }
   ],
   "source": [
    "\n",
    "l=['khan', 'khan']\n",
    "l.count('khan')"
   ]
  },
  {
   "cell_type": "code",
   "execution_count": 65,
   "id": "9cfd7855-2313-4028-8b4b-b56360b2219d",
   "metadata": {},
   "outputs": [
    {
     "name": "stdout",
     "output_type": "stream",
     "text": [
      "Data-1\n",
      "science-6\n",
      "is-3\n",
      "\"a-1\n",
      "concept-1\n",
      "to-2\n",
      "unify-1\n",
      "statistics,-2\n",
      "data-4\n",
      "analysis,-1\n",
      "informatics,-1\n",
      "and-8\n",
      "their-1\n",
      "related-1\n",
      "methods\"-1\n",
      "\"understand-1\n",
      "analyze-1\n",
      "actual-1\n",
      "phenomena\"-1\n",
      "with-1\n",
      "data.[5]-1\n",
      "It-1\n",
      "uses-1\n",
      "techniques-1\n",
      "theories-1\n",
      "drawn-1\n",
      "from-2\n",
      "many-1\n",
      "fields-1\n",
      "within-1\n",
      "the-3\n",
      "context-1\n",
      "of-4\n",
      "mathematics,-1\n",
      "computer-2\n",
      "science,-2\n",
      "information-3\n",
      "domain-1\n",
      "knowledge.-1\n",
      "[6]-1\n",
      "However,-1\n",
      "different-1\n",
      "science.-1\n",
      "Turing-1\n",
      "Award-1\n",
      "winner-1\n",
      "Jim-1\n",
      "Gray-1\n",
      "imagined-1\n",
      "as-1\n",
      "a-1\n",
      "\"fourth-1\n",
      "paradigm\"-1\n",
      "(empirical,-1\n",
      "theoretical,-1\n",
      "computational,-1\n",
      "now-1\n",
      "data-driven)-1\n",
      "asserted-1\n",
      "that-1\n",
      "\"everything-1\n",
      "about-1\n",
      "changing-1\n",
      "because-1\n",
      "impact-1\n",
      "technology\"-1\n",
      "deluge-1\n"
     ]
    }
   ],
   "source": [
    "# Take some paragraph from wikipedia\n",
    "# print how many words count\n",
    "# each word and its count\n",
    "\n",
    "# condition : avoid stop words\n",
    "# ['a','an','the'] \n",
    "\n",
    "para=\"\"\"Data science is \"a concept to unify statistics, data analysis, informatics, and their related methods\" to\n",
    "     \"understand and analyze actual phenomena\" with data.[5] It uses techniques and theories drawn from many fields within the context of mathematics,\n",
    "     statistics, computer science, information science, and domain knowledge.\n",
    "     [6] However, data science is different from computer science and information science. \n",
    "     Turing Award winner Jim Gray imagined data science as a \"fourth paradigm\" of science \n",
    "     (empirical, theoretical, computational, and now data-driven) \n",
    "     and asserted that \"everything about science is changing because of the impact of information technology\" and the data deluge\n",
    "     \"\"\"\n",
    "# Idea: make a new paragraph with out punctuations with out numbers\n",
    "# Idea: make a another paragraph with out 'a' , 'an', 'the'\n",
    "# count words\n",
    "\n",
    "l=para.split()\n",
    "l1=[]\n",
    "for i in l:\n",
    "    if i not in l1:\n",
    "        print(f\"{i}-{l.count(i)}\")\n",
    "        l1.append(i)"
   ]
  },
  {
   "cell_type": "code",
   "execution_count": 67,
   "id": "26424af5-86ae-4261-ac41-516c6825265a",
   "metadata": {},
   "outputs": [
    {
     "name": "stdin",
     "output_type": "stream",
     "text": [
      "Who is pm of india: MODI\n",
      "Who is ICT ODI captain: SHARMA\n",
      "How many sates are there in India: 29\n"
     ]
    }
   ],
   "source": [
    "# Q10) \n",
    "\n",
    "list_qns=['Who is pm of india','Who is ICT ODI captain',\n",
    "           'How many sates are there in India']\n",
    "\n",
    "list_ans= ['Modi','Rohit','29']\n",
    "for qn in list_qns:\n",
    "    ans=input(qn+':')"
   ]
  },
  {
   "cell_type": "code",
   "execution_count": 69,
   "id": "ff0f8baf-e750-4393-b1a3-0cf271fe0600",
   "metadata": {},
   "outputs": [
    {
     "data": {
      "text/plain": [
       "'Modi'"
      ]
     },
     "execution_count": 69,
     "metadata": {},
     "output_type": "execute_result"
    }
   ],
   "source": [
    "\n",
    "list_qns=['Who is pm of india','Who is ICT ODI captain',\n",
    "           'How many sates are there in India']\n",
    "\n",
    "list_ans[list_qns.index('Who is pm of india')]"
   ]
  },
  {
   "cell_type": "code",
   "execution_count": 71,
   "id": "f51ab0fa-1b29-4fab-a420-4156e9a1d92e",
   "metadata": {},
   "outputs": [
    {
     "data": {
      "text/plain": [
       "'Rohit'"
      ]
     },
     "execution_count": 71,
     "metadata": {},
     "output_type": "execute_result"
    }
   ],
   "source": [
    "list_ans[list_qns.index('Who is ICT ODI captain')]"
   ]
  },
  {
   "cell_type": "code",
   "execution_count": 73,
   "id": "e0c8898a-5a89-45d2-b874-0d0cf9c4c85c",
   "metadata": {},
   "outputs": [
    {
     "data": {
      "text/plain": [
       "'29'"
      ]
     },
     "execution_count": 73,
     "metadata": {},
     "output_type": "execute_result"
    }
   ],
   "source": [
    "list_ans[list_qns.index('How many sates are there in India')]"
   ]
  },
  {
   "cell_type": "code",
   "execution_count": null,
   "id": "76ed1d3b-9753-4c92-bf14-9c7db91d1830",
   "metadata": {},
   "outputs": [],
   "source": [
    "# First get eaach qns\n",
    "# get the index of the each qns\n",
    "# pass that index to tje list ans === > original answer\n",
    "# compare user answer with origiinal answer"
   ]
  },
  {
   "cell_type": "code",
   "execution_count": null,
   "id": "3dfef04a-f581-45d7-bcf9-f72292626d72",
   "metadata": {},
   "outputs": [],
   "source": [
    "list_qns=['Who is pm of india','Who is ICT ODI captain',\n",
    "           'How many sates are there in India']\n",
    "\n",
    "list_ans= ['Modi','Rohit','29']\n",
    "for qn in list_qns:\n",
    "    ans=input(qn+':')\n",
    "    id=list_qns[qn]\n",
    "    original_ans=list_ans[id]\n",
    "    if original_ans in list_ans:\n",
    "        print('correct')"
   ]
  },
  {
   "cell_type": "markdown",
   "id": "9f187d44-bcfa-443a-86d2-0493671addb3",
   "metadata": {},
   "source": [
    "# 27 - 08 - 24"
   ]
  },
  {
   "cell_type": "code",
   "execution_count": 1,
   "id": "0dbcdf8a-e151-4196-a728-cbb6dc9c3bd1",
   "metadata": {},
   "outputs": [
    {
     "data": {
      "text/plain": [
       "['In',\n",
       " 'Out',\n",
       " '_',\n",
       " '__',\n",
       " '___',\n",
       " '__builtin__',\n",
       " '__builtins__',\n",
       " '__doc__',\n",
       " '__loader__',\n",
       " '__name__',\n",
       " '__package__',\n",
       " '__session__',\n",
       " '__spec__',\n",
       " '_dh',\n",
       " '_i',\n",
       " '_i1',\n",
       " '_ih',\n",
       " '_ii',\n",
       " '_iii',\n",
       " '_oh',\n",
       " 'exit',\n",
       " 'get_ipython',\n",
       " 'open',\n",
       " 'quit']"
      ]
     },
     "execution_count": 1,
     "metadata": {},
     "output_type": "execute_result"
    }
   ],
   "source": [
    " dir()"
   ]
  },
  {
   "cell_type": "markdown",
   "id": "434abfce-13d9-4c92-bd6c-8cfb4e2cf6c4",
   "metadata": {},
   "source": [
    "# 8) append , insert , remove and pop"
   ]
  },
  {
   "cell_type": "code",
   "execution_count": 3,
   "id": "7622d69f-69eb-40c3-81ad-0ec0cb0ad9dd",
   "metadata": {},
   "outputs": [
    {
     "data": {
      "text/plain": [
       "['Apple', 'Ball', 'Cat', 'Dog']"
      ]
     },
     "execution_count": 3,
     "metadata": {},
     "output_type": "execute_result"
    }
   ],
   "source": [
    "l=['Apple','Ball','Cat']\n",
    "l.append('Dog')\n",
    "l"
   ]
  },
  {
   "cell_type": "code",
   "execution_count": 11,
   "id": "496cd4f9-3c52-4762-b578-d181e32c099d",
   "metadata": {},
   "outputs": [
    {
     "data": {
      "text/plain": [
       "['Apple', 'Ball', 'Dog', 'Cat']"
      ]
     },
     "execution_count": 11,
     "metadata": {},
     "output_type": "execute_result"
    }
   ],
   "source": [
    "l=['Apple','Ball','Cat']\n",
    "#    0       1      2      3\n",
    "l.insert(2,'Dog')\n",
    "l"
   ]
  },
  {
   "cell_type": "code",
   "execution_count": 13,
   "id": "2b526c9b-1a3c-422e-b229-94f09cfbfed5",
   "metadata": {},
   "outputs": [
    {
     "data": {
      "text/plain": [
       "['Apple', 'Ball', 'Cat', 'Dog']"
      ]
     },
     "execution_count": 13,
     "metadata": {},
     "output_type": "execute_result"
    }
   ],
   "source": [
    "l=['Apple','Ball','Cat']\n",
    "#    0       1      2      3\n",
    "l.insert(3,'Dog')\n",
    "l"
   ]
  },
  {
   "cell_type": "code",
   "execution_count": null,
   "id": "09b51e28-e1aa-47be-9f8a-172b8c1be70e",
   "metadata": {},
   "outputs": [],
   "source": [
    "# remove\n",
    "# pop\n"
   ]
  },
  {
   "cell_type": "code",
   "execution_count": 1,
   "id": "88b5d5e7-1e67-441b-aaae-1616b911c92e",
   "metadata": {},
   "outputs": [
    {
     "data": {
      "text/plain": [
       "['Apple', 'Ball', 'Dog']"
      ]
     },
     "execution_count": 1,
     "metadata": {},
     "output_type": "execute_result"
    }
   ],
   "source": [
    "l=['Apple', 'Ball', 'Cat', 'Dog']\n",
    "l.remove('Cat')\n",
    "l"
   ]
  },
  {
   "cell_type": "code",
   "execution_count": 37,
   "id": "aeb7201b-0b2d-4219-80d1-f1290c5eb060",
   "metadata": {},
   "outputs": [
    {
     "data": {
      "text/plain": [
       "['Apple', 'Ball', 'Cat', 'Dog']"
      ]
     },
     "execution_count": 37,
     "metadata": {},
     "output_type": "execute_result"
    }
   ],
   "source": [
    "l=['Apple', 'Ball', 'Cat','Cat','Dog']\n",
    "l.remove('Cat')\n",
    "l"
   ]
  },
  {
   "cell_type": "code",
   "execution_count": 7,
   "id": "aaa766e1-d7ad-4af9-8ba0-66329d43764e",
   "metadata": {},
   "outputs": [
    {
     "data": {
      "text/plain": [
       "'cat'"
      ]
     },
     "execution_count": 7,
     "metadata": {},
     "output_type": "execute_result"
    }
   ],
   "source": [
    "l=['Apple', 'Ball', 'Cat', 'Dog','cat']\n",
    "l.pop()"
   ]
  },
  {
   "cell_type": "code",
   "execution_count": 41,
   "id": "71c110cc-cedf-4e3a-80c5-2d6f6780894f",
   "metadata": {},
   "outputs": [
    {
     "data": {
      "text/plain": [
       "['Apple', 'Ball', 'Cat', 'Dog']"
      ]
     },
     "execution_count": 41,
     "metadata": {},
     "output_type": "execute_result"
    }
   ],
   "source": [
    "l"
   ]
  },
  {
   "cell_type": "code",
   "execution_count": 9,
   "id": "828e33ee-28c7-4832-8939-0b9dfc218eaf",
   "metadata": {},
   "outputs": [],
   "source": [
    "l=['Apple', 'Ball', 'Cat', 'Dog','cat']\n",
    "l.remove('Cat')\n",
    "#  It will not written "
   ]
  },
  {
   "cell_type": "code",
   "execution_count": 11,
   "id": "a92bf68f-7e9f-47b8-b72a-af1404a0b57e",
   "metadata": {},
   "outputs": [
    {
     "data": {
      "text/plain": [
       "['Apple', 'Ball', 'Dog', 'cat']"
      ]
     },
     "execution_count": 11,
     "metadata": {},
     "output_type": "execute_result"
    }
   ],
   "source": [
    "l"
   ]
  },
  {
   "cell_type": "code",
   "execution_count": 45,
   "id": "76ccf373-c9ea-4cbd-bb88-a102134f1898",
   "metadata": {},
   "outputs": [
    {
     "data": {
      "text/plain": [
       "'cat'"
      ]
     },
     "execution_count": 45,
     "metadata": {},
     "output_type": "execute_result"
    }
   ],
   "source": [
    "l=['Apple', 'Ball', 'Cat', 'Dog','cat']\n",
    "l.pop()\n",
    "# it will written"
   ]
  },
  {
   "cell_type": "code",
   "execution_count": 55,
   "id": "6929a7fe-dee4-4b66-a5fd-f085af6e07e7",
   "metadata": {},
   "outputs": [
    {
     "data": {
      "text/plain": [
       "['Apple', 'Ball', 'Dog', 'cat']"
      ]
     },
     "execution_count": 55,
     "metadata": {},
     "output_type": "execute_result"
    }
   ],
   "source": [
    "l=['Apple', 'Ball', 'Cat', 'Dog','cat']\n",
    "cat_index=l.index('Cat')\n",
    "l.pop(cat_index)\n",
    "l"
   ]
  },
  {
   "cell_type": "code",
   "execution_count": 53,
   "id": "c7fdd759-0666-4f32-a9f7-0db7dc01dee8",
   "metadata": {},
   "outputs": [
    {
     "data": {
      "text/plain": [
       "[1, 2, 3, 4, 5, 6, 7, 8, 9, 10, 11, 5, 7, 6, 2, 3]"
      ]
     },
     "execution_count": 53,
     "metadata": {},
     "output_type": "execute_result"
    }
   ],
   "source": [
    "l1=[1,2,3,4,5,6,7,8,9,10,11,2,5,7,6,2,3]\n",
    "i1=l1.index(2)\n",
    "i2=l1.index(2,1+i1)\n",
    "l1.pop(i2)\n",
    "l1"
   ]
  },
  {
   "cell_type": "markdown",
   "id": "22f68889-5be7-4ead-abe5-57fae6abdb06",
   "metadata": {},
   "source": [
    "- Remove will expect a value (direct element)\n",
    "\n",
    "- pop will expect an index of the value \n",
    "\n",
    "- if duplicate value are there , then remove will delee the first value only\n",
    "\n",
    "- if no index given in pop , it will remove the last element by default\n",
    "\n",
    "- if no value present remove will give value error\n",
    "\n",
    "- if no valid index pop will give index error\n"
   ]
  },
  {
   "cell_type": "markdown",
   "id": "3cfe2c20-cb25-4e86-ac6c-36f9c4758ea7",
   "metadata": {},
   "source": [
    "# 9)  del\n",
    "- means delete "
   ]
  },
  {
   "cell_type": "code",
   "execution_count": 69,
   "id": "11390696-018e-495f-bab6-45615a2fea80",
   "metadata": {},
   "outputs": [],
   "source": [
    "l=['Apple', 'Ball', 'Cat', 'Dog','cat']\n",
    "del(l)"
   ]
  },
  {
   "cell_type": "code",
   "execution_count": 71,
   "id": "902b389f-fcda-4a30-9ca8-3a50c8b73c47",
   "metadata": {},
   "outputs": [
    {
     "ename": "NameError",
     "evalue": "name 'l' is not defined",
     "output_type": "error",
     "traceback": [
      "\u001b[1;31m---------------------------------------------------------------------------\u001b[0m",
      "\u001b[1;31mNameError\u001b[0m                                 Traceback (most recent call last)",
      "Cell \u001b[1;32mIn[71], line 1\u001b[0m\n\u001b[1;32m----> 1\u001b[0m l\n",
      "\u001b[1;31mNameError\u001b[0m: name 'l' is not defined"
     ]
    }
   ],
   "source": [
    "l"
   ]
  },
  {
   "cell_type": "code",
   "execution_count": 67,
   "id": "a4efc9d7-b53c-47b2-93df-041ac6ba57d3",
   "metadata": {},
   "outputs": [
    {
     "data": {
      "text/plain": [
       "['Ball', 'Cat', 'Dog', 'cat']"
      ]
     },
     "execution_count": 67,
     "metadata": {},
     "output_type": "execute_result"
    }
   ],
   "source": [
    "l=['Apple', 'Ball', 'Cat', 'Dog','cat']\n",
    "del(l[0])\n",
    "l"
   ]
  },
  {
   "cell_type": "code",
   "execution_count": null,
   "id": "39208661-1985-4154-9c06-ad3f30553e27",
   "metadata": {},
   "outputs": [],
   "source": [
    "- append / exend / concat / insert\n",
    "\n",
    "- remove / pop / del\n",
    "\n",
    "- index\n",
    "\n",
    "- count\n",
    "\n",
    "- reverse\n",
    "\n",
    "- sorted\n",
    "\n",
    "- clear / copy\n",
    "\n"
   ]
  },
  {
   "cell_type": "code",
   "execution_count": null,
   "id": "5f234630-ae69-44d3-b1b6-e73c0294a2a1",
   "metadata": {},
   "outputs": [],
   "source": [
    "- intilization\n",
    "- type\n",
    "- min\n",
    "- max\n",
    "-len\n",
    "- sorted\n",
    "- reversed\n",
    "- in\n",
    "- in for loop\n",
    "- index\n",
    "- index for loop\n",
    "- mutable immutable\n",
    "- slice\n",
    "- concat\n",
    "- methods"
   ]
  },
  {
   "cell_type": "markdown",
   "id": "26e8abcc-b1dd-46fc-a58c-3f103de45038",
   "metadata": {},
   "source": [
    "# assignment on tuple and set\n"
   ]
  },
  {
   "cell_type": "code",
   "execution_count": 73,
   "id": "aaaf8278-5597-4715-b267-6b0791782fc9",
   "metadata": {},
   "outputs": [
    {
     "data": {
      "text/plain": [
       "['__add__',\n",
       " '__class__',\n",
       " '__class_getitem__',\n",
       " '__contains__',\n",
       " '__delattr__',\n",
       " '__dir__',\n",
       " '__doc__',\n",
       " '__eq__',\n",
       " '__format__',\n",
       " '__ge__',\n",
       " '__getattribute__',\n",
       " '__getitem__',\n",
       " '__getnewargs__',\n",
       " '__getstate__',\n",
       " '__gt__',\n",
       " '__hash__',\n",
       " '__init__',\n",
       " '__init_subclass__',\n",
       " '__iter__',\n",
       " '__le__',\n",
       " '__len__',\n",
       " '__lt__',\n",
       " '__mul__',\n",
       " '__ne__',\n",
       " '__new__',\n",
       " '__reduce__',\n",
       " '__reduce_ex__',\n",
       " '__repr__',\n",
       " '__rmul__',\n",
       " '__setattr__',\n",
       " '__sizeof__',\n",
       " '__str__',\n",
       " '__subclasshook__',\n",
       " 'count',\n",
       " 'index']"
      ]
     },
     "execution_count": 73,
     "metadata": {},
     "output_type": "execute_result"
    }
   ],
   "source": [
    "# dir('')\n",
    "# dir([])\n",
    "dir(())"
   ]
  },
  {
   "cell_type": "code",
   "execution_count": null,
   "id": "4a79c64f-b831-4e0d-975a-4d094cc08c42",
   "metadata": {},
   "outputs": [],
   "source": []
  }
 ],
 "metadata": {
  "kernelspec": {
   "display_name": "Python 3 (ipykernel)",
   "language": "python",
   "name": "python3"
  },
  "language_info": {
   "codemirror_mode": {
    "name": "ipython",
    "version": 3
   },
   "file_extension": ".py",
   "mimetype": "text/x-python",
   "name": "python",
   "nbconvert_exporter": "python",
   "pygments_lexer": "ipython3",
   "version": "3.12.4"
  }
 },
 "nbformat": 4,
 "nbformat_minor": 5
}
