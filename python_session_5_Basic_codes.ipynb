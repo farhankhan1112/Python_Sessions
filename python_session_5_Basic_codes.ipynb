{
 "cells": [
  {
   "cell_type": "markdown",
   "id": "163c06d9-f28f-435b-b02e-7dc7e387658e",
   "metadata": {},
   "source": [
    "# Round # "
   ]
  },
  {
   "cell_type": "code",
   "execution_count": 1,
   "id": "77a6d478-8e82-4542-8c8f-7ece9a6422a7",
   "metadata": {},
   "outputs": [
    {
     "data": {
      "text/plain": [
       "35"
      ]
     },
     "execution_count": 1,
     "metadata": {},
     "output_type": "execute_result"
    }
   ],
   "source": [
    "round(34.789)"
   ]
  },
  {
   "cell_type": "code",
   "execution_count": 3,
   "id": "3af6ce0a-3b11-42ac-9e4b-6e0364cd61a4",
   "metadata": {},
   "outputs": [
    {
     "data": {
      "text/plain": [
       "35.8"
      ]
     },
     "execution_count": 3,
     "metadata": {},
     "output_type": "execute_result"
    }
   ],
   "source": [
    "round(35.789,1)   # 7 ko round kerke 8"
   ]
  },
  {
   "cell_type": "code",
   "execution_count": 5,
   "id": "7d926f94-c388-401f-9c42-6a27dc07f4cb",
   "metadata": {},
   "outputs": [
    {
     "data": {
      "text/plain": [
       "35.79"
      ]
     },
     "execution_count": 5,
     "metadata": {},
     "output_type": "execute_result"
    }
   ],
   "source": [
    "round(35.789,2)"
   ]
  },
  {
   "cell_type": "code",
   "execution_count": 7,
   "id": "ba6f25f7-3c68-4a8d-8d25-466ae09eb9ff",
   "metadata": {},
   "outputs": [
    {
     "data": {
      "text/plain": [
       "35.789"
      ]
     },
     "execution_count": 7,
     "metadata": {},
     "output_type": "execute_result"
    }
   ],
   "source": [
    "round(35.789,3)"
   ]
  },
  {
   "cell_type": "code",
   "execution_count": 9,
   "id": "a8668969-16c2-46ef-9e11-017f1ed06ff6",
   "metadata": {},
   "outputs": [
    {
     "name": "stdout",
     "output_type": "stream",
     "text": [
      "the average of 10,20 and 3is 20.0\n",
      "the average of10,20 and 30\n"
     ]
    }
   ],
   "source": [
    "# Q1)\n",
    "\n",
    "n1=10\n",
    "n2=20\n",
    "n3=30\n",
    "avg=(10+20+30)/3\n",
    "avg1=round(avg,2)\n",
    "print(f\"the average of {n1},{n2} and {3}is {avg}\") \n",
    "print(\"the average of{},{} and {}\" .format(n1,n2,n3,avg))"
   ]
  },
  {
   "cell_type": "code",
   "execution_count": 5,
   "id": "eee3f1a8-c27f-4d2c-805e-a4ea58e02e29",
   "metadata": {},
   "outputs": [
    {
     "name": "stdout",
     "output_type": "stream",
     "text": [
      "the average of 10,20 and 3 is : 20.0\n",
      "the average of10,20 and 30\n"
     ]
    }
   ],
   "source": [
    "n1=10\n",
    "n2=20\n",
    "n3=30\n",
    "avg=round((10+20+30)/3,2)\n",
    "print(f\"the average of {n1},{n2} and {3} is : {avg}\") \n",
    "print(\"the average of{},{} and {}\" .format(n1,n2,n3,avg))"
   ]
  },
  {
   "cell_type": "code",
   "execution_count": 7,
   "id": "a9e696a0-f14f-4181-880a-a1c7620d08c7",
   "metadata": {},
   "outputs": [
    {
     "name": "stdout",
     "output_type": "stream",
     "text": [
      "the average of 10,20 and 3 is : 20.0\n",
      "the average of10,20 and 30\n"
     ]
    }
   ],
   "source": [
    "n1=10\n",
    "n2=20\n",
    "n3=30\n",
    "avg=round((n1+n2+n3)/3,2)\n",
    "print(f\"the average of {n1},{n2} and {3} is : {avg}\") \n",
    "print(\"the average of{},{} and {}\" .format(n1,n2,n3,avg))"
   ]
  },
  {
   "cell_type": "code",
   "execution_count": 13,
   "id": "2b55c1d0-6ad2-4d75-8fa9-69edddc48575",
   "metadata": {},
   "outputs": [
    {
     "name": "stdout",
     "output_type": "stream",
     "text": [
      "The area of a right angle traingle having 30,40 is 600.0\n",
      "The area of a right angle traingle having 30,40 is 600.0\n"
     ]
    }
   ],
   "source": [
    "# Q2)\n",
    "\n",
    "# write a programe ask the user take height of the traingle\n",
    "#   breadth of the traingle\n",
    "# calculate the area of the right angle traingle\n",
    "# formula: 1/2*b*h\n",
    "# formula: 1/2*breadth*height\n",
    "\n",
    "breadth=30\n",
    "height=40\n",
    "area=1/2*breadth*height\n",
    "print(f\"The area of a right angle traingle having {breadth},{height} is {area}\")\n",
    "print(\"The area of a right angle traingle having {},{} is {}\".format(breadth,height,area))\n"
   ]
  },
  {
   "cell_type": "code",
   "execution_count": 15,
   "id": "9d99393a-370c-4f19-8a2d-f8f394e82d0a",
   "metadata": {},
   "outputs": [
    {
     "name": "stdout",
     "output_type": "stream",
     "text": [
      "The area of circle having 20 is 1256.0\n",
      "The area of circle having 20 is 1256.0\n"
     ]
    }
   ],
   "source": [
    "# Q3)\n",
    "\n",
    "#write ask the user take the radius of circle\n",
    "#  calculate the area of the circle\n",
    "# formula: pi*r*r  where pi=3.14\n",
    "\n",
    "radius=20\n",
    "pi=3.14\n",
    "area=pi*radius*radius\n",
    "print(f\"The area of circle having {radius} is {area}\")\n",
    "print(\"The area of circle having {} is {}\".format(radius,area))\n"
   ]
  },
  {
   "cell_type": "code",
   "execution_count": 17,
   "id": "6cd9dc8a-9c77-4428-bd6f-7ce2070b8f44",
   "metadata": {},
   "outputs": [
    {
     "name": "stdout",
     "output_type": "stream",
     "text": [
      "The total bill is : 1100.0\n"
     ]
    }
   ],
   "source": [
    "# Q5)\n",
    "\n",
    "# wapp ask the how much bill he wants to pay\n",
    "#        how much tip percentage he wants to give\n",
    "#        calculate the totale bill amount\n",
    "\n",
    "# bill amount=1000\n",
    "# you want give 10% tip =1000*10/100\n",
    "# total bill=1000+100=1100\n",
    "\n",
    "bill_amount=1000\n",
    "tip_percentage=10\n",
    "tip_amount=bill_amount*tip_percentage/100\n",
    "total_bill=bill_amount+tip_amount\n",
    "print(f\"The total bill is : {total_bill}\")"
   ]
  },
  {
   "cell_type": "markdown",
   "id": "80ccff44-3400-459b-b37d-ddbec2c9447a",
   "metadata": {},
   "source": [
    "### Q6) \n",
    "# a story you and dad\n",
    "print(\"Son:  hii dad\")\n",
    "print(\"Dad:  hello beta\")\n",
    "print(\"Dad: your exame result is out\")\n",
    "print(\"Son: yes dad\")\n",
    "print(\"Dad: tell me your percentage\")\n",
    "print(\"Son: dad i will give you marks find percentage\")\n",
    "print(\"Dad: give me your marks\")\n",
    "\n",
    "Telugu=91\n",
    "Hindi=82\n",
    "English=92\n",
    "Science=90\n",
    "Maths=89\n",
    "Social=94\n",
    "\n",
    "percentage = (Telugu+Hindi+English+Science+Maths+Social)/6\n",
    "round_percentage=round(percentage,2)\n",
    "print(f\"Dad : your percentage beta  : {round_percentage} %\")\n",
    "\n"
   ]
  },
  {
   "cell_type": "code",
   "execution_count": 21,
   "id": "8e6e7367-78d6-4f6e-a844-ef7cf27275e6",
   "metadata": {},
   "outputs": [
    {
     "name": "stdout",
     "output_type": "stream",
     "text": [
      "Guy: hello waiter come\n",
      "waiter: how can i help you sir\n",
      "Guy: i want to eat biryani \n",
      "Waiter: ok sir\n",
      "Guy: give me bill\n",
      "Waiter: take your bill\n",
      "Guy: i dont have indian rupees to pay\n",
      "waiter: we will acept only indian rupees\n",
      "Guy: how much in dollars?\n",
      "Waiter: Around...$ 11.904761904761905\n",
      "Waiter: thanks\n"
     ]
    }
   ],
   "source": [
    "# Q7)\n",
    "\n",
    " # guy have only dollar\n",
    "# guy in hotel not have indian rupees o pay\n",
    "\n",
    "print(\"Guy: hello waiter come\")\n",
    "print(\"waiter: how can i help you sir\")\n",
    "print(\"Guy: i want to eat biryani \")\n",
    "print(\"Waiter: ok sir\")\n",
    "print(\"Guy: give me bill\")\n",
    "print(\"Waiter: take your bill\")\n",
    "bill=1000\n",
    "print(\"Guy: i dont have indian rupees to pay\")\n",
    "print(\"waiter: we will acept only indian rupees\")\n",
    "print(\"Guy: how much in dollars?\")\n",
    "\n",
    "one_dollar_in_rupees=84\n",
    "in_dollar=bill/one_dollar_in_rupees\n",
    "print(f\"Waiter: Around...$ {in_dollar}\")\n",
    "print(\"Waiter: thanks\" )\n"
   ]
  },
  {
   "cell_type": "code",
   "execution_count": null,
   "id": "05a8b511-c41e-4b8e-aa36-4618e8e34ccd",
   "metadata": {},
   "outputs": [],
   "source": [
    "\n"
   ]
  }
 ],
 "metadata": {
  "kernelspec": {
   "display_name": "Python 3 (ipykernel)",
   "language": "python",
   "name": "python3"
  },
  "language_info": {
   "codemirror_mode": {
    "name": "ipython",
    "version": 3
   },
   "file_extension": ".py",
   "mimetype": "text/x-python",
   "name": "python",
   "nbconvert_exporter": "python",
   "pygments_lexer": "ipython3",
   "version": "3.12.4"
  }
 },
 "nbformat": 4,
 "nbformat_minor": 5
}
