{
 "cells": [
  {
   "cell_type": "markdown",
   "id": "9393c3a9-99bc-4153-b177-9cf64cfeeeca",
   "metadata": {},
   "source": [
    "- kindly avoid syntax error\n",
    "\n",
    "- bracket are missing\n",
    "\n",
    "- quotes are missing\n",
    "\n",
    "- name error\n",
    "\n",
    "    - black color is the variable\n",
    "\n",
    "    - red color is the string\n",
    "\n",
    "    - greeen color keywords\n",
    "\n",
    "- attribute error , when we call package\n",
    "\n",
    "    random.ram \n",
    "\n",
    "- indentation error : space \n"
   ]
  },
  {
   "cell_type": "markdown",
   "id": "adb4c244-72d0-4d39-aaa2-60a0cf39efc5",
   "metadata": {},
   "source": [
    "- python is a step by step process\n",
    "\n",
    "- if we get error , kernel will not execute the other lines\n",
    "\n",
    "- for example we written 1000lines of code\n",
    "\n",
    "- there is an error at 500 line\n",
    "\n",
    "- then reemaining 500 lines will not execute\n",
    "\n",
    "- but you know that error not a logical error\n",
    "\n",
    "- eventhough we got the error we wants to make sure run our code\n",
    "\n",
    "- second use case: we need to capture the error also"
   ]
  },
  {
   "cell_type": "code",
   "execution_count": 5,
   "id": "0e2cc0f0-faaf-4138-bb0f-0a11717f7ab8",
   "metadata": {},
   "outputs": [
    {
     "name": "stdin",
     "output_type": "stream",
     "text": [
      "Enter the number1 4\n",
      "Enter the number2 2\n"
     ]
    },
    {
     "name": "stdout",
     "output_type": "stream",
     "text": [
      "The division of a and b is : 2.0\n",
      "hello\n"
     ]
    }
   ],
   "source": [
    "a=eval(input(\"Enter the number1\"))\n",
    "b=eval(input(\"Enter the number2\"))\n",
    "print(\"The division of a and b is :\",a/b)\n",
    "print(\"hello\")"
   ]
  },
  {
   "cell_type": "markdown",
   "id": "e5109364-1ca0-417c-997f-2f86a0f13ec3",
   "metadata": {},
   "source": [
    "**try-except**\n",
    "\n",
    "- try and except both are keywords\n",
    "\n",
    "- try block has orignal code\n",
    "\n",
    "- except block is used to capture the error\n",
    "\n",
    "- it is simmiler to if-else\n",
    "\n",
    "- try-except should come together\n",
    "\n",
    "- firdt the code will run in try block, whenever the error occure immediatly it will redirect to block"
   ]
  },
  {
   "cell_type": "code",
   "execution_count": 12,
   "id": "75a6a044-2dad-4c70-8f22-a3470f3c4fc7",
   "metadata": {},
   "outputs": [
    {
     "name": "stdin",
     "output_type": "stream",
     "text": [
      "Enter the number1 4\n",
      "Enter the number2 0\n"
     ]
    },
    {
     "name": "stdout",
     "output_type": "stream",
     "text": [
      "error is comming\n",
      "error is zero division error\n"
     ]
    }
   ],
   "source": [
    "try:\n",
    "    a=eval(input(\"Enter the number1\"))\n",
    "    b=eval(input(\"Enter the number2\"))\n",
    "    print(\"The division of a and b is :\",a/b)\n",
    "    print(\"hello\")\n",
    "\n",
    "\n",
    "except:\n",
    "    print(\"error is comming\")\n",
    "    print(\"error is zero division error\")\n"
   ]
  },
  {
   "cell_type": "code",
   "execution_count": null,
   "id": "a0a9e622-d68a-4c7e-8b46-2d4de7aa6972",
   "metadata": {},
   "outputs": [],
   "source": [
    "# in except bolck we have written hard coding statement\n",
    "# in a particuler code there are many types of error\n",
    "# "
   ]
  },
  {
   "cell_type": "code",
   "execution_count": 22,
   "id": "74e93c21-ec27-48cf-9206-5d97326e83e9",
   "metadata": {},
   "outputs": [
    {
     "name": "stdin",
     "output_type": "stream",
     "text": [
      "Enter the number1 9\n",
      "Enter the number2 0\n"
     ]
    },
    {
     "name": "stdout",
     "output_type": "stream",
     "text": [
      "division by zero\n"
     ]
    }
   ],
   "source": [
    "try:\n",
    "    a=eval(input(\"Enter the number1\"))\n",
    "    b=eval(input(\"Enter the number2\"))\n",
    "    print(\"The division of a and b is :\",a/b)\n",
    "    print(\"hello\")\n",
    "\n",
    "\n",
    "except Exception as e:\n",
    "    print(e)\n",
    " "
   ]
  },
  {
   "cell_type": "markdown",
   "id": "2fd52d28-85b6-4681-9475-6e5ca2e8fddc",
   "metadata": {},
   "source": [
    "**case-1: Miss the brackets**"
   ]
  },
  {
   "cell_type": "code",
   "execution_count": 26,
   "id": "a4958130-6a1c-41c8-93b4-bb7401e57938",
   "metadata": {},
   "outputs": [
    {
     "ename": "SyntaxError",
     "evalue": "'(' was never closed (2220378628.py, line 2)",
     "output_type": "error",
     "traceback": [
      "\u001b[1;36m  Cell \u001b[1;32mIn[26], line 2\u001b[1;36m\u001b[0m\n\u001b[1;33m    a=eval(input(\"Enter the number1\")\u001b[0m\n\u001b[1;37m          ^\u001b[0m\n\u001b[1;31mSyntaxError\u001b[0m\u001b[1;31m:\u001b[0m '(' was never closed\n"
     ]
    }
   ],
   "source": [
    "try:\n",
    "    a=eval(input(\"Enter the number1\")\n",
    "    b=eval(input(\"Enter the number2\"))\n",
    "    print(\"The division of a and b is :\",a/b)\n",
    "    print(\"hello\")\n",
    "\n",
    "\n",
    "except:\n",
    "    print(\"error is comming\")\n",
    "    print(\"error is zero division error\")"
   ]
  },
  {
   "cell_type": "markdown",
   "id": "45778a77-344d-4cc5-b21a-8e769dd70f08",
   "metadata": {},
   "source": [
    "**case-2: Mis the quotes**"
   ]
  },
  {
   "cell_type": "code",
   "execution_count": 33,
   "id": "e811f75e-782c-4afa-9591-9c75feb62928",
   "metadata": {},
   "outputs": [
    {
     "ename": "SyntaxError",
     "evalue": "unterminated string literal (detected at line 2) (1474032522.py, line 2)",
     "output_type": "error",
     "traceback": [
      "\u001b[1;36m  Cell \u001b[1;32mIn[33], line 2\u001b[1;36m\u001b[0m\n\u001b[1;33m    a=eval(input(\"Enter the number1))\u001b[0m\n\u001b[1;37m                 ^\u001b[0m\n\u001b[1;31mSyntaxError\u001b[0m\u001b[1;31m:\u001b[0m unterminated string literal (detected at line 2)\n"
     ]
    }
   ],
   "source": [
    "try:\n",
    "    a=eval(input(\"Enter the number1))\n",
    "    b=eval(input(\"Enter the number2\"))\n",
    "    print(\"The division of a and b is :\",a/b)\n",
    "    print(\"hello\")\n",
    "\n",
    "\n",
    "except:\n",
    "    print(\"error is comming\")\n",
    "    print(\"error is zero division error\")"
   ]
  },
  {
   "cell_type": "markdown",
   "id": "1084b7b6-2bb2-4dbe-9249-3e95cce3d6a3",
   "metadata": {},
   "source": [
    "**case-3**"
   ]
  },
  {
   "cell_type": "code",
   "execution_count": null,
   "id": "e0e3c301-e8f9-4df1-b38a-6aa44319ce7a",
   "metadata": {},
   "outputs": [],
   "source": [
    "# do the even-odd programe by taking random \n",
    "\n",
    "import random\n",
    "num=random.randint(1,100)\n",
    "if num%2==0:\n",
    "    print('even number')\n",
    "else:\n",
    "    print(' odd')"
   ]
  },
  {
   "cell_type": "code",
   "execution_count": 5,
   "id": "5f8aed71-e6dd-4291-921c-79913e52494a",
   "metadata": {},
   "outputs": [
    {
     "name": "stdout",
     "output_type": "stream",
     "text": [
      " odd\n"
     ]
    }
   ],
   "source": [
    "try:\n",
    "    import random\n",
    "    num=random.randint(1,100)\n",
    "    if num%2==0:\n",
    "        print('even number')\n",
    "    else:\n",
    "        print(' odd')\n",
    "\n",
    "except:\n",
    "    print('enter valid number')\n",
    "    \n",
    "                                        "
   ]
  },
  {
   "cell_type": "code",
   "execution_count": null,
   "id": "81937597-d581-4c70-b72b-a237c7f324c5",
   "metadata": {},
   "outputs": [],
   "source": [
    "# home work\n",
    "\n",
    "try:\n",
    "\n",
    "except:\n",
    "\n",
    "finally:"
   ]
  }
 ],
 "metadata": {
  "kernelspec": {
   "display_name": "Python 3 (ipykernel)",
   "language": "python",
   "name": "python3"
  },
  "language_info": {
   "codemirror_mode": {
    "name": "ipython",
    "version": 3
   },
   "file_extension": ".py",
   "mimetype": "text/x-python",
   "name": "python",
   "nbconvert_exporter": "python",
   "pygments_lexer": "ipython3",
   "version": "3.12.4"
  }
 },
 "nbformat": 4,
 "nbformat_minor": 5
}
