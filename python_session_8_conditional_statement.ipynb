{
 "cells": [
  {
   "cell_type": "code",
   "execution_count": null,
   "id": "76456896-318d-4e7d-980b-13f0a6902d05",
   "metadata": {},
   "outputs": [],
   "source": [
    "# step-1: import package name\n",
    "# step-2: dir(packagename) ======  All the methods\n",
    "# step-3: you can pick method\n",
    "#        help(package_name.methodname)\n",
    "# step-4: package_name.method_name\n",
    "\n",
    "        # for constant no brackets\n",
    "        # for not a constants we need to use brackets\n",
    "        #      inside brackets do you need to provide"
   ]
  },
  {
   "cell_type": "code",
   "execution_count": 1,
   "id": "c72ac931-5f7c-4b2b-a09a-7f59175be51c",
   "metadata": {},
   "outputs": [],
   "source": [
    "import random"
   ]
  },
  {
   "cell_type": "code",
   "execution_count": 3,
   "id": "6f50f3d7-e5a0-447d-bc71-de609846ca2a",
   "metadata": {},
   "outputs": [
    {
     "data": {
      "text/plain": [
       "<bound method Random.randint of <random.Random object at 0x000001E049F685C0>>"
      ]
     },
     "execution_count": 3,
     "metadata": {},
     "output_type": "execute_result"
    }
   ],
   "source": [
    "random.randint"
   ]
  },
  {
   "cell_type": "markdown",
   "id": "6c2706f1-b0d1-4fdc-bde8-14bf4ccacbb0",
   "metadata": {},
   "source": [
    "**bound method means provide the brackets**"
   ]
  },
  {
   "cell_type": "code",
   "execution_count": 19,
   "id": "ff461a8f-9fdb-43c3-adb8-95cb98ff9acc",
   "metadata": {},
   "outputs": [
    {
     "data": {
      "text/plain": [
       "6"
      ]
     },
     "execution_count": 19,
     "metadata": {},
     "output_type": "execute_result"
    }
   ],
   "source": [
    "random.randint(1,10)\n",
    "\n",
    "# take the curser inside the brackets\n",
    "# apply shift+tab  at a time"
   ]
  },
  {
   "cell_type": "code",
   "execution_count": 12,
   "id": "4411f309-c1d2-4f0c-9e2e-3f71100a826d",
   "metadata": {},
   "outputs": [
    {
     "data": {
      "text/plain": [
       "<function Random.random()>"
      ]
     },
     "execution_count": 12,
     "metadata": {},
     "output_type": "execute_result"
    }
   ],
   "source": [
    "random.random"
   ]
  },
  {
   "cell_type": "markdown",
   "id": "130a2951-8021-4ff4-be80-45c57ed0085f",
   "metadata": {},
   "source": [
    "**fuction also means provide a brackets**"
   ]
  },
  {
   "cell_type": "code",
   "execution_count": 17,
   "id": "c68e93ca-b20d-4714-af7e-6f2dfc5fec15",
   "metadata": {},
   "outputs": [
    {
     "data": {
      "text/plain": [
       "0.847887398035985"
      ]
     },
     "execution_count": 17,
     "metadata": {},
     "output_type": "execute_result"
    }
   ],
   "source": [
    "random.random()"
   ]
  },
  {
   "cell_type": "code",
   "execution_count": 23,
   "id": "cb8eeeb3-267b-4e44-9fde-d969d6401f39",
   "metadata": {},
   "outputs": [
    {
     "data": {
      "text/plain": [
       "2.718281828459045"
      ]
     },
     "execution_count": 23,
     "metadata": {},
     "output_type": "execute_result"
    }
   ],
   "source": [
    "import math\n",
    "math.e"
   ]
  },
  {
   "cell_type": "markdown",
   "id": "ee83d5e7-744b-4cf0-a81f-3e3bb7b0edfe",
   "metadata": {},
   "source": [
    "**constant does nt required brackets**\n",
    "\n",
    "- import the package\n",
    "\n",
    "- call the method\n",
    "\n",
    "- dont give the brackets\n",
    "\n",
    "     - bound method or function\n",
    "      - then give the brackets\n",
    "\n",
    "    - after give the brackets take your curdor inside the brackets apply shift+tab"
   ]
  },
  {
   "cell_type": "code",
   "execution_count": 26,
   "id": "23cfc22f-c208-48d4-810e-c3deaef97490",
   "metadata": {},
   "outputs": [],
   "source": [
    "import math"
   ]
  },
  {
   "cell_type": "code",
   "execution_count": 28,
   "id": "3407c5a7-1579-4924-a4e4-3e21a09201a3",
   "metadata": {},
   "outputs": [
    {
     "ename": "TypeError",
     "evalue": "pow expected 2 arguments, got 0",
     "output_type": "error",
     "traceback": [
      "\u001b[1;31m---------------------------------------------------------------------------\u001b[0m",
      "\u001b[1;31mTypeError\u001b[0m                                 Traceback (most recent call last)",
      "Cell \u001b[1;32mIn[28], line 1\u001b[0m\n\u001b[1;32m----> 1\u001b[0m math\u001b[38;5;241m.\u001b[39mpow()\n",
      "\u001b[1;31mTypeError\u001b[0m: pow expected 2 arguments, got 0"
     ]
    }
   ],
   "source": [
    "math.pow()"
   ]
  },
  {
   "cell_type": "code",
   "execution_count": 32,
   "id": "dd0c4547-fcf3-4535-a40a-5eee1d0a594b",
   "metadata": {},
   "outputs": [
    {
     "data": {
      "text/plain": [
       "16.0"
      ]
     },
     "execution_count": 32,
     "metadata": {},
     "output_type": "execute_result"
    }
   ],
   "source": [
    "math.pow(2,4)"
   ]
  },
  {
   "cell_type": "code",
   "execution_count": 34,
   "id": "f58da12b-4606-4efe-a0cf-82fdce3ecb22",
   "metadata": {},
   "outputs": [
    {
     "data": {
      "text/plain": [
       "<function Random.random()>"
      ]
     },
     "execution_count": 34,
     "metadata": {},
     "output_type": "execute_result"
    }
   ],
   "source": [
    "random.random"
   ]
  },
  {
   "cell_type": "markdown",
   "id": "8477dc77-c779-4a1f-8301-c5646054355f",
   "metadata": {},
   "source": [
    "**How to install the packages**"
   ]
  },
  {
   "cell_type": "code",
   "execution_count": 37,
   "id": "54ab8834-4bbd-47ec-82b9-18bcb6bcb6f7",
   "metadata": {},
   "outputs": [],
   "source": [
    "# package name: cv2          # for image read computer vision\n",
    "\n",
    "# package name: streamlit    # creating applications\n",
    "\n",
    "# package name: flask        # flask for API testing\n"
   ]
  },
  {
   "cell_type": "markdown",
   "id": "4c4ebe57-13d0-46b0-bab0-78d01d444082",
   "metadata": {},
   "source": [
    "- to install paackages we need terminal\n",
    "\n",
    "- in our laptop : **Anaconda prompt**\n",
    "\n",
    "-  all the installation will ude only one command\n",
    "\n",
    "   - pip install packagename\n",
    "- some times the import package name and installation package name might be diferent\n",
    "\n",
    "- 90% both name are same "
   ]
  },
  {
   "cell_type": "code",
   "execution_count": 56,
   "id": "084aa82e-136c-40e2-abc0-f8bfecb79279",
   "metadata": {},
   "outputs": [],
   "source": [
    "import cv2\n",
    "\n"
   ]
  },
  {
   "cell_type": "markdown",
   "id": "802fd705-38f8-4374-8321-d5ba1128971f",
   "metadata": {},
   "source": [
    "                                 **Installed in Anaconda prompt**\n",
    "pip install opencv-python\n",
    "\n",
    "pip install streamlit\n",
    "\n",
    "pip install tensorflow\n"
   ]
  },
  {
   "cell_type": "code",
   "execution_count": null,
   "id": "0c847f4d-c5fb-425c-a7c1-2cd21bb47ac8",
   "metadata": {},
   "outputs": [],
   "source": [
    "# in the google : type install cv2\n",
    "\n",
    "pip install opencv-python"
   ]
  },
  {
   "cell_type": "code",
   "execution_count": 48,
   "id": "d297c0ab-ae3e-484b-aa45-ba50079354ba",
   "metadata": {},
   "outputs": [],
   "source": [
    "import cv2"
   ]
  },
  {
   "cell_type": "code",
   "execution_count": 54,
   "id": "89acbc0c-5612-4cfb-9f76-a502ad9fa810",
   "metadata": {},
   "outputs": [],
   "source": [
    "import streamlit"
   ]
  },
  {
   "cell_type": "code",
   "execution_count": 62,
   "id": "e7863071-3d88-40a2-b5dc-abc9ccdea2da",
   "metadata": {},
   "outputs": [],
   "source": [
    "import flask"
   ]
  },
  {
   "cell_type": "markdown",
   "id": "dd1198c5-cfbf-4c6c-84cb-795e9e35ed41",
   "metadata": {},
   "source": [
    "**Method-2**\n",
    "\n",
    "- we can install package in the notebook it self\n",
    "\n",
    "- the only differece is add ! before pip"
   ]
  },
  {
   "cell_type": "code",
   "execution_count": 66,
   "id": "f8f4e644-03c0-4e82-82ad-734fdca869a0",
   "metadata": {},
   "outputs": [
    {
     "name": "stdout",
     "output_type": "stream",
     "text": [
      "Requirement already satisfied: opencv-python in c:\\users\\asef\\anaconda3\\lib\\site-packages (4.10.0.84)\n",
      "Requirement already satisfied: numpy>=1.21.2 in c:\\users\\asef\\anaconda3\\lib\\site-packages (from opencv-python) (1.26.4)\n"
     ]
    }
   ],
   "source": [
    "!pip install opencv-python"
   ]
  },
  {
   "cell_type": "markdown",
   "id": "00004a2e-0797-46c8-9a45-8ab23dc9412b",
   "metadata": {},
   "source": [
    "- those who are installed\n",
    "\n",
    "- but still showing the error\n",
    "\n",
    "- close it and open it"
   ]
  },
  {
   "cell_type": "code",
   "execution_count": null,
   "id": "9a047d3a-e5ac-44b9-9049-a67c19e588dc",
   "metadata": {},
   "outputs": [],
   "source": [
    "# package name: tensorflow is devlope by google"
   ]
  },
  {
   "cell_type": "code",
   "execution_count": 70,
   "id": "3c47f32c-3d52-4767-9334-73285a10b389",
   "metadata": {},
   "outputs": [],
   "source": [
    "import tensorflow"
   ]
  },
  {
   "cell_type": "code",
   "execution_count": 72,
   "id": "c68bc6f7-0cd1-40b3-ab68-a8cba7a7a56a",
   "metadata": {},
   "outputs": [
    {
     "ename": "TypeError",
     "evalue": "eval() arg 1 must be a string, bytes or code object",
     "output_type": "error",
     "traceback": [
      "\u001b[1;31m---------------------------------------------------------------------------\u001b[0m",
      "\u001b[1;31mTypeError\u001b[0m                                 Traceback (most recent call last)",
      "Cell \u001b[1;32mIn[72], line 1\u001b[0m\n\u001b[1;32m----> 1\u001b[0m \u001b[38;5;28meval\u001b[39m(math\u001b[38;5;241m.\u001b[39mpi)\n",
      "\u001b[1;31mTypeError\u001b[0m: eval() arg 1 must be a string, bytes or code object"
     ]
    }
   ],
   "source": [
    "eval(math.pi)"
   ]
  },
  {
   "cell_type": "code",
   "execution_count": 74,
   "id": "ec00e0ba-4375-4164-9457-ec37805398dd",
   "metadata": {},
   "outputs": [
    {
     "name": "stdin",
     "output_type": "stream",
     "text": [
      " 3.1456\n"
     ]
    },
    {
     "data": {
      "text/plain": [
       "3.1456"
      ]
     },
     "execution_count": 74,
     "metadata": {},
     "output_type": "execute_result"
    }
   ],
   "source": [
    "eval(input())\n",
    "\n",
    "# eval('3.1456')"
   ]
  },
  {
   "cell_type": "code",
   "execution_count": 76,
   "id": "7273dda8-a0b8-4cba-ad9b-5e6fc1fdf741",
   "metadata": {},
   "outputs": [
    {
     "data": {
      "text/plain": [
       "3.1456"
      ]
     },
     "execution_count": 76,
     "metadata": {},
     "output_type": "execute_result"
    }
   ],
   "source": [
    "eval('3.1456')"
   ]
  },
  {
   "cell_type": "code",
   "execution_count": 78,
   "id": "9384351d-95a9-40af-919e-2fa88eb557db",
   "metadata": {},
   "outputs": [
    {
     "ename": "TypeError",
     "evalue": "eval expected at least 1 argument, got 0",
     "output_type": "error",
     "traceback": [
      "\u001b[1;31m---------------------------------------------------------------------------\u001b[0m",
      "\u001b[1;31mTypeError\u001b[0m                                 Traceback (most recent call last)",
      "Cell \u001b[1;32mIn[78], line 1\u001b[0m\n\u001b[1;32m----> 1\u001b[0m \u001b[38;5;28meval\u001b[39m()\n",
      "\u001b[1;31mTypeError\u001b[0m: eval expected at least 1 argument, got 0"
     ]
    }
   ],
   "source": [
    "eval()"
   ]
  },
  {
   "cell_type": "code",
   "execution_count": 80,
   "id": "0100e5ae-7072-4915-b9b2-b71279cc77ed",
   "metadata": {},
   "outputs": [
    {
     "ename": "TypeError",
     "evalue": "eval() arg 1 must be a string, bytes or code object",
     "output_type": "error",
     "traceback": [
      "\u001b[1;31m---------------------------------------------------------------------------\u001b[0m",
      "\u001b[1;31mTypeError\u001b[0m                                 Traceback (most recent call last)",
      "Cell \u001b[1;32mIn[80], line 1\u001b[0m\n\u001b[1;32m----> 1\u001b[0m \u001b[38;5;28meval\u001b[39m(\u001b[38;5;241m10\u001b[39m)\n",
      "\u001b[1;31mTypeError\u001b[0m: eval() arg 1 must be a string, bytes or code object"
     ]
    }
   ],
   "source": [
    "eval(10)"
   ]
  },
  {
   "cell_type": "code",
   "execution_count": 82,
   "id": "d76669ef-83ba-4d07-8553-e68847dfc3e9",
   "metadata": {},
   "outputs": [
    {
     "ename": "NameError",
     "evalue": "name 'ten' is not defined",
     "output_type": "error",
     "traceback": [
      "\u001b[1;31m---------------------------------------------------------------------------\u001b[0m",
      "\u001b[1;31mNameError\u001b[0m                                 Traceback (most recent call last)",
      "Cell \u001b[1;32mIn[82], line 1\u001b[0m\n\u001b[1;32m----> 1\u001b[0m \u001b[38;5;28meval\u001b[39m(\u001b[38;5;124m'\u001b[39m\u001b[38;5;124mten\u001b[39m\u001b[38;5;124m'\u001b[39m)\n",
      "File \u001b[1;32m<string>:1\u001b[0m\n",
      "\u001b[1;31mNameError\u001b[0m: name 'ten' is not defined"
     ]
    }
   ],
   "source": [
    "eval('ten')"
   ]
  },
  {
   "cell_type": "code",
   "execution_count": null,
   "id": "2aadbb8a-25c4-4085-96d5-b6a3e8e4571b",
   "metadata": {},
   "outputs": [],
   "source": [
    "eval\n",
    "eval()\n",
    "eval(10)\n",
    "eval('ten')\n",
    "eval('10')"
   ]
  },
  {
   "cell_type": "code",
   "execution_count": 84,
   "id": "8807ecb1-bcb2-4b3d-ba1a-5e6e5a6c7f73",
   "metadata": {},
   "outputs": [
    {
     "data": {
      "text/plain": [
       "10"
      ]
     },
     "execution_count": 84,
     "metadata": {},
     "output_type": "execute_result"
    }
   ],
   "source": [
    "eval('10')"
   ]
  },
  {
   "cell_type": "code",
   "execution_count": null,
   "id": "783cb919-4589-4367-917c-357d5df54d94",
   "metadata": {},
   "outputs": [],
   "source": [
    "# package name: keyword"
   ]
  },
  {
   "cell_type": "code",
   "execution_count": 1,
   "id": "2122805d-f067-4e70-a91b-53efaf297390",
   "metadata": {},
   "outputs": [],
   "source": [
    "import keyword"
   ]
  },
  {
   "cell_type": "code",
   "execution_count": 3,
   "id": "1077493f-6044-46fe-89d9-e901d6d74e52",
   "metadata": {},
   "outputs": [
    {
     "data": {
      "text/plain": [
       "['False',\n",
       " 'None',\n",
       " 'True',\n",
       " 'and',\n",
       " 'as',\n",
       " 'assert',\n",
       " 'async',\n",
       " 'await',\n",
       " 'break',\n",
       " 'class',\n",
       " 'continue',\n",
       " 'def',\n",
       " 'del',\n",
       " 'elif',\n",
       " 'else',\n",
       " 'except',\n",
       " 'finally',\n",
       " 'for',\n",
       " 'from',\n",
       " 'global',\n",
       " 'if',\n",
       " 'import',\n",
       " 'in',\n",
       " 'is',\n",
       " 'lambda',\n",
       " 'nonlocal',\n",
       " 'not',\n",
       " 'or',\n",
       " 'pass',\n",
       " 'raise',\n",
       " 'return',\n",
       " 'try',\n",
       " 'while',\n",
       " 'with',\n",
       " 'yield']"
      ]
     },
     "execution_count": 3,
     "metadata": {},
     "output_type": "execute_result"
    }
   ],
   "source": [
    "keyword.kwlist"
   ]
  },
  {
   "cell_type": "code",
   "execution_count": 5,
   "id": "6a8cebcf-bde1-4ff4-a191-39460fcc3ee8",
   "metadata": {},
   "outputs": [
    {
     "data": {
      "text/plain": [
       "35"
      ]
     },
     "execution_count": 5,
     "metadata": {},
     "output_type": "execute_result"
    }
   ],
   "source": [
    "len(keyword.kwlist)"
   ]
  },
  {
   "cell_type": "code",
   "execution_count": null,
   "id": "c7a86f24-9cc1-4a78-8978-54ebf85c020a",
   "metadata": {},
   "outputs": [],
   "source": [
    "True\n",
    "False\n",
    "if\n",
    "else\n",
    "elif\n",
    "while\n",
    "as\n"
   ]
  }
 ],
 "metadata": {
  "kernelspec": {
   "display_name": "Python 3 (ipykernel)",
   "language": "python",
   "name": "python3"
  },
  "language_info": {
   "codemirror_mode": {
    "name": "ipython",
    "version": 3
   },
   "file_extension": ".py",
   "mimetype": "text/x-python",
   "name": "python",
   "nbconvert_exporter": "python",
   "pygments_lexer": "ipython3",
   "version": "3.12.4"
  }
 },
 "nbformat": 4,
 "nbformat_minor": 5
}
