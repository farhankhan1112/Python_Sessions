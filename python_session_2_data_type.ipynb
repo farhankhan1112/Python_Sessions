{
 "cells": [
  {
   "cell_type": "markdown",
   "id": "dcf9289e-c988-4eea-afbc-3326a7166b2e",
   "metadata": {},
   "source": [
    "# octa "
   ]
  },
  {
   "cell_type": "markdown",
   "id": "e8a2a5ec-d35e-4746-9911-ca79021b9461",
   "metadata": {},
   "source": [
    "- octa means 8\n",
    "- we have total 0 to 9 digit to represent any number: 0,1,2,3,4,5,6,7,8,9\n",
    "- from ther we will take only starting 8 digits \n",
    "- "
   ]
  },
  {
   "cell_type": "code",
   "execution_count": 16,
   "id": "b4e4a9f4-af5c-414a-a7dc-a4a8aed1d922",
   "metadata": {},
   "outputs": [
    {
     "data": {
      "text/plain": [
       "83"
      ]
     },
     "execution_count": 16,
     "metadata": {},
     "output_type": "execute_result"
    }
   ],
   "source": [
    "0o123"
   ]
  },
  {
   "cell_type": "code",
   "execution_count": 18,
   "id": "92f5d90c-af83-4e0f-86f5-1c968327acab",
   "metadata": {},
   "outputs": [
    {
     "data": {
      "text/plain": [
       "4102"
      ]
     },
     "execution_count": 18,
     "metadata": {},
     "output_type": "execute_result"
    }
   ],
   "source": [
    "0o10006"
   ]
  },
  {
   "cell_type": "markdown",
   "id": "1c511c6f-ef7a-4303-aa83-650273b69bd1",
   "metadata": {},
   "source": [
    "# hexa "
   ]
  },
  {
   "cell_type": "markdown",
   "id": "5f561c28-f6d3-4e9b-b23b-98f05b36e8c4",
   "metadata": {},
   "source": [
    "- hexa means 16 \n",
    "- after we will use A to F \n",
    "  A:10, B:11, C:12, D:13, E:14, F:15\n"
   ]
  },
  {
   "cell_type": "code",
   "execution_count": 24,
   "id": "0ad7d4ef-7e45-4d96-94e1-d384cd675a0b",
   "metadata": {},
   "outputs": [
    {
     "data": {
      "text/plain": [
       "291"
      ]
     },
     "execution_count": 24,
     "metadata": {},
     "output_type": "execute_result"
    }
   ],
   "source": [
    "0x123"
   ]
  },
  {
   "cell_type": "code",
   "execution_count": 26,
   "id": "75d54c34-02c9-449b-bbdb-76c4240e197c",
   "metadata": {},
   "outputs": [
    {
     "data": {
      "text/plain": [
       "2748"
      ]
     },
     "execution_count": 26,
     "metadata": {},
     "output_type": "execute_result"
    }
   ],
   "source": [
    "0xABC"
   ]
  },
  {
   "cell_type": "markdown",
   "id": "24e6993c-d1d6-4f5a-a579-d39a8da10f06",
   "metadata": {},
   "source": [
    "# float "
   ]
  },
  {
   "cell_type": "markdown",
   "id": "ea0866ec-228a-4638-993e-97aa4b362d43",
   "metadata": {},
   "source": [
    "- float contains point ( i.e 1.3 )\n"
   ]
  },
  {
   "cell_type": "code",
   "execution_count": 32,
   "id": "25ac7890-9d1c-4aec-88a3-d2ab2798cd83",
   "metadata": {},
   "outputs": [
    {
     "data": {
      "text/plain": [
       "float"
      ]
     },
     "execution_count": 32,
     "metadata": {},
     "output_type": "execute_result"
    }
   ],
   "source": [
    "num=10.5\n",
    "type(num)"
   ]
  },
  {
   "cell_type": "code",
   "execution_count": 34,
   "id": "6405e1cf-d2fa-4e8c-8f40-4187beb244ed",
   "metadata": {},
   "outputs": [
    {
     "data": {
      "text/plain": [
       "(int, float)"
      ]
     },
     "execution_count": 34,
     "metadata": {},
     "output_type": "execute_result"
    }
   ],
   "source": [
    "type(10),type(1.5)"
   ]
  },
  {
   "cell_type": "markdown",
   "id": "4b4d8655-fb71-4c91-8131-21e253f9d132",
   "metadata": {},
   "source": [
    "# string  "
   ]
  },
  {
   "cell_type": "markdown",
   "id": "585f6455-6953-41af-bd25-014d404f1fb8",
   "metadata": {},
   "source": [
    " - represent english character \n",
    "- string represent with quots\n",
    "     - single quots\n",
    "     - double quots\n",
    "     - triple quots\n"
   ]
  },
  {
   "cell_type": "code",
   "execution_count": 41,
   "id": "3056b82f-1ef3-428a-a996-b2db39ba6113",
   "metadata": {},
   "outputs": [
    {
     "data": {
      "text/plain": [
       "'python'"
      ]
     },
     "execution_count": 41,
     "metadata": {},
     "output_type": "execute_result"
    }
   ],
   "source": [
    "str1='python'     # single quots\n",
    "str1"
   ]
  },
  {
   "cell_type": "code",
   "execution_count": 43,
   "id": "4590ae2f-2eaf-42ea-b8fb-b8e637ce3224",
   "metadata": {},
   "outputs": [
    {
     "data": {
      "text/plain": [
       "' python'"
      ]
     },
     "execution_count": 43,
     "metadata": {},
     "output_type": "execute_result"
    }
   ],
   "source": [
    "str2=\" python\"   # double quots\n",
    "str2"
   ]
  },
  {
   "cell_type": "code",
   "execution_count": 1,
   "id": "e1a06615-4cca-4aff-b0ba-9e09d7b54999",
   "metadata": {},
   "outputs": [
    {
     "data": {
      "text/plain": [
       "'ok'"
      ]
     },
     "execution_count": 1,
     "metadata": {},
     "output_type": "execute_result"
    }
   ],
   "source": [
    "str3='ok'\n",
    "str3\n",
    "\n"
   ]
  },
  {
   "cell_type": "code",
   "execution_count": 3,
   "id": "2f6654e5-26c2-4185-aeef-26b86a201bba",
   "metadata": {},
   "outputs": [
    {
     "data": {
      "text/plain": [
       "'ok'"
      ]
     },
     "execution_count": 3,
     "metadata": {},
     "output_type": "execute_result"
    }
   ],
   "source": [
    "str4=\"ok\"\n",
    "str4"
   ]
  },
  {
   "cell_type": "code",
   "execution_count": 49,
   "id": "476175a5-bc80-4b5d-bf6b-2e427a13bdd8",
   "metadata": {},
   "outputs": [],
   "source": [
    "sre3=\"\"\"hai\n",
    "       how are you\n",
    "       iam good\"\"\" "
   ]
  },
  {
   "cell_type": "markdown",
   "id": "10206dda-87ae-4167-b0d3-c9b2d4aa6421",
   "metadata": {},
   "source": [
    "# boolean "
   ]
  },
  {
   "cell_type": "markdown",
   "id": "7c231d04-fa85-4579-81c9-e15987e1a3ba",
   "metadata": {},
   "source": [
    "- computer take the value in binary formate ( 1,o )\n",
    "- computer gives the answer in bolean formate\n",
    "        -true\n",
    "        -false"
   ]
  },
  {
   "cell_type": "code",
   "execution_count": 57,
   "id": "30f516c5-9af0-4b7d-bb9a-d73f697f1671",
   "metadata": {},
   "outputs": [
    {
     "data": {
      "text/plain": [
       "bool"
      ]
     },
     "execution_count": 57,
     "metadata": {},
     "output_type": "execute_result"
    }
   ],
   "source": [
    "val=True\n",
    "type(val)"
   ]
  },
  {
   "cell_type": "code",
   "execution_count": 4,
   "id": "21ff33c8-b31f-491e-8974-24b21823880a",
   "metadata": {},
   "outputs": [
    {
     "data": {
      "text/plain": [
       "bool"
      ]
     },
     "execution_count": 4,
     "metadata": {},
     "output_type": "execute_result"
    }
   ],
   "source": [
    "val2=False\n",
    "type(val2)"
   ]
  },
  {
   "cell_type": "code",
   "execution_count": null,
   "id": "7e97be1a-598b-41db-832c-456c259e0e6d",
   "metadata": {},
   "outputs": [],
   "source": []
  }
 ],
 "metadata": {
  "kernelspec": {
   "display_name": "Python 3 (ipykernel)",
   "language": "python",
   "name": "python3"
  },
  "language_info": {
   "codemirror_mode": {
    "name": "ipython",
    "version": 3
   },
   "file_extension": ".py",
   "mimetype": "text/x-python",
   "name": "python",
   "nbconvert_exporter": "python",
   "pygments_lexer": "ipython3",
   "version": "3.12.4"
  }
 },
 "nbformat": 4,
 "nbformat_minor": 5
}
