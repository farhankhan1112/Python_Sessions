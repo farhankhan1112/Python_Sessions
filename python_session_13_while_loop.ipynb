{
 "cells": [
  {
   "cell_type": "markdown",
   "id": "9ad901a3-e6d9-40fe-87b6-c524d827e53b",
   "metadata": {},
   "source": [
    "# while loop \n",
    "\n",
    "- We already know that any loop we required three things\n",
    "\n",
    "- Initilization to start the loop\n",
    "\n",
    "- Increment or decrement\n",
    "\n",
    "- Condition to stop the loop"
   ]
  },
  {
   "cell_type": "code",
   "execution_count": 2,
   "id": "dcbff012-131b-4419-a508-4353eed03714",
   "metadata": {},
   "outputs": [
    {
     "name": "stdout",
     "output_type": "stream",
     "text": [
      "0\n",
      "1\n",
      "2\n",
      "3\n",
      "4\n"
     ]
    }
   ],
   "source": [
    "for i in range(5):\n",
    "    print(i)\n",
    "\n",
    "# i=0  i +1   i= 5-1=4\n",
    "\n",
    "# here i starts with 0 increment by 1\n"
   ]
  },
  {
   "cell_type": "markdown",
   "id": "7da8d37d-8a84-4552-94f7-ad4d2c74ac58",
   "metadata": {},
   "source": [
    "- in for loop all 3 things in a ssingle line\n",
    "\n",
    "- but in while loop we need to write a 3 lines\n",
    "\n",
    "- It is like wrapper"
   ]
  },
  {
   "cell_type": "code",
   "execution_count": 4,
   "id": "f96103a6-37bc-4bda-abd8-c1b6ccc4318c",
   "metadata": {},
   "outputs": [
    {
     "ename": "SyntaxError",
     "evalue": "invalid syntax (1709718742.py, line 3)",
     "output_type": "error",
     "traceback": [
      "\u001b[1;36m  Cell \u001b[1;32mIn[4], line 3\u001b[1;36m\u001b[0m\n\u001b[1;33m    while <condition>:\u001b[0m\n\u001b[1;37m          ^\u001b[0m\n\u001b[1;31mSyntaxError\u001b[0m\u001b[1;31m:\u001b[0m invalid syntax\n"
     ]
    }
   ],
   "source": [
    "initial_point=value\n",
    "\n",
    "while <condition>:\n",
    "    # write your lines\n",
    "    increment or decrement"
   ]
  },
  {
   "cell_type": "code",
   "execution_count": null,
   "id": "c9dd849b-6d7e-42e1-b081-7035db61dec6",
   "metadata": {},
   "outputs": [],
   "source": [
    "\n",
    "i=0\n",
    "while <cond>:\n",
    "    i=i+1"
   ]
  },
  {
   "cell_type": "code",
   "execution_count": null,
   "id": "e2490798-4136-4c65-b236-fa0c96106308",
   "metadata": {},
   "outputs": [],
   "source": [
    "# 0 1 2 3 4 \n",
    "i=0\n",
    "while i<5:\n",
    "    print(i,end=' ')\n",
    "    i=i+1\n",
    "\n",
    "\n",
    "# step-1: i=0 ===> while 0<5 T == print(0) === i=0+1=1\n",
    "# step-2: i=1 ===> while 1<5 T == print(1) === i=1+1=2\n",
    "# step-3: i=2 ===> while 2<5 T == print(2) === i=2+1=3\n",
    "# step-3: i=3 ===> while 3<5 T == print(3) === i=3+1=4"
   ]
  },
  {
   "cell_type": "code",
   "execution_count": null,
   "id": "227999da-3d1f-4b03-aacb-c27696803427",
   "metadata": {},
   "outputs": [],
   "source": [
    "i=0\n",
    "while i<=4:\n",
    "    print(i,end=' ')\n",
    "    i=i+1"
   ]
  },
  {
   "cell_type": "code",
   "execution_count": null,
   "id": "615ac408-eb05-4117-869e-43e903956658",
   "metadata": {},
   "outputs": [],
   "source": [
    "# 1 to 10\n",
    "# -1 to -10\n",
    "# 10 to 1\n",
    "# -10 to -1"
   ]
  },
  {
   "cell_type": "code",
   "execution_count": null,
   "id": "8ca6dbe9-8c78-45d9-8b51-e203f9bd0fb8",
   "metadata": {},
   "outputs": [],
   "source": [
    "i=0\n",
    "while i<11:\n",
    "    print(i,end=' ')\n",
    "    i=i+1"
   ]
  },
  {
   "cell_type": "code",
   "execution_count": 1,
   "id": "3af4053d-5366-4eac-a7a7-9d77b367839c",
   "metadata": {},
   "outputs": [
    {
     "name": "stdout",
     "output_type": "stream",
     "text": [
      "0 -1 -2 -3 -4 "
     ]
    }
   ],
   "source": [
    "i=0\n",
    "while i<5:\n",
    "    print(i,end=' ')\n",
    "    i=i-1\n",
    "    if i==-5:\n",
    "        break"
   ]
  },
  {
   "cell_type": "code",
   "execution_count": 10,
   "id": "fd4ddf80-a878-4703-9c16-86bece7e378e",
   "metadata": {},
   "outputs": [
    {
     "name": "stdout",
     "output_type": "stream",
     "text": [
      "1 2 3 4 5 6 7 8 9 10 "
     ]
    }
   ],
   "source": [
    "# 1 to 10\n",
    "i=1\n",
    "while i<=10:\n",
    "    print(i,end=' ')\n",
    "    i=i+1"
   ]
  },
  {
   "cell_type": "code",
   "execution_count": 12,
   "id": "5e908e54-f8a4-41bc-8257-cab8719ffba2",
   "metadata": {},
   "outputs": [
    {
     "name": "stdout",
     "output_type": "stream",
     "text": [
      "-1 -2 -3 -4 -5 -6 -7 -8 -9 -10 "
     ]
    }
   ],
   "source": [
    "# -1 to -10\n",
    "\n",
    "i=-1\n",
    "while i>=-10:\n",
    "    \n",
    "    print(i,end=' ')\n",
    "    i=i-1"
   ]
  },
  {
   "cell_type": "code",
   "execution_count": 14,
   "id": "b25db554-b9fd-412e-8381-0a373cc5b556",
   "metadata": {},
   "outputs": [
    {
     "name": "stdout",
     "output_type": "stream",
     "text": [
      "1 2 3 4 5 6 7 8 9 "
     ]
    }
   ],
   "source": [
    "# 1 to 10\n",
    "i=1\n",
    "while True:\n",
    "    print(i,end=' ')\n",
    "    i=i+1\n",
    "    if i==10:\n",
    "        break"
   ]
  },
  {
   "cell_type": "code",
   "execution_count": 16,
   "id": "fee8bcd7-cf1f-483b-9626-301f9e3867bc",
   "metadata": {},
   "outputs": [
    {
     "name": "stdout",
     "output_type": "stream",
     "text": [
      "2 3 4 5 "
     ]
    }
   ],
   "source": [
    "i=1\n",
    "while True:\n",
    "    i=i+1\n",
    "    print(i,end=' ')\n",
    "    if i==5:\n",
    "        break\n",
    "\n",
    "# 1 2 3 4 "
   ]
  },
  {
   "cell_type": "code",
   "execution_count": null,
   "id": "5bda9bee-aa13-4e62-8394-207cec66169f",
   "metadata": {},
   "outputs": [],
   "source": [
    "i=1\n",
    "while True:\n",
    "    print(i,end=' ')\n",
    "    if i==5:\n",
    "        break\n",
    "\n",
    "# do not run this code"
   ]
  },
  {
   "cell_type": "code",
   "execution_count": 18,
   "id": "d0f05bbe-beee-4969-9989-fdd1258adfc7",
   "metadata": {},
   "outputs": [
    {
     "name": "stdout",
     "output_type": "stream",
     "text": [
      "3 4 5 "
     ]
    }
   ],
   "source": [
    "i=1\n",
    "i=i+1\n",
    "while True:\n",
    "    i=i+1\n",
    "    print(i,end=' ')\n",
    "    if i==5:\n",
    "        break"
   ]
  },
  {
   "cell_type": "markdown",
   "id": "4fc5ee64-945c-46cc-b1f7-2e31fc9e3fbf",
   "metadata": {},
   "source": [
    "# Q1) wap ask the user enterr three number randomly and print the square\n",
    "- First do with for loop\n",
    "- Exactly replace with while loop"
   ]
  },
  {
   "cell_type": "code",
   "execution_count": 20,
   "id": "c1f57b46-692c-4360-bdc4-bc64bf30301c",
   "metadata": {},
   "outputs": [
    {
     "name": "stdout",
     "output_type": "stream",
     "text": [
      "The sqaure of 47 is 2209\n",
      "The sqaure of 40 is 1600\n",
      "The sqaure of 88 is 7744\n"
     ]
    }
   ],
   "source": [
    "# First do with for loop\n",
    "import random\n",
    "for i in range(3):\n",
    "    num=random.randint(1,100)\n",
    "    print(f\"The sqaure of {num} is {num*num}\")"
   ]
  },
  {
   "cell_type": "code",
   "execution_count": 25,
   "id": "8746bcd8-12a3-436b-9b90-2ea9dcfe7e15",
   "metadata": {},
   "outputs": [
    {
     "name": "stdout",
     "output_type": "stream",
     "text": [
      "The sqaure of 26 is 676\n",
      "The sqaure of 70 is 4900\n",
      "The sqaure of 60 is 3600\n"
     ]
    }
   ],
   "source": [
    "import random\n",
    "i=0\n",
    "while i<3:\n",
    "     num=random.randint(1,100)\n",
    "     print(f\"The sqaure of {num} is {num*num}\")\n",
    "     i=i+1\n",
    "    "
   ]
  },
  {
   "cell_type": "markdown",
   "id": "aa7b6cc4-669d-438a-89a3-2deb7af3959d",
   "metadata": {},
   "source": [
    "**For loop and While loop**\n",
    "\n",
    "- with for loop infinite iteration not possible\n",
    "\n",
    "- with hile loop infinte iteration are possible\n",
    "\n",
    "  - which means we can perform the loop till condition satis"
   ]
  },
  {
   "cell_type": "code",
   "execution_count": null,
   "id": "3f8c34c1-2b28-4d7d-b69f-fdf5d04bc351",
   "metadata": {},
   "outputs": [],
   "source": [
    "# ask the user enter a password\n",
    "# original password is  : i am data scientest\n",
    "# if the password == original pwd then only you have life\n",
    "# and ask the pwd again\n",
    "# the loop should continiue "
   ]
  },
  {
   "cell_type": "code",
   "execution_count": null,
   "id": "bcb3d820-6ba4-44cb-a666-7adcf1606a11",
   "metadata": {},
   "outputs": [],
   "source": [
    "original_pwd='iam a ds'\n",
    "while True:\n",
    "    user_pwd=input(\"enter the pwd\")\n",
    "    if "
   ]
  }
 ],
 "metadata": {
  "kernelspec": {
   "display_name": "Python 3 (ipykernel)",
   "language": "python",
   "name": "python3"
  },
  "language_info": {
   "codemirror_mode": {
    "name": "ipython",
    "version": 3
   },
   "file_extension": ".py",
   "mimetype": "text/x-python",
   "name": "python",
   "nbconvert_exporter": "python",
   "pygments_lexer": "ipython3",
   "version": "3.12.4"
  }
 },
 "nbformat": 4,
 "nbformat_minor": 5
}
