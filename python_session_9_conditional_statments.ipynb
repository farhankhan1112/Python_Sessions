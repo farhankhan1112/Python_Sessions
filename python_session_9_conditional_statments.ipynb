{
 "cells": [
  {
   "cell_type": "markdown",
   "id": "b8ce14d2-61e7-4495-a2fc-82cf35c2aacd",
   "metadata": {},
   "source": [
    "**conditional statements**\n",
    "\n",
    "- we want to execute python statmeent based on conditions\n",
    "\n",
    "- For example: \n",
    "\n",
    "       - i want to play cricket, If there is No rain\n",
    "       - I want to eat icecreame, If there is a rain\n",
    "\n",
    "- if\n",
    "- if-else\n",
    "- if-elif-else"
   ]
  },
  {
   "cell_type": "markdown",
   "id": "c8db4149-e536-4173-ad79-9bc93f1f7c67",
   "metadata": {},
   "source": [
    "#Case-1\n",
    "**if**"
   ]
  },
  {
   "cell_type": "markdown",
   "id": "ae02b925-e1dd-432a-b191-fa5b28648746",
   "metadata": {},
   "source": [
    "# syntax\n",
    "\n",
    "if <write some condition>:\n",
    "    <code line1>\n",
    "    <code line2>\n",
    "\n",
    "- whenever if we start any line with keyword\n",
    "-  at the end of the line we have:\n",
    "-  whenever we have colon\n",
    "-  the next lines will start by maintaining some gap\n",
    "-  that gap is called as indentation\n",
    "-  keyword----colon--indentation\n"
   ]
  },
  {
   "cell_type": "code",
   "execution_count": 4,
   "id": "d4d15ed0-81a6-4dbf-8b2c-d7f6034b38b4",
   "metadata": {},
   "outputs": [
    {
     "data": {
      "text/plain": [
       "True"
      ]
     },
     "execution_count": 4,
     "metadata": {},
     "output_type": "execute_result"
    }
   ],
   "source": [
    "100>10"
   ]
  },
  {
   "cell_type": "code",
   "execution_count": 6,
   "id": "c566ae09-2962-48c6-aa69-73fc9581faac",
   "metadata": {},
   "outputs": [
    {
     "name": "stdout",
     "output_type": "stream",
     "text": [
      "the answer is correct\n"
     ]
    }
   ],
   "source": [
    "if 100>10:\n",
    "    print('the answer is correct')\n",
    "\n",
    "- step-1: condition 100>10: True if True\n"
   ]
  },
  {
   "cell_type": "code",
   "execution_count": 1,
   "id": "8ac4598d-d55c-42b7-aadf-6a9bc3a0f1f6",
   "metadata": {},
   "outputs": [
    {
     "ename": "SyntaxError",
     "evalue": "illegal target for annotation (1768742016.py, line 4)",
     "output_type": "error",
     "traceback": [
      "\u001b[1;36m  Cell \u001b[1;32mIn[1], line 4\u001b[1;36m\u001b[0m\n\u001b[1;33m    - step-1: condition 100<10 : False if False\u001b[0m\n\u001b[1;37m    ^\u001b[0m\n\u001b[1;31mSyntaxError\u001b[0m\u001b[1;31m:\u001b[0m illegal target for annotation\n"
     ]
    }
   ],
   "source": [
    "if 100<10:\n",
    "    print('the answer is correct')\n",
    "\n",
    "- step-1: condition 100<10 : False if False\n",
    "- step-2 : The condition is false , the compiler will not enter inside the if block\n",
    "- No error- No answer"
   ]
  },
  {
   "cell_type": "markdown",
   "id": "549b0ddf-e907-453f-ab3d-7e263569c88c",
   "metadata": {},
   "source": [
    "$mistake-1$"
   ]
  },
  {
   "cell_type": "markdown",
   "id": "fede37c3-f811-4d44-92b0-7ec5f229c0c3",
   "metadata": {},
   "source": [
    "- indentation error\n",
    "\n",
    "- after: we are not providing any space"
   ]
  },
  {
   "cell_type": "code",
   "execution_count": 19,
   "id": "47625e71-d80a-4cdd-a1b3-f4bf4a96adf3",
   "metadata": {},
   "outputs": [
    {
     "ename": "IndentationError",
     "evalue": "expected an indented block after 'if' statement on line 1 (877458430.py, line 2)",
     "output_type": "error",
     "traceback": [
      "\u001b[1;36m  Cell \u001b[1;32mIn[19], line 2\u001b[1;36m\u001b[0m\n\u001b[1;33m    print('hello')\u001b[0m\n\u001b[1;37m    ^\u001b[0m\n\u001b[1;31mIndentationError\u001b[0m\u001b[1;31m:\u001b[0m expected an indented block after 'if' statement on line 1\n"
     ]
    }
   ],
   "source": [
    "if 100<10:\n",
    "print('hello')"
   ]
  },
  {
   "cell_type": "markdown",
   "id": "b3102129-0be5-4668-a03a-baaed5087c49",
   "metadata": {},
   "source": [
    "- what is the input number cell number : Cell In[3]\n",
    "\n",
    "- what is the line number : line 2\n",
    "\n",
    "-  where is the error : starting upcap"
   ]
  },
  {
   "cell_type": "code",
   "execution_count": 28,
   "id": "6bc6a51f-81d5-44d7-aa49-894f0249d0bb",
   "metadata": {},
   "outputs": [
    {
     "name": "stdout",
     "output_type": "stream",
     "text": [
      "hello\n"
     ]
    }
   ],
   "source": [
    "if 100>10:\n",
    "    print('hello')"
   ]
  },
  {
   "cell_type": "code",
   "execution_count": 7,
   "id": "46b746e3-20ab-4d3e-aca0-50af436e2018",
   "metadata": {},
   "outputs": [
    {
     "name": "stdout",
     "output_type": "stream",
     "text": [
      "30\n"
     ]
    }
   ],
   "source": [
    "# why it is only printing hello?\n",
    "# whats the use of if 100>10?\n",
    "\n",
    "\n",
    "# i want to a addition program when 100>10\n",
    "\n",
    "if 100>10:\n",
    "    a=10\n",
    "    b=20\n",
    "    c=a+b\n",
    "    print(c)"
   ]
  },
  {
   "cell_type": "code",
   "execution_count": 30,
   "id": "2a524921-8750-43e9-bca1-93ec3a0ab03e",
   "metadata": {},
   "outputs": [
    {
     "name": "stdout",
     "output_type": "stream",
     "text": [
      "the addition of 10 and 20 is : 30\n"
     ]
    }
   ],
   "source": [
    "a=10\n",
    "b=20\n",
    "c=a+b\n",
    "print(f'the addition of {a} and {b} is : {c}')"
   ]
  },
  {
   "cell_type": "code",
   "execution_count": 32,
   "id": "845d5628-0d70-4825-88da-46c0f1061801",
   "metadata": {},
   "outputs": [
    {
     "name": "stdout",
     "output_type": "stream",
     "text": [
      "The addtion of 10 and 20 is : 30\n"
     ]
    }
   ],
   "source": [
    "if 100>10: \n",
    "    a=10\n",
    "    b=20\n",
    "    c=a+b\n",
    "    print(f'The addtion of {a} and {b} is : {c}')"
   ]
  },
  {
   "cell_type": "code",
   "execution_count": 3,
   "id": "bf2d9e3f-3114-4ee5-83ef-3dfa070e8eb6",
   "metadata": {},
   "outputs": [
    {
     "name": "stdin",
     "output_type": "stream",
     "text": [
      "enter breadth: 5\n",
      "enter height: 6\n"
     ]
    },
    {
     "name": "stdout",
     "output_type": "stream",
     "text": [
      "The area of traingle is : 15.0\n"
     ]
    }
   ],
   "source": [
    "# area of traingle\n",
    "# 0.5*breadth*height\n",
    "if 100>10:\n",
    "    breadth=eval(input('enter breadth:'))\n",
    "    height=eval(input('enter height:'))\n",
    "    area=0.5*breadth*height\n",
    "    print(f'The area of traingle is : {area}')"
   ]
  },
  {
   "cell_type": "code",
   "execution_count": 11,
   "id": "5815dce5-1bd7-4d30-8a8d-6cfdebbd5324",
   "metadata": {},
   "outputs": [],
   "source": [
    "if 2>10:\n",
    "        a=10\n",
    "        b=20\n",
    "        c=a+b\n",
    "        print(f'the addition value is {c}')"
   ]
  },
  {
   "cell_type": "code",
   "execution_count": 42,
   "id": "102cea13-efa5-45a5-8f49-7b8e790187ed",
   "metadata": {},
   "outputs": [
    {
     "name": "stdout",
     "output_type": "stream",
     "text": [
      "the addition value is 30\n"
     ]
    }
   ],
   "source": [
    "if 2<10:\n",
    "    a=10\n",
    "    b=20\n",
    "    c=a+b\n",
    "    print(f'the addition value is {c}')"
   ]
  },
  {
   "cell_type": "code",
   "execution_count": 56,
   "id": "6a909b37-94d0-4d2a-90f8-c0b1b7f698de",
   "metadata": {},
   "outputs": [
    {
     "name": "stdout",
     "output_type": "stream",
     "text": [
      "sandeep\n",
      "prajwal\n"
     ]
    }
   ],
   "source": [
    "print('sandeep')\n",
    "print('prajwal')\n",
    "if 100<10:\n",
    "    print('sultana')\n",
    "\n",
    "# Think like computer\n",
    "# step-1: sandeep\n",
    "# step-2: prajwal\n",
    "# step-3: 100<10: False code will stop"
   ]
  },
  {
   "cell_type": "code",
   "execution_count": 48,
   "id": "e3099496-e078-4907-8feb-2fd3c63b0242",
   "metadata": {},
   "outputs": [
    {
     "name": "stdout",
     "output_type": "stream",
     "text": [
      "sandeep\n",
      "prajwal\n",
      "sultana\n",
      "raj\n"
     ]
    }
   ],
   "source": [
    "print('sandeep')\n",
    "print('prajwal')\n",
    "if 100>10:\n",
    "    print('sultana')\n",
    "    print('raj')\n"
   ]
  },
  {
   "cell_type": "code",
   "execution_count": 50,
   "id": "926ecbeb-0452-4604-b5db-d36305a716c3",
   "metadata": {},
   "outputs": [
    {
     "name": "stdout",
     "output_type": "stream",
     "text": [
      "sandeep\n",
      "prajwal\n",
      "hello\n",
      "sultana\n",
      "raj\n",
      "bye\n",
      "katam zindagi\n"
     ]
    }
   ],
   "source": [
    "print('sandeep')\n",
    "print('prajwal')\n",
    "print('hello')\n",
    "if 100>10:\n",
    "    print('sultana')\n",
    "    print('raj')\n",
    "print('bye')\n",
    "print('katam zindagi')"
   ]
  },
  {
   "cell_type": "code",
   "execution_count": 52,
   "id": "bc0e21f1-4860-4e1b-a41a-b24653668293",
   "metadata": {},
   "outputs": [
    {
     "name": "stdout",
     "output_type": "stream",
     "text": [
      "sandeep\n",
      "prajwal\n",
      "hello\n",
      "bye\n",
      "katam zindagi\n"
     ]
    }
   ],
   "source": [
    "print('sandeep')\n",
    "print('prajwal')\n",
    "print('hello')\n",
    "if 100<10:\n",
    "    print('sultana')\n",
    "    print('raj')\n",
    "print('bye')\n",
    "print('katam zindagi')"
   ]
  },
  {
   "cell_type": "code",
   "execution_count": 26,
   "id": "bd01b9a2-d89b-4f3e-8305-9ec65c52b10f",
   "metadata": {},
   "outputs": [
    {
     "name": "stdin",
     "output_type": "stream",
     "text": [
      "Enter breadth:  10\n",
      "Enter height:  10\n"
     ]
    },
    {
     "name": "stdout",
     "output_type": "stream",
     "text": [
      "The area of the triangle is: 50.0\n"
     ]
    }
   ],
   "source": [
    "if 100>10:\n",
    "   # breadth=eval(input('enter breadth:'))\n",
    "   # height=eval(input(\"enter height\"))\n",
    "   # area=0.5*breadth*height\n",
    "#print(f\"The area of traingle is : {area}\")\n",
    "\n",
    "    breadth = eval(input('Enter breadth: '))\n",
    "    height = eval(input('Enter height: '))\n",
    "    area = 0.5 * breadth * height\n",
    "    print(f\"The area of the triangle is: {area}\")\n"
   ]
  },
  {
   "cell_type": "code",
   "execution_count": null,
   "id": "1bd73e44-d254-42ba-ac86-5d40e8fc78d2",
   "metadata": {},
   "outputs": [],
   "source": []
  },
  {
   "cell_type": "markdown",
   "id": "c04062b5-a536-481f-8418-dfb3bfc3ed8b",
   "metadata": {},
   "source": [
    "$mistake-2$"
   ]
  },
  {
   "cell_type": "code",
   "execution_count": 72,
   "id": "0aaa3aaa-d2f5-4445-a075-4b7179434df8",
   "metadata": {},
   "outputs": [
    {
     "ename": "SyntaxError",
     "evalue": "incomplete input (1702388384.py, line 1)",
     "output_type": "error",
     "traceback": [
      "\u001b[1;36m  Cell \u001b[1;32mIn[72], line 1\u001b[1;36m\u001b[0m\n\u001b[1;33m    if 100<10:\u001b[0m\n\u001b[1;37m              ^\u001b[0m\n\u001b[1;31mSyntaxError\u001b[0m\u001b[1;31m:\u001b[0m incomplete input\n"
     ]
    }
   ],
   "source": [
    "if 100<10:"
   ]
  },
  {
   "cell_type": "code",
   "execution_count": 76,
   "id": "dc8147b4-5490-4147-ba35-c557da78084a",
   "metadata": {},
   "outputs": [
    {
     "ename": "SyntaxError",
     "evalue": "expected ':' (3378397743.py, line 1)",
     "output_type": "error",
     "traceback": [
      "\u001b[1;36m  Cell \u001b[1;32mIn[76], line 1\u001b[1;36m\u001b[0m\n\u001b[1;33m    if 100<10\u001b[0m\n\u001b[1;37m             ^\u001b[0m\n\u001b[1;31mSyntaxError\u001b[0m\u001b[1;31m:\u001b[0m expected ':'\n"
     ]
    }
   ],
   "source": [
    "if 100<10"
   ]
  },
  {
   "cell_type": "markdown",
   "id": "134771ab-75bb-40b9-b710-66330bf0fa69",
   "metadata": {},
   "source": [
    "$mistake-3$"
   ]
  },
  {
   "cell_type": "code",
   "execution_count": 80,
   "id": "eabd79ac-d814-48d6-b774-f627764ea3df",
   "metadata": {},
   "outputs": [
    {
     "ename": "SyntaxError",
     "evalue": "invalid syntax (1254788784.py, line 1)",
     "output_type": "error",
     "traceback": [
      "\u001b[1;36m  Cell \u001b[1;32mIn[80], line 1\u001b[1;36m\u001b[0m\n\u001b[1;33m    if:\u001b[0m\n\u001b[1;37m      ^\u001b[0m\n\u001b[1;31mSyntaxError\u001b[0m\u001b[1;31m:\u001b[0m invalid syntax\n"
     ]
    }
   ],
   "source": [
    "if:\n",
    " print('hello')"
   ]
  },
  {
   "cell_type": "markdown",
   "id": "395bdcd5-aeed-4750-bb28-47458825bf08",
   "metadata": {},
   "source": [
    "# if-else"
   ]
  },
  {
   "cell_type": "code",
   "execution_count": null,
   "id": "353382c8-2d91-4ca3-9ad5-bc0f50febed7",
   "metadata": {},
   "outputs": [],
   "source": [
    "# syntax\n",
    "\n",
    "# if<write tour condition here>:\n",
    "#       <line1>\n",
    "# else:\n",
    "#      <lines>"
   ]
  },
  {
   "cell_type": "code",
   "execution_count": 1,
   "id": "3da201d7-3669-44fd-acbf-788b1bea89a3",
   "metadata": {},
   "outputs": [
    {
     "name": "stdout",
     "output_type": "stream",
     "text": [
      "your condition is correct\n",
      "You are in\n"
     ]
    }
   ],
   "source": [
    "if 100>10:\n",
    "    print('your condition is correct')\n",
    "    print('You are in')\n",
    "else:\n",
    "    print(\"your condition is wrong\")\n",
    "    print(\"You are out\")\n",
    "\n",
    "\n",
    "# step-1: if 100>10 if True"
   ]
  },
  {
   "cell_type": "code",
   "execution_count": 96,
   "id": "a111b822-89c2-402e-8be7-d80f195fa23b",
   "metadata": {},
   "outputs": [
    {
     "name": "stdout",
     "output_type": "stream",
     "text": [
      "your condition is wrong\n",
      "you are out\n"
     ]
    }
   ],
   "source": [
    "if 100<10:\n",
    "    print('your condition is correct')\n",
    "    print('you are in')\n",
    "else:\n",
    "    print(\"your condition is wrong\")\n",
    "    print(\"you are out\")\n",
    "\n",
    "# step-1:  if 100<10 False=== not enter inside\n",
    "# step-2:  else block\n",
    "# step-3:  your condition is wrong\n",
    "# step-4:  you are out"
   ]
  },
  {
   "cell_type": "code",
   "execution_count": 98,
   "id": "e9923b80-6fdd-462b-8f48-f783bd039ac4",
   "metadata": {},
   "outputs": [
    {
     "name": "stdout",
     "output_type": "stream",
     "text": [
      "Hello\n",
      "your condition is wrong\n",
      "you are out\n",
      "Bye\n"
     ]
    }
   ],
   "source": [
    "print(\"Hello\")\n",
    "if 100<10:\n",
    "    print('your condition is correct')\n",
    "    print('you are in')\n",
    "else:\n",
    "    print(\"your condition is wrong\")\n",
    "    print(\"you are out\")\n",
    "print(\"Bye\")"
   ]
  },
  {
   "cell_type": "code",
   "execution_count": 100,
   "id": "c0d4a800-ae22-486d-92d8-02575e5375df",
   "metadata": {},
   "outputs": [
    {
     "ename": "SyntaxError",
     "evalue": "invalid syntax (4276786210.py, line 7)",
     "output_type": "error",
     "traceback": [
      "\u001b[1;36m  Cell \u001b[1;32mIn[100], line 7\u001b[1;36m\u001b[0m\n\u001b[1;33m    else:\u001b[0m\n\u001b[1;37m    ^\u001b[0m\n\u001b[1;31mSyntaxError\u001b[0m\u001b[1;31m:\u001b[0m invalid syntax\n"
     ]
    }
   ],
   "source": [
    "print(\"Hello\")\n",
    "if 100<10:\n",
    "    print('your condition is correct')\n",
    "    print('you are in')\n",
    "print(\"hii\")\n",
    "print(\"why you are in middle\")\n",
    "else:\n",
    "    print(\"your condition is wrong\")\n",
    "    print(\"you are out\")\n",
    "print(\"Bye\")\n",
    "                 # it will show error"
   ]
  },
  {
   "cell_type": "code",
   "execution_count": 1,
   "id": "089275cf-5008-4de0-a28b-fb6c46354666",
   "metadata": {},
   "outputs": [
    {
     "name": "stdout",
     "output_type": "stream",
     "text": [
      "okay\n",
      "Thank you\n"
     ]
    }
   ],
   "source": [
    "if 100>10:\n",
    "    print('okay')\n",
    "\n",
    "print('Thank you')"
   ]
  },
  {
   "cell_type": "code",
   "execution_count": 3,
   "id": "6308cb03-580d-4738-98fb-0dfaaeaae50c",
   "metadata": {},
   "outputs": [
    {
     "name": "stdout",
     "output_type": "stream",
     "text": [
      "okay\n"
     ]
    }
   ],
   "source": [
    "if 100>10:\n",
    "    print('okay')\n",
    "\n",
    "else:\n",
    "    print('not okay')\n"
   ]
  },
  {
   "cell_type": "code",
   "execution_count": 5,
   "id": "1037c465-dbaf-4514-92de-00ef8959c5a6",
   "metadata": {},
   "outputs": [
    {
     "ename": "SyntaxError",
     "evalue": "invalid syntax (120926272.py, line 4)",
     "output_type": "error",
     "traceback": [
      "\u001b[1;36m  Cell \u001b[1;32mIn[5], line 4\u001b[1;36m\u001b[0m\n\u001b[1;33m    else:\u001b[0m\n\u001b[1;37m    ^\u001b[0m\n\u001b[1;31mSyntaxError\u001b[0m\u001b[1;31m:\u001b[0m invalid syntax\n"
     ]
    }
   ],
   "source": [
    "if 100>10:\n",
    "    print('okay')\n",
    "print('why you re here?')  == ============>    # dont write in middle\n",
    "else:\n",
    "    print('not okay')"
   ]
  },
  {
   "cell_type": "code",
   "execution_count": null,
   "id": "d6188279-c10f-47ea-b3cc-98f94a574f14",
   "metadata": {},
   "outputs": [],
   "source": [
    "# Q1) \n",
    "\n",
    "# write a preogram ask the user enter two numbers\n",
    "# print the greatest number\n",
    "\n",
    "# Idea\n",
    "# step-1: Take the number1 = eval\n",
    "# step-2: Take the number2 = eval\n",
    "# step-3: if <condition>:\n",
    "# step-4:     print()\n",
    "# step-5:  else:\n",
    "# step-6:      print()"
   ]
  },
  {
   "cell_type": "code",
   "execution_count": 7,
   "id": "c1093c37-8101-411f-a6fc-8c914630a3c5",
   "metadata": {},
   "outputs": [
    {
     "name": "stdin",
     "output_type": "stream",
     "text": [
      "ente the number1:  40\n",
      "enter the number2:  50\n"
     ]
    },
    {
     "name": "stdout",
     "output_type": "stream",
     "text": [
      "the gratest number is : 50\n"
     ]
    }
   ],
   "source": [
    "n1=eval(input(\"ente the number1: \"))\n",
    "n2=eval(input(\"enter the number2: \"))\n",
    "if n1>n2:\n",
    "    print(f\"the greatest numebr is: {n1}\")\n",
    "else:\n",
    "    print(f\"the gratest number is : {n2}\")\n"
   ]
  },
  {
   "cell_type": "code",
   "execution_count": 9,
   "id": "ba13edbb-862c-4860-8eb3-1e56b28f7b11",
   "metadata": {},
   "outputs": [],
   "source": [
    "# Q2)\n",
    "\n",
    "# wap ask the user enter the distance\n",
    "# if the distance > 25, then ask the user enter the charge\n",
    "# and print the total charge\n",
    "# otherwise (distance<25) print free ride\n",
    "# IDEA\n",
    "\n",
    "# step-1: distance=eval()\n",
    "# step: if <condition>:\n",
    "# step:       charge=eval()\n",
    "# step:       total charge=dist*charge\n",
    "# step: else:\n",
    "# step: print free ride\n"
   ]
  },
  {
   "cell_type": "code",
   "execution_count": 15,
   "id": "b18bdfb0-ceba-43c2-a9b4-295e0eb0d193",
   "metadata": {},
   "outputs": [
    {
     "name": "stdin",
     "output_type": "stream",
     "text": [
      "enter the distance 100\n",
      "enter the  charge 25\n"
     ]
    },
    {
     "name": "stdout",
     "output_type": "stream",
     "text": [
      "Total charge is: 2500\n"
     ]
    }
   ],
   "source": [
    "distance=eval(input(\"enter the distance\"))\n",
    "if distance>25:\n",
    "    charge=eval(input(\"enter the  charge\"))\n",
    "    total_charge=distance*charge\n",
    "    print(\"Total charge is:\",total_charge)\n",
    "else:\n",
    "    print(\"Enjoy the free ride\")\n"
   ]
  },
  {
   "cell_type": "code",
   "execution_count": 1,
   "id": "c54e40ac-6691-44bb-9fbc-cfa3b51f9c10",
   "metadata": {},
   "outputs": [
    {
     "name": "stdin",
     "output_type": "stream",
     "text": [
      "enter the distance 30\n",
      "enter the  charge 2\n"
     ]
    },
    {
     "name": "stdout",
     "output_type": "stream",
     "text": [
      "Total charge is: 60\n"
     ]
    }
   ],
   "source": [
    "distance=eval(input(\"enter the distance\"))\n",
    "if distance>25:\n",
    "    charge=eval(input(\"enter the  charge\"))\n",
    "    total_charge=distance*charge\n",
    "    print(\"Total charge is:\",total_charge)\n",
    "else:\n",
    "    print(\"Enjoy the free ride\")"
   ]
  },
  {
   "cell_type": "code",
   "execution_count": null,
   "id": "fbd2541b-b45b-4396-9faf-ede55600b84e",
   "metadata": {},
   "outputs": [],
   "source": [
    "# Q2)\n",
    "\n",
    "# wap ask the user enter the distance\n",
    "# if the distance < 25, then ask the user enter the charge\n",
    "# and print the total charge\n",
    "# otherwise (distance<25) print free ride\n",
    "# IDEA\n",
    "\n",
    "# step-1: distance=eval()\n",
    "# step: if <condition>:\n",
    "# step:       charge=eval()\n",
    "# step:       total charge=dist*charge\n",
    "# step: else:\n",
    "# step: print free ride"
   ]
  },
  {
   "cell_type": "code",
   "execution_count": 21,
   "id": "0f11af21-3134-4be8-bd1c-e238d222dfaa",
   "metadata": {},
   "outputs": [
    {
     "name": "stdin",
     "output_type": "stream",
     "text": [
      "enter the distance 30\n",
      "enter the charge: 50\n"
     ]
    },
    {
     "name": "stdout",
     "output_type": "stream",
     "text": [
      "Total charge is: 2500\n"
     ]
    }
   ],
   "source": [
    "distance=eval(input(\"enter the distance\"))\n",
    "if distance<25:\n",
    "    print(\"Free ride\" )\n",
    "else:\n",
    "    charge=eval(input(\"enter the charge:\"))\n",
    "    total_chharge=distance*charge\n",
    "    print(\"Total charge is:\",total_charge)"
   ]
  },
  {
   "cell_type": "code",
   "execution_count": null,
   "id": "4a671620-1b48-4c19-94c7-93694aa73ce8",
   "metadata": {},
   "outputs": [],
   "source": [
    "# Q3)\n",
    "\n",
    "# till 25 free ride\n",
    "# after 25 km \n",
    "# you need to take those upper value\n",
    "# 100km\n",
    "# 100-25=75km\n",
    "\n",
    "# Idea\n",
    "# step-1: calculate the distance you want to travel\n",
    "#         travel_distance=eval()\n",
    "# step-2: free_distance=25km\n",
    "# step-3: if travel_distance=travel_distance-free_distance\n",
    "#         amount_distance>free_distance:\n",
    "#         charge=\n",
    "#         total charge\n",
    "# step-4: else:\n",
    "#         free ride"
   ]
  },
  {
   "cell_type": "code",
   "execution_count": 28,
   "id": "17857572-2047-42b4-b3d9-9a37aa28f8f8",
   "metadata": {},
   "outputs": [
    {
     "name": "stdin",
     "output_type": "stream",
     "text": [
      "enter the distance you want to travel: 30\n",
      " enter the distance which govt is giving free: 25\n",
      "enter the charge: 5\n"
     ]
    },
    {
     "name": "stdout",
     "output_type": "stream",
     "text": [
      "total charge is: 25\n"
     ]
    }
   ],
   "source": [
    "travel_distance=eval(input(\"enter the distance you want to travel:\"))\n",
    "free_distance=eval(input(\" enter the distance which govt is giving free:\"))\n",
    "if travel_distance>free_distance:\n",
    "    amount_distance=travel_distance-free_distance\n",
    "    charge=eval(input(\"enter the charge:\"))\n",
    "    total_charge=amount_distance*charge\n",
    "    print(\"total charge is:\",total_charge)\n",
    "\n",
    "else:\n",
    "    print(\"enjoy free ride\")\n"
   ]
  },
  {
   "cell_type": "code",
   "execution_count": null,
   "id": "dd7f648f-e33c-4805-8ef1-4d62810a6c36",
   "metadata": {},
   "outputs": [],
   "source": [
    "# Q4) \n",
    "\n",
    "# Doughter: hey Mom\n",
    "# Mom: Hi beta\n",
    "# d: Mom do you lnow govt has given free ride for us\n",
    "# Mom: Acha great\n",
    "# D: then we will go to grandmother house\n",
    "#cond: show me your id card\n",
    "# Mom: No w dont have id card, my dau has\n",
    "# cond: For you we will take money,for your daughter is free ride\n",
    "# Mom: how much charge\n",
    "# cond: how much distance yu want travel\n",
    "# distance=eval(input(\"Mom says:\"))\n",
    "# if distane>25\n",
    "#     charge=eval(input('conductor says charge'))\n",
    "#     total charge\n",
    "# else:\n",
    "#      print('you are eligible for free ride')"
   ]
  },
  {
   "cell_type": "code",
   "execution_count": 31,
   "id": "fff17de4-535f-48cf-9176-6e737df17883",
   "metadata": {},
   "outputs": [
    {
     "name": "stdout",
     "output_type": "stream",
     "text": [
      "Daughter: Hey mom\n",
      "mom: Hi beta\n",
      "Daughter: Mom do you know govt has given free ride for us\n",
      "Mom: Acha beta\n",
      "Daughter: Then we will go to grandmother house\n",
      "Cond: Show me your id card\n",
      "Mom: No we dont have id, my daughter has\n",
      "Cond: For you we will take money, for your daughter is free ride \n",
      "Mom: How much charge\n",
      "Cond: How much distance you want to travel\n"
     ]
    },
    {
     "name": "stdin",
     "output_type": "stream",
     "text": [
      "Mom: Distance i want to travel:  100\n",
      "Cond: Charge is:  10\n"
     ]
    },
    {
     "name": "stdout",
     "output_type": "stream",
     "text": [
      "Cond: Total charge you havre to pay is : 1000\n"
     ]
    }
   ],
   "source": [
    "print(\"Daughter: Hey mom\")\n",
    "print(\"mom: Hi beta\")\n",
    "print(\"Daughter: Mom do you know govt has given free ride for us\")\n",
    "print(\"Mom: Acha beta\")\n",
    "print(\"Daughter: Then we will go to grandmother house\")\n",
    "print(\"Cond: Show me your id card\")\n",
    "print(\"Mom: No we dont have id, my daughter has\")\n",
    "print(\"Cond: For you we will take money, for your daughter is free ride \")\n",
    "print(\"Mom: How much charge\")\n",
    "print(\"Cond: How much distance you want to travel\")\n",
    "distance=eval(input('Mom: Distance i want to travel: '))\n",
    "if distance>25:\n",
    "    charge=eval(input('Cond: Charge is: '))\n",
    "    total_charge=distance*charge\n",
    "    print(f'Cond: Total charge you havre to pay is : {total_charge}')\n",
    "else:\n",
    "    print('you are not elogible for free ride')"
   ]
  },
  {
   "cell_type": "code",
   "execution_count": 33,
   "id": "a7506c3c-0939-4c79-95a0-b2801ad5fb69",
   "metadata": {},
   "outputs": [
    {
     "name": "stdout",
     "output_type": "stream",
     "text": [
      "Daughter: Hey mom\n",
      "mom: Hi beta\n",
      "Daughter: Mom do you know govt has given free ride for us\n",
      "Mom: Acha beta\n",
      "Daughter: Then we will go to grandmother house\n",
      "Cond: Show me your id card\n",
      "Mom: No we dont have id, my daughter has\n",
      "Cond: For you we will take money, for your daughter is free ride \n",
      "Mom: How much charge\n",
      "Cond: How much distance you want to travel\n"
     ]
    },
    {
     "name": "stdin",
     "output_type": "stream",
     "text": [
      "Mom: Distance i want to travel:  25\n"
     ]
    },
    {
     "name": "stdout",
     "output_type": "stream",
     "text": [
      "you are not elogible for free ride\n"
     ]
    }
   ],
   "source": [
    "\n",
    "print(\"Daughter: Hey mom\")\n",
    "print(\"mom: Hi beta\")\n",
    "print(\"Daughter: Mom do you know govt has given free ride for us\")\n",
    "print(\"Mom: Acha beta\")\n",
    "print(\"Daughter: Then we will go to grandmother house\")\n",
    "print(\"Cond: Show me your id card\")\n",
    "print(\"Mom: No we dont have id, my daughter has\")\n",
    "print(\"Cond: For you we will take money, for your daughter is free ride \")\n",
    "print(\"Mom: How much charge\")\n",
    "print(\"Cond: How much distance you want to travel\")\n",
    "distance=eval(input('Mom: Distance i want to travel: '))\n",
    "if distance>25:\n",
    "    charge=eval(input('Cond: Charge is: '))\n",
    "    total_charge=distance*charge\n",
    "    print(f'Cond: Total charge you havre to pay is : {total_charge}')\n",
    "else:\n",
    "    print('you are not elogible for free ride')\n"
   ]
  },
  {
   "cell_type": "code",
   "execution_count": 13,
   "id": "c79cffab-95e1-4b26-b925-21455458d07a",
   "metadata": {},
   "outputs": [
    {
     "name": "stdout",
     "output_type": "stream",
     "text": [
      "Daughter: Hey mom\n",
      "mom: Hi beta\n",
      "Daughter: Hey mom\n",
      "mom: Hi beta\n",
      "Daughter: Mom do you know govt has given free ride for us\n",
      "Mom: Acha beta\n",
      "Daughter: Then we will go to grandmother house\n",
      "Cond: Show me your id card\n",
      "Mom: No we dont have id, my daughter has\n",
      "Cond: For you we will take money, for your daughter is free ride \n",
      "Mom: How much charge\n",
      "Cond: How much distance you want to travel\n"
     ]
    },
    {
     "name": "stdin",
     "output_type": "stream",
     "text": [
      "Mom: Distance i want to travel:  30\n",
      "Cond: Charge is:  2\n"
     ]
    },
    {
     "name": "stdout",
     "output_type": "stream",
     "text": [
      "Cond: Total charge you havre to pay is : 60\n"
     ]
    }
   ],
   "source": [
    "import time\n",
    "print(\"Daughter: Hey mom\")\n",
    "time.sleep(2)\n",
    "print(\"mom: Hi beta\")\n",
    "time.sleep(2)\n",
    "print(\"Daughter: Hey mom\")\n",
    "time.sleep(2)\n",
    "print(\"mom: Hi beta\")\n",
    "time.sleep(2)\n",
    "print(\"Daughter: Mom do you know govt has given free ride for us\")\n",
    "time.sleep(2)\n",
    "print(\"Mom: Acha beta\")\n",
    "print(\"Daughter: Then we will go to grandmother house\")\n",
    "time.sleep(2)\n",
    "print(\"Cond: Show me your id card\")\n",
    "time.sleep(2)\n",
    "print(\"Mom: No we dont have id, my daughter has\")\n",
    "time.sleep(2)\n",
    "print(\"Cond: For you we will take money, for your daughter is free ride \")\n",
    "time.sleep(2)\n",
    "print(\"Mom: How much charge\")\n",
    "time.sleep(2)\n",
    "print(\"Cond: How much distance you want to travel\")\n",
    "time.sleep(2)\n",
    "distance=eval(input('Mom: Distance i want to travel: '))\n",
    "if distance>25:\n",
    "    charge=eval(input('Cond: Charge is: '))\n",
    "    total_charge=distance*charge\n",
    "    print(f'Cond: Total charge you havre to pay is : {total_charge}')\n",
    "else:\n",
    "    print('you are not elogible for free ride')"
   ]
  },
  {
   "cell_type": "code",
   "execution_count": 3,
   "id": "b1accfe8-6fde-49a5-a0c8-dd93b44a2183",
   "metadata": {},
   "outputs": [
    {
     "name": "stdout",
     "output_type": "stream",
     "text": [
      "out\n"
     ]
    }
   ],
   "source": [
    "if 100<10:\n",
    "    print('in')\n",
    "else:\n",
    "    print('out')"
   ]
  },
  {
   "cell_type": "code",
   "execution_count": 5,
   "id": "c4db4386-d40b-4757-a280-9dc60b13ff6e",
   "metadata": {},
   "outputs": [
    {
     "name": "stdout",
     "output_type": "stream",
     "text": [
      "in\n"
     ]
    }
   ],
   "source": [
    "if 100>10:\n",
    "    print('in')\n",
    "else:\n",
    "    print('out')"
   ]
  },
  {
   "cell_type": "code",
   "execution_count": null,
   "id": "6310e61b-3a5d-4025-a332-523c5da8bb08",
   "metadata": {},
   "outputs": [],
   "source": []
  },
  {
   "cell_type": "code",
   "execution_count": null,
   "id": "07a86bad-5503-4d23-a21e-e2c9e45dcbc2",
   "metadata": {},
   "outputs": [],
   "source": [
    "# eval is using       \n",
    "# why not float \n",
    "\n",
    "# is eval takes the user input: No\n",
    "#     input will take the user value from the keyboard\n",
    "\n",
    "# you are giving the direct numerical value\n",
    "#     eval is math familyer value from the key\n",
    "#     word"
   ]
  },
  {
   "cell_type": "code",
   "execution_count": 1,
   "id": "76cecca8-d62f-4972-bedc-98ed5894993e",
   "metadata": {},
   "outputs": [
    {
     "data": {
      "text/plain": [
       "(1.5, 1.0)"
      ]
     },
     "execution_count": 1,
     "metadata": {},
     "output_type": "execute_result"
    }
   ],
   "source": [
    "float('1.5'),float('1') "
   ]
  },
  {
   "cell_type": "code",
   "execution_count": 3,
   "id": "9e3e98b1-cb9a-456d-8a10-78839c08b022",
   "metadata": {},
   "outputs": [
    {
     "data": {
      "text/plain": [
       "(1.5, 1)"
      ]
     },
     "execution_count": 3,
     "metadata": {},
     "output_type": "execute_result"
    }
   ],
   "source": [
    "eval('1.5'),eval('1')"
   ]
  },
  {
   "cell_type": "code",
   "execution_count": 5,
   "id": "6f15d381-f0b2-4bc2-89c0-6645c9074d81",
   "metadata": {},
   "outputs": [
    {
     "name": "stdin",
     "output_type": "stream",
     "text": [
      " 1.5\n"
     ]
    },
    {
     "data": {
      "text/plain": [
       "'1.5'"
      ]
     },
     "execution_count": 5,
     "metadata": {},
     "output_type": "execute_result"
    }
   ],
   "source": [
    "input()"
   ]
  },
  {
   "cell_type": "code",
   "execution_count": null,
   "id": "7484f237-82ec-434a-aade-cb4416df2e31",
   "metadata": {},
   "outputs": [],
   "source": [
    "eval('1.5')    # you know ans\n",
    "eval(input())  # you dot know ans"
   ]
  },
  {
   "cell_type": "markdown",
   "id": "00550eb2-03f2-4576-ae42-358618d10f85",
   "metadata": {},
   "source": [
    "####                                    Date : 29 - 07 - 24"
   ]
  },
  {
   "cell_type": "code",
   "execution_count": null,
   "id": "008798e7-777d-4fb4-8e46-ff8246a86cbe",
   "metadata": {},
   "outputs": [],
   "source": [
    "# Q1) \n",
    "\n",
    "# write a preogram ask the user enter two numbers\n",
    "# print the greatest number\n",
    "\n",
    "# Idea\n",
    "# step-1: Take the number1 = eval\n",
    "# step-2: Take the number2 = eval\n",
    "# step-3: if <condition>:\n",
    "# step-4:     print()\n",
    "# step-5:  else:\n",
    "# step-6:      print() "
   ]
  },
  {
   "cell_type": "code",
   "execution_count": null,
   "id": "eff7e166-5e64-47a1-8ab4-e44adeb0b65e",
   "metadata": {},
   "outputs": [],
   "source": [
    "# Q2)\n",
    "\n",
    "# wap ask the user enter the distance\n",
    "# if the distance > 25, then ask the user enter the charge\n",
    "# and print the total charge\n",
    "# otherwise (distance<25) print free ride\n",
    "# IDEA\n",
    "\n",
    "# step-1: distance=eval()\n",
    "# step: if <condition>:\n",
    "# step:       charge=eval()\n",
    "# step:       total charge=dist*charge\n",
    "# step: else:\n",
    "# step: print free ride\n"
   ]
  },
  {
   "cell_type": "code",
   "execution_count": null,
   "id": "29f500dd-f308-4609-b0c1-22dc81d5b97a",
   "metadata": {},
   "outputs": [],
   "source": [
    "# Q3)\n",
    "\n",
    "# till 25 free ride\n",
    "# after 25 km \n",
    "# you need to take those upper value\n",
    "# 100km\n",
    "# 100-25=75km\n",
    "\n",
    "# Idea\n",
    "# step-1: calculate the distance you want to travel\n",
    "#         travel_distance=eval()\n",
    "# step-2: free_distance=25km\n",
    "# step-3: if travel_distance=travel_distance-free_distance\n",
    "#         amount_distance>free_distance:\n",
    "#         charge=\n",
    "#         total charge\n",
    "# step-4: else:\n",
    "#         free ride"
   ]
  },
  {
   "cell_type": "code",
   "execution_count": null,
   "id": "529fb14f-c157-43ce-afcb-da8da2794225",
   "metadata": {},
   "outputs": [],
   "source": [
    "# Q4) \n",
    "\n",
    "# Doughter: hey Mom\n",
    "# Mom: Hi beta\n",
    "# d: Mom do you lnow govt has given free ride for us\n",
    "# Mom: Acha great\n",
    "# D: then we will go to grandmother house\n",
    "#cond: show me your id card\n",
    "# Mom: No w dont have id card, my dau has\n",
    "# cond: For you we will take money,for your daughter is free ride\n",
    "# Mom: how much charge\n",
    "# cond: how much distance yu want travel\n",
    "# distance=eval(input(\"Mom says:\"))\n",
    "# if distane>25\n",
    "#     charge=eval(input('conductor says charge'))\n",
    "#     total charge\n",
    "# else:\n",
    "#      print('you are eligible for free ride')"
   ]
  },
  {
   "cell_type": "code",
   "execution_count": null,
   "id": "3b20c9c4-7aa6-44ae-a0dc-96850ba67d2c",
   "metadata": {},
   "outputs": [],
   "source": [
    "# Q5)\n",
    "\n",
    "# wap ask the user\n",
    "# enter cours name\n",
    "# enter institute name\n",
    "# if course name equal to data scieence\n",
    "# and institute name equal to naresh it\n",
    "# then print good\n",
    "# other wise print bad\n",
    "\n",
    "# Idea\n",
    "\n",
    "# step-1: course_name=input()\n",
    "# step-2: inst_name= input()\n",
    "# step-3: if course_name=='' and inst_name==''\n",
    "# step-4: print()"
   ]
  },
  {
   "cell_type": "code",
   "execution_count": 7,
   "id": "ba8d986f-e933-4b1e-8b38-b5f16272af2c",
   "metadata": {},
   "outputs": [
    {
     "name": "stdin",
     "output_type": "stream",
     "text": [
      "Enter course name :  data science\n",
      "Enter inst naame : naresh it\n"
     ]
    },
    {
     "name": "stdout",
     "output_type": "stream",
     "text": [
      "Good\n"
     ]
    }
   ],
   "source": [
    "course_name=input('Enter course name : ')\n",
    "inst_name=input('Enter inst naame :')\n",
    "if course_name=='data science' and inst_name=='naresh it':\n",
    "    print(\"Good\")\n",
    "else:\n",
    "    print(\"Bad\")"
   ]
  },
  {
   "cell_type": "code",
   "execution_count": 11,
   "id": "f533caec-7959-4c7c-ae14-9cefd93ea7a7",
   "metadata": {},
   "outputs": [
    {
     "name": "stdin",
     "output_type": "stream",
     "text": [
      "Enter course name :  data science\n",
      "Enter inst naame : byjus\n"
     ]
    },
    {
     "name": "stdout",
     "output_type": "stream",
     "text": [
      "Good\n"
     ]
    }
   ],
   "source": [
    "course_name=input('Enter course name : ')\n",
    "inst_name=input('Enter inst naame :')\n",
    "if course_name=='data science' or inst_name=='naresh it':\n",
    "    print(\"Good\")\n",
    "else:\n",
    "    print(\"Bad\")"
   ]
  },
  {
   "cell_type": "code",
   "execution_count": null,
   "id": "29436637-f58b-48ca-8c6a-8fe170d11532",
   "metadata": {},
   "outputs": [],
   "source": [
    "# these are the diffrence between and , or "
   ]
  },
  {
   "cell_type": "code",
   "execution_count": 17,
   "id": "566b939d-a35d-4c98-aac9-d5f1debed650",
   "metadata": {},
   "outputs": [
    {
     "ename": "SyntaxError",
     "evalue": "invalid syntax (2251764397.py, line 6)",
     "output_type": "error",
     "traceback": [
      "\u001b[1;36m  Cell \u001b[1;32mIn[17], line 6\u001b[1;36m\u001b[0m\n\u001b[1;33m    if course_name==data science and inst_name=='naresh it':\u001b[0m\n\u001b[1;37m                         ^\u001b[0m\n\u001b[1;31mSyntaxError\u001b[0m\u001b[1;31m:\u001b[0m invalid syntax\n"
     ]
    }
   ],
   "source": [
    "course_name=input()\n",
    "inst_name=input()\n",
    "pref_course_name='data science'\n",
    "pref_inst_name='naresh it'\n",
    "\n",
    "if course_name==pref_course_name and inst_name=='n':\n",
    "        print(\"Good\")\n",
    "else:\n",
    "    print(\"Bad\")"
   ]
  },
  {
   "cell_type": "code",
   "execution_count": 19,
   "id": "610149b4-e032-432a-9fde-b08c24820549",
   "metadata": {},
   "outputs": [
    {
     "name": "stdout",
     "output_type": "stream",
     "text": [
      "hello\n",
      "bye\n"
     ]
    }
   ],
   "source": [
    "print('hello')\n",
    "if 100>10:\n",
    "    print('bye')"
   ]
  },
  {
   "cell_type": "code",
   "execution_count": 21,
   "id": "cdec8252-4e18-4d1b-90b9-0f2f57c0bb36",
   "metadata": {},
   "outputs": [
    {
     "data": {
      "text/plain": [
       "True"
      ]
     },
     "execution_count": 21,
     "metadata": {},
     "output_type": "execute_result"
    }
   ],
   "source": [
    "100>10"
   ]
  },
  {
   "cell_type": "code",
   "execution_count": 23,
   "id": "dda9b4c7-ab26-4feb-9bb2-8cb42f2a8e47",
   "metadata": {},
   "outputs": [
    {
     "name": "stdout",
     "output_type": "stream",
     "text": [
      "hello\n",
      "bye\n"
     ]
    }
   ],
   "source": [
    "print('hello')\n",
    "if True:\n",
    "    print('bye')"
   ]
  },
  {
   "cell_type": "code",
   "execution_count": 25,
   "id": "b85d8a09-17cc-411f-9471-049873547f0e",
   "metadata": {},
   "outputs": [
    {
     "name": "stdout",
     "output_type": "stream",
     "text": [
      "hello\n"
     ]
    }
   ],
   "source": [
    "print('hello')\n",
    "if False:\n",
    "    print('bye')"
   ]
  },
  {
   "cell_type": "code",
   "execution_count": 33,
   "id": "5a1436a9-f1e4-46b5-ab20-687fe6acd16a",
   "metadata": {},
   "outputs": [
    {
     "name": "stdout",
     "output_type": "stream",
     "text": [
      "hello\n",
      "bye\n",
      "2.5\n"
     ]
    },
    {
     "ename": "ZeroDivisionError",
     "evalue": "division by zero",
     "output_type": "error",
     "traceback": [
      "\u001b[1;31m---------------------------------------------------------------------------\u001b[0m",
      "\u001b[1;31mZeroDivisionError\u001b[0m                         Traceback (most recent call last)",
      "Cell \u001b[1;32mIn[33], line 5\u001b[0m\n\u001b[0;32m      3\u001b[0m \u001b[38;5;28mprint\u001b[39m(\u001b[38;5;124m'\u001b[39m\u001b[38;5;124mbye\u001b[39m\u001b[38;5;124m'\u001b[39m)\n\u001b[0;32m      4\u001b[0m \u001b[38;5;28mprint\u001b[39m(\u001b[38;5;241m5\u001b[39m\u001b[38;5;241m/\u001b[39m\u001b[38;5;241m2\u001b[39m)\n\u001b[1;32m----> 5\u001b[0m \u001b[38;5;28mprint\u001b[39m(\u001b[38;5;241m2\u001b[39m\u001b[38;5;241m/\u001b[39m\u001b[38;5;241m0\u001b[39m)\n\u001b[0;32m      6\u001b[0m \u001b[38;5;28mprint\u001b[39m(\u001b[38;5;124m'\u001b[39m\u001b[38;5;124mgood\u001b[39m\u001b[38;5;124m'\u001b[39m)\n",
      "\u001b[1;31mZeroDivisionError\u001b[0m: division by zero"
     ]
    }
   ],
   "source": [
    "print('hello')\n",
    "if True:\n",
    "    print('bye')\n",
    "    print(5/2)\n",
    "    print(2/0)\n",
    "    print('good')"
   ]
  },
  {
   "cell_type": "code",
   "execution_count": 35,
   "id": "0fcafc7d-01f4-4c99-ba89-ef62555d3a7b",
   "metadata": {},
   "outputs": [
    {
     "name": "stdout",
     "output_type": "stream",
     "text": [
      "hello\n",
      "bye\n",
      "2.5\n",
      "2.0\n",
      "good\n"
     ]
    }
   ],
   "source": [
    "print('hello')\n",
    "if True:\n",
    "    print('bye')\n",
    "    print(5/2)\n",
    "    print(2/1)\n",
    "    print('good')"
   ]
  },
  {
   "cell_type": "code",
   "execution_count": 38,
   "id": "062846a8-5b23-4786-9443-bab1f2278e4b",
   "metadata": {},
   "outputs": [
    {
     "data": {
      "text/plain": [
       "0"
      ]
     },
     "execution_count": 38,
     "metadata": {},
     "output_type": "execute_result"
    }
   ],
   "source": [
    "21/3\n",
    "21//3\n",
    "21%3"
   ]
  },
  {
   "cell_type": "code",
   "execution_count": 42,
   "id": "0ae5abd1-d80b-4667-820d-4aa7ba071bd8",
   "metadata": {},
   "outputs": [
    {
     "data": {
      "text/plain": [
       "1"
      ]
     },
     "execution_count": 42,
     "metadata": {},
     "output_type": "execute_result"
    }
   ],
   "source": [
    "5/2    # 2.5 Normal division\n",
    "5//2   # 2   floor division\n",
    "5%2    # 1   modulus\n",
    "\n",
    "\n",
    "- modulus takes the remainder\n",
    "- normal division gives normal division value\n",
    "- floor division takes the round of the quotient"
   ]
  },
  {
   "cell_type": "code",
   "execution_count": 44,
   "id": "918d883c-029a-4c2f-95da-540f9ca60f7a",
   "metadata": {},
   "outputs": [
    {
     "data": {
      "text/plain": [
       "2.5"
      ]
     },
     "execution_count": 44,
     "metadata": {},
     "output_type": "execute_result"
    }
   ],
   "source": [
    "5/2\n"
   ]
  },
  {
   "cell_type": "code",
   "execution_count": 46,
   "id": "5db8881e-f2c7-499b-9e5f-46d738bdcd21",
   "metadata": {},
   "outputs": [
    {
     "data": {
      "text/plain": [
       "2"
      ]
     },
     "execution_count": 46,
     "metadata": {},
     "output_type": "execute_result"
    }
   ],
   "source": [
    "5//2"
   ]
  },
  {
   "cell_type": "code",
   "execution_count": 48,
   "id": "b8e4a261-004d-4710-b711-4260b0275231",
   "metadata": {},
   "outputs": [
    {
     "data": {
      "text/plain": [
       "1"
      ]
     },
     "execution_count": 48,
     "metadata": {},
     "output_type": "execute_result"
    }
   ],
   "source": [
    "5%2"
   ]
  },
  {
   "cell_type": "code",
   "execution_count": null,
   "id": "adf6e208-dfae-4f7d-8798-b35114389bfd",
   "metadata": {},
   "outputs": [],
   "source": [
    "# Q6)\n",
    "\n",
    "# ask the user take the number from keyborad\n",
    "# print the number is even or odd\n",
    "\n",
    "# Idea\n",
    "\n",
    "# step-1:  num=eval(input())\n"
   ]
  },
  {
   "cell_type": "code",
   "execution_count": 5,
   "id": "44a2fc03-8d97-4a93-8038-3cd68e486488",
   "metadata": {},
   "outputs": [
    {
     "name": "stdin",
     "output_type": "stream",
     "text": [
      "enter number :  5\n"
     ]
    },
    {
     "name": "stdout",
     "output_type": "stream",
     "text": [
      "5 is an odd number\n"
     ]
    }
   ],
   "source": [
    "num=eval(input('enter number : '))\n",
    "if (num%2==0):\n",
    "    print(f'{num} is an even number')\n",
    "else:\n",
    "    print(f'{num} is an odd number')"
   ]
  },
  {
   "cell_type": "code",
   "execution_count": null,
   "id": "2eaec0e0-bfd1-4d3e-a6a5-ef51168e653c",
   "metadata": {},
   "outputs": [],
   "source": [
    "# Q7) \n",
    "\n",
    "# ask the user get a random number between 1 to 100\n",
    "# print the number is even or odd\n",
    "\n",
    "#\n",
    "#  import random"
   ]
  },
  {
   "cell_type": "code",
   "execution_count": 3,
   "id": "86dbc351-f88e-48b4-8cd3-57466181533d",
   "metadata": {},
   "outputs": [
    {
     "name": "stdout",
     "output_type": "stream",
     "text": [
      "50 is an even number\n"
     ]
    }
   ],
   "source": [
    "import random\n",
    "num=random.randint(1,100)\n",
    "if (num%2==0):\n",
    "    print(f'{num} is an even number')\n",
    "else:\n",
    "    print(f'{num} is an odd number')"
   ]
  },
  {
   "cell_type": "markdown",
   "id": "301b15be-04cc-4eb1-98e8-b7b065875222",
   "metadata": {},
   "source": [
    "**Concentrate how we are providing the numbers**\n",
    "\n",
    "- we can provide hard code: **direct value**\n",
    "\n",
    "- we can provide from keyboard: **input**\n",
    "\n",
    "- we can provide randomly: **using random package**"
   ]
  },
  {
   "cell_type": "code",
   "execution_count": null,
   "id": "4e28b075-c1cf-4ee4-b31c-d62ac6b7c12c",
   "metadata": {},
   "outputs": [],
   "source": []
  },
  {
   "cell_type": "code",
   "execution_count": null,
   "id": "1003cc8f-19c3-4525-a34e-3b691da6fc1b",
   "metadata": {},
   "outputs": [],
   "source": [
    "# Q8)\n",
    "\n",
    "# wap ask the user get a random integer number between 1 to 10\n",
    "#  ask the user take another number from keyboard\n",
    "# if n1 equal to n2 :\n",
    "# else\n",
    "#     print loss\n",
    "\n",
    "# 1-: n1=random number\n",
    "# 2 : n2=eval(input())\n",
    "# 3: "
   ]
  },
  {
   "cell_type": "code",
   "execution_count": 45,
   "id": "9793c636-359e-42fa-97c2-d6756e78a0e8",
   "metadata": {},
   "outputs": [
    {
     "name": "stdin",
     "output_type": "stream",
     "text": [
      "Enter the number :  10\n"
     ]
    },
    {
     "name": "stdout",
     "output_type": "stream",
     "text": [
      "you loss\n"
     ]
    }
   ],
   "source": [
    "import random\n",
    "n1=random.randint(1,10)\n",
    "n2=eval(input(\"Enter the number : \"))\n",
    "if n1==n2:\n",
    "    print(\"you won\")\n",
    "else:\n",
    "    print(\"you loss\")"
   ]
  },
  {
   "cell_type": "markdown",
   "id": "c1678b21-9d85-4211-b427-8738a4a5b5c9",
   "metadata": {},
   "source": [
    "- Till now we have seen if-else\n",
    "\n",
    "- two output based on one condition\n",
    "\n",
    "- there are three output based on two condition\n",
    "\n",
    "- if-elif-else\n",
    "- if con:\n",
    "        statement\n",
    "\n",
    "- elif con:\n",
    "            statement\n",
    "\n",
    "- else:\n",
    "        statement"
   ]
  },
  {
   "cell_type": "markdown",
   "id": "df78f8e4-fd0c-47dc-a72b-885b72e345bb",
   "metadata": {},
   "source": [
    "***Date: 30 - 7 - 24**"
   ]
  },
  {
   "cell_type": "code",
   "execution_count": null,
   "id": "857cea72-48f5-46cd-aed9-7a1e3b9f097a",
   "metadata": {},
   "outputs": [],
   "source": [
    "3# Q9)\n",
    "\n",
    "# wap ask user enter a number\n",
    "#    if num equal to one then print('one')\n",
    "#    if num equal to twp then print('two')\n",
    "#    if num equal to three then print('three')\n",
    "#    if num equal to four then print('four')\n",
    "\n",
    "# if-elif"
   ]
  },
  {
   "cell_type": "code",
   "execution_count": 10,
   "id": "d7ed26de-d0ac-4baf-a478-3eb5229fa75e",
   "metadata": {},
   "outputs": [
    {
     "name": "stdin",
     "output_type": "stream",
     "text": [
      "enter the number:  3\n"
     ]
    },
    {
     "name": "stdout",
     "output_type": "stream",
     "text": [
      "three\n"
     ]
    }
   ],
   "source": [
    "\n",
    "num=eval(input('enter the number: '))\n",
    "if num==1:\n",
    "    print('one')\n",
    "elif num==2:\n",
    "    print('two')\n",
    "elif num==3:\n",
    "    print('three')\n",
    "elif num==4:\n",
    "    print('four')\n",
    "else:\n",
    "    print('enter valid number')"
   ]
  },
  {
   "cell_type": "code",
   "execution_count": 16,
   "id": "92b2a990-3be7-4967-a076-df932fcc5499",
   "metadata": {},
   "outputs": [],
   "source": [
    "if num==1:\n",
    "    print('one')\n",
    "\n",
    "if num==2:\n",
    "    print('two')"
   ]
  },
  {
   "cell_type": "code",
   "execution_count": null,
   "id": "a5d81bc4-0f5a-42ea-956b-bbdc0de696e1",
   "metadata": {},
   "outputs": [],
   "source": [
    "# wap ask the user enter a percentage\n",
    "# if the percentage greater tha 90 print grade A\n",
    "# if the per greater between 75 to 90 print grade B\n",
    "# if the per greater between 60 to 75 print grade C\n",
    "# if the per greater between 40 to 60 print grade D\n",
    "# if the per greater between less tha 40 print fail"
   ]
  },
  {
   "cell_type": "code",
   "execution_count": 7,
   "id": "86453309-de3e-4aa6-9f60-bed867f6e0be",
   "metadata": {},
   "outputs": [
    {
     "name": "stdin",
     "output_type": "stream",
     "text": [
      "enter the percentage:  90\n"
     ]
    },
    {
     "name": "stdout",
     "output_type": "stream",
     "text": [
      "Grade: A \n"
     ]
    }
   ],
   "source": [
    "percentage=eval(input('enter the percentage: '))\n",
    "if percentage>=90:\n",
    "    print(\"Grade: A \")\n",
    "elif percentage>=75 :\n",
    "    print(\"Grade B\")\n",
    "elif percentage>=60:\n",
    "    print(\"Grade C\")\n",
    "elif percentage>=40:\n",
    "    print(\"Grade D\")\n",
    "else:\n",
    "    print(\"Fail\")\n",
    "    "
   ]
  },
  {
   "cell_type": "code",
   "execution_count": null,
   "id": "d518f25f-d23b-4836-bc05-fb381de63047",
   "metadata": {},
   "outputs": [],
   "source": []
  },
  {
   "cell_type": "markdown",
   "id": "e6f7a733-58f0-41e7-8cfb-7f9d3bbe6b27",
   "metadata": {},
   "source": [
    "- when ever we use if-elif code will stop first True condition only\n",
    "\n",
    "- For example in above code per=99\n",
    "\n",
    "- it satisfy all condition but first one only print\n",
    "\n",
    "- "
   ]
  },
  {
   "cell_type": "code",
   "execution_count": 3,
   "id": "f24b1452-1c99-41dd-ad90-2d2e7bf26145",
   "metadata": {},
   "outputs": [
    {
     "name": "stdin",
     "output_type": "stream",
     "text": [
      "enter the percentage:  7\n"
     ]
    },
    {
     "name": "stdout",
     "output_type": "stream",
     "text": [
      "Fail\n"
     ]
    }
   ],
   "source": [
    "percentage=eval(input('enter the percentage: '))\n",
    "if percentage>=90:\n",
    "    print(\"Grade A : \")\n",
    "elif percentage>=75 :\n",
    "    print(\"Grade B\")\n",
    "if percentage>=60:\n",
    "    print(\"Grade C\")\n",
    "if percentage>=40:\n",
    "    print(\"Grade D\")\n",
    "else:\n",
    "    print(\"Fail\")\n",
    "    "
   ]
  },
  {
   "cell_type": "code",
   "execution_count": 29,
   "id": "93aa99f6-3bad-4cba-81c4-596307b88afd",
   "metadata": {},
   "outputs": [
    {
     "name": "stdin",
     "output_type": "stream",
     "text": [
      "enter the percentage:  99\n"
     ]
    },
    {
     "name": "stdout",
     "output_type": "stream",
     "text": [
      "Grade B\n",
      "Grade C\n",
      "Grade D\n"
     ]
    }
   ],
   "source": [
    "percentage=eval(input('enter the percentage: '))\n",
    "if False:\n",
    "    print(\"Grade A\")\n",
    "if percentage>=75 :\n",
    "    print(\"Grade B\")\n",
    "if percentage>=60:\n",
    "    print(\"Grade C\")\n",
    "if percentage>=40:\n",
    "    print(\"Grade D\")\n",
    "else:\n",
    "    print(\"Fail\")"
   ]
  },
  {
   "cell_type": "code",
   "execution_count": null,
   "id": "df22dcea-1c3d-40e1-a385-f5a7cb53008c",
   "metadata": {},
   "outputs": [],
   "source": [
    "# wap ask the user enter a age\n",
    "# if the age greater tha 100 print unlucky\n",
    "# if the age greater between 60 to 100 print ss\n",
    "# if the age greater between 30 to 60 print middle age\n",
    "# if the age greater between 20 to 30 print young\n",
    "# if the age greater between  10 to 20 print teenage\n",
    "# otherwise print kid"
   ]
  },
  {
   "cell_type": "code",
   "execution_count": 9,
   "id": "52b625b7-8c48-49a3-b526-3fcbe8493402",
   "metadata": {},
   "outputs": [
    {
     "name": "stdin",
     "output_type": "stream",
     "text": [
      "enter the percentage:  50\n"
     ]
    },
    {
     "name": "stdout",
     "output_type": "stream",
     "text": [
      "middle age\n"
     ]
    }
   ],
   "source": [
    "age=eval(input('enter the percentage: '))\n",
    "if age>=100:\n",
    "    print(\"unlucky person\")\n",
    "elif age>=60 :\n",
    "    print(\"senior citizen\")\n",
    "elif age>=30:\n",
    "    print(\"middle age\")\n",
    "elif age>=20:\n",
    "    print(\"young age\")\n",
    "elif age>=10:\n",
    "    print(\"Teenage\")\n",
    "else:\n",
    "    print(\"Kid\")"
   ]
  },
  {
   "cell_type": "code",
   "execution_count": null,
   "id": "d7b5382a-070b-421e-8c8b-59b27ba9a0c9",
   "metadata": {},
   "outputs": [],
   "source": [
    "# wap ask the user enter the distance\n",
    "# if the distance is greater tha 50\n",
    "#       ask the charge= 10\n",
    "#       print the total charge\n",
    "# If the distance is between 25 to 50\n",
    "#         ask the user charge = 5\n",
    "#         print the user charge\n",
    "# If the distance is between 10 to 25\n",
    "#         ask the user charge = 2\n",
    "#        print the total charge\n",
    "# else free ride"
   ]
  },
  {
   "cell_type": "code",
   "execution_count": null,
   "id": "55a16313-a73e-4feb-9d7c-315585a3faec",
   "metadata": {},
   "outputs": [],
   "source": [
    "distance= eval(input('enter distance: '))\n",
    "if distance>=50:\n",
    "    charge=eval(input('Enter charge:'))\n",
    "    print(distance*charge)\n",
    "elif distance>=25:\n",
    "    charge=eval(input('Enter charge'))\n",
    "    print(distance*charge)\n",
    "elif distance>=10:\n",
    "    charge"
   ]
  },
  {
   "cell_type": "code",
   "execution_count": null,
   "id": "d930d8ca-af1a-46a9-8429-97dad091c191",
   "metadata": {},
   "outputs": [],
   "source": [
    "# ask the user number 1\n",
    "# ask the user number 3\n"
   ]
  },
  {
   "cell_type": "code",
   "execution_count": null,
   "id": "e33189fe-8618-494d-ac14-556fcdaef12d",
   "metadata": {},
   "outputs": [],
   "source": []
  },
  {
   "cell_type": "code",
   "execution_count": null,
   "id": "cadee356-020e-435c-9dfa-e115fc6692ea",
   "metadata": {},
   "outputs": [],
   "source": [
    "# wao ask the user enter a number\n",
    "# if number greater than equal to zero\n",
    "#    if number equal to zero\n",
    "#            print it is a zero\n",
    "#    else\n",
    "#         print it is a possitive number\n",
    "# else\n",
    "#      print it is a negative number"
   ]
  },
  {
   "cell_type": "code",
   "execution_count": 43,
   "id": "fbabf8fe-e938-49ac-bff0-6e3298937352",
   "metadata": {},
   "outputs": [
    {
     "name": "stdin",
     "output_type": "stream",
     "text": [
      "enter the number -6\n"
     ]
    },
    {
     "name": "stdout",
     "output_type": "stream",
     "text": [
      "It is a negative\n"
     ]
    }
   ],
   "source": [
    "number=eval(input('enter the number'))\n",
    "if number>=0:\n",
    "    if number==0:\n",
    "        print(\"it is a zero number\")\n",
    "    else:\n",
    "        print(\"it is a possitive number\")\n",
    "else:\n",
    "    print(\"It is a negative\")\n"
   ]
  },
  {
   "cell_type": "code",
   "execution_count": 97,
   "id": "4913a3fd-93a3-4206-b3f7-06f126c3cee0",
   "metadata": {},
   "outputs": [
    {
     "ename": "SyntaxError",
     "evalue": "invalid syntax (2243608674.py, line 36)",
     "output_type": "error",
     "traceback": [
      "\u001b[1;36m  Cell \u001b[1;32mIn[97], line 36\u001b[1;36m\u001b[0m\n\u001b[1;33m    elif gender=='female':\u001b[0m\n\u001b[1;37m    ^\u001b[0m\n\u001b[1;31mSyntaxError\u001b[0m\u001b[1;31m:\u001b[0m invalid syntax\n"
     ]
    }
   ],
   "source": [
    "# wap \n",
    "# ask the user enter gender\n",
    "# if gender equal to male\n",
    "#      ask the user enter age\n",
    "#      if age greaer than 60 print sc\n",
    "#      if age greater between 30 to 60 print MM\n",
    "#      if age greater than 10 print young man\n",
    "#       other wise print Boy\n",
    "# if gender equal to female\n",
    "#       ask the user enter age\n",
    "#       if age greater than 60 print ss\n",
    "#       if age greater between 30 to 60 print MW\n",
    "#       if age between 10 to 20 print young girl\n",
    "#       other wise print Girl\n",
    "# other wise print enter a valid gender\n",
    "\n",
    "\n",
    "\n",
    "gender=input('Enter your Gender: ')\n",
    "if gender=='male':\n",
    "    age=eval(input(\"Enter your Age: \"))\n",
    "if age>60:\n",
    "    print(\"senior citizen\")\n",
    "elif 30<=age<=60:\n",
    "    print(\"middle age\")\n",
    "elif age>10:\n",
    "    print(\"young man\")\n",
    "elif age<10:\n",
    "    print(\"Kid\")\n",
    "else:\n",
    "    print(\"Boy\")\n",
    "\n",
    "\n",
    "\n",
    "gender=input('Enter your Gender: ')\n",
    "elif gender=='female':\n",
    "    age=eval(input(\"Enter your Age: \"))\n",
    "    if age>60:\n",
    "        print(\"senior citizen\")\n",
    "    elif 30<=age<=60:\n",
    "        print(\"middle age\")\n",
    "    elif age>10:\n",
    "        print(\"young girl\")\n",
    "    elif age<10:\n",
    "        print(\"Kid\")\n",
    "    else:\n",
    "        print(\"Girl\")\n",
    "else:\n",
    "    print(\"Enter valid gender\")\n",
    "        "
   ]
  },
  {
   "cell_type": "code",
   "execution_count": 99,
   "id": "8f3914a8-7b75-4471-a1eb-346aa9248235",
   "metadata": {},
   "outputs": [
    {
     "name": "stdin",
     "output_type": "stream",
     "text": [
      "enter the number 2\n"
     ]
    },
    {
     "name": "stdout",
     "output_type": "stream",
     "text": [
      "it is a possitive number\n"
     ]
    },
    {
     "name": "stdin",
     "output_type": "stream",
     "text": [
      "enter the number 4\n"
     ]
    },
    {
     "name": "stdout",
     "output_type": "stream",
     "text": [
      "it is possitive number\n"
     ]
    }
   ],
   "source": [
    "number=eval(input('enter the number'))\n",
    "if number>=0:\n",
    "    if number==0:\n",
    "        print(\"it is a zero number\")\n",
    "    else:\n",
    "        print(\"it is a possitive number\")\n",
    "else:\n",
    "    print(\"It is a negative\")\n",
    "\n",
    "###############################################\n",
    "\n",
    "number=eval(input('enter the number'))\n",
    "if number>0:\n",
    "    print(\"it is possitive number\")\n",
    "elif number<0:\n",
    "    print(\"Negative number\")\n",
    "else:\n",
    "    print(\"It is a negative\")"
   ]
  },
  {
   "cell_type": "code",
   "execution_count": 101,
   "id": "1a57a86e-7c11-4905-b777-3941befdd66c",
   "metadata": {},
   "outputs": [
    {
     "data": {
      "text/plain": [
       "5"
      ]
     },
     "execution_count": 101,
     "metadata": {},
     "output_type": "execute_result"
    }
   ],
   "source": [
    "12345%10"
   ]
  },
  {
   "cell_type": "code",
   "execution_count": 103,
   "id": "8ba1d1f9-0a5c-4140-a3cb-0829da05fa85",
   "metadata": {},
   "outputs": [
    {
     "data": {
      "text/plain": [
       "1234"
      ]
     },
     "execution_count": 103,
     "metadata": {},
     "output_type": "execute_result"
    }
   ],
   "source": [
    "12345//10"
   ]
  },
  {
   "cell_type": "code",
   "execution_count": 105,
   "id": "b71fce19-cab0-4389-9d1e-6fe7d54e2c40",
   "metadata": {},
   "outputs": [
    {
     "data": {
      "text/plain": [
       "4"
      ]
     },
     "execution_count": 105,
     "metadata": {},
     "output_type": "execute_result"
    }
   ],
   "source": [
    "1234%10"
   ]
  },
  {
   "cell_type": "code",
   "execution_count": 107,
   "id": "efc0cc33-dae7-495a-ad2f-9620bee99c83",
   "metadata": {},
   "outputs": [
    {
     "data": {
      "text/plain": [
       "123"
      ]
     },
     "execution_count": 107,
     "metadata": {},
     "output_type": "execute_result"
    }
   ],
   "source": [
    "1234//10"
   ]
  },
  {
   "cell_type": "code",
   "execution_count": 109,
   "id": "12171946-8bee-4105-b19e-71c45e2d1aef",
   "metadata": {},
   "outputs": [
    {
     "data": {
      "text/plain": [
       "3"
      ]
     },
     "execution_count": 109,
     "metadata": {},
     "output_type": "execute_result"
    }
   ],
   "source": [
    "abs(2-5)"
   ]
  },
  {
   "cell_type": "code",
   "execution_count": null,
   "id": "8dc7af24-fb0e-4e62-9a6b-5a790347abe8",
   "metadata": {},
   "outputs": [],
   "source": [
    "**absolute**\n",
    "\n",
    "- it will like a mod\n",
    "- |-5|=5"
   ]
  },
  {
   "cell_type": "code",
   "execution_count": 111,
   "id": "01154778-e90d-4dda-9357-256a7e2f4934",
   "metadata": {},
   "outputs": [
    {
     "name": "stdin",
     "output_type": "stream",
     "text": [
      "enter the percentage:  30\n"
     ]
    },
    {
     "name": "stdout",
     "output_type": "stream",
     "text": [
      "Fail\n"
     ]
    }
   ],
   "source": [
    "# percentage code\n",
    "\n",
    "percentage=eval(input('enter the percentage: '))\n",
    "if percentage>=90:\n",
    "    print(\"Grade A\")\n",
    "if percentage>=75 :\n",
    "    print(\"Grade B\")\n",
    "if percentage>=60:\n",
    "    print(\"Grade C\")\n",
    "if percentage>=40:\n",
    "    print(\"Grade D\")\n",
    "else:\n",
    "    print(\"Fail\")\n",
    "    "
   ]
  },
  {
   "cell_type": "code",
   "execution_count": null,
   "id": "66c4f605-0a99-4d71-90bc-ecd61b3413bb",
   "metadata": {},
   "outputs": [],
   "source": []
  }
 ],
 "metadata": {
  "kernelspec": {
   "display_name": "Python 3 (ipykernel)",
   "language": "python",
   "name": "python3"
  },
  "language_info": {
   "codemirror_mode": {
    "name": "ipython",
    "version": 3
   },
   "file_extension": ".py",
   "mimetype": "text/x-python",
   "name": "python",
   "nbconvert_exporter": "python",
   "pygments_lexer": "ipython3",
   "version": "3.12.4"
  }
 },
 "nbformat": 4,
 "nbformat_minor": 5
}
