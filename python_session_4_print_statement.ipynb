{
 "cells": [
  {
   "cell_type": "markdown",
   "id": "cdfbc9a0-8a4d-4fe3-b7fb-fc2c6469e864",
   "metadata": {},
   "source": [
    "# print staement                                                                                                                                                                                                                                                                "
   ]
  },
  {
   "cell_type": "code",
   "execution_count": null,
   "id": "244e5b05-7809-450d-b5e0-76787543c6d9",
   "metadata": {},
   "outputs": [],
   "source": []
  },
  {
   "cell_type": "code",
   "execution_count": null,
   "id": "078f5a5a-63d5-40a8-94a7-d7e49c2e69b8",
   "metadata": {},
   "outputs": [],
   "source": []
  },
  {
   "cell_type": "code",
   "execution_count": 3,
   "id": "07819fdc-7e53-4901-bd77-dc68080f470f",
   "metadata": {},
   "outputs": [
    {
     "data": {
      "text/plain": [
       "200"
      ]
     },
     "execution_count": 3,
     "metadata": {},
     "output_type": "execute_result"
    }
   ],
   "source": [
    "num1=100\n",
    "num2=200\n",
    "num1\n",
    "num2"
   ]
  },
  {
   "cell_type": "code",
   "execution_count": 5,
   "id": "491a73da-82b2-4d62-8cbf-201379ca9d4e",
   "metadata": {},
   "outputs": [
    {
     "name": "stdout",
     "output_type": "stream",
     "text": [
      "100\n",
      "200\n"
     ]
    }
   ],
   "source": [
    "num1=100\n",
    "num2=200\n",
    "print(num1)\n",
    "print(num2)"
   ]
  },
  {
   "cell_type": "code",
   "execution_count": 1,
   "id": "35f6b8d6-553e-498e-a020-d6788392fe90",
   "metadata": {},
   "outputs": [
    {
     "name": "stdout",
     "output_type": "stream",
     "text": [
      "100 200\n"
     ]
    }
   ],
   "source": [
    "num1=100\n",
    "num2=200\n",
    "print(num1,num2)"
   ]
  },
  {
   "cell_type": "code",
   "execution_count": 9,
   "id": "c103ed12-9940-4693-8a23-f6012ee51695",
   "metadata": {},
   "outputs": [
    {
     "name": "stdout",
     "output_type": "stream",
     "text": [
      "100 200\n",
      "10 20 30\n",
      "hello\n"
     ]
    }
   ],
   "source": [
    "num1=100\n",
    "num2=200\n",
    "print(num1,num2)\n",
    "print(10,20,30)\n",
    "print('hello')\n",
    "\n"
   ]
  },
  {
   "cell_type": "code",
   "execution_count": 38,
   "id": "fcd8c2ce-9873-4be2-9125-9da2ed8c07f3",
   "metadata": {},
   "outputs": [
    {
     "name": "stdout",
     "output_type": "stream",
     "text": [
      "100 200\n",
      "10 20 30\n",
      "hello\n",
      "hello bye\n"
     ]
    }
   ],
   "source": [
    "num1=100\n",
    "num2=200\n",
    "print(num1,num2)\n",
    "print(10,20,30)\n",
    "print('hello')\n",
    "print('hello', 'bye')"
   ]
  },
  {
   "cell_type": "code",
   "execution_count": 17,
   "id": "370b9eac-0818-4ae5-b6e4-712f3c98bcc2",
   "metadata": {},
   "outputs": [
    {
     "name": "stdout",
     "output_type": "stream",
     "text": [
      "the addition of 10 and 20 is 30\n",
      " the addition of a and b is c\n",
      "the addition of 10 and 20 is 30\n"
     ]
    }
   ],
   "source": [
    "a=10\n",
    "b=20\n",
    "c=a+b\n",
    "c\n",
    "# the addition of 10 and 20 is 30\n",
    "print(\"the addition of 10 and 20 is 30\")\n",
    "print(\" the addition of a and b is c\")\n",
    "print(\"the addition of\",a, \"and\",b, 'is',c)"
   ]
  },
  {
   "cell_type": "code",
   "execution_count": 6,
   "id": "907c9bfb-f311-4138-8448-1f87f7084341",
   "metadata": {},
   "outputs": [
    {
     "name": "stdout",
     "output_type": "stream",
     "text": [
      "my name is python, Im 10 years old and i came from Hyd\n",
      "my name is python Im 10 years old and I came from Hyd\n"
     ]
    }
   ],
   "source": [
    "# Name='python'\n",
    "#Age='10'\n",
    "# city='Hyd'\n",
    "# my name is python Im 10 years old came from Hyd\n",
    "\n",
    "name='python'\n",
    "age='10'\n",
    "city='Hyd'\n",
    "print(\"my name is python, Im 10 years old and i came from Hyd\")\n",
    "print(\"my name is\",name,\"Im\",age,\"years old and I came from\",city)\n"
   ]
  },
  {
   "cell_type": "markdown",
   "id": "38115656-64df-4db5-92ab-a9053eef37f5",
   "metadata": {},
   "source": [
    "**format metod**"
   ]
  },
  {
   "cell_type": "code",
   "execution_count": 45,
   "id": "1ffa6092-dd0f-4e2d-b81a-9233865273aa",
   "metadata": {},
   "outputs": [
    {
     "name": "stdout",
     "output_type": "stream",
     "text": [
      "the addition of 10,20 is 30\n"
     ]
    }
   ],
   "source": [
    "a=10\n",
    "b=20\n",
    "c=a+b\n",
    "\n",
    "# how you want to write the print\n",
    "# the addition of 10,20 is 30\n",
    "\n",
    "print(\"the addition of 10,20 is 30\")"
   ]
  },
  {
   "cell_type": "code",
   "execution_count": 47,
   "id": "ae9a9d0a-6754-4cd7-9359-04f1ce0356dd",
   "metadata": {},
   "outputs": [
    {
     "name": "stdout",
     "output_type": "stream",
     "text": [
      " The addition of {},{} is {}\n"
     ]
    }
   ],
   "source": [
    "a=10\n",
    "b=20\n",
    "c=a+b\n",
    "print(\" The addition of {},{} is {}\")"
   ]
  },
  {
   "cell_type": "code",
   "execution_count": 49,
   "id": "b931d845-2be0-4654-bcf8-3d693f5dd85e",
   "metadata": {},
   "outputs": [
    {
     "name": "stdout",
     "output_type": "stream",
     "text": [
      "The addition of 10,20 is30\n"
     ]
    }
   ],
   "source": [
    "a=10\n",
    "b=20\n",
    "c=a+b\n",
    "print(\"The addition of {},{} is{}\".format(a,b,c))"
   ]
  },
  {
   "cell_type": "code",
   "execution_count": 10,
   "id": "29b91973-9ca2-4efb-a468-bd6edf65a9c6",
   "metadata": {},
   "outputs": [
    {
     "name": "stdout",
     "output_type": "stream",
     "text": [
      " the addition of100 and 200 is 300\n",
      " the substrsction of100 and 200 is -100\n",
      " the multiplication of100 and 200 is 20000\n",
      " the division of100 and 200 is 0.5\n"
     ]
    }
   ],
   "source": [
    "# Take two number\n",
    "# add\n",
    "# mul\n",
    "# sub\n",
    "# div\n",
    "# n1=<number one>\n",
    "# n2=<number two>\n",
    "# add=<>\n",
    "# sub=<>\n",
    "# mul=<>\n",
    "# div=<>\n",
    "# the additon of n1 and n2 is  add\n",
    "# the substracton of n1 and n2 is sub\n",
    "\n",
    "n1=100\n",
    "n2=200\n",
    "add=n1+n2\n",
    "sub=n1-n2\n",
    "mul=n1*n2\n",
    "div=n1/n2\n",
    "\n",
    "print(\" the addition of{} and {} is {}\". format(n1,n2,add))\n",
    "print(\" the substrsction of{} and {} is {}\". format(n1,n2,sub))\n",
    "print(\" the multiplication of{} and {} is {}\". format(n1,n2,mul))\n",
    "print(\" the division of{} and {} is {}\". format(n1,n2,div))\n",
    "\n"
   ]
  },
  {
   "cell_type": "markdown",
   "id": "cf036f6e-7cfe-4ab1-b780-9f315af3a1e8",
   "metadata": {},
   "source": [
    "**string method**"
   ]
  },
  {
   "cell_type": "code",
   "execution_count": null,
   "id": "f8745730-5cc6-49c6-a788-50f86f774850",
   "metadata": {},
   "outputs": [],
   "source": []
  },
  {
   "cell_type": "markdown",
   "id": "0c6182b5-d328-48a5-b69c-add8904bfae2",
   "metadata": {},
   "source": [
    "**end**"
   ]
  },
  {
   "cell_type": "code",
   "execution_count": 27,
   "id": "7ea71fe2-9b8b-4d56-915e-bd4814987e8a",
   "metadata": {},
   "outputs": [
    {
     "name": "stdout",
     "output_type": "stream",
     "text": [
      "10\n",
      "20\n"
     ]
    }
   ],
   "source": [
    "print(10)\n",
    "print(20)\n",
    "\n",
    "# using two print statement\n",
    "# we need to write 10,20"
   ]
  },
  {
   "cell_type": "code",
   "execution_count": 29,
   "id": "00e6fb4c-0e75-4d35-8aca-4b464ff6a35d",
   "metadata": {},
   "outputs": [
    {
     "name": "stdout",
     "output_type": "stream",
     "text": [
      "1020\n"
     ]
    }
   ],
   "source": [
    "print(10, end='')\n",
    "print(20)"
   ]
  },
  {
   "cell_type": "code",
   "execution_count": 31,
   "id": "76ecea8a-15c9-4dbe-84b4-9e599df27b5f",
   "metadata": {},
   "outputs": [
    {
     "name": "stdout",
     "output_type": "stream",
     "text": [
      "10-->20\n"
     ]
    }
   ],
   "source": [
    "print(10, end='-->')\n",
    "print(20)\n",
    "      "
   ]
  },
  {
   "cell_type": "code",
   "execution_count": 53,
   "id": "139c03a8-97db-4c08-aed1-8680dfdb58d0",
   "metadata": {},
   "outputs": [
    {
     "name": "stdout",
     "output_type": "stream",
     "text": [
      "10-->20-->30\n"
     ]
    }
   ],
   "source": [
    "print(10, end='-->')\n",
    "print(20, end='-->')\n",
    "print(30)"
   ]
  },
  {
   "cell_type": "markdown",
   "id": "3cefc59b-f1f0-418d-b42c-38eb75ab6507",
   "metadata": {},
   "source": [
    "**sepetor method**"
   ]
  },
  {
   "cell_type": "code",
   "execution_count": 36,
   "id": "49dc1bc3-d13e-4202-87cc-f992e0b5c856",
   "metadata": {},
   "outputs": [
    {
     "name": "stdout",
     "output_type": "stream",
     "text": [
      "10-->20-->30\n",
      "10*20*30\n"
     ]
    }
   ],
   "source": [
    "# using one print statement\n",
    "# 10-->20-->30\n",
    "# print(10, '-->', 20, '-->')\n",
    "\n",
    "print( 10,20,30, sep='-->')\n",
    "print(10,20,30,sep='*')"
   ]
  },
  {
   "cell_type": "code",
   "execution_count": 14,
   "id": "6617c45d-9926-4bb7-a31b-e551785c03b6",
   "metadata": {},
   "outputs": [
    {
     "name": "stdout",
     "output_type": "stream",
     "text": [
      "10+20=30\n"
     ]
    }
   ],
   "source": [
    "# 10=20=30\n",
    "print(10,end='+')\n",
    "print(20,end='=')\n",
    "print(30)"
   ]
  },
  {
   "cell_type": "code",
   "execution_count": null,
   "id": "59fe2ca3-00b3-4304-80fa-f882d41b3d17",
   "metadata": {},
   "outputs": [],
   "source": []
  },
  {
   "cell_type": "code",
   "execution_count": 5,
   "id": "ba6edb28-8cc9-43df-b8fb-d2e85f21102f",
   "metadata": {},
   "outputs": [
    {
     "name": "stdout",
     "output_type": "stream",
     "text": [
      "the average of 10,20 and 3is 20.0\n",
      "the average of10,20 and 30\n"
     ]
    }
   ],
   "source": [
    "# Q1) wap ask the user take 3 numbers find the average\n",
    "# the average of num1,num2 and num3 is avg using f string and format method\n",
    "# idea\n",
    "# n1=\n",
    "# n2=\n",
    "# n3=\n",
    "#avg=(n1+n2+n3))/3\n",
    "# print using format\n",
    "# print using f string\n",
    "\n",
    "n1=10\n",
    "n2=20\n",
    "n3=30\n",
    "avg=(10+20+30)/3\n",
    "print(f\"the average of {n1},{n2} and {3}is {avg}\") \n",
    "print(\"the average of{},{} and {}\" .format(n1,n2,n3,avg))"
   ]
  },
  {
   "cell_type": "markdown",
   "id": "9a078465-ad8f-47e9-b074-d311def86b4d",
   "metadata": {},
   "source": [
    "# Round #"
   ]
  },
  {
   "cell_type": "code",
   "execution_count": 8,
   "id": "5dce4bcf-11ad-4a0e-bf98-1db589c7dd67",
   "metadata": {},
   "outputs": [
    {
     "data": {
      "text/plain": [
       "41"
      ]
     },
     "execution_count": 8,
     "metadata": {},
     "output_type": "execute_result"
    }
   ],
   "source": [
    "round(40.5678)\n",
    "# you did not provided any decimal "
   ]
  },
  {
   "cell_type": "code",
   "execution_count": 14,
   "id": "0d12d069-3cdf-4df4-a204-2a3645f95964",
   "metadata": {},
   "outputs": [
    {
     "data": {
      "text/plain": [
       "34.8"
      ]
     },
     "execution_count": 14,
     "metadata": {},
     "output_type": "execute_result"
    }
   ],
   "source": [
    "round(40.5678,1)\n",
    "# 34.7 marks fail 35 round of\n",
    "# 34.765 fail 35\n",
    "round(34.765,1)\n",
    "\n",
    "# after point provide only 1 vale : 34.765==34.8\n",
    "# after pont provide only 2 value "
   ]
  },
  {
   "cell_type": "code",
   "execution_count": 16,
   "id": "ecf0aee6-a1b9-481c-9885-d5062150e7c6",
   "metadata": {},
   "outputs": [
    {
     "data": {
      "text/plain": [
       "40.57"
      ]
     },
     "execution_count": 16,
     "metadata": {},
     "output_type": "execute_result"
    }
   ],
   "source": [
    "round(40.5678,2)  # round figure kerte apan"
   ]
  },
  {
   "cell_type": "code",
   "execution_count": 18,
   "id": "4a8e4f6a-969e-41f3-9351-debc9b78911e",
   "metadata": {},
   "outputs": [
    {
     "data": {
      "text/plain": [
       "41"
      ]
     },
     "execution_count": 18,
     "metadata": {},
     "output_type": "execute_result"
    }
   ],
   "source": [
    "round(41.23456789)"
   ]
  },
  {
   "cell_type": "code",
   "execution_count": 20,
   "id": "c5fe12b8-76ca-4513-8852-a7acf82fe704",
   "metadata": {},
   "outputs": [
    {
     "data": {
      "text/plain": [
       "41.2"
      ]
     },
     "execution_count": 20,
     "metadata": {},
     "output_type": "execute_result"
    }
   ],
   "source": [
    "round(41.23456789,1) # 41.<6>"
   ]
  },
  {
   "cell_type": "code",
   "execution_count": 23,
   "id": "1f25350a-b318-451b-991d-578836acbfd8",
   "metadata": {},
   "outputs": [
    {
     "data": {
      "text/plain": [
       "33"
      ]
     },
     "execution_count": 23,
     "metadata": {},
     "output_type": "execute_result"
    }
   ],
   "source": [
    "round(33.123)"
   ]
  },
  {
   "cell_type": "code",
   "execution_count": 25,
   "id": "cd125697-18d5-4b84-9486-8d9368e5589d",
   "metadata": {},
   "outputs": [
    {
     "data": {
      "text/plain": [
       "34"
      ]
     },
     "execution_count": 25,
     "metadata": {},
     "output_type": "execute_result"
    }
   ],
   "source": [
    "round(33.650)"
   ]
  },
  {
   "cell_type": "code",
   "execution_count": 27,
   "id": "3f847c4e-eb60-44ec-bcc3-cdebeeff272c",
   "metadata": {},
   "outputs": [
    {
     "data": {
      "text/plain": [
       "41.675"
      ]
     },
     "execution_count": 27,
     "metadata": {},
     "output_type": "execute_result"
    }
   ],
   "source": [
    "round(41.67456789,3)"
   ]
  },
  {
   "cell_type": "code",
   "execution_count": 29,
   "id": "4fc3d613-0bd2-46ea-aba7-ad345ca41f02",
   "metadata": {},
   "outputs": [
    {
     "name": "stdout",
     "output_type": "stream",
     "text": [
      "the average of 10,20 and 3is 20.0\n",
      "the average of10,20 and 30\n"
     ]
    }
   ],
   "source": [
    "# Q1)\n",
    "n1=10\n",
    "n2=20\n",
    "n3=30\n",
    "avg=(10+20+30)/3\n",
    "avg1=round(avg,2)\n",
    "print(f\"the average of {n1},{n2} and {3}is {avg}\") \n",
    "print(\"the average of{},{} and {}\" .format(n1,n2,n3,avg))"
   ]
  },
  {
   "cell_type": "code",
   "execution_count": 31,
   "id": "d86accaa-e63a-4e0d-8e54-8fab93ec4f0e",
   "metadata": {},
   "outputs": [
    {
     "name": "stdout",
     "output_type": "stream",
     "text": [
      "the average of 10,20 and 3is 20.0\n",
      "the average of10,20 and 30\n"
     ]
    }
   ],
   "source": [
    "n1=10\n",
    "n2=20\n",
    "n3=30\n",
    "avg=round((10+20+30)/3,2)\n",
    "print(f\"the average of {n1},{n2} and {3}is {avg}\") \n",
    "print(\"the average of{},{} and {}\" .format(n1,n2,n3,avg))"
   ]
  },
  {
   "cell_type": "code",
   "execution_count": 3,
   "id": "b8f06d39-5d49-4b72-a037-b220e87db7fb",
   "metadata": {},
   "outputs": [
    {
     "name": "stdout",
     "output_type": "stream",
     "text": [
      "The area of a right angle traingle having 30,40 is 600.0\n",
      "The area of a right angle traingle having 30,40 is 600.0\n"
     ]
    }
   ],
   "source": [
    "# Q2)\n",
    "# write a programe ask the user take height of the traingle\n",
    "#                                breadth of the traingle\n",
    "# calculate the area of the right angle traingle\n",
    "# formula: 1/2*b*h\n",
    "# formula: 1/2*breadth*height\n",
    "\n",
    "breadth=30\n",
    "height=40\n",
    "area=1/2*breadth*height\n",
    "print(f\"The area of a right angle traingle having {breadth},{height} is {area}\")\n",
    "print(\"The area of a right angle traingle having {},{} is {}\".format(breadth,height,area))\n"
   ]
  },
  {
   "cell_type": "code",
   "execution_count": 56,
   "id": "1c21de1f-ecc2-4e65-9d9c-6a969fb3fd80",
   "metadata": {},
   "outputs": [
    {
     "name": "stdout",
     "output_type": "stream",
     "text": [
      "The area of circle having 20 is 1256.0\n",
      "The area of circle having 20 is 1256.0\n"
     ]
    }
   ],
   "source": [
    "# Q3)\n",
    "#write ask the user take the radius of circle\n",
    "#  calculate the area of the circle\n",
    "# formula: pi*r*r  where pi=3.14\n",
    "\n",
    "radius=20\n",
    "pi=3.14\n",
    "area=pi*radius*radius\n",
    "print(f\"The area of circle having {radius} is {area}\")\n",
    "print(\"The area of circle having {} is {}\".format(radius,area))\n",
    "\n",
    "\n"
   ]
  },
  {
   "cell_type": "code",
   "execution_count": null,
   "id": "2e2401d2-2ad4-4dd3-9e74-5806189fa7ab",
   "metadata": {},
   "outputs": [],
   "source": [
    "# Q4)\n",
    "# write ask the user take the length and breadth\n",
    "# calculate area of the rectangle\n",
    "# formula: lenghth*breadth\n",
    "\n"
   ]
  },
  {
   "cell_type": "code",
   "execution_count": 45,
   "id": "8e03cb56-9f7a-48b1-a708-a2f32f1a54a1",
   "metadata": {},
   "outputs": [
    {
     "name": "stdout",
     "output_type": "stream",
     "text": [
      "The total bill is : 1100.0\n"
     ]
    }
   ],
   "source": [
    "# Q5)\n",
    "# wapp ask the how much bill he wants to pay\n",
    "#        how much tip percentage he wants to give\n",
    "#        calculate the totale bill amount\n",
    "\n",
    "# bill amount=1000\n",
    "# you want give 10% tip =1000*10/100\n",
    "# total bill=1000+100=1100\n",
    "\n",
    "bill_amount=1000\n",
    "tip_percentage=10\n",
    "tip_amount=bill_amount*tip_percentage/100\n",
    "total_bill=bill_amount+tip_amount\n",
    "print(f\"The total bill is : {total_bill}\")\n",
    "\n"
   ]
  },
  {
   "cell_type": "code",
   "execution_count": 5,
   "id": "a0304eaf-744f-4770-a2e1-dab632396918",
   "metadata": {},
   "outputs": [
    {
     "name": "stdout",
     "output_type": "stream",
     "text": [
      "Son:  hii dad\n",
      "Dad:  hello beta\n",
      "Dad: your exame result is out\n",
      "Son: yes dad\n",
      "Dad: tell me your percentage\n",
      "Son: dad i will give you marks find percentage\n",
      "Dad: give me your marks\n",
      "Dad : your percentage beta  : 89.67 %\n"
     ]
    }
   ],
   "source": [
    "# Q6) \n",
    "# a story you and dad\n",
    "print(\"Son:  hii dad\")\n",
    "print(\"Dad:  hello beta\")\n",
    "print(\"Dad: your exame result is out\")\n",
    "print(\"Son: yes dad\")\n",
    "print(\"Dad: tell me your percentage\")\n",
    "print(\"Son: dad i will give you marks find percentage\")\n",
    "print(\"Dad: give me your marks\")\n",
    "\n",
    "Telugu=91\n",
    "Hindi=82\n",
    "English=92\n",
    "Science=90\n",
    "Maths=89\n",
    "Social=94\n",
    "\n",
    "percentage = (Telugu+Hindi+English+Science+Maths+Social)/6\n",
    "round_percentage=round(percentage,2)\n",
    "print(f\"Dad : your percentage beta  : {round_percentage} %\")\n",
    "\n"
   ]
  },
  {
   "cell_type": "code",
   "execution_count": 7,
   "id": "fcb5756c-83a3-49f4-9359-be39f57c1bce",
   "metadata": {},
   "outputs": [
    {
     "name": "stdout",
     "output_type": "stream",
     "text": [
      "Guy: hello waiter come\n",
      "waiter: how can i help you sir\n",
      "Guy: i want to eat biryani \n",
      "Waiter: ok sir\n",
      "Guy: give me bill\n",
      "Waiter: take your bill\n",
      "Guy: i dont have indian rupees to pay\n",
      "waiter: we will acept only indian rupees\n",
      "Guy: how much in dollars?\n",
      "Waiter: Around...$ 11.904761904761905\n",
      "Waiter: thanks\n"
     ]
    }
   ],
   "source": [
    "# Q7)\n",
    "\n",
    " # guy have only dollar\n",
    "# guy in hotel not have indian rupees o pay\n",
    "\n",
    "print(\"Guy: hello waiter come\")\n",
    "print(\"waiter: how can i help you sir\")\n",
    "print(\"Guy: i want to eat biryani \")\n",
    "print(\"Waiter: ok sir\")\n",
    "print(\"Guy: give me bill\")\n",
    "print(\"Waiter: take your bill\")\n",
    "bill=1000\n",
    "print(\"Guy: i dont have indian rupees to pay\")\n",
    "print(\"waiter: we will acept only indian rupees\")\n",
    "print(\"Guy: how much in dollars?\")\n",
    "\n",
    "one_dollar_in_rupees=84\n",
    "in_dollar=bill/one_dollar_in_rupees\n",
    "print(f\"Waiter: Around...$ {in_dollar}\")\n",
    "print(\"Waiter: thanks\" )\n",
    "\n",
    "\n"
   ]
  },
  {
   "cell_type": "code",
   "execution_count": null,
   "id": "e4caebc1-8cbf-473b-837b-bbb69ccf2429",
   "metadata": {},
   "outputs": [],
   "source": []
  }
 ],
 "metadata": {
  "kernelspec": {
   "display_name": "Python 3 (ipykernel)",
   "language": "python",
   "name": "python3"
  },
  "language_info": {
   "codemirror_mode": {
    "name": "ipython",
    "version": 3
   },
   "file_extension": ".py",
   "mimetype": "text/x-python",
   "name": "python",
   "nbconvert_exporter": "python",
   "pygments_lexer": "ipython3",
   "version": "3.12.4"
  }
 },
 "nbformat": 4,
 "nbformat_minor": 5
}
