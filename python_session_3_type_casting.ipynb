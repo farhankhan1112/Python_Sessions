{
 "cells": [
  {
   "cell_type": "markdown",
   "id": "bf7415c2-7235-45dc-b616-2bb25da8fa7b",
   "metadata": {},
   "source": [
    "# Type casting"
   ]
  },
  {
   "cell_type": "code",
   "execution_count": 3,
   "id": "40c92aaf-b985-4f31-9744-663a95dc9322",
   "metadata": {},
   "outputs": [
    {
     "data": {
      "text/plain": [
       "int"
      ]
     },
     "execution_count": 3,
     "metadata": {},
     "output_type": "execute_result"
    }
   ],
   "source": [
    "num1=100\n",
    "type(num1)"
   ]
  },
  {
   "cell_type": "code",
   "execution_count": 5,
   "id": "1408fe03-f1b1-4c98-a46d-a840dad902b7",
   "metadata": {},
   "outputs": [
    {
     "data": {
      "text/plain": [
       "100.0"
      ]
     },
     "execution_count": 5,
     "metadata": {},
     "output_type": "execute_result"
    }
   ],
   "source": [
    "float(num1)\n"
   ]
  },
  {
   "cell_type": "code",
   "execution_count": 7,
   "id": "50b240c8-e4b2-4e06-8eea-8a2d3e936f6c",
   "metadata": {},
   "outputs": [
    {
     "data": {
      "text/plain": [
       "100.0"
      ]
     },
     "execution_count": 7,
     "metadata": {},
     "output_type": "execute_result"
    }
   ],
   "source": [
    "num_float=float(num1)\n",
    "num_float"
   ]
  },
  {
   "cell_type": "code",
   "execution_count": 9,
   "id": "798ebb46-408c-4265-846c-d144994dd2a3",
   "metadata": {},
   "outputs": [
    {
     "data": {
      "text/plain": [
       "float"
      ]
     },
     "execution_count": 9,
     "metadata": {},
     "output_type": "execute_result"
    }
   ],
   "source": [
    "type(num_float)"
   ]
  },
  {
   "cell_type": "markdown",
   "id": "56b33a4e-16ae-452a-8f6b-42322c3d3219",
   "metadata": {},
   "source": [
    "**Note :**\n",
    "\n",
    "- num1 is a variable stored value : 100\n",
    "- num1 is a ineger type\n",
    "- to convert float, float(num1)\n",
    "- float(num1) gives 100.0\n",
    "- float(num1) stored in a variable : num_float\n",
    "- num_float is float type"
   ]
  },
  {
   "cell_type": "markdown",
   "id": "1fba0835-4a0c-416c-a766-a7a2a1870718",
   "metadata": {},
   "source": [
    "### 1) integer to string conversion"
   ]
  },
  {
   "cell_type": "code",
   "execution_count": 15,
   "id": "74505b5f-4c46-4054-b5db-ed49012e2935",
   "metadata": {},
   "outputs": [
    {
     "data": {
      "text/plain": [
       "'100'"
      ]
     },
     "execution_count": 15,
     "metadata": {},
     "output_type": "execute_result"
    }
   ],
   "source": [
    "num1=100\n",
    "str(num1)"
   ]
  },
  {
   "cell_type": "code",
   "execution_count": 17,
   "id": "58135860-c455-43df-b5e4-05b06f3247f3",
   "metadata": {},
   "outputs": [
    {
     "data": {
      "text/plain": [
       "'100'"
      ]
     },
     "execution_count": 17,
     "metadata": {},
     "output_type": "execute_result"
    }
   ],
   "source": [
    "num1=100\n",
    "num_string=str(num1)\n",
    "num_string"
   ]
  },
  {
   "cell_type": "code",
   "execution_count": 19,
   "id": "a7e59b8b-5617-49ab-a76f-b9987c3fe852",
   "metadata": {},
   "outputs": [
    {
     "data": {
      "text/plain": [
       "True"
      ]
     },
     "execution_count": 19,
     "metadata": {},
     "output_type": "execute_result"
    }
   ],
   "source": [
    "num2=100\n",
    "num_bool=bool(num2)\n",
    "num_bool"
   ]
  },
  {
   "cell_type": "code",
   "execution_count": 21,
   "id": "b2378401-2125-4719-8cb6-95d0a434cbc0",
   "metadata": {},
   "outputs": [
    {
     "data": {
      "text/plain": [
       "False"
      ]
     },
     "execution_count": 21,
     "metadata": {},
     "output_type": "execute_result"
    }
   ],
   "source": [
    "num3=0\n",
    "num3_bool=bool(num3)\n",
    "num3_bool"
   ]
  },
  {
   "cell_type": "markdown",
   "id": "00614118-b82c-499a-ba87-08a022110d7c",
   "metadata": {},
   "source": [
    "**Note : **\n",
    "\n",
    "- when boolean conversion of integer gives False\n",
    "   - for 0 value, it gives False"
   ]
  },
  {
   "cell_type": "code",
   "execution_count": 26,
   "id": "1ca85253-6f12-49bb-b76b-9225a283c6bc",
   "metadata": {},
   "outputs": [
    {
     "data": {
      "text/plain": [
       "(100.0, '100', True)"
      ]
     },
     "execution_count": 26,
     "metadata": {},
     "output_type": "execute_result"
    }
   ],
   "source": [
    "num1=100\n",
    "num1_float=float(num1)\n",
    "num1_str=str(num1)\n",
    "num1_bool=bool(num1)\n",
    "num1_float, num1_str, num1_bool"
   ]
  },
  {
   "cell_type": "markdown",
   "id": "858c4aeb-4c43-4eb4-852a-3e567860e60d",
   "metadata": {},
   "source": [
    "## 2) string to other data type\n",
    "### case-1"
   ]
  },
  {
   "cell_type": "code",
   "execution_count": 5,
   "id": "3fa6f399-dbfb-4bb2-8882-0e80435f8adb",
   "metadata": {},
   "outputs": [
    {
     "ename": "ValueError",
     "evalue": "invalid literal for int() with base 10: 'apple'",
     "output_type": "error",
     "traceback": [
      "\u001b[1;31m---------------------------------------------------------------------------\u001b[0m",
      "\u001b[1;31mValueError\u001b[0m                                Traceback (most recent call last)",
      "Cell \u001b[1;32mIn[5], line 2\u001b[0m\n\u001b[0;32m      1\u001b[0m \u001b[38;5;28mstr\u001b[39m\u001b[38;5;241m=\u001b[39m\u001b[38;5;124m'\u001b[39m\u001b[38;5;124mapple\u001b[39m\u001b[38;5;124m'\u001b[39m\n\u001b[1;32m----> 2\u001b[0m \u001b[38;5;28mint\u001b[39m(\u001b[38;5;124m'\u001b[39m\u001b[38;5;124mapple\u001b[39m\u001b[38;5;124m'\u001b[39m)\n",
      "\u001b[1;31mValueError\u001b[0m: invalid literal for int() with base 10: 'apple'"
     ]
    }
   ],
   "source": [
    "str='apple'\n",
    "int('apple')"
   ]
  },
  {
   "cell_type": "code",
   "execution_count": 17,
   "id": "91920929-47ed-4f45-84a3-88085efe53ea",
   "metadata": {},
   "outputs": [
    {
     "ename": "TypeError",
     "evalue": "'str' object is not callable",
     "output_type": "error",
     "traceback": [
      "\u001b[1;31m---------------------------------------------------------------------------\u001b[0m",
      "\u001b[1;31mTypeError\u001b[0m                                 Traceback (most recent call last)",
      "Cell \u001b[1;32mIn[17], line 2\u001b[0m\n\u001b[0;32m      1\u001b[0m \u001b[38;5;28mstr\u001b[39m\u001b[38;5;241m=\u001b[39m\u001b[38;5;124m'\u001b[39m\u001b[38;5;124mapple\u001b[39m\u001b[38;5;124m'\u001b[39m\n\u001b[1;32m----> 2\u001b[0m \u001b[38;5;28mfloat\u001b[39m(\u001b[38;5;124m'\u001b[39m\u001b[38;5;124mapple\u001b[39m\u001b[38;5;124m'\u001b[39m)\n",
      "\u001b[1;31mTypeError\u001b[0m: 'str' object is not callable"
     ]
    }
   ],
   "source": [
    "str='apple'\n",
    "float('apple')"
   ]
  },
  {
   "cell_type": "code",
   "execution_count": 21,
   "id": "4038fdc9-def2-41fb-91a1-e54bab5c5f63",
   "metadata": {},
   "outputs": [
    {
     "data": {
      "text/plain": [
       "True"
      ]
     },
     "execution_count": 21,
     "metadata": {},
     "output_type": "execute_result"
    }
   ],
   "source": [
    "str=('apple')\n",
    "bool('apple')"
   ]
  },
  {
   "cell_type": "markdown",
   "id": "96a761f3-fcb0-4f5b-8845-7d8e33d68aa2",
   "metadata": {},
   "source": [
    "#### case-2"
   ]
  },
  {
   "cell_type": "code",
   "execution_count": null,
   "id": "469b8486-2259-4de6-af07-0c70da2d39c3",
   "metadata": {},
   "outputs": [],
   "source": []
  },
  {
   "cell_type": "markdown",
   "id": "a140c260-9e1b-42ea-b7cd-0972f4b83477",
   "metadata": {},
   "source": [
    "\n",
    "### case-3"
   ]
  },
  {
   "cell_type": "code",
   "execution_count": 26,
   "id": "ca0b4ec1-d268-4058-b02a-cfb3d10ca9b5",
   "metadata": {},
   "outputs": [
    {
     "data": {
      "text/plain": [
       "0"
      ]
     },
     "execution_count": 26,
     "metadata": {},
     "output_type": "execute_result"
    }
   ],
   "source": [
    "str='0'\n",
    "int('0')"
   ]
  },
  {
   "cell_type": "code",
   "execution_count": 28,
   "id": "3004a71f-bf9c-425c-b7aa-66f65828dfd1",
   "metadata": {},
   "outputs": [
    {
     "ename": "TypeError",
     "evalue": "'str' object is not callable",
     "output_type": "error",
     "traceback": [
      "\u001b[1;31m---------------------------------------------------------------------------\u001b[0m",
      "\u001b[1;31mTypeError\u001b[0m                                 Traceback (most recent call last)",
      "Cell \u001b[1;32mIn[28], line 2\u001b[0m\n\u001b[0;32m      1\u001b[0m \u001b[38;5;28mstr\u001b[39m\u001b[38;5;241m=\u001b[39m\u001b[38;5;124m'\u001b[39m\u001b[38;5;124m0\u001b[39m\u001b[38;5;124m'\u001b[39m\n\u001b[1;32m----> 2\u001b[0m \u001b[38;5;28mfloat\u001b[39m(\u001b[38;5;124m'\u001b[39m\u001b[38;5;124m0\u001b[39m\u001b[38;5;124m'\u001b[39m)\n",
      "\u001b[1;31mTypeError\u001b[0m: 'str' object is not callable"
     ]
    }
   ],
   "source": [
    "str='0'\n",
    "float('0')"
   ]
  },
  {
   "cell_type": "code",
   "execution_count": 31,
   "id": "20011254-f4ed-4918-aa72-df3c6cdc3855",
   "metadata": {},
   "outputs": [
    {
     "data": {
      "text/plain": [
       "True"
      ]
     },
     "execution_count": 31,
     "metadata": {},
     "output_type": "execute_result"
    }
   ],
   "source": [
    "str='0'\n",
    "bool('0')"
   ]
  },
  {
   "cell_type": "markdown",
   "id": "6f49d78d-5301-4b2b-b719-9d3999ce0ee9",
   "metadata": {},
   "source": [
    "### case-4\n"
   ]
  },
  {
   "cell_type": "code",
   "execution_count": 35,
   "id": "c4f303ff-f278-4c55-ac5d-0152ea987a48",
   "metadata": {},
   "outputs": [
    {
     "ename": "ValueError",
     "evalue": "invalid literal for int() with base 10: ''",
     "output_type": "error",
     "traceback": [
      "\u001b[1;31m---------------------------------------------------------------------------\u001b[0m",
      "\u001b[1;31mValueError\u001b[0m                                Traceback (most recent call last)",
      "Cell \u001b[1;32mIn[35], line 2\u001b[0m\n\u001b[0;32m      1\u001b[0m \u001b[38;5;28mstr\u001b[39m\u001b[38;5;241m=\u001b[39m\u001b[38;5;124m'\u001b[39m\u001b[38;5;124m'\u001b[39m\n\u001b[1;32m----> 2\u001b[0m \u001b[38;5;28mint\u001b[39m(\u001b[38;5;124m'\u001b[39m\u001b[38;5;124m'\u001b[39m)\n",
      "\u001b[1;31mValueError\u001b[0m: invalid literal for int() with base 10: ''"
     ]
    }
   ],
   "source": [
    "str=''\n",
    "int('')"
   ]
  },
  {
   "cell_type": "code",
   "execution_count": 37,
   "id": "159ef801-b9c3-4670-994e-7618bd0468eb",
   "metadata": {},
   "outputs": [
    {
     "ename": "TypeError",
     "evalue": "'str' object is not callable",
     "output_type": "error",
     "traceback": [
      "\u001b[1;31m---------------------------------------------------------------------------\u001b[0m",
      "\u001b[1;31mTypeError\u001b[0m                                 Traceback (most recent call last)",
      "Cell \u001b[1;32mIn[37], line 2\u001b[0m\n\u001b[0;32m      1\u001b[0m \u001b[38;5;28mstr\u001b[39m\u001b[38;5;241m=\u001b[39m\u001b[38;5;124m'\u001b[39m\u001b[38;5;124m'\u001b[39m\n\u001b[1;32m----> 2\u001b[0m \u001b[38;5;28mfloat\u001b[39m(\u001b[38;5;124m'\u001b[39m\u001b[38;5;124m'\u001b[39m)\n",
      "\u001b[1;31mTypeError\u001b[0m: 'str' object is not callable"
     ]
    }
   ],
   "source": [
    "str=''\n",
    "float('')"
   ]
  },
  {
   "cell_type": "code",
   "execution_count": 39,
   "id": "ffb1e998-7db2-411c-b24b-53c0f469d619",
   "metadata": {},
   "outputs": [
    {
     "data": {
      "text/plain": [
       "False"
      ]
     },
     "execution_count": 39,
     "metadata": {},
     "output_type": "execute_result"
    }
   ],
   "source": [
    "str=''\n",
    "bool('')"
   ]
  },
  {
   "cell_type": "markdown",
   "id": "993969e4-26d8-449e-95b1-ec0ad00c1136",
   "metadata": {},
   "source": [
    "### case-5"
   ]
  },
  {
   "cell_type": "code",
   "execution_count": 48,
   "id": "121102f7-fc67-471b-a042-ffb451472e59",
   "metadata": {},
   "outputs": [
    {
     "data": {
      "text/plain": [
       "10"
      ]
     },
     "execution_count": 48,
     "metadata": {},
     "output_type": "execute_result"
    }
   ],
   "source": [
    "str='10'\n",
    "int('10')"
   ]
  },
  {
   "cell_type": "code",
   "execution_count": 58,
   "id": "557c0138-2731-4212-93fe-2afd73d87155",
   "metadata": {},
   "outputs": [
    {
     "ename": "TypeError",
     "evalue": "'str' object is not callable",
     "output_type": "error",
     "traceback": [
      "\u001b[1;31m---------------------------------------------------------------------------\u001b[0m",
      "\u001b[1;31mTypeError\u001b[0m                                 Traceback (most recent call last)",
      "Cell \u001b[1;32mIn[58], line 2\u001b[0m\n\u001b[0;32m      1\u001b[0m \u001b[38;5;28mstr\u001b[39m\u001b[38;5;241m=\u001b[39m(\u001b[38;5;124m'\u001b[39m\u001b[38;5;124m10\u001b[39m\u001b[38;5;124m'\u001b[39m)\n\u001b[1;32m----> 2\u001b[0m \u001b[38;5;28mfloat\u001b[39m(\u001b[38;5;124m'\u001b[39m\u001b[38;5;124m10\u001b[39m\u001b[38;5;124m'\u001b[39m)\n",
      "\u001b[1;31mTypeError\u001b[0m: 'str' object is not callable"
     ]
    }
   ],
   "source": [
    "str=('10')\n",
    "float('10') "
   ]
  },
  {
   "cell_type": "code",
   "execution_count": 52,
   "id": "070bb3ac-0fea-4987-939f-98154fd162b4",
   "metadata": {},
   "outputs": [
    {
     "data": {
      "text/plain": [
       "True"
      ]
     },
     "execution_count": 52,
     "metadata": {},
     "output_type": "execute_result"
    }
   ],
   "source": [
    "str='10.5'\n",
    "bool('10.5')"
   ]
  },
  {
   "cell_type": "code",
   "execution_count": null,
   "id": "63748a3c-b42f-4375-b619-295143f7335f",
   "metadata": {},
   "outputs": [],
   "source": []
  }
 ],
 "metadata": {
  "kernelspec": {
   "display_name": "Python 3 (ipykernel)",
   "language": "python",
   "name": "python3"
  },
  "language_info": {
   "codemirror_mode": {
    "name": "ipython",
    "version": 3
   },
   "file_extension": ".py",
   "mimetype": "text/x-python",
   "name": "python",
   "nbconvert_exporter": "python",
   "pygments_lexer": "ipython3",
   "version": "3.12.4"
  }
 },
 "nbformat": 4,
 "nbformat_minor": 5
}
