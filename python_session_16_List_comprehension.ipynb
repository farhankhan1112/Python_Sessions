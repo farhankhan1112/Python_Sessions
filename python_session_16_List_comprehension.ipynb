{
 "cells": [
  {
   "cell_type": "code",
   "execution_count": 1,
   "id": "47685ccd-0608-4b62-ab14-752ea6f0e7db",
   "metadata": {},
   "outputs": [
    {
     "name": "stdout",
     "output_type": "stream",
     "text": [
      "0 1 2 3 4 5 6 7 8 9 "
     ]
    }
   ],
   "source": [
    " \n",
    "\n",
    "for i in range(10):\n",
    "    print(i,end=' ')"
   ]
  },
  {
   "cell_type": "code",
   "execution_count": 5,
   "id": "c8e2ce00-ab19-4b45-b549-cd0ead31a8f1",
   "metadata": {},
   "outputs": [
    {
     "data": {
      "text/plain": [
       "[0, 1, 2, 3, 4, 5, 6, 7, 8, 9]"
      ]
     },
     "execution_count": 5,
     "metadata": {},
     "output_type": "execute_result"
    }
   ],
   "source": [
    "l=[]\n",
    "for i in range(10):\n",
    "    l.append(i)\n",
    "l"
   ]
  },
  {
   "cell_type": "markdown",
   "id": "a7d678ef-c941-4493-84f5-d5a139b47cfa",
   "metadata": {},
   "source": [
    "# Method-1: only for loop"
   ]
  },
  {
   "cell_type": "markdown",
   "id": "310669bd-6351-4e1c-8826-66875012ce7a",
   "metadata": {},
   "source": [
    "- what is the output we are saving: i\n",
    "\n",
    "- what is the loop : for i in range(10) \n",
    "\n",
    "- formate: [output forloop]"
   ]
  },
  {
   "cell_type": "code",
   "execution_count": 10,
   "id": "cda8115b-c3e2-4411-919f-5a01df02c3a8",
   "metadata": {},
   "outputs": [
    {
     "data": {
      "text/plain": [
       "[0, 1, 2, 3, 4, 5, 6, 7, 8, 9]"
      ]
     },
     "execution_count": 10,
     "metadata": {},
     "output_type": "execute_result"
    }
   ],
   "source": [
    "l=[i for i in range(10)]\n",
    "l"
   ]
  },
  {
   "cell_type": "markdown",
   "id": "41eff13b-a293-4e14-91af-70645c754537",
   "metadata": {},
   "source": [
    "**Q1) WAP : save the list of square numbers of 1 to 6**"
   ]
  },
  {
   "cell_type": "code",
   "execution_count": 17,
   "id": "36f6d5e8-6930-4865-bd49-375221072c0b",
   "metadata": {},
   "outputs": [],
   "source": [
    "# normal code\n",
    "\n",
    "square_list=[]\n",
    "for i in range(1,6):\n",
    "    square_list.append(i*i)"
   ]
  },
  {
   "cell_type": "code",
   "execution_count": 19,
   "id": "9e13a527-d108-44f6-b6a6-18711c7a9e5e",
   "metadata": {},
   "outputs": [
    {
     "data": {
      "text/plain": [
       "[1, 4, 9, 16, 25]"
      ]
     },
     "execution_count": 19,
     "metadata": {},
     "output_type": "execute_result"
    }
   ],
   "source": [
    "square_list=[i*i for i in range(1,6)]\n",
    "square_list"
   ]
  },
  {
   "cell_type": "markdown",
   "id": "f32802f5-3bb8-492a-951f-1d177f621eb6",
   "metadata": {},
   "source": [
    "**Q2)  WAP**\n",
    "- L=['hyd','mumbai','pune']\n",
    "-      out=['Hyd','Mumbai','Pune']"
   ]
  },
  {
   "cell_type": "code",
   "execution_count": 6,
   "id": "f3c858d5-7d15-4582-9613-84d77091829b",
   "metadata": {},
   "outputs": [
    {
     "data": {
      "text/plain": [
       "['Hyd', 'Mumbai', 'Pune']"
      ]
     },
     "execution_count": 6,
     "metadata": {},
     "output_type": "execute_result"
    }
   ],
   "source": [
    "l=['hyd','mumbai','pune']\n",
    "l=[i.capitalize() for i in l]\n",
    "l"
   ]
  },
  {
   "cell_type": "markdown",
   "id": "849258d0-e95d-4211-9fc2-0d69ac6a4b1a",
   "metadata": {},
   "source": [
    "# Q3) WAP :\n",
    "- L=['hyd','mumbai','pune']\n",
    "- out=['HYD','MUMBAI','PUNE']\n"
   ]
  },
  {
   "cell_type": "code",
   "execution_count": 8,
   "id": "6aff9e12-46b0-491f-a879-01efd18a1205",
   "metadata": {},
   "outputs": [
    {
     "data": {
      "text/plain": [
       "['HYD', 'MUMBAI', 'PUNE']"
      ]
     },
     "execution_count": 8,
     "metadata": {},
     "output_type": "execute_result"
    }
   ],
   "source": [
    "l=['hyd','mumbai','pune']\n",
    "l1=[i.upper() for i in l]\n",
    "l1"
   ]
  },
  {
   "cell_type": "markdown",
   "id": "d5a4fe31-0a33-4374-984b-50b582158892",
   "metadata": {},
   "source": [
    "# Q4)  WAP :\n",
    "- L=['hyd','mumbai','pune']\n",
    "- out=[0,10,20]"
   ]
  },
  {
   "cell_type": "code",
   "execution_count": 38,
   "id": "f3aec7da-1482-446c-86db-08350db38d1f",
   "metadata": {},
   "outputs": [
    {
     "data": {
      "text/plain": [
       "[0, 10, 20]"
      ]
     },
     "execution_count": 38,
     "metadata": {},
     "output_type": "execute_result"
    }
   ],
   "source": [
    "l=['hyd','mumbai','pune']\n",
    "l1=[l.index(i)*10 for i in l]\n",
    "l1"
   ]
  },
  {
   "cell_type": "markdown",
   "id": "4717dbe4-7c06-4ee1-a54c-20754fe51aa8",
   "metadata": {},
   "source": [
    "# Q5) WAP :\n",
    "- L=['hyd','mumbai','pune']\n",
    "- sum of the indexes"
   ]
  },
  {
   "cell_type": "code",
   "execution_count": 43,
   "id": "64e77a67-db44-4b71-a6fa-6b8aed3821d4",
   "metadata": {},
   "outputs": [
    {
     "data": {
      "text/plain": [
       "3"
      ]
     },
     "execution_count": 43,
     "metadata": {},
     "output_type": "execute_result"
    }
   ],
   "source": [
    "l=['hyd','mumbai','pune']\n",
    "l1=[l.index(i) for i in l]\n",
    "sum(l1)"
   ]
  },
  {
   "cell_type": "markdown",
   "id": "8179227d-4932-4be5-8f08-80170e32e661",
   "metadata": {},
   "source": [
    "# method-2\n",
    "\n",
    "**for loop and if condition**"
   ]
  },
  {
   "cell_type": "code",
   "execution_count": null,
   "id": "fd7a93ae-2a71-469b-9b73-2650aad13c7b",
   "metadata": {},
   "outputs": [],
   "source": [
    "L=[]'hyd','mum#bai','chen#nai']\n"
   ]
  },
  {
   "cell_type": "code",
   "execution_count": null,
   "id": "0cd4bd33-977e-46b8-8b45-f0c731329ca1",
   "metadata": {},
   "outputs": [],
   "source": [
    "# [<write output> <for loop> <if condition> ] \n",
    "out=[i for i in L if '#' in i ]"
   ]
  },
  {
   "cell_type": "code",
   "execution_count": null,
   "id": "fc6201b4-7ac1-4fa3-a138-ffacb4ba1ed5",
   "metadata": {},
   "outputs": [],
   "source": [
    "**WAP**\n",
    "- L=['hyd','mum#bai','chen#nai']\n",
    "- o=['hyd']\n",
    "\n",
    "L=['hyd','mum#bai','chen#nai']\n",
    "out=[i for ]"
   ]
  },
  {
   "cell_type": "code",
   "execution_count": 18,
   "id": "ad6d11da-3a12-4cba-a8bd-a96efb396bf3",
   "metadata": {},
   "outputs": [
    {
     "data": {
      "text/plain": [
       "['mumbai', 'chennai']"
      ]
     },
     "execution_count": 18,
     "metadata": {},
     "output_type": "execute_result"
    }
   ],
   "source": [
    "# WAP\n",
    "# L=['hyd','mumbai','chennai']\n",
    "# o=['mumbai','chennai']\n",
    "\n",
    "L=['hyd','mumbai','chennai']\n",
    "out=[i for i in L if len(i)>4]\n",
    "out"
   ]
  },
  {
   "cell_type": "code",
   "execution_count": null,
   "id": "ef7d5965-c019-4596-9588-1c47e863f2b6",
   "metadata": {},
   "outputs": [],
   "source": [
    "[output for loop]\n",
    "[output for loops if condition]\n",
    "[<ifoutput> gpr loop ifcondtion <else> <else output> <forloop>]\n",
    " "
   ]
  },
  {
   "cell_type": "code",
   "execution_count": 8,
   "id": "1c5adad3-d351-4939-8573-7fde066084b6",
   "metadata": {},
   "outputs": [
    {
     "data": {
      "text/plain": [
       "['odd:1',\n",
       " 'even:2',\n",
       " 'odd:3',\n",
       " 'even:4',\n",
       " 'odd:5',\n",
       " 'even:6',\n",
       " 'odd:7',\n",
       " 'even:8',\n",
       " 'odd:9']"
      ]
     },
     "execution_count": 8,
     "metadata": {},
     "output_type": "execute_result"
    }
   ],
   "source": [
    "# wap ask get the even and odd numbers from 1 to 10\n",
    "even_odd=[]\n",
    "for i in range(1,10):\n",
    "    if i%2==0:\n",
    "        even_odd.append(f\"even:{i}\")\n",
    "    else:\n",
    "        even_odd.append(f\"odd:{i}\")\n",
    "even_odd"
   ]
  },
  {
   "cell_type": "code",
   "execution_count": 12,
   "id": "61995f14-46d9-42b4-92f6-2210c234619e",
   "metadata": {},
   "outputs": [
    {
     "data": {
      "text/plain": [
       "['odd:1',\n",
       " 'even:2',\n",
       " 'odd:3',\n",
       " 'even:4',\n",
       " 'odd:5',\n",
       " 'even:6',\n",
       " 'odd:7',\n",
       " 'even:8',\n",
       " 'odd:9']"
      ]
     },
     "execution_count": 12,
     "metadata": {},
     "output_type": "execute_result"
    }
   ],
   "source": [
    "[f\"even:{i}\"  if i%2==0 else f\"odd:{i}\" for i in range(1,10)]"
   ]
  },
  {
   "cell_type": "code",
   "execution_count": 24,
   "id": "62fcc262-9147-4961-8e6c-a7fd568e0950",
   "metadata": {},
   "outputs": [
    {
     "data": {
      "text/plain": [
       "['pos:1', 'pos:2', 'pos:3']"
      ]
     },
     "execution_count": 24,
     "metadata": {},
     "output_type": "execute_result"
    }
   ],
   "source": [
    "l=[1,2,3,0,-3,-2]\n",
    "#out=['pos:1','pos:2','pos:3']\n",
    "# which is positive negative\n",
    "\n",
    "out=[]\n",
    "for i in l:\n",
    "    if i>0:\n",
    "        out.append(f\"pos:{i}\")\n",
    "out\n"
   ]
  },
  {
   "cell_type": "code",
   "execution_count": null,
   "id": "26eac066-f1a1-4088-90cb-f61cf67fa86f",
   "metadata": {},
   "outputs": [],
   "source": []
  },
  {
   "cell_type": "code",
   "execution_count": null,
   "id": "f3d918fc-b7da-4c4c-85fa-71abbc97ee20",
   "metadata": {},
   "outputs": [],
   "source": [
    "for if else : [<if out > <if con> <else> <else op> <forloop>]\n",
    "for if elif else:\n",
    "\n",
    "[<if out> <if con> ===== else <elif out> if <elif con> ==== <else> < else out> <for>]\n"
   ]
  },
  {
   "cell_type": "code",
   "execution_count": 28,
   "id": "9c158c1a-ce36-4c52-978c-7af369c199e3",
   "metadata": {},
   "outputs": [
    {
     "data": {
      "text/plain": [
       "['pos:1', 'pos:2', 'pos:3', 'zero:(i)', 'neg:(i)', 'neg:(i)']"
      ]
     },
     "execution_count": 28,
     "metadata": {},
     "output_type": "execute_result"
    }
   ],
   "source": [
    "l=[1,2,3,0,-3,-2]\n",
    "out=[f\"pos:{i}\" if i>0\n",
    "     else f\"neg:(i)\" if i<0\n",
    "     else f\"zero:(i)\"\n",
    "     for i in l]\n",
    "out"
   ]
  },
  {
   "cell_type": "code",
   "execution_count": null,
   "id": "1a40991f-ee55-4031-a6cd-422dcf565ede",
   "metadata": {},
   "outputs": [],
   "source": [
    "for loop : "
   ]
  }
 ],
 "metadata": {
  "kernelspec": {
   "display_name": "Python 3 (ipykernel)",
   "language": "python",
   "name": "python3"
  },
  "language_info": {
   "codemirror_mode": {
    "name": "ipython",
    "version": 3
   },
   "file_extension": ".py",
   "mimetype": "text/x-python",
   "name": "python",
   "nbconvert_exporter": "python",
   "pygments_lexer": "ipython3",
   "version": "3.12.4"
  }
 },
 "nbformat": 4,
 "nbformat_minor": 5
}
