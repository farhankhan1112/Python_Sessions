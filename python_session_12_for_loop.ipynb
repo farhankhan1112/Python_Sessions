{
 "cells": [
  {
   "cell_type": "markdown",
   "id": "dcee96fe-e52b-4cd4-8dc4-23ad720ce574",
   "metadata": {},
   "source": [
    "# Loop\n",
    "\n",
    "- Repeating the same task\n",
    "\n",
    "- For example we want to do tax calculation\n",
    "\n",
    "- Tax calculation has 4 lines of code\n",
    "\n",
    "- I want to apply the tax calculation to my 100 employ\n",
    "\n",
    "- How many lines required : 400\n",
    "\n",
    "- But if I keep the 4 lines in form of function\n",
    "\n",
    "- Then ony one line can use for 100 members\n",
    "\n",
    "- the making one line : function"
   ]
  },
  {
   "cell_type": "markdown",
   "id": "478c410d-472e-4bc9-a450-32d5c21e7a1d",
   "metadata": {},
   "source": [
    "- Generally we have two types of loops\n",
    "     - Foor loop\n",
    "     - While loop\n",
    "- any loop we required three things\n",
    "\n",
    "     - Initial point : start point to enter into the loop\n",
    "\n",
    "     - Increment or decrement : Number of times iterate the loop\n",
    "\n",
    "     - Condition to stop : we want to stop the loop based on specific xondition\n",
    "\n",
    "- In for loop all these 3 are in a single line\n",
    "\n",
    "- In while loop all these 3 are 3 different lines"
   ]
  },
  {
   "cell_type": "markdown",
   "id": "3bb70d7e-e872-4728-b163-adf51e5a6570",
   "metadata": {},
   "source": [
    "# For loop"
   ]
  },
  {
   "cell_type": "markdown",
   "id": "cf48dd91-1140-44c5-9b8e-e020a0799f80",
   "metadata": {},
   "source": [
    "$pattern-1$\n",
    "\n",
    "**range(stop)**\n",
    "\n",
    "- for loop use range data type\n",
    "\n",
    "- Suppose if you keep only one value\n",
    "\n",
    "- start=0 by default\n",
    "\n",
    "-  Increment by 1\n",
    "\n",
    "-  stop value = the given value inside the range\n",
    "\n",
    "-  range(3)\n",
    "\n",
    "-  start=0\n",
    "-  increment=1\n",
    "-  stop= last-1=3-1=2\n",
    "\n",
    "-  0 1 2\n",
    "\n",
    "  **python index start with zero**"
   ]
  },
  {
   "cell_type": "code",
   "execution_count": null,
   "id": "1c748fd4-4857-441e-a388-0c1551d1c2e5",
   "metadata": {},
   "outputs": [],
   "source": [
    " # syntax\n",
    "\n",
    "for i in rang(<number>):\n",
    "    print(i)"
   ]
  },
  {
   "cell_type": "code",
   "execution_count": 8,
   "id": "394e459b-df4c-4696-8da5-3c4eaeabc843",
   "metadata": {},
   "outputs": [
    {
     "name": "stdout",
     "output_type": "stream",
     "text": [
      "0\n",
      "1\n",
      "2\n"
     ]
    }
   ],
   "source": [
    " # syntax\n",
    "\n",
    "for i in range(3):\n",
    "    print(i)"
   ]
  },
  {
   "cell_type": "code",
   "execution_count": 12,
   "id": "8340a8bf-a554-4c17-9b47-408d727434f1",
   "metadata": {},
   "outputs": [
    {
     "name": "stdout",
     "output_type": "stream",
     "text": [
      "1\n",
      "2\n",
      "3\n"
     ]
    }
   ],
   "source": [
    "print(1)\n",
    "print(2)\n",
    "print(3)\n",
    "print(4)\n",
    "\n",
    "\n",
    "# commen here is print\n",
    "\n",
    "# changes i  like (1,2,3,4,...)"
   ]
  },
  {
   "cell_type": "code",
   "execution_count": null,
   "id": "3efc37d5-0fc2-477f-84ed-c021ee93902e",
   "metadata": {},
   "outputs": [],
   "source": [
    "for i in range(4):\n",
    "    print(i)\n",
    "\n",
    "# step-\n",
    "# step-\n",
    "# step-\n",
    "# step-"
   ]
  },
  {
   "cell_type": "code",
   "execution_count": 16,
   "id": "3f700bf4-3bae-4f4d-a2b4-fd4a1e503c37",
   "metadata": {},
   "outputs": [
    {
     "name": "stdout",
     "output_type": "stream",
     "text": [
      "0\n",
      "1\n",
      "2\n",
      "3\n"
     ]
    }
   ],
   "source": [
    "for i in range(4):\n",
    "    print(i)"
   ]
  },
  {
   "cell_type": "code",
   "execution_count": 20,
   "id": "d35e01bc-75aa-49c3-bee6-476ac21e7d13",
   "metadata": {},
   "outputs": [
    {
     "name": "stdout",
     "output_type": "stream",
     "text": [
      "1 2 3 4 3 "
     ]
    }
   ],
   "source": [
    "print(1, end=' ')\n",
    "print(2, end=' ')\n",
    "print(3, end=' ')\n",
    "print(4, end=' ')\n",
    "\n",
    "print(i,end=' ')\n"
   ]
  },
  {
   "cell_type": "code",
   "execution_count": 22,
   "id": "5826788c-25fb-4be5-94f3-bcca860f7da3",
   "metadata": {},
   "outputs": [
    {
     "name": "stdout",
     "output_type": "stream",
     "text": [
      "hello\n",
      "hello\n",
      "hello\n",
      "hello\n",
      "hello\n"
     ]
    }
   ],
   "source": [
    "# print hello 5 times\n",
    "\n",
    "print('hello')\n",
    "print('hello')\n",
    "print('hello')\n",
    "print('hello')\n",
    "print('hello')\n",
    "\n",
    "# every thing is common here"
   ]
  },
  {
   "cell_type": "code",
   "execution_count": 24,
   "id": "ef3197ba-ad0d-4e8f-8b3c-dcc028049316",
   "metadata": {},
   "outputs": [
    {
     "name": "stdout",
     "output_type": "stream",
     "text": [
      "hello\n",
      "hello\n",
      "hello\n",
      "hello\n",
      "hello\n"
     ]
    }
   ],
   "source": [
    "for i in range(5):\n",
    "    print('hello')"
   ]
  },
  {
   "cell_type": "markdown",
   "id": "a9bd9009-ddf1-409d-ab0a-5daf05a5b104",
   "metadata": {},
   "source": [
    "# wap ask the user get a number randomly between 1 to 100 \n",
    "\n",
    "-     print the squar of the number\n",
    "-       ask the user repeat this task three times "
   ]
  },
  {
   "cell_type": "code",
   "execution_count": 26,
   "id": "fb452c54-7aaf-49e6-b50d-7e1e8585314f",
   "metadata": {},
   "outputs": [
    {
     "name": "stdout",
     "output_type": "stream",
     "text": [
      "the square of 41 is 1681\n"
     ]
    }
   ],
   "source": [
    "import random\n",
    "num=random.randint(1,100)\n",
    "print(f\"the square of {num} is {num*num}\")"
   ]
  },
  {
   "cell_type": "code",
   "execution_count": 28,
   "id": "218eccde-08ed-4bbf-8a4a-7564e64cb393",
   "metadata": {},
   "outputs": [
    {
     "name": "stdout",
     "output_type": "stream",
     "text": [
      "the square of 42 is 1764\n",
      "the square of 60 is 3600\n",
      "the square of 63 is 3969\n"
     ]
    }
   ],
   "source": [
    "import random\n",
    "for i in range(3):                                     # import should always on top\n",
    "    num=random.randint(1,100)\n",
    "    print(f\"the square of {num} is {num*num}\")\n",
    "    "
   ]
  },
  {
   "cell_type": "markdown",
   "id": "cb55b251-2001-4578-abb5-0c0f363b04ee",
   "metadata": {},
   "source": [
    "$pattern-2$\n",
    "\n",
    "**range(start,stop)**\n",
    "\n",
    "- start= start\n",
    "\n",
    "- increment by 1\n",
    "\n",
    "- last=stop-1\n",
    "\n",
    "- range(5,10)\n",
    "\n",
    "    - start=5\n",
    "\n",
    "    - increment=1\n",
    "\n",
    "    - last= 10-1=9\n",
    "\n",
    "    - 5,6,7,8,9"
   ]
  },
  {
   "cell_type": "code",
   "execution_count": 31,
   "id": "ff92e4fc-6710-452e-8acb-1b1e803c2085",
   "metadata": {},
   "outputs": [
    {
     "name": "stdout",
     "output_type": "stream",
     "text": [
      "5\n",
      "6\n",
      "7\n",
      "8\n",
      "9\n"
     ]
    }
   ],
   "source": [
    "for i in range(5,10):\n",
    "    print(i)"
   ]
  },
  {
   "cell_type": "markdown",
   "id": "89e157b7-4faf-4f07-b3f1-9848717ba415",
   "metadata": {},
   "source": [
    "# wap ask the user print the square of the numbers from 1 to 5\n",
    "\n",
    "\n",
    "for i in range(1,6):\n",
    "    print(f\"the square of {i} is {i*i}\")"
   ]
  },
  {
   "cell_type": "code",
   "execution_count": 7,
   "id": "784c0643-4dd7-4ece-a5db-8bc3f349522e",
   "metadata": {},
   "outputs": [
    {
     "name": "stdout",
     "output_type": "stream",
     "text": [
      "the square of 1 is : 1\n",
      "the square of 2 is : 4\n",
      "the square of 3 is : 9\n"
     ]
    }
   ],
   "source": [
    "for i in range(1,4):\n",
    "    print(f\"the square of {i} is : {i*i}\")"
   ]
  },
  {
   "cell_type": "markdown",
   "id": "fbf58b52-9c17-4c64-9293-50d49010ae2b",
   "metadata": {},
   "source": [
    "# wap ask the user get a number from keyboard\n",
    "-  find that number even or odd\n",
    "- repeat this 5 times"
   ]
  },
  {
   "cell_type": "code",
   "execution_count": 14,
   "id": "2ae32b6a-0294-4dc0-921d-cf3be56b35e2",
   "metadata": {},
   "outputs": [
    {
     "name": "stdin",
     "output_type": "stream",
     "text": [
      "enter a number: 10\n"
     ]
    },
    {
     "name": "stdout",
     "output_type": "stream",
     "text": [
      "the 10 is an even\n"
     ]
    },
    {
     "name": "stdin",
     "output_type": "stream",
     "text": [
      "enter a number: 5\n"
     ]
    },
    {
     "name": "stdout",
     "output_type": "stream",
     "text": [
      "the 5 is an odd\n"
     ]
    }
   ],
   "source": [
    "\n",
    "for i in range(2):\n",
    "    num=eval(input('enter a number:'))\n",
    "    if num%2==0:\n",
    "        print(f'the {num} is an even')\n",
    "    else:\n",
    "        print(f'the {num} is an odd')"
   ]
  },
  {
   "cell_type": "code",
   "execution_count": 19,
   "id": "7db7a871-20a2-4f8a-a975-8700975fc270",
   "metadata": {},
   "outputs": [
    {
     "name": "stdin",
     "output_type": "stream",
     "text": [
      "enter the number:  5\n"
     ]
    },
    {
     "name": "stdout",
     "output_type": "stream",
     "text": [
      "The num is odd\n"
     ]
    }
   ],
   "source": [
    "num=eval(input('enter the number: '))\n",
    "if num%2==0:\n",
    "    print(f'the num is even')\n",
    "else:\n",
    "    print(f'The num is odd')"
   ]
  },
  {
   "cell_type": "markdown",
   "id": "abb6bbdc-c35b-42c3-80db-f099d6aafa29",
   "metadata": {},
   "source": [
    "$pattern=3$\n",
    "\n",
    "**range(start,stop,step)**\n",
    "\n",
    "- start= start only\n",
    "\n",
    "- step value\n",
    "\n",
    "  - if step value is positive\n",
    "  \n",
    "  - positive step means positive direction\n",
    "\n",
    "   - increament = step\n",
    "\n",
    "   - last=stop-1\n",
    "\n",
    "- if step value is negative\n",
    "\n",
    "       - negative step means reverse direction\n",
    "       - decrement = step\n",
    "       - last= stop+1"
   ]
  },
  {
   "cell_type": "code",
   "execution_count": 52,
   "id": "7e2fcae8-666d-4dbd-b0aa-9e7409b66f89",
   "metadata": {},
   "outputs": [
    {
     "name": "stdout",
     "output_type": "stream",
     "text": [
      "1 3 5 7 9 "
     ]
    }
   ],
   "source": [
    "for i in range(1,11,2):\n",
    "    print(i,end=\" \")\n",
    "\n",
    "# start=1\n",
    "# direction = step =+2\n",
    "# increment =2\n",
    "# last=stop-1 = 11-1=10"
   ]
  },
  {
   "cell_type": "code",
   "execution_count": 56,
   "id": "b93094ce-a04a-49dc-93a1-97bfe6718c30",
   "metadata": {},
   "outputs": [],
   "source": [
    "for i in range(1,11,-2):\n",
    "    print(i,end=\" \")\n",
    "\n",
    "# start=1\n",
    "# negative = step= -2\n",
    "# last = stop+1= 11+1=12\n",
    "\n",
    "# no ans no error"
   ]
  },
  {
   "cell_type": "code",
   "execution_count": 58,
   "id": "38db2147-ae5c-4009-8e79-788fe94fb7ff",
   "metadata": {},
   "outputs": [
    {
     "name": "stdout",
     "output_type": "stream",
     "text": [
      "11 9 7 5 3 "
     ]
    }
   ],
   "source": [
    "for i in range(11,1,-2):\n",
    "    print(i,end=\" \")\n",
    "\n",
    "# start= 11\n",
    "# direction = neg= -2\n",
    "# last= 1+1=2\n",
    "# 11 10 9 8 7 6 5 4 3 2 \n",
    "# 11    9   7   5   3"
   ]
  },
  {
   "cell_type": "code",
   "execution_count": 60,
   "id": "81ad42c9-0d0e-4ee8-a981-d3a0322da127",
   "metadata": {},
   "outputs": [],
   "source": [
    "for i in range(-11,1,-2):\n",
    "    print(i,end=\" \")\n",
    "\n",
    "# stsrt= -11\n",
    "# direction = negative step= -2 decrement\n",
    "# last stop +1= 1+1= 2\n",
    "\n",
    "\n",
    "# no ans no error"
   ]
  },
  {
   "cell_type": "markdown",
   "id": "1d3f50e4-a671-4446-ade2-05f209d3b9fe",
   "metadata": {},
   "source": [
    "# 09 - 08 - 24 "
   ]
  },
  {
   "cell_type": "code",
   "execution_count": 14,
   "id": "1d1182f4-ace8-4db9-8ffe-cb417d7df76e",
   "metadata": {},
   "outputs": [
    {
     "name": "stdout",
     "output_type": "stream",
     "text": [
      "-11 -9 -7 -5 -3 "
     ]
    }
   ],
   "source": [
    "for i in range(-11,-1,2):\n",
    "    print(i,end=\" \")"
   ]
  },
  {
   "cell_type": "code",
   "execution_count": 68,
   "id": "3d68421e-74fb-4cc7-b477-70fc7419b001",
   "metadata": {},
   "outputs": [
    {
     "data": {
      "text/plain": [
       "range(3, 15, 3)"
      ]
     },
     "execution_count": 68,
     "metadata": {},
     "output_type": "execute_result"
    }
   ],
   "source": [
    "range(3,15,3)\n",
    "\n"
   ]
  },
  {
   "cell_type": "code",
   "execution_count": 70,
   "id": "2c6f98fd-ffab-4b72-8895-09f72896b2e1",
   "metadata": {},
   "outputs": [
    {
     "data": {
      "text/plain": [
       "range(3, 15, -3)"
      ]
     },
     "execution_count": 70,
     "metadata": {},
     "output_type": "execute_result"
    }
   ],
   "source": [
    "range(3,15,-3)"
   ]
  },
  {
   "cell_type": "code",
   "execution_count": 1,
   "id": "4838d9cf-a57b-491b-8c55-8f49b028cc67",
   "metadata": {},
   "outputs": [
    {
     "data": {
      "text/plain": [
       "range(-22, 22, -2)"
      ]
     },
     "execution_count": 1,
     "metadata": {},
     "output_type": "execute_result"
    }
   ],
   "source": [
    " range(-22,22,-2)   # -2 means reverse diirection"
   ]
  },
  {
   "cell_type": "code",
   "execution_count": 16,
   "id": "5fd6e673-5707-44fe-91f6-77bfe17bbceb",
   "metadata": {},
   "outputs": [
    {
     "name": "stdout",
     "output_type": "stream",
     "text": [
      "7x1 = 7\n",
      "7x2 = 14\n",
      "7x3 = 21\n",
      "7x4 = 28\n",
      "7x5 = 35\n",
      "7x6 = 42\n",
      "7x7 = 49\n",
      "7x8 = 56\n",
      "7x9 = 63\n",
      "7x10 = 70\n"
     ]
    }
   ],
   "source": [
    "# Q4) wap : print the 7th table\n",
    "\n",
    "# 7 x 1 = 7\n",
    "# 7 x 2 = 14\n",
    "# 7 x 10 = 70\n",
    "\n",
    "\n",
    "for i in range(1,11): \n",
    "    print(f\"7x{i} = {7*i}\")\n"
   ]
  },
  {
   "cell_type": "code",
   "execution_count": 9,
   "id": "3a9cc695-ace0-4337-a763-7806e73416d8",
   "metadata": {},
   "outputs": [
    {
     "name": "stdout",
     "output_type": "stream",
     "text": [
      "7\n",
      "14\n",
      "21\n",
      "28\n",
      "35\n",
      "42\n",
      "49\n",
      "56\n",
      "63\n",
      "70\n"
     ]
    }
   ],
   "source": [
    "for i in range(1,11):\n",
    "     print(7*i)"
   ]
  },
  {
   "cell_type": "code",
   "execution_count": 22,
   "id": "5423b5cb-e23f-44ac-b70a-6abedd78809b",
   "metadata": {},
   "outputs": [
    {
     "name": "stdin",
     "output_type": "stream",
     "text": [
      "Enter the number to display the  12\n"
     ]
    },
    {
     "name": "stdout",
     "output_type": "stream",
     "text": [
      "12x1=12\n",
      "12x2=24\n",
      "12x3=36\n",
      "12x4=48\n",
      "12x5=60\n",
      "12x6=72\n",
      "12x7=84\n",
      "12x8=96\n",
      "12x9=108\n",
      "12x10=120\n"
     ]
    }
   ],
   "source": [
    "def table():\n",
    "    num=eval(input('Enter the number to display the '))\n",
    "    for i in range(1,11):\n",
    "        print(f\"{num}x{i}={num*i}\")\n",
    "\n",
    "table()\n",
    "    "
   ]
  },
  {
   "cell_type": "markdown",
   "id": "1e50e743-57e8-4339-9add-e8f35d74710b",
   "metadata": {},
   "source": [
    "# Q5)  wap to find the divisors of a given number  : 75\n",
    "- what is mean by divisor\n",
    "- If tou divid a number with another number the reminder= 0\n",
    "- Idea\n",
    "- Iterate the loop with given number\n",
    "- For example\n",
    "- Find the reminder\n",
    "- if reminder = 0 then print that number\n",
    "\n",
    "\n"
   ]
  },
  {
   "cell_type": "code",
   "execution_count": 24,
   "id": "e2fbcaa3-cb91-4e37-a199-5a997f264e68",
   "metadata": {},
   "outputs": [
    {
     "name": "stdin",
     "output_type": "stream",
     "text": [
      "enter a number:  75\n"
     ]
    },
    {
     "name": "stdout",
     "output_type": "stream",
     "text": [
      "1\n",
      "3\n",
      "5\n",
      "15\n",
      "25\n",
      "75\n"
     ]
    }
   ],
   "source": [
    "# step-1: num=eval()\n",
    "# step-2: for i in range(1,num+1)\n",
    "# step-3:      if <reminder>:\n",
    "# step-4:            print(i)\n",
    "\n",
    "num=eval(input(\"enter a number: \"))\n",
    "for i in range(1,num+1):\n",
    "    if num%i==0:\n",
    "        print(i)"
   ]
  },
  {
   "cell_type": "code",
   "execution_count": 17,
   "id": "21898402-12de-4861-b785-4aac2ae5fa61",
   "metadata": {},
   "outputs": [
    {
     "ename": "SyntaxError",
     "evalue": "cannot assign to expression here. Maybe you meant '==' instead of '='? (1111626345.py, line 5)",
     "output_type": "error",
     "traceback": [
      "\u001b[1;36m  Cell \u001b[1;32mIn[17], line 5\u001b[1;36m\u001b[0m\n\u001b[1;33m    0+1=1\u001b[0m\n\u001b[1;37m    ^\u001b[0m\n\u001b[1;31mSyntaxError\u001b[0m\u001b[1;31m:\u001b[0m cannot assign to expression here. Maybe you meant '==' instead of '='?\n"
     ]
    }
   ],
   "source": [
    "# Q6) wap ask the user to get the sum of first 10 natural number\n",
    "# 1+2+3+4+5+6+7+8+9+10=55\n",
    "\n",
    "\n",
    "0+1=1\n",
    "1+2=3\n",
    "3+3=6\n",
    "6+4=10\n",
    "\n",
    "\n",
    "{sum}+i={sum}"
   ]
  },
  {
   "cell_type": "markdown",
   "id": "beac68f9-139f-4557-82f8-f2ad6ad66cd5",
   "metadata": {},
   "source": [
    "# Summation wrapper\n",
    "\n",
    "- whenever we do summationusing loop\n",
    "\n",
    "- always keep summ=0 at starting of the code\n",
    "\n",
    "- second line iterate the for loop\n",
    "\n",
    "- third  line inside for loop write: summ=summ+i\n",
    "\n",
    "- summ+=i or summ=summ+i\n",
    "\n",
    "- dont give variable name as summ"
   ]
  },
  {
   "cell_type": "code",
   "execution_count": null,
   "id": "7f9784bc-7a22-4aa6-b3d9-92efb88b0d34",
   "metadata": {},
   "outputs": [],
   "source": [
    "# summ=0\n",
    "# forloop:\n",
    "#    summ=summ+i\n",
    "\n",
    "summ=0             # initial point\n",
    "for i in range(1.11):\n",
    "    summ=summ+i     # updation\n",
    "\n",
    "# step-1:  summ=0  i=1  summ=0+1=1\n",
    "# step-2:  summ=1  i=2  summ=1+2=3\n",
    "# step-3:  summ=2  i=3  summ=3+3=6"
   ]
  },
  {
   "cell_type": "code",
   "execution_count": 26,
   "id": "4481983a-f378-4298-8deb-c285487540a9",
   "metadata": {},
   "outputs": [
    {
     "name": "stdout",
     "output_type": "stream",
     "text": [
      "55\n"
     ]
    }
   ],
   "source": [
    "summ=0\n",
    "for i in range(1,11):\n",
    "    summ=summ+i\n",
    "\n",
    "print(summ)"
   ]
  },
  {
   "cell_type": "markdown",
   "id": "784fa3e5-44d5-43ed-bf11-753cdf87e784",
   "metadata": {},
   "source": [
    "# Q7) Find the average of first 10 natural numbers"
   ]
  },
  {
   "cell_type": "markdown",
   "id": "bb83db36-f820-45c5-8178-55524c244611",
   "metadata": {},
   "source": [
    "summ=0\n",
    "for i in range(1,11):\n",
    "    summ=summ+i\n",
    "\n",
    "print(summ/10)"
   ]
  },
  {
   "cell_type": "code",
   "execution_count": 25,
   "id": "5cae7055-e9d0-4786-b54d-44b07fe30680",
   "metadata": {},
   "outputs": [
    {
     "data": {
      "text/plain": [
       "55"
      ]
     },
     "execution_count": 25,
     "metadata": {},
     "output_type": "execute_result"
    }
   ],
   "source": [
    " summ=0\n",
    "def add():\n",
    "    global summ\n",
    "    for i in range(1,11):\n",
    "        summ=summ+i\n",
    "    return(summ)\n",
    "\n",
    "add()"
   ]
  },
  {
   "cell_type": "code",
   "execution_count": 33,
   "id": "9e53ee7a-fc1d-4229-ab82-d88ccefd16bb",
   "metadata": {},
   "outputs": [
    {
     "name": "stdin",
     "output_type": "stream",
     "text": [
      "enter the start num:  1\n",
      "enter the last num:  11\n"
     ]
    },
    {
     "name": "stdout",
     "output_type": "stream",
     "text": [
      "5.5\n"
     ]
    }
   ],
   "source": [
    "# Q8)\n",
    "summ=0\n",
    "def add():\n",
    "    global summ, n1,n2\n",
    "    n1=eval(input('enter the start num: '))\n",
    "    n2=eval(input('enter the last num: '))\n",
    "    for i in range(n1,n2):\n",
    "        summ=summ+i\n",
    "    return(summ)\n",
    "\n",
    "summ=add()\n",
    "avg=summ/(n2-n1)\n",
    "print(avg)"
   ]
  },
  {
   "cell_type": "markdown",
   "id": "6bbbdbc8-3b0d-4501-bcb9-fc974963d7c9",
   "metadata": {},
   "source": [
    "# counter wrapper\n",
    "\n"
   ]
  },
  {
   "cell_type": "code",
   "execution_count": 36,
   "id": "b712a74d-2b08-43a1-9fbb-ea84ea90a213",
   "metadata": {},
   "outputs": [
    {
     "name": "stdout",
     "output_type": "stream",
     "text": [
      "hello\n",
      "hello\n",
      "hello\n"
     ]
    }
   ],
   "source": [
    "for i in range(3):\n",
    "    print('hello')"
   ]
  },
  {
   "cell_type": "markdown",
   "id": "3e603337-4fed-480e-ba6f-e5f1fb2d6887",
   "metadata": {},
   "source": [
    "- count=0\n",
    "\n",
    "- for loop\n",
    "\n",
    "- whenever the creteria meet count=count+1\n",
    "\n",
    "- in the summation we use summ=summ+i\n",
    "\n",
    "- in the counter we use count=count+1"
   ]
  },
  {
   "cell_type": "markdown",
   "id": "40fdd6ef-9e93-4e57-8848-f7cc62cfa019",
   "metadata": {},
   "source": [
    "# Q9) "
   ]
  },
  {
   "cell_type": "code",
   "execution_count": 39,
   "id": "8654630d-3e1a-4a11-8d39-237109351fa3",
   "metadata": {},
   "outputs": [
    {
     "name": "stdout",
     "output_type": "stream",
     "text": [
      "hello\n",
      "hello\n",
      "hello\n",
      "3\n"
     ]
    }
   ],
   "source": [
    "\n",
    "count=0\n",
    "for i in range(3):\n",
    "    print('hello')\n",
    "    count=count+1\n",
    "\n",
    "print(count)\n",
    "    "
   ]
  },
  {
   "cell_type": "markdown",
   "id": "5cb4cdd7-660b-41fa-b671-05c3c187a1b5",
   "metadata": {},
   "source": [
    "# Q10)"
   ]
  },
  {
   "cell_type": "code",
   "execution_count": 43,
   "id": "c64f16f1-82e0-4c50-b4dc-2a9bd768bc41",
   "metadata": {},
   "outputs": [
    {
     "name": "stdin",
     "output_type": "stream",
     "text": [
      "enter a number:  75\n"
     ]
    },
    {
     "name": "stdout",
     "output_type": "stream",
     "text": [
      "1\n",
      "3\n",
      "5\n",
      "15\n",
      "25\n",
      "75\n",
      "the number of divisor are:  6\n"
     ]
    }
   ],
   "source": [
    "\n",
    "count=0\n",
    "num=eval(input(\"enter a number: \"))\n",
    "for i in range(1,num+1):\n",
    "    if num%i==0:\n",
    "        print(i)\n",
    "        count=count+1\n",
    "\n",
    "print(\"the number of divisor are: \",count)\n",
    "    "
   ]
  },
  {
   "cell_type": "code",
   "execution_count": null,
   "id": "04eeb84e-7c0b-4742-8b9e-b769fe22e8bb",
   "metadata": {},
   "outputs": [],
   "source": []
  },
  {
   "cell_type": "code",
   "execution_count": 45,
   "id": "b64a6813-eaae-4a36-855e-2a9460863890",
   "metadata": {},
   "outputs": [
    {
     "name": "stdin",
     "output_type": "stream",
     "text": [
      "enter a number:  75\n"
     ]
    },
    {
     "name": "stdout",
     "output_type": "stream",
     "text": [
      "1\n",
      "3\n",
      "5\n",
      "15\n",
      "25\n",
      "75\n",
      "the number of divisor are:  6\n",
      "the summation of all divisor are:  179\n"
     ]
    }
   ],
   "source": [
    "# Q11)\n",
    "count=0\n",
    "num=eval(input(\"enter a number: \"))\n",
    "for i in range(1,num+1):\n",
    "    if num%i==0:\n",
    "        print(i)\n",
    "        count=count+1\n",
    "        summ=summ+i\n",
    "\n",
    "print(\"the number of divisor are: \",count)\n",
    "print(\"the summation of all divisor are: \",summ)"
   ]
  },
  {
   "cell_type": "code",
   "execution_count": null,
   "id": "9d0ded1d-c287-4b77-b263-29730b8a10b2",
   "metadata": {},
   "outputs": [],
   "source": [
    "# Q12)\n",
    "# ask the user get a random number : n1\n",
    "# ask the user enter a number: n2\n",
    "# if n1==n2: print(won)\n",
    "# otherwise print(false)\n",
    "\n",
    "#  i want to give 3 chances\n"
   ]
  },
  {
   "cell_type": "code",
   "execution_count": 10,
   "id": "cf94b40d-6982-4716-830b-5225093875bf",
   "metadata": {},
   "outputs": [
    {
     "name": "stdout",
     "output_type": "stream",
     "text": [
      "9\n"
     ]
    },
    {
     "name": "stdin",
     "output_type": "stream",
     "text": [
      "Enter your number:  9\n"
     ]
    },
    {
     "name": "stdout",
     "output_type": "stream",
     "text": [
      "congrats you are won \n"
     ]
    }
   ],
   "source": [
    "import random\n",
    "for i in range(1):\n",
    "    num1=random.randint(1,10)\n",
    "    print(num1)\n",
    "    num2 = eval(input(\"Enter your number: \"))\n",
    "    if num1 == num2:\n",
    "        print(\"congrats you are won \")\n",
    "        break\n",
    "    else: \n",
    "        print(\"Failed,mate\")"
   ]
  },
  {
   "cell_type": "code",
   "execution_count": null,
   "id": "9d90d885-729f-4f7d-b0dc-6d6781dbceec",
   "metadata": {},
   "outputs": [],
   "source": [
    "# case-1: whenever you won, code should stop (compleed)\n",
    "\n",
    "# case-2: when ever you fail\n",
    "#       it should display how many chance you have left\n",
    "\n",
    "# case-3: whenever all the chances ar over\n",
    "#     it should display \n",
    "#     try after 24 hours"
   ]
  },
  {
   "cell_type": "code",
   "execution_count": null,
   "id": "da0dab40-a4d8-499d-8b68-86da681e1a2b",
   "metadata": {},
   "outputs": [],
   "source": [
    "n%1==0 and n%n==0\n",
    "\n",
    "# for prime number\n",
    "\n",
    "# when to write loop\n",
    "if num%1==0:\n",
    "    print('1 is the ')"
   ]
  },
  {
   "cell_type": "markdown",
   "id": "4f0054f4-f646-403d-8405-3c5bdc60ec45",
   "metadata": {},
   "source": [
    "# 12 - 08 - 24"
   ]
  },
  {
   "cell_type": "code",
   "execution_count": 3,
   "id": "e93d5590-15a3-409f-b129-7e9bc62d346a",
   "metadata": {},
   "outputs": [
    {
     "name": "stdout",
     "output_type": "stream",
     "text": [
      "The total number of even are:  4\n",
      "the total number of odds are: 1\n"
     ]
    }
   ],
   "source": [
    "# wap ask the user take 5 random numbers\n",
    "# provide me the count\n",
    "# in that how many are even and how many are odd\n",
    "\n",
    "import random\n",
    "even_count=0\n",
    "odd_count=0\n",
    "for i in range(5):\n",
    "    num=random.randint(1,100)\n",
    "    if num%2==0:\n",
    "        even_count+=1      # even_count=even_count+1\n",
    "    else:\n",
    "        odd_count+=1\n",
    "\n",
    "print(\"The total number of even are: \",even_count)\n",
    "print(\"the total number of odds are:\",odd_count)"
   ]
  },
  {
   "cell_type": "code",
   "execution_count": null,
   "id": "837b5192-54b2-4f01-bb14-a56379961646",
   "metadata": {},
   "outputs": [],
   "source": [
    "import random\n",
    "even_sum=0\n",
    "odd_sum=0\n",
    "for i in range(5):\n",
    "    num=random.randint(1,100)\n",
    "    if num%2==0:\n",
    "        print(f\"{num} is an even\")\n",
    "        even_sum+=sum      # even_count=even_count+1\n",
    "    else:\n",
    "        print(f\"\")\n",
    "        odd_sum+=sum"
   ]
  },
  {
   "cell_type": "markdown",
   "id": "73bb799f-ea6e-4504-9d6e-1696ef181557",
   "metadata": {},
   "source": [
    "**in operator**\n",
    "\n",
    "- in Foor loop iteration possible with two ways\n",
    "\n",
    "   - range\n",
    "\n",
    "   - in\n",
    "\n",
    "- range is math related, so it takes numbers\n",
    "\n",
    "- in directly access with characters \n",
    "\n",
    "- in the native way in operator only for string"
   ]
  },
  {
   "cell_type": "code",
   "execution_count": 7,
   "id": "b3eddc62-1497-4a80-8f3d-1d7fb0667b7e",
   "metadata": {},
   "outputs": [
    {
     "data": {
      "text/plain": [
       "True"
      ]
     },
     "execution_count": 7,
     "metadata": {},
     "output_type": "execute_result"
    }
   ],
   "source": [
    "str1='python'\n",
    "\n",
    "'p' in str1  # is 'p' available in str1\n",
    "\n",
    "'y' in str1\n",
    "\n",
    "'p' in str1"
   ]
  },
  {
   "cell_type": "code",
   "execution_count": null,
   "id": "882b44aa-88d1-4983-8bbd-cd87d8d873eb",
   "metadata": {},
   "outputs": [],
   "source": [
    "str1='python'\n",
    "\n",
    "'p' in str1\n",
    "'y' in str1\n",
    "'t' in str1\n",
    "'h' in str1\n",
    "'o' in str1\n",
    "'n' in str1\n",
    "\n",
    "i in str1"
   ]
  },
  {
   "cell_type": "code",
   "execution_count": 9,
   "id": "2a850fca-0f29-4098-8360-cd677989d447",
   "metadata": {},
   "outputs": [
    {
     "name": "stdout",
     "output_type": "stream",
     "text": [
      "p\n",
      "y\n",
      "t\n",
      "h\n",
      "o\n",
      "n\n"
     ]
    }
   ],
   "source": [
    "for i in str1:\n",
    "    print(i)"
   ]
  },
  {
   "cell_type": "code",
   "execution_count": 11,
   "id": "4932d6ce-a3d6-49f1-ae89-2bc688fd7255",
   "metadata": {},
   "outputs": [
    {
     "name": "stdout",
     "output_type": "stream",
     "text": [
      "h\n",
      "e\n",
      "l\n",
      "l\n",
      "o\n"
     ]
    }
   ],
   "source": [
    "for i in 'hello':\n",
    "    print(i)"
   ]
  },
  {
   "cell_type": "code",
   "execution_count": 13,
   "id": "5b3f2456-a2e9-4876-ab66-04a69cf9dee6",
   "metadata": {},
   "outputs": [
    {
     "ename": "TypeError",
     "evalue": "'str' object cannot be interpreted as an integer",
     "output_type": "error",
     "traceback": [
      "\u001b[1;31m---------------------------------------------------------------------------\u001b[0m",
      "\u001b[1;31mTypeError\u001b[0m                                 Traceback (most recent call last)",
      "Cell \u001b[1;32mIn[13], line 1\u001b[0m\n\u001b[1;32m----> 1\u001b[0m \u001b[38;5;28;01mfor\u001b[39;00m i \u001b[38;5;129;01min\u001b[39;00m \u001b[38;5;28mrange\u001b[39m(\u001b[38;5;124m'\u001b[39m\u001b[38;5;124mhello\u001b[39m\u001b[38;5;124m'\u001b[39m):\n\u001b[0;32m      2\u001b[0m     \u001b[38;5;28mprint\u001b[39m(i)\n",
      "\u001b[1;31mTypeError\u001b[0m: 'str' object cannot be interpreted as an integer"
     ]
    }
   ],
   "source": [
    "# error \n",
    "for i in range('hello'):\n",
    "    print(i)"
   ]
  },
  {
   "cell_type": "markdown",
   "id": "07e6f70d-c565-4bcc-bd93-1eeaca6e28bb",
   "metadata": {},
   "source": [
    "- range and eval will not process string english characters\n",
    "\n",
    "- range is a data type\n",
    "\n",
    "- eval is not a datatype"
   ]
  },
  {
   "cell_type": "code",
   "execution_count": null,
   "id": "d6544ac5-882e-43c0-973e-c06e637b20f3",
   "metadata": {},
   "outputs": [],
   "source": [
    "'a'<'A'  # F\n",
    "'a'>'A'  # T\n",
    "'a'>'y'  # F"
   ]
  },
  {
   "cell_type": "markdown",
   "id": "734393ca-eba4-4b9a-ad7b-2f6c3c5c81ce",
   "metadata": {},
   "source": [
    "**ASCI**\n",
    "\n",
    "- American standerd code fore information interchange\n",
    "\n",
    "- Every  character symbol associated with a number\n",
    "\n",
    "- 'a'  : 97  'A': 65\n",
    "\n",
    "- 'b'  : 98   'B' : 66"
   ]
  },
  {
   "cell_type": "markdown",
   "id": "f2b6fec9-f108-488b-85b9-c0c66cab407e",
   "metadata": {},
   "source": [
    "**ord-chr**\n",
    "\n",
    "- ord and chr are in in-built function\n",
    "\n",
    "- ord will give the ascii number of character\n",
    "\n",
    "- chr will give the character of a number"
   ]
  },
  {
   "cell_type": "code",
   "execution_count": 18,
   "id": "0d000407-5de1-4176-887a-147edb60266b",
   "metadata": {},
   "outputs": [
    {
     "data": {
      "text/plain": [
       "(65, 97)"
      ]
     },
     "execution_count": 18,
     "metadata": {},
     "output_type": "execute_result"
    }
   ],
   "source": [
    "ord ('A'), ord('a')"
   ]
  },
  {
   "cell_type": "code",
   "execution_count": 20,
   "id": "2ed0ad4b-48b9-4d31-86b7-0cfc379e6c9e",
   "metadata": {},
   "outputs": [
    {
     "data": {
      "text/plain": [
       "True"
      ]
     },
     "execution_count": 20,
     "metadata": {},
     "output_type": "execute_result"
    }
   ],
   "source": [
    "'a'>'A'   # 97>65"
   ]
  },
  {
   "cell_type": "code",
   "execution_count": 24,
   "id": "df1109aa-9d63-4786-b8f6-762b53280871",
   "metadata": {},
   "outputs": [
    {
     "data": {
      "text/plain": [
       "('A', 'a')"
      ]
     },
     "execution_count": 24,
     "metadata": {},
     "output_type": "execute_result"
    }
   ],
   "source": [
    "chr(65), chr(97)"
   ]
  },
  {
   "cell_type": "markdown",
   "id": "2070c3fe-f1df-4c07-9109-ebec509ab5f7",
   "metadata": {},
   "source": [
    "**task-1**\n",
    "\n",
    "- print all ascii number of A to Z using for loop"
   ]
  },
  {
   "cell_type": "code",
   "execution_count": null,
   "id": "926b5cd0-ded3-4787-bd29-083213cbe686",
   "metadata": {},
   "outputs": [],
   "source": [
    "for i in 'ABCDEFGHIJKLMNOPQRSTUVWXYZ'"
   ]
  },
  {
   "cell_type": "code",
   "execution_count": null,
   "id": "38aa7cdd-28d1-4ae1-8471-bba82e908a98",
   "metadata": {},
   "outputs": [],
   "source": [
    "# package name: string\n",
    "# import string\n",
    "# dir string \n",
    "# find out the mrthod which method will give capital leters"
   ]
  },
  {
   "cell_type": "code",
   "execution_count": 28,
   "id": "c9875573-9408-475b-9897-dda842b28e11",
   "metadata": {},
   "outputs": [],
   "source": [
    "import string"
   ]
  },
  {
   "cell_type": "code",
   "execution_count": 32,
   "id": "e16540b4-86cf-401b-9b13-fb62405a22ae",
   "metadata": {},
   "outputs": [
    {
     "data": {
      "text/plain": [
       "['Formatter',\n",
       " 'Template',\n",
       " '_ChainMap',\n",
       " '__all__',\n",
       " '__builtins__',\n",
       " '__cached__',\n",
       " '__doc__',\n",
       " '__file__',\n",
       " '__loader__',\n",
       " '__name__',\n",
       " '__package__',\n",
       " '__spec__',\n",
       " '_re',\n",
       " '_sentinel_dict',\n",
       " '_string',\n",
       " 'ascii_letters',\n",
       " 'ascii_lowercase',\n",
       " 'ascii_uppercase',\n",
       " 'capwords',\n",
       " 'digits',\n",
       " 'hexdigits',\n",
       " 'octdigits',\n",
       " 'printable',\n",
       " 'punctuation',\n",
       " 'whitespace']"
      ]
     },
     "execution_count": 32,
     "metadata": {},
     "output_type": "execute_result"
    }
   ],
   "source": [
    "dir(string)"
   ]
  },
  {
   "cell_type": "code",
   "execution_count": 34,
   "id": "1dbf21d9-34fe-47dc-985f-203add16b0d3",
   "metadata": {},
   "outputs": [
    {
     "data": {
      "text/plain": [
       "'ABCDEFGHIJKLMNOPQRSTUVWXYZ'"
      ]
     },
     "execution_count": 34,
     "metadata": {},
     "output_type": "execute_result"
    }
   ],
   "source": [
    "string.ascii_uppercase"
   ]
  },
  {
   "cell_type": "code",
   "execution_count": 38,
   "id": "fe80fea7-cf18-483f-b013-11723b2d4b2d",
   "metadata": {},
   "outputs": [
    {
     "data": {
      "text/plain": [
       "'abcdefghijklmnopqrstuvwxyz'"
      ]
     },
     "execution_count": 38,
     "metadata": {},
     "output_type": "execute_result"
    }
   ],
   "source": [
    "string.ascii_lowercase"
   ]
  },
  {
   "cell_type": "code",
   "execution_count": 47,
   "id": "2f90ecc9-d33c-4e20-9518-ded3e80ac4c9",
   "metadata": {},
   "outputs": [
    {
     "name": "stdout",
     "output_type": "stream",
     "text": [
      "a: 97\n",
      "b: 98\n",
      "c: 99\n",
      "d: 100\n",
      "e: 101\n",
      "f: 102\n",
      "g: 103\n",
      "h: 104\n",
      "i: 105\n",
      "j: 106\n",
      "k: 107\n",
      "l: 108\n",
      "m: 109\n",
      "n: 110\n",
      "o: 111\n",
      "p: 112\n",
      "q: 113\n",
      "r: 114\n",
      "s: 115\n",
      "t: 116\n",
      "u: 117\n",
      "v: 118\n",
      "w: 119\n",
      "x: 120\n",
      "y: 121\n",
      "z: 122\n"
     ]
    }
   ],
   "source": [
    "for i in string.ascii_lowercase:\n",
    "    print(f\"{i}: {ord(i)}\")"
   ]
  },
  {
   "cell_type": "code",
   "execution_count": 49,
   "id": "849c7a77-073f-47fe-810a-85e464e557f8",
   "metadata": {},
   "outputs": [
    {
     "name": "stdout",
     "output_type": "stream",
     "text": [
      "a: 97 b: 98 c: 99 d: 100 e: 101 f: 102 g: 103 h: 104 i: 105 j: 106 k: 107 l: 108 m: 109 n: 110 o: 111 p: 112 q: 113 r: 114 s: 115 t: 116 u: 117 v: 118 w: 119 x: 120 y: 121 z: 122 "
     ]
    }
   ],
   "source": [
    "for i in string.ascii_lowercase:\n",
    "    print(f\"{i}: {ord(i)}\",end=' ')"
   ]
  },
  {
   "cell_type": "code",
   "execution_count": null,
   "id": "240a9a6b-200d-415b-bef1-7b47b7b8a46c",
   "metadata": {},
   "outputs": [],
   "source": []
  },
  {
   "cell_type": "code",
   "execution_count": null,
   "id": "e61d1cc1-e0bc-4809-a026-ea1cccb8767a",
   "metadata": {},
   "outputs": [],
   "source": []
  },
  {
   "cell_type": "code",
   "execution_count": 53,
   "id": "e66b6ade-8ac3-4e2c-a56a-a13c43dbb88f",
   "metadata": {},
   "outputs": [
    {
     "name": "stdout",
     "output_type": "stream",
     "text": [
      "161:¡ 162:¢ 163:£ 164:¤ 165:¥ 166:¦ 167:§ 168:¨ 169:© 170:ª 171:« 172:¬ 173:­ 174:® 175:¯ 176:° 177:± 178:² 179:³ 180:´ 181:µ 182:¶ 183:· 184:¸ 185:¹ 186:º 187:» 188:¼ 189:½ 190:¾ 191:¿ 192:À 193:Á 194:Â 195:Ã 196:Ä 197:Å 198:Æ 199:Ç "
     ]
    }
   ],
   "source": [
    "for i in range(161,200):\n",
    "    print(f\"{i}:{chr(i)}\",end=' ')"
   ]
  },
  {
   "cell_type": "code",
   "execution_count": 55,
   "id": "e8706a29-7c60-460e-ab05-45a80add1586",
   "metadata": {},
   "outputs": [
    {
     "name": "stdout",
     "output_type": "stream",
     "text": [
      "1611:ً 1612:ٌ 1613:ٍ 1614:َ 1615:ُ 1616:ِ 1617:ّ 1618:ْ 1619:ٓ 1620:ٔ 1621:ٕ 1622:ٖ 1623:ٗ 1624:٘ 1625:ٙ 1626:ٚ 1627:ٛ 1628:ٜ 1629:ٝ 1630:ٞ 1631:ٟ 1632:٠ 1633:١ 1634:٢ 1635:٣ 1636:٤ 1637:٥ 1638:٦ 1639:٧ 1640:٨ 1641:٩ 1642:٪ 1643:٫ 1644:٬ 1645:٭ 1646:ٮ 1647:ٯ 1648:ٰ 1649:ٱ 1650:ٲ 1651:ٳ 1652:ٴ 1653:ٵ 1654:ٶ 1655:ٷ 1656:ٸ 1657:ٹ 1658:ٺ 1659:ٻ 1660:ټ 1661:ٽ 1662:پ 1663:ٿ 1664:ڀ 1665:ځ 1666:ڂ 1667:ڃ 1668:ڄ 1669:څ 1670:چ 1671:ڇ 1672:ڈ 1673:ډ 1674:ڊ 1675:ڋ 1676:ڌ 1677:ڍ 1678:ڎ 1679:ڏ 1680:ڐ 1681:ڑ 1682:ڒ 1683:ړ 1684:ڔ 1685:ڕ 1686:ږ 1687:ڗ 1688:ژ 1689:ڙ 1690:ښ 1691:ڛ 1692:ڜ 1693:ڝ 1694:ڞ 1695:ڟ 1696:ڠ 1697:ڡ 1698:ڢ 1699:ڣ 1700:ڤ 1701:ڥ 1702:ڦ 1703:ڧ 1704:ڨ 1705:ک 1706:ڪ 1707:ګ 1708:ڬ 1709:ڭ 1710:ڮ 1711:گ 1712:ڰ 1713:ڱ 1714:ڲ 1715:ڳ 1716:ڴ 1717:ڵ 1718:ڶ 1719:ڷ 1720:ڸ 1721:ڹ 1722:ں 1723:ڻ 1724:ڼ 1725:ڽ 1726:ھ 1727:ڿ 1728:ۀ 1729:ہ 1730:ۂ 1731:ۃ 1732:ۄ 1733:ۅ 1734:ۆ 1735:ۇ 1736:ۈ 1737:ۉ 1738:ۊ 1739:ۋ 1740:ی 1741:ۍ 1742:ێ 1743:ۏ 1744:ې 1745:ۑ 1746:ے 1747:ۓ 1748:۔ 1749:ە 1750:ۖ 1751:ۗ 1752:ۘ 1753:ۙ 1754:ۚ 1755:ۛ 1756:ۜ 1757:۝ 1758:۞ 1759:۟ 1760:۠ 1761:ۡ 1762:ۢ 1763:ۣ 1764:ۤ 1765:ۥ 1766:ۦ 1767:ۧ 1768:ۨ 1769:۩ 1770:۪ 1771:۫ 1772:۬ 1773:ۭ 1774:ۮ 1775:ۯ 1776:۰ 1777:۱ 1778:۲ 1779:۳ 1780:۴ 1781:۵ 1782:۶ 1783:۷ 1784:۸ 1785:۹ 1786:ۺ 1787:ۻ 1788:ۼ 1789:۽ 1790:۾ 1791:ۿ 1792:܀ 1793:܁ 1794:܂ 1795:܃ 1796:܄ 1797:܅ 1798:܆ 1799:܇ 1800:܈ 1801:܉ 1802:܊ 1803:܋ 1804:܌ 1805:܍ 1806:܎ 1807:܏ 1808:ܐ 1809:ܑ 1810:ܒ 1811:ܓ 1812:ܔ 1813:ܕ 1814:ܖ 1815:ܗ 1816:ܘ 1817:ܙ 1818:ܚ 1819:ܛ 1820:ܜ 1821:ܝ 1822:ܞ 1823:ܟ 1824:ܠ 1825:ܡ 1826:ܢ 1827:ܣ 1828:ܤ 1829:ܥ 1830:ܦ 1831:ܧ 1832:ܨ 1833:ܩ 1834:ܪ 1835:ܫ 1836:ܬ 1837:ܭ 1838:ܮ 1839:ܯ 1840:ܰ 1841:ܱ 1842:ܲ 1843:ܳ 1844:ܴ 1845:ܵ 1846:ܶ 1847:ܷ 1848:ܸ 1849:ܹ 1850:ܺ 1851:ܻ 1852:ܼ 1853:ܽ 1854:ܾ 1855:ܿ 1856:݀ 1857:݁ 1858:݂ 1859:݃ 1860:݄ 1861:݅ 1862:݆ 1863:݇ 1864:݈ 1865:݉ 1866:݊ 1867:݋ 1868:݌ 1869:ݍ 1870:ݎ 1871:ݏ 1872:ݐ 1873:ݑ 1874:ݒ 1875:ݓ 1876:ݔ 1877:ݕ 1878:ݖ 1879:ݗ 1880:ݘ 1881:ݙ 1882:ݚ 1883:ݛ 1884:ݜ 1885:ݝ 1886:ݞ 1887:ݟ 1888:ݠ 1889:ݡ 1890:ݢ 1891:ݣ 1892:ݤ 1893:ݥ 1894:ݦ 1895:ݧ 1896:ݨ 1897:ݩ 1898:ݪ 1899:ݫ 1900:ݬ 1901:ݭ 1902:ݮ 1903:ݯ 1904:ݰ 1905:ݱ 1906:ݲ 1907:ݳ 1908:ݴ 1909:ݵ 1910:ݶ 1911:ݷ 1912:ݸ 1913:ݹ 1914:ݺ 1915:ݻ 1916:ݼ 1917:ݽ 1918:ݾ 1919:ݿ 1920:ހ 1921:ށ 1922:ނ 1923:ރ 1924:ބ 1925:ޅ 1926:ކ 1927:އ 1928:ވ 1929:މ 1930:ފ 1931:ދ 1932:ތ 1933:ލ 1934:ގ 1935:ޏ 1936:ސ 1937:ޑ 1938:ޒ 1939:ޓ 1940:ޔ 1941:ޕ 1942:ޖ 1943:ޗ 1944:ޘ 1945:ޙ 1946:ޚ 1947:ޛ 1948:ޜ 1949:ޝ 1950:ޞ 1951:ޟ 1952:ޠ 1953:ޡ 1954:ޢ 1955:ޣ 1956:ޤ 1957:ޥ 1958:ަ 1959:ާ 1960:ި 1961:ީ 1962:ު 1963:ޫ 1964:ެ 1965:ޭ 1966:ޮ 1967:ޯ 1968:ް 1969:ޱ 1970:޲ 1971:޳ 1972:޴ 1973:޵ 1974:޶ 1975:޷ 1976:޸ 1977:޹ 1978:޺ 1979:޻ 1980:޼ 1981:޽ 1982:޾ 1983:޿ 1984:߀ 1985:߁ 1986:߂ 1987:߃ 1988:߄ 1989:߅ 1990:߆ 1991:߇ 1992:߈ 1993:߉ 1994:ߊ 1995:ߋ 1996:ߌ 1997:ߍ 1998:ߎ 1999:ߏ "
     ]
    }
   ],
   "source": [
    "for i in range(1611,2000):\n",
    "    print(f\"{i}:{chr(i)}\",end=' ')"
   ]
  },
  {
   "cell_type": "code",
   "execution_count": 65,
   "id": "ffba42b3-6395-458e-8ebb-2d6d586c6e8c",
   "metadata": {},
   "outputs": [
    {
     "name": "stdout",
     "output_type": "stream",
     "text": [
      "2308:ऄ 2309:अ 2310:आ 2311:इ 2312:ई 2313:उ 2314:ऊ 2315:ऋ 2316:ऌ 2317:ऍ 2318:ऎ 2319:ए 2320:ऐ 2321:ऑ 2322:ऒ 2323:ओ 2324:औ 2325:क 2326:ख 2327:ग 2328:घ 2329:ङ 2330:च 2331:छ 2332:ज 2333:झ 2334:ञ 2335:ट 2336:ठ 2337:ड 2338:ढ 2339:ण 2340:त 2341:थ 2342:द 2343:ध 2344:न 2345:ऩ 2346:प 2347:फ 2348:ब 2349:भ 2350:म 2351:य 2352:र 2353:ऱ 2354:ल 2355:ळ 2356:ऴ 2357:व 2358:श 2359:ष 2360:स 2361:ह 2362:ऺ 2363:ऻ 2364:़ 2365:ऽ 2366:ा 2367:ि 2368:ी 2369:ु 2370:ू 2371:ृ 2372:ॄ 2373:ॅ 2374:ॆ 2375:े 2376:ै 2377:ॉ 2378:ॊ 2379:ो 2380:ौ 2381:् 2382:ॎ 2383:ॏ 2384:ॐ 2385:॑ 2386:॒ 2387:॓ 2388:॔ 2389:ॕ 2390:ॖ 2391:ॗ 2392:क़ 2393:ख़ 2394:ग़ 2395:ज़ 2396:ड़ 2397:ढ़ 2398:फ़ 2399:य़ 2400:ॠ 2401:ॡ 2402:ॢ 2403:ॣ 2404:। 2405:॥ 2406:० 2407:१ 2408:२ 2409:३ 2410:४ 2411:५ 2412:६ 2413:७ 2414:८ 2415:९ 2416:॰ 2417:ॱ 2418:ॲ 2419:ॳ 2420:ॴ 2421:ॵ 2422:ॶ 2423:ॷ 2424:ॸ 2425:ॹ 2426:ॺ 2427:ॻ 2428:ॼ 2429:ॽ 2430:ॾ 2431:ॿ 2432:ঀ 2433:ঁ 2434:ং 2435:ঃ 2436:঄ 2437:অ 2438:আ 2439:ই 2440:ঈ 2441:উ 2442:ঊ 2443:ঋ 2444:ঌ 2445:঍ 2446:঎ 2447:এ 2448:ঐ 2449:঑ 2450:঒ 2451:ও 2452:ঔ 2453:ক 2454:খ 2455:গ 2456:ঘ 2457:ঙ 2458:চ 2459:ছ 2460:জ 2461:ঝ 2462:ঞ 2463:ট 2464:ঠ 2465:ড 2466:ঢ 2467:ণ 2468:ত 2469:থ 2470:দ 2471:ধ 2472:ন 2473:঩ 2474:প 2475:ফ 2476:ব 2477:ভ 2478:ম 2479:য 2480:র 2481:঱ 2482:ল 2483:঳ 2484:঴ 2485:঵ 2486:শ 2487:ষ 2488:স 2489:হ 2490:঺ 2491:঻ 2492:় 2493:ঽ 2494:া 2495:ি 2496:ী 2497:ু 2498:ূ 2499:ৃ 2500:ৄ 2501:৅ 2502:৆ 2503:ে 2504:ৈ 2505:৉ 2506:৊ 2507:ো 2508:ৌ 2509:্ 2510:ৎ 2511:৏ 2512:৐ 2513:৑ 2514:৒ 2515:৓ 2516:৔ 2517:৕ 2518:৖ 2519:ৗ 2520:৘ 2521:৙ 2522:৚ 2523:৛ 2524:ড় 2525:ঢ় 2526:৞ 2527:য় 2528:ৠ 2529:ৡ 2530:ৢ 2531:ৣ 2532:৤ 2533:৥ 2534:০ 2535:১ 2536:২ 2537:৩ 2538:৪ 2539:৫ 2540:৬ 2541:৭ 2542:৮ 2543:৯ 2544:ৰ 2545:ৱ 2546:৲ 2547:৳ 2548:৴ 2549:৵ 2550:৶ 2551:৷ 2552:৸ 2553:৹ 2554:৺ 2555:৻ 2556:ৼ 2557:৽ 2558:৾ 2559:৿ 2560:਀ 2561:ਁ 2562:ਂ 2563:ਃ 2564:਄ 2565:ਅ 2566:ਆ 2567:ਇ 2568:ਈ 2569:ਉ 2570:ਊ 2571:਋ 2572:਌ 2573:਍ 2574:਎ 2575:ਏ 2576:ਐ 2577:਑ 2578:਒ 2579:ਓ 2580:ਔ 2581:ਕ 2582:ਖ 2583:ਗ 2584:ਘ 2585:ਙ 2586:ਚ 2587:ਛ 2588:ਜ 2589:ਝ 2590:ਞ 2591:ਟ 2592:ਠ 2593:ਡ 2594:ਢ 2595:ਣ 2596:ਤ 2597:ਥ 2598:ਦ 2599:ਧ "
     ]
    }
   ],
   "source": [
    "for i in range(2308,2600):\n",
    "    print(f\"{i}:{chr(i)}\",end=' ')"
   ]
  },
  {
   "cell_type": "code",
   "execution_count": 67,
   "id": "4d2906f4-87a7-4dbe-af51-238f714daa7c",
   "metadata": {},
   "outputs": [
    {
     "name": "stdout",
     "output_type": "stream",
     "text": [
      "3070:௾ 3071:௿ 3072:ఀ 3073:ఁ 3074:ం 3075:ః 3076:ఄ 3077:అ 3078:ఆ 3079:ఇ 3080:ఈ 3081:ఉ 3082:ఊ 3083:ఋ 3084:ఌ 3085:఍ 3086:ఎ 3087:ఏ 3088:ఐ 3089:఑ 3090:ఒ 3091:ఓ 3092:ఔ 3093:క 3094:ఖ 3095:గ 3096:ఘ 3097:ఙ 3098:చ 3099:ఛ 3100:జ 3101:ఝ 3102:ఞ 3103:ట 3104:ఠ 3105:డ 3106:ఢ 3107:ణ 3108:త 3109:థ 3110:ద 3111:ధ 3112:న 3113:఩ 3114:ప 3115:ఫ 3116:బ 3117:భ 3118:మ 3119:య 3120:ర 3121:ఱ 3122:ల 3123:ళ 3124:ఴ 3125:వ 3126:శ 3127:ష 3128:స 3129:హ 3130:఺ 3131:఻ 3132:఼ 3133:ఽ 3134:ా 3135:ి 3136:ీ 3137:ు 3138:ూ 3139:ృ 3140:ౄ 3141:౅ 3142:ె 3143:ే 3144:ై 3145:౉ 3146:ొ 3147:ో 3148:ౌ 3149:్ 3150:౎ 3151:౏ 3152:౐ 3153:౑ 3154:౒ 3155:౓ 3156:౔ 3157:ౕ 3158:ౖ 3159:౗ 3160:ౘ 3161:ౙ 3162:ౚ 3163:౛ 3164:౜ 3165:ౝ 3166:౞ 3167:౟ 3168:ౠ 3169:ౡ 3170:ౢ 3171:ౣ 3172:౤ 3173:౥ 3174:౦ 3175:౧ 3176:౨ 3177:౩ 3178:౪ 3179:౫ 3180:౬ 3181:౭ 3182:౮ 3183:౯ 3184:౰ 3185:౱ 3186:౲ 3187:౳ 3188:౴ 3189:౵ 3190:౶ 3191:౷ 3192:౸ 3193:౹ 3194:౺ 3195:౻ 3196:౼ 3197:౽ 3198:౾ 3199:౿ 3200:ಀ 3201:ಁ 3202:ಂ 3203:ಃ 3204:಄ 3205:ಅ 3206:ಆ 3207:ಇ 3208:ಈ 3209:ಉ 3210:ಊ 3211:ಋ 3212:ಌ 3213:಍ 3214:ಎ 3215:ಏ 3216:ಐ 3217:಑ 3218:ಒ 3219:ಓ 3220:ಔ 3221:ಕ 3222:ಖ 3223:ಗ 3224:ಘ 3225:ಙ 3226:ಚ 3227:ಛ 3228:ಜ 3229:ಝ 3230:ಞ 3231:ಟ 3232:ಠ 3233:ಡ 3234:ಢ 3235:ಣ 3236:ತ 3237:ಥ 3238:ದ 3239:ಧ 3240:ನ 3241:಩ 3242:ಪ 3243:ಫ 3244:ಬ 3245:ಭ 3246:ಮ 3247:ಯ 3248:ರ 3249:ಱ 3250:ಲ 3251:ಳ 3252:಴ 3253:ವ 3254:ಶ 3255:ಷ 3256:ಸ 3257:ಹ 3258:಺ 3259:಻ 3260:಼ 3261:ಽ 3262:ಾ 3263:ಿ 3264:ೀ 3265:ು 3266:ೂ 3267:ೃ 3268:ೄ 3269:೅ 3270:ೆ 3271:ೇ 3272:ೈ 3273:೉ 3274:ೊ 3275:ೋ 3276:ೌ 3277:್ 3278:೎ 3279:೏ 3280:೐ 3281:೑ 3282:೒ 3283:೓ 3284:೔ 3285:ೕ 3286:ೖ 3287:೗ 3288:೘ 3289:೙ 3290:೚ 3291:೛ 3292:೜ 3293:ೝ 3294:ೞ 3295:೟ 3296:ೠ 3297:ೡ 3298:ೢ 3299:ೣ 3300:೤ 3301:೥ 3302:೦ 3303:೧ 3304:೨ 3305:೩ 3306:೪ 3307:೫ 3308:೬ 3309:೭ 3310:೮ 3311:೯ 3312:೰ 3313:ೱ 3314:ೲ 3315:ೳ 3316:೴ 3317:೵ 3318:೶ 3319:೷ 3320:೸ 3321:೹ 3322:೺ 3323:೻ 3324:೼ 3325:೽ 3326:೾ 3327:೿ 3328:ഀ 3329:ഁ 3330:ം 3331:ഃ 3332:ഄ "
     ]
    }
   ],
   "source": [
    "for i in range(3070,3333):\n",
    "    print(f\"{i}:{chr(i)}\",end=' ')"
   ]
  },
  {
   "cell_type": "code",
   "execution_count": 69,
   "id": "79051abf-e32a-4d36-94f7-c50a4102f7d5",
   "metadata": {},
   "outputs": [
    {
     "name": "stdout",
     "output_type": "stream",
     "text": [
      "9758:☞ 9759:☟ 9760:☠ 9761:☡ 9762:☢ 9763:☣ 9764:☤ 9765:☥ 9766:☦ 9767:☧ 9768:☨ 9769:☩ 9770:☪ 9771:☫ 9772:☬ 9773:☭ 9774:☮ 9775:☯ 9776:☰ 9777:☱ 9778:☲ 9779:☳ 9780:☴ 9781:☵ 9782:☶ 9783:☷ 9784:☸ 9785:☹ 9786:☺ 9787:☻ 9788:☼ 9789:☽ 9790:☾ 9791:☿ 9792:♀ 9793:♁ 9794:♂ 9795:♃ 9796:♄ 9797:♅ 9798:♆ 9799:♇ 9800:♈ 9801:♉ 9802:♊ 9803:♋ 9804:♌ 9805:♍ 9806:♎ 9807:♏ 9808:♐ 9809:♑ 9810:♒ 9811:♓ 9812:♔ 9813:♕ 9814:♖ 9815:♗ 9816:♘ 9817:♙ 9818:♚ 9819:♛ 9820:♜ 9821:♝ 9822:♞ 9823:♟ 9824:♠ 9825:♡ 9826:♢ 9827:♣ 9828:♤ 9829:♥ 9830:♦ 9831:♧ 9832:♨ 9833:♩ 9834:♪ 9835:♫ 9836:♬ 9837:♭ 9838:♮ 9839:♯ 9840:♰ 9841:♱ 9842:♲ 9843:♳ 9844:♴ 9845:♵ 9846:♶ 9847:♷ 9848:♸ 9849:♹ 9850:♺ 9851:♻ 9852:♼ 9853:♽ 9854:♾ 9855:♿ 9856:⚀ 9857:⚁ 9858:⚂ 9859:⚃ 9860:⚄ 9861:⚅ 9862:⚆ 9863:⚇ 9864:⚈ 9865:⚉ 9866:⚊ 9867:⚋ 9868:⚌ 9869:⚍ 9870:⚎ 9871:⚏ 9872:⚐ 9873:⚑ 9874:⚒ 9875:⚓ 9876:⚔ 9877:⚕ 9878:⚖ 9879:⚗ 9880:⚘ 9881:⚙ 9882:⚚ 9883:⚛ 9884:⚜ 9885:⚝ 9886:⚞ 9887:⚟ 9888:⚠ 9889:⚡ 9890:⚢ 9891:⚣ 9892:⚤ 9893:⚥ 9894:⚦ 9895:⚧ 9896:⚨ 9897:⚩ 9898:⚪ 9899:⚫ 9900:⚬ 9901:⚭ 9902:⚮ 9903:⚯ 9904:⚰ 9905:⚱ 9906:⚲ 9907:⚳ 9908:⚴ 9909:⚵ 9910:⚶ 9911:⚷ 9912:⚸ 9913:⚹ 9914:⚺ 9915:⚻ 9916:⚼ 9917:⚽ 9918:⚾ 9919:⚿ 9920:⛀ 9921:⛁ 9922:⛂ 9923:⛃ 9924:⛄ 9925:⛅ 9926:⛆ 9927:⛇ 9928:⛈ 9929:⛉ 9930:⛊ 9931:⛋ 9932:⛌ 9933:⛍ 9934:⛎ 9935:⛏ 9936:⛐ 9937:⛑ 9938:⛒ 9939:⛓ 9940:⛔ 9941:⛕ 9942:⛖ 9943:⛗ 9944:⛘ 9945:⛙ 9946:⛚ 9947:⛛ 9948:⛜ 9949:⛝ 9950:⛞ 9951:⛟ 9952:⛠ 9953:⛡ 9954:⛢ 9955:⛣ 9956:⛤ 9957:⛥ 9958:⛦ 9959:⛧ 9960:⛨ 9961:⛩ 9962:⛪ 9963:⛫ 9964:⛬ 9965:⛭ 9966:⛮ 9967:⛯ 9968:⛰ 9969:⛱ 9970:⛲ 9971:⛳ 9972:⛴ 9973:⛵ 9974:⛶ 9975:⛷ 9976:⛸ 9977:⛹ 9978:⛺ 9979:⛻ 9980:⛼ 9981:⛽ 9982:⛾ 9983:⛿ 9984:✀ 9985:✁ 9986:✂ 9987:✃ 9988:✄ 9989:✅ 9990:✆ 9991:✇ 9992:✈ 9993:✉ 9994:✊ 9995:✋ 9996:✌ 9997:✍ 9998:✎ 9999:✏ "
     ]
    }
   ],
   "source": [
    "for i in range(9758,10000):\n",
    "    print(f\"{i}:{chr(i)}\",end=' ')"
   ]
  },
  {
   "cell_type": "code",
   "execution_count": null,
   "id": "5c6dacf3-8dc2-4ee5-811a-2a4ff237af55",
   "metadata": {},
   "outputs": [],
   "source": []
  }
 ],
 "metadata": {
  "kernelspec": {
   "display_name": "Python 3 (ipykernel)",
   "language": "python",
   "name": "python3"
  },
  "language_info": {
   "codemirror_mode": {
    "name": "ipython",
    "version": 3
   },
   "file_extension": ".py",
   "mimetype": "text/x-python",
   "name": "python",
   "nbconvert_exporter": "python",
   "pygments_lexer": "ipython3",
   "version": "3.12.4"
  }
 },
 "nbformat": 4,
 "nbformat_minor": 5
}
