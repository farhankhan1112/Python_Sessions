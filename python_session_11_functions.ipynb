{
 "cells": [
  {
   "cell_type": "code",
   "execution_count": null,
   "id": "3651731e-df15-483f-820c-a2387661d3c0",
   "metadata": {},
   "outputs": [],
   "source": [
    "- basic\n",
    "\n",
    "- data type\n",
    "-   14 data type ( int,float,string,list,tuple,set,dictionary,complex,range,bytearray )\n",
    "\n",
    "- eval input\n",
    "\n",
    "- tyoe casting\n",
    "\n",
    "- print statement\n",
    "\n",
    "- conditionanl statement\n",
    "\n",
    "- try-except"
   ]
  },
  {
   "cell_type": "code",
   "execution_count": null,
   "id": "076190b4-d317-444e-af35-f52ba04b30fc",
   "metadata": {},
   "outputs": [],
   "source": [
    "python+statics:EDA\n",
    "python+ML\n",
    "python+DL\n",
    "python+NLP\n",
    "python+GenAI\n"
   ]
  },
  {
   "cell_type": "markdown",
   "id": "1da56b02-4cae-4a92-a7fc-7295f16b5736",
   "metadata": {},
   "source": [
    "# Function\n",
    "\n",
    "- block of code\n",
    "\n",
    "- reuseable \n",
    "\n",
    "- a block of statement that return the specific task"
   ]
  },
  {
   "cell_type": "code",
   "execution_count": null,
   "id": "fb438c36-e9fa-4a00-9715-86a7d878f93e",
   "metadata": {},
   "outputs": [],
   "source": [
    "bill pay and tax amount\n",
    "\n",
    "bill_amount\n",
    "tax_per\n",
    "tax_amount\n",
    "total_bill"
   ]
  },
  {
   "cell_type": "markdown",
   "id": "e265f84a-b94d-4bf0-bd84-68e49bb388a1",
   "metadata": {},
   "source": [
    "**syntax**"
   ]
  },
  {
   "cell_type": "code",
   "execution_count": null,
   "id": "29857d28-8119-4c51-bc1c-71d52048b8f7",
   "metadata": {},
   "outputs": [],
   "source": [
    "#def <write your function name>:\n",
    "    #<write your code>\n"
   ]
  },
  {
   "cell_type": "code",
   "execution_count": 3,
   "id": "d258f3a9-a9e8-4b30-8744-963ebc42f467",
   "metadata": {},
   "outputs": [
    {
     "name": "stdout",
     "output_type": "stream",
     "text": [
      "30\n"
     ]
    }
   ],
   "source": [
    "#  write addition program \n",
    "a=10\n",
    "b=20\n",
    "c=a+b\n",
    "print(c)"
   ]
  },
  {
   "cell_type": "code",
   "execution_count": 1,
   "id": "b329b9d7-7fa1-4ec9-81eb-6718a0d3810a",
   "metadata": {},
   "outputs": [],
   "source": [
    "def add():\n",
    "    a=10\n",
    "    b=20\n",
    "    c=a+b\n",
    "    print(c)\n",
    "      "
   ]
  },
  {
   "cell_type": "code",
   "execution_count": null,
   "id": "e9a80da3-946e-4e9c-acd9-0872309fff48",
   "metadata": {},
   "outputs": [],
   "source": [
    "# in order to see the output\n",
    "# we need to call the function\n",
    "# function name : add"
   ]
  },
  {
   "cell_type": "code",
   "execution_count": 7,
   "id": "7d9cbc8b-3040-44fd-a752-90ecf6f859a8",
   "metadata": {},
   "outputs": [
    {
     "data": {
      "text/plain": [
       "<function __main__.add()>"
      ]
     },
     "execution_count": 7,
     "metadata": {},
     "output_type": "execute_result"
    }
   ],
   "source": [
    "add"
   ]
  },
  {
   "cell_type": "code",
   "execution_count": 9,
   "id": "f317fe4d-7b8f-4f0e-b5e9-018026f70015",
   "metadata": {},
   "outputs": [
    {
     "data": {
      "text/plain": [
       "<bound method Random.randint of <random.Random object at 0x000002A1D6DBDB70>>"
      ]
     },
     "execution_count": 9,
     "metadata": {},
     "output_type": "execute_result"
    }
   ],
   "source": [
    "import random\n",
    "random.randint"
   ]
  },
  {
   "cell_type": "markdown",
   "id": "02afe04c-bb4b-453a-bbcc-dc607baa98c1",
   "metadata": {},
   "source": [
    "- whenwver we see function\n",
    "\n",
    "- whenwver we see bound method\n",
    "\n",
    "- then add normal bracket\n",
    "\n",
    "- function or method always with normal bracket only"
   ]
  },
  {
   "cell_type": "code",
   "execution_count": 11,
   "id": "c64cbff5-8b4b-4d24-b9ad-6a11d9f956b9",
   "metadata": {},
   "outputs": [
    {
     "name": "stdout",
     "output_type": "stream",
     "text": [
      "30\n"
     ]
    }
   ],
   "source": [
    "add()"
   ]
  },
  {
   "cell_type": "code",
   "execution_count": 14,
   "id": "d355c2ea-8f0b-470d-b16b-840535ae9f77",
   "metadata": {},
   "outputs": [
    {
     "name": "stdout",
     "output_type": "stream",
     "text": [
      "30\n"
     ]
    }
   ],
   "source": [
    "# defining the function\n",
    "def add():\n",
    "    a=10\n",
    "    b=20\n",
    "    c=a+b\n",
    "    print(c)\n",
    "    \n",
    "# call the function\n",
    "add()"
   ]
  },
  {
   "cell_type": "code",
   "execution_count": 16,
   "id": "bf0cb395-35f9-4d3c-bba3-40afdb310928",
   "metadata": {},
   "outputs": [
    {
     "name": "stdout",
     "output_type": "stream",
     "text": [
      "30\n",
      "None\n"
     ]
    }
   ],
   "source": [
    "print(add())\n",
    "\n",
    "# dont print the function name\n",
    "# print is used for only see the output"
   ]
  },
  {
   "cell_type": "code",
   "execution_count": 20,
   "id": "abaaf67c-6b0c-42b8-9e73-9fd82bdbf234",
   "metadata": {},
   "outputs": [
    {
     "name": "stdin",
     "output_type": "stream",
     "text": [
      "enter a num1 100\n",
      "enter a num2 200\n"
     ]
    },
    {
     "name": "stdout",
     "output_type": "stream",
     "text": [
      "the addition of 100 and 200 is :300 \n"
     ]
    }
   ],
   "source": [
    "def add1():\n",
    "    a=eval(input(\"enter a num1\"))\n",
    "    b=eval(input('enter a num2'))\n",
    "    c=a+b\n",
    "    print(f\"the addition of {a} and {b} is :{c} \")\n",
    "\n",
    "add1()"
   ]
  },
  {
   "cell_type": "code",
   "execution_count": 30,
   "id": "ab08a5d0-e689-4cd2-8666-7b7212953d34",
   "metadata": {},
   "outputs": [
    {
     "name": "stdout",
     "output_type": "stream",
     "text": [
      "the addtion of 44 and 166 is :210 \n"
     ]
    }
   ],
   "source": [
    "import random\n",
    "def add2():\n",
    "    num1=random.randint(1,100)\n",
    "    num2=random.randint(2,200)\n",
    "    add=num1+num2\n",
    "    print(f\"the addtion of {num1} and {num2} is :{add} \")\n",
    "\n",
    "add2()"
   ]
  },
  {
   "cell_type": "markdown",
   "id": "9fc7bcd2-361d-44fd-973f-af72fd6a1654",
   "metadata": {},
   "source": [
    "- function name should not same as variable name\n",
    "\n",
    "- function name rules same as variable rules\n",
    "\n",
    "- function name and your file name should nt be same\n",
    "\n",
    "- function name should not be same as pakage name\n",
    "   "
   ]
  },
  {
   "cell_type": "code",
   "execution_count": null,
   "id": "c73fee4a-e4d8-4b2c-97f1-8ed64080577b",
   "metadata": {},
   "outputs": [],
   "source": []
  },
  {
   "cell_type": "code",
   "execution_count": 35,
   "id": "e3feebee-d387-413f-bcc4-241d5cceffe4",
   "metadata": {},
   "outputs": [
    {
     "name": "stdout",
     "output_type": "stream",
     "text": [
      "30\n"
     ]
    },
    {
     "name": "stdin",
     "output_type": "stream",
     "text": [
      "enter a num1 2\n",
      "enter a num2 2\n"
     ]
    },
    {
     "name": "stdout",
     "output_type": "stream",
     "text": [
      "the addition of 2 and 2 is :4 \n",
      "the addtion of 8 and 128 is :136 \n"
     ]
    }
   ],
   "source": [
    "# defining the function\n",
    "def add():\n",
    "    a=10\n",
    "    b=20\n",
    "    c=a+b\n",
    "    print(c)\n",
    "    \n",
    "# call the function\n",
    "add()\n",
    "\n",
    "\n",
    "def add1():\n",
    "    a=eval(input(\"enter a num1\"))\n",
    "    b=eval(input('enter a num2'))\n",
    "    c=a+b\n",
    "    print(f\"the addition of {a} and {b} is :{c} \")\n",
    "\n",
    "add1()\n",
    "\n",
    "import random\n",
    "def add2():\n",
    "    num1=random.randint(1,100)\n",
    "    num2=random.randint(2,200)\n",
    "    add=num1+num2\n",
    "    print(f\"the addtion of {num1} and {num2} is :{add} \")\n",
    "\n",
    "add2()"
   ]
  },
  {
   "cell_type": "code",
   "execution_count": 1,
   "id": "d3f4d525-b868-4127-813c-2dc74655fe12",
   "metadata": {},
   "outputs": [
    {
     "name": "stdin",
     "output_type": "stream",
     "text": [
      "enter a num1 5\n",
      "enter a num2 5\n"
     ]
    },
    {
     "name": "stdout",
     "output_type": "stream",
     "text": [
      "the addition of 5 and 5 is :10 \n"
     ]
    }
   ],
   "source": [
    "\n",
    "def add3():\n",
    "    a=eval(input(\"enter a num1\"))\n",
    "    b=eval(input('enter a num2'))\n",
    "    c=a+b\n",
    "    print(f\"the addition of {a} and {b} is :{c} \")\n",
    "add3()"
   ]
  },
  {
   "cell_type": "markdown",
   "id": "6540404a-baa6-4295-862f-c0e4a754a5f6",
   "metadata": {},
   "source": [
    "- when you define the function , if any error is there it will not show\n",
    "\n",
    "- If you want t see the error or output\n",
    "\n",
    "- You need to call the function on;y "
   ]
  },
  {
   "cell_type": "code",
   "execution_count": null,
   "id": "fcb0eea9-0b46-4aef-bc75-3c2fd2db86bc",
   "metadata": {},
   "outputs": [],
   "source": [
    "# Q2)\n",
    "\n",
    "# write a programe ask the user take height of the traingle\n",
    "#                                breadth of the traingle\n",
    "# calculate the area of the right angle traingle\n",
    "# formula: 1/2*b*h\n",
    "# formula: 1/2*breadth*height\n",
    "\n",
    "\n",
    "# Q3)\n",
    "\n",
    "#write ask the user take the radius of circle\n",
    "#  calculate the area of the circle\n",
    "# formula: pi*r*r  where pi=3.14\n",
    "\n",
    "\n",
    "# Q5)\n",
    "\n",
    "# wapp ask the how much bill he wants to pay\n",
    "#        how much tip percentage he wants to give\n",
    "#        calculate the totale bill amount\n",
    "\n",
    "# bill amount=1000\n",
    "# you want give 10% tip =1000*10/100\n",
    "# total bill=1000+100=1100\n"
   ]
  },
  {
   "cell_type": "code",
   "execution_count": 42,
   "id": "bbefd93c-1737-4f41-a776-599579cfd6ec",
   "metadata": {},
   "outputs": [],
   "source": [
    "# Q2)\n",
    "\n",
    "# write a programe ask the user take height of the traingle\n",
    "#                                breadth of the traingle\n",
    "# calculate the area of the right angle traingle\n",
    "# formula: 1/2*b*h\n",
    "# formula: 1/2*breadth*height\n",
    "\n",
    "def area_of_tri():\n",
    "    height=eval(input('enter height'))\n",
    "    breadth=eval(input('enter breadth'))\n",
    "    area=0.5*height*breadth\n",
    "    print(f'the area of traingle is :' ,area)"
   ]
  },
  {
   "cell_type": "code",
   "execution_count": 44,
   "id": "bdb13033-e5fa-48ea-b549-da1cbd918865",
   "metadata": {},
   "outputs": [
    {
     "name": "stdin",
     "output_type": "stream",
     "text": [
      "enter height 20\n",
      "enter breadth 30\n"
     ]
    },
    {
     "name": "stdout",
     "output_type": "stream",
     "text": [
      "the area of traingle is : 300.0\n"
     ]
    }
   ],
   "source": [
    "area_of_tri()"
   ]
  },
  {
   "cell_type": "code",
   "execution_count": 7,
   "id": "45558a05-4404-49e3-96b4-2290a4caa8b1",
   "metadata": {},
   "outputs": [],
   "source": [
    "# Q3)\n",
    "#write ask the user take the radius of circle\n",
    "#  calculate the area of the circle\n",
    "# formula: pi*r*r  where pi=3.14\n",
    "\n",
    "def circle():\n",
    "    radius=eval(input(\"Enter radius: \"))\n",
    "    pi=3.14\n",
    "    area=pi*radius*radius\n",
    "    print(f\"The area of circle having {radius} is {area}\")\n",
    "    print(\"The area of circle having {} is {}\".format(radius,area))\n",
    " \n"
   ]
  },
  {
   "cell_type": "code",
   "execution_count": 9,
   "id": "fe36081d-df00-4a88-bd16-5fec32b5e005",
   "metadata": {},
   "outputs": [
    {
     "name": "stdin",
     "output_type": "stream",
     "text": [
      "Enter radius:  4\n"
     ]
    },
    {
     "name": "stdout",
     "output_type": "stream",
     "text": [
      "The area of circle having 4 is 50.24\n",
      "The area of circle having 4 is 50.24\n"
     ]
    }
   ],
   "source": [
    "circle()"
   ]
  },
  {
   "cell_type": "code",
   "execution_count": 75,
   "id": "5ac73df9-e689-4e9e-80aa-262e80f38c08",
   "metadata": {},
   "outputs": [],
   "source": [
    "# Q4)\n",
    "\n",
    "def rec_area():\n",
    "    length=eval(input('enter the length: '))\n",
    "    breadth=eval(input('enter the breadth: '))\n",
    "    area=length*breadth\n",
    "    print(f\"The area of the rectangle having {breadth},{length} is {area}\")\n",
    "    print(\"The area of the rectangle having {},{} is {}\".format(breadth,length,area))\n",
    "\n"
   ]
  },
  {
   "cell_type": "code",
   "execution_count": 77,
   "id": "694ba4a8-c01d-4ccf-9c1e-1b8f6da997af",
   "metadata": {},
   "outputs": [
    {
     "name": "stdin",
     "output_type": "stream",
     "text": [
      "enter the length 30\n",
      "enter the breadth 40\n"
     ]
    },
    {
     "name": "stdout",
     "output_type": "stream",
     "text": [
      "The area of the rectangle having 40,30 is 1200\n",
      "The area of the rectangle having 40,30 is 1200\n"
     ]
    }
   ],
   "source": [
    "rec_area()"
   ]
  },
  {
   "cell_type": "code",
   "execution_count": 52,
   "id": "05cde4af-6d12-4c2d-86e6-a0a95f0c9187",
   "metadata": {},
   "outputs": [],
   "source": [
    "# Q5)\n",
    "\n",
    "# wapp ask the how much bill he wants to pay\n",
    "#        how much tip percentage he wants to give\n",
    "#        calculate the totale bill amount\n",
    "\n",
    "# bill amount=1000\n",
    "# you want give 10% tip =1000*10/100\n",
    "# total bill=1000+100=1100\n",
    "\n",
    "def bill_pay():\n",
    "    bill_amount=eval(input('enter the bill_amount:'))\n",
    "    tip_percentage=eval(input('enter the tip_percentage:'))\n",
    "    tip_amount=bill_amount*tip_percentage/100\n",
    "    total_bill=bill_amount+tip_amount\n",
    "    print(f\"The total bill is : {total_bill}\")"
   ]
  },
  {
   "cell_type": "code",
   "execution_count": 54,
   "id": "4cfcd532-4941-42a1-be42-59f20e1c00e5",
   "metadata": {},
   "outputs": [
    {
     "name": "stdin",
     "output_type": "stream",
     "text": [
      "enter the bill_amount: 1000\n",
      "enter the tip_percentage: 10\n"
     ]
    },
    {
     "name": "stdout",
     "output_type": "stream",
     "text": [
      "The total bill is : 1100.0\n"
     ]
    }
   ],
   "source": [
    "bill_pay()"
   ]
  },
  {
   "cell_type": "code",
   "execution_count": 60,
   "id": "ccf6613e-b5a5-4c48-9a28-3a0fa54d06ff",
   "metadata": {},
   "outputs": [
    {
     "name": "stdout",
     "output_type": "stream",
     "text": [
      "30\n"
     ]
    },
    {
     "name": "stdin",
     "output_type": "stream",
     "text": [
      "enter a num1 10\n",
      "enter a num2 10\n"
     ]
    },
    {
     "name": "stdout",
     "output_type": "stream",
     "text": [
      "the addition of 10 and 10 is :20 \n",
      "the addtion of 43 and 54 is :97 \n"
     ]
    },
    {
     "name": "stdin",
     "output_type": "stream",
     "text": [
      "enter a num1 20\n",
      "enter a num2 20\n"
     ]
    },
    {
     "name": "stdout",
     "output_type": "stream",
     "text": [
      "the addition of 20 and 20 is :40 \n"
     ]
    },
    {
     "name": "stdin",
     "output_type": "stream",
     "text": [
      "enter height 30\n",
      "enter breadth 30\n"
     ]
    },
    {
     "name": "stdout",
     "output_type": "stream",
     "text": [
      "the area of traingle is : 450.0\n",
      "The area of circle having 20 is 1256.0\n",
      "The area of circle having 20 is 1256.0\n"
     ]
    },
    {
     "ename": "NameError",
     "evalue": "name 'rec_area' is not defined",
     "output_type": "error",
     "traceback": [
      "\u001b[1;31m---------------------------------------------------------------------------\u001b[0m",
      "\u001b[1;31mNameError\u001b[0m                                 Traceback (most recent call last)",
      "Cell \u001b[1;32mIn[60], line 7\u001b[0m\n\u001b[0;32m      5\u001b[0m area_of_tri()\n\u001b[0;32m      6\u001b[0m circle()\n\u001b[1;32m----> 7\u001b[0m rec_area()\n\u001b[0;32m      8\u001b[0m bill_pay()\n",
      "\u001b[1;31mNameError\u001b[0m: name 'rec_area' is not defined"
     ]
    }
   ],
   "source": [
    "add()\n",
    "add1()\n",
    "add2()\n",
    "add3()\n",
    "area_of_tri()\n",
    "circle()\n",
    "rec_area()\n",
    "bill_pay()"
   ]
  },
  {
   "cell_type": "markdown",
   "id": "a6160e4c-29a3-493d-9e03-09cadcc77f0e",
   "metadata": {},
   "source": [
    "- some thing we are not providing inside the brackets means\n",
    "\n",
    "- it is called as **Function with out arguments**"
   ]
  },
  {
   "cell_type": "markdown",
   "id": "b0b72bf3-ee95-43a3-ab68-37a45f59d8b0",
   "metadata": {},
   "source": [
    "# 1)  Function with arguments\n",
    "- First check how many variable are there inside the function\n",
    "\n",
    "- There are 3 variable\n",
    "\n",
    "- In the many input variable are there: 2 a,b\n",
    "\n",
    "     - input variable means user will provide\n",
    " \n",
    "     - here a,b provided by user only\n",
    " \n",
    "- In that how many output variable are there : 1c\n",
    "\n",
    "     - output variable are provided by code by uusing inout variable\n",
    "\n",
    "- Dont touch **output variable** "
   ]
  },
  {
   "cell_type": "code",
   "execution_count": 10,
   "id": "39b1cdfe-cf24-4762-9590-21ba3b5881e8",
   "metadata": {},
   "outputs": [
    {
     "name": "stdin",
     "output_type": "stream",
     "text": [
      "enter a num1 5\n",
      "enter a num2 6\n"
     ]
    },
    {
     "name": "stdout",
     "output_type": "stream",
     "text": [
      "the addition of 5 and 6 is :11 \n"
     ]
    }
   ],
   "source": [
    "def add1():\n",
    "    a=eval(input(\"enter a num1\"))\n",
    "    b=eval(input('enter a num2'))\n",
    "    c=a+b\n",
    "    print(f\"the addition of {a} and {b} is :{c} \")\n",
    "add1()"
   ]
  },
  {
   "cell_type": "code",
   "execution_count": 69,
   "id": "cb1a817b-ec0b-4188-8578-fff98e35cf56",
   "metadata": {},
   "outputs": [
    {
     "name": "stdout",
     "output_type": "stream",
     "text": [
      "the addition of 100 and 200 is :300 \n"
     ]
    }
   ],
   "source": [
    "def add4(a1,b1):\n",
    "    c1=a1+b1\n",
    "    print(f\"the addition of {a1} and {b1} is :{c1} \")\n",
    "\n",
    "add4(100,200)"
   ]
  },
  {
   "cell_type": "code",
   "execution_count": null,
   "id": "594557df-b8e1-4afc-8357-d7abab5d41ab",
   "metadata": {},
   "outputs": [],
   "source": [
    "def averaage():\n",
    "    a=eval(input('enter a : '))\n",
    "    b=eval(input('enter b: '))\n",
    "    c=eval(input('enter c: '))\n",
    "    avg=(a+b+c)/3\n",
    "    avg1=round(avg,2)\n",
    "    print(f\"the average of {a} , {b} and {c}is: \",  )\n",
    "    \n"
   ]
  },
  {
   "cell_type": "code",
   "execution_count": 4,
   "id": "8ca1c74f-6c66-4e82-b784-db4e1bc4aa11",
   "metadata": {},
   "outputs": [
    {
     "name": "stdout",
     "output_type": "stream",
     "text": [
      "the area of traingle is  100.0\n"
     ]
    }
   ],
   "source": [
    "def area_of_tri(height,breadth):\n",
    "    area=0.5*height*breadth\n",
    "    print(f\"the area of traingle is \",area)\n",
    "\n",
    "area_of_tri(10,20)"
   ]
  },
  {
   "cell_type": "code",
   "execution_count": null,
   "id": "6b1f5190-0e76-46c3-bc16-9e5665ffbf80",
   "metadata": {},
   "outputs": [],
   "source": [
    "def circle(radius,pi):\n",
    "    area=pi*\n"
   ]
  },
  {
   "cell_type": "code",
   "execution_count": null,
   "id": "1cf060b5-2489-4fa4-9b64-a8eb01e39d96",
   "metadata": {},
   "outputs": [],
   "source": []
  },
  {
   "cell_type": "code",
   "execution_count": 6,
   "id": "e54f3274-c70e-457b-888b-6b9af66f4011",
   "metadata": {},
   "outputs": [
    {
     "name": "stdin",
     "output_type": "stream",
     "text": [
      "rnter the number 19\n"
     ]
    },
    {
     "name": "stdout",
     "output_type": "stream",
     "text": [
      "the 19 is odd\n"
     ]
    }
   ],
   "source": [
    "num=eval(input('rnter the number'))\n",
    "if num%2==0:\n",
    "    print(f\"the {num} is an even\")              # normal code\n",
    "\n",
    "else:\n",
    "    print(f\"the {num} is odd\")"
   ]
  },
  {
   "cell_type": "code",
   "execution_count": 16,
   "id": "d9cc3847-19dc-4d3b-bc37-6f3a7cf02f8c",
   "metadata": {},
   "outputs": [
    {
     "name": "stdin",
     "output_type": "stream",
     "text": [
      "enter the number 7\n"
     ]
    },
    {
     "name": "stdout",
     "output_type": "stream",
     "text": [
      "the 7 is odd\n"
     ]
    }
   ],
   "source": [
    "def even_odd1(num):\n",
    "    num=eval(input('enter the number'))\n",
    "    if num%2==0:\n",
    "        print(f\"the {num} is an even\")\n",
    "\n",
    "    else:\n",
    "        print(f\"the {num} is odd\")\n",
    "even_odd1(20)"
   ]
  },
  {
   "cell_type": "code",
   "execution_count": 12,
   "id": "62149c4b-75fb-49a0-aa0b-8ae7895efae4",
   "metadata": {},
   "outputs": [
    {
     "name": "stdout",
     "output_type": "stream",
     "text": [
      "the average of 101 and 20 and 30 is : 50.33\n"
     ]
    }
   ],
   "source": [
    "def average(a,b,c):\n",
    "    try:\n",
    "        avg=(a+b+c)/3\n",
    "        avg1=round(avg,2)\n",
    "        print(f\"the average of {a} and {b} and {c} is :\",avg1)\n",
    "    except Exception as e:\n",
    "        print(e)\n",
    "\n",
    "average(101,20,30)\n",
    "        "
   ]
  },
  {
   "cell_type": "code",
   "execution_count": 26,
   "id": "c518282e-b2e1-4d23-a3c4-843a235e9733",
   "metadata": {},
   "outputs": [
    {
     "name": "stdout",
     "output_type": "stream",
     "text": [
      "the area of circle having 30 is 2826.0\n",
      "the area of circle having 30 is 2826.0\n"
     ]
    }
   ],
   "source": [
    "def circle(radius,pi):\n",
    "    try:\n",
    "        area=pi*radius*radius\n",
    "        print(f\"the area of circle having {radius} is {area}\")\n",
    "        print(\"the area of circle having {} is {}\".format(radius,area))\n",
    "    except Exception as e:\n",
    "        print(e)\n",
    "\n",
    "circle(30,3.14)\n",
    "    "
   ]
  },
  {
   "cell_type": "code",
   "execution_count": 28,
   "id": "6433dc57-d4a0-4291-acdb-9bbe649872f1",
   "metadata": {},
   "outputs": [
    {
     "ename": "TypeError",
     "evalue": "average1() takes 0 positional arguments but 1 was given",
     "output_type": "error",
     "traceback": [
      "\u001b[1;31m---------------------------------------------------------------------------\u001b[0m",
      "\u001b[1;31mTypeError\u001b[0m                                 Traceback (most recent call last)",
      "Cell \u001b[1;32mIn[28], line 8\u001b[0m\n\u001b[0;32m      5\u001b[0m     avg(a\u001b[38;5;241m+\u001b[39mb\u001b[38;5;241m+\u001b[39mc)\u001b[38;5;241m/\u001b[39m\u001b[38;5;241m3\u001b[39m\n\u001b[0;32m      6\u001b[0m     \u001b[38;5;28mprint\u001b[39m(avg)\n\u001b[1;32m----> 8\u001b[0m average1(\u001b[38;5;241m10\u001b[39m)\n",
      "\u001b[1;31mTypeError\u001b[0m: average1() takes 0 positional arguments but 1 was given"
     ]
    }
   ],
   "source": [
    "def average1():\n",
    "    a=10\n",
    "    b=20\n",
    "    c=30\n",
    "    avg(a+b+c)/3\n",
    "    print(avg)\n",
    "    \n",
    "average1(10)\n"
   ]
  },
  {
   "cell_type": "code",
   "execution_count": null,
   "id": "67874951-2e12-4602-b856-63ee6100461d",
   "metadata": {},
   "outputs": [],
   "source": [
    "def average1(a,b):\n",
    "    print(\"the value of a is:\" ,a)\n",
    "    print(\"the value of b is:\" ,b)\n",
    "    c=30\n",
    "    \n",
    "    "
   ]
  },
  {
   "cell_type": "code",
   "execution_count": null,
   "id": "b5a586d8-7744-46eb-aa04-9b874412c5a0",
   "metadata": {},
   "outputs": [],
   "source": [
    "- "
   ]
  },
  {
   "cell_type": "markdown",
   "id": "655e0ea4-9220-4f8a-b3a2-cf1eec62b173",
   "metadata": {},
   "source": [
    "# 2) Function with Default arguments\n",
    "\n",
    "- There is a situation some varable values always a fixed\n",
    "\n",
    "- for example tip percentage fo a hotle it is fixed 20\n",
    "\n",
    "- These type variable are degault parameter"
   ]
  },
  {
   "cell_type": "code",
   "execution_count": 31,
   "id": "4dfd1bc5-2485-4c18-9eb5-98649a6091bd",
   "metadata": {},
   "outputs": [
    {
     "name": "stdout",
     "output_type": "stream",
     "text": [
      "60\n"
     ]
    }
   ],
   "source": [
    "def add(a,b,c):\n",
    "    sum=a+b+c\n",
    "    print(sum)\n",
    "\n",
    "add(10,20,30)"
   ]
  },
  {
   "cell_type": "code",
   "execution_count": null,
   "id": "3cc8845a-bf74-4edd-b449-cfc4567fa690",
   "metadata": {},
   "outputs": [],
   "source": [
    "- while defining function we will provide argument\n",
    "\n",
    "- at that time only we will provide vlue also\n",
    "\n",
    "- that argument is default argument\n",
    "\n",
    "- below example"
   ]
  },
  {
   "cell_type": "code",
   "execution_count": 19,
   "id": "50ddb841-7de9-4a04-b5a4-5e2ed9c6ea70",
   "metadata": {},
   "outputs": [
    {
     "name": "stdout",
     "output_type": "stream",
     "text": [
      "the value of a is: 10\n",
      "the value of b is: 20\n",
      "the value of c is: 100\n",
      "130\n"
     ]
    }
   ],
   "source": [
    "def add(a,b,c=100):\n",
    "    print(\"the value of a is:\" ,a)\n",
    "    print(\"the value of b is:\" ,b)\n",
    "    print(\"the value of c is:\" ,c)\n",
    "    sum=a+b+c\n",
    "    print(sum)\n",
    "\n",
    "add(10,20)"
   ]
  },
  {
   "cell_type": "code",
   "execution_count": null,
   "id": "ca1b4239-3327-45ed-aeec-6f5496377859",
   "metadata": {},
   "outputs": [],
   "source": [
    "# how many variable are here  # 3\n",
    "# how many default arguments are there # 1\n",
    "# how many non default arguments are there # 2\n",
    "# how many values we need to pass while \n"
   ]
  },
  {
   "cell_type": "markdown",
   "id": "bc9808c1-9e22-4305-b3f8-365450eeb8d7",
   "metadata": {},
   "source": [
    "**case-1**\n",
    "\n",
    "- default arguments always at last\n",
    "\n",
    "-  Do not provide in middle"
   ]
  },
  {
   "cell_type": "code",
   "execution_count": 36,
   "id": "809da925-f220-45ec-aa80-23dd978f41d6",
   "metadata": {},
   "outputs": [
    {
     "ename": "SyntaxError",
     "evalue": "parameter without a default follows parameter with a default (3396965502.py, line 1)",
     "output_type": "error",
     "traceback": [
      "\u001b[1;36m  Cell \u001b[1;32mIn[36], line 1\u001b[1;36m\u001b[0m\n\u001b[1;33m    def add(a,b=100,c):\u001b[0m\n\u001b[1;37m                    ^\u001b[0m\n\u001b[1;31mSyntaxError\u001b[0m\u001b[1;31m:\u001b[0m parameter without a default follows parameter with a default\n"
     ]
    }
   ],
   "source": [
    "def add(a,b=100,c):\n",
    "    print(\"the value a is:\" ,a)\n",
    "    print(\"the value b is:\" ,b)\n",
    "    print(\"the value c is:\" ,c)\n",
    "    sum=a+b+c\n",
    "    print(sum)\n",
    "\n",
    "add(10,20)"
   ]
  },
  {
   "cell_type": "code",
   "execution_count": null,
   "id": "129bb30d-b58e-471a-bc0f-662c645452e1",
   "metadata": {},
   "outputs": [],
   "source": [
    "1,b,c=100================ co\n",
    "a,b=100,c============ w\n",
    "a=100,b,c========w\n",
    "a,b=100,c=100============c\n",
    "a=100,b,c=100===========w\n",
    "a=100,b,c=100===========w\n",
    "a=100,b=100,c=100===========c"
   ]
  },
  {
   "cell_type": "markdown",
   "id": "7b022067-5b98-41ff-b286-f5fb8f2d55b3",
   "metadata": {},
   "source": [
    "**case-2**\n",
    "\n",
    "- If we already provide default value\n",
    "\n",
    "- But while calling the function again we are providing the value\n",
    "\n",
    "- The value will be overwrite\n",
    "\n",
    "- in below example while define the function c=100\n",
    "\n",
    "- But while calling the function c=200\n",
    "\n",
    "- Python is a step by step process\n",
    "\n",
    "- In below there 3 operation\n",
    "\n",
    "   - define the function\n",
    " \n",
    "   - Call the function\n",
    " \n",
    "   - running the function\n",
    "\n",
    "  - "
   ]
  },
  {
   "cell_type": "code",
   "execution_count": 44,
   "id": "52fdcabf-da7c-4555-8d18-74bf2ee814a4",
   "metadata": {},
   "outputs": [
    {
     "name": "stdout",
     "output_type": "stream",
     "text": [
      "the value a is: 10\n",
      "the value b is: 20\n",
      "the value c is: 200\n",
      "230\n"
     ]
    }
   ],
   "source": [
    "def add(a,b,c=100):\n",
    "    print(\"the value a is:\" ,a)\n",
    "    print(\"the value b is:\" ,b)\n",
    "    print(\"the value c is:\" ,c)\n",
    "    sum=a+b+c\n",
    "    print(sum)\n",
    "\n",
    "add(10,20,200)"
   ]
  },
  {
   "cell_type": "code",
   "execution_count": 56,
   "id": "2643b06d-dd2d-43c1-ad67-118724a764e6",
   "metadata": {},
   "outputs": [
    {
     "name": "stdout",
     "output_type": "stream",
     "text": [
      "1030\n"
     ]
    }
   ],
   "source": [
    "def add(a,b,c=100):\n",
    "    c=1000\n",
    "    sum=a+b+c\n",
    "    print(sum)\n",
    "\n",
    "add(10,20,200)"
   ]
  },
  {
   "cell_type": "code",
   "execution_count": 52,
   "id": "675740df-6695-480f-b2df-7708a38018a4",
   "metadata": {},
   "outputs": [
    {
     "name": "stdout",
     "output_type": "stream",
     "text": [
      "40\n"
     ]
    }
   ],
   "source": [
    "def add(a,b,c=100):\n",
    "    c=10\n",
    "    sum=a+b+c\n",
    "    print(sum)\n",
    "\n",
    "add(10,20,1000)\n",
    "\n",
    "# define \n",
    "# call\n",
    "# run"
   ]
  },
  {
   "cell_type": "code",
   "execution_count": 60,
   "id": "5f16c1a1-5ab9-41bd-8222-3b4f05af87c8",
   "metadata": {},
   "outputs": [
    {
     "ename": "NameError",
     "evalue": "name 'add1' is not defined",
     "output_type": "error",
     "traceback": [
      "\u001b[1;31m---------------------------------------------------------------------------\u001b[0m",
      "\u001b[1;31mNameError\u001b[0m                                 Traceback (most recent call last)",
      "Cell \u001b[1;32mIn[60], line 1\u001b[0m\n\u001b[1;32m----> 1\u001b[0m add1(\u001b[38;5;241m10\u001b[39m,\u001b[38;5;241m20\u001b[39m,\u001b[38;5;241m1000\u001b[39m)\n\u001b[0;32m      2\u001b[0m \u001b[38;5;28;01mdef\u001b[39;00m \u001b[38;5;21madd1\u001b[39m(a,b,c\u001b[38;5;241m=\u001b[39m\u001b[38;5;241m100\u001b[39m):\n\u001b[0;32m      3\u001b[0m     c\u001b[38;5;241m=\u001b[39m\u001b[38;5;241m10\u001b[39m\n",
      "\u001b[1;31mNameError\u001b[0m: name 'add1' is not defined"
     ]
    }
   ],
   "source": [
    "add1(10,20,1000)\n",
    "def add1(a,b,c=100):\n",
    "    c=10\n",
    "    sum=a+b+c\n",
    "    print(sum)\n",
    "\n",
    "add(10,20,1000)"
   ]
  },
  {
   "cell_type": "code",
   "execution_count": 62,
   "id": "456a37f8-2a64-4573-af43-451b3d864a59",
   "metadata": {},
   "outputs": [
    {
     "name": "stdout",
     "output_type": "stream",
     "text": [
      "2030\n"
     ]
    }
   ],
   "source": [
    "def add(a,b,c=100):\n",
    "    c=10\n",
    "    sum=a+b+2000\n",
    "    print(sum)\n",
    "\n",
    "add(10,20,1000)\n",
    "\n",
    "# 100=====> 1000======>10=======>2000"
   ]
  },
  {
   "cell_type": "markdown",
   "id": "cc0a3807-0e33-4b43-8bd5-7ac9456d8d5d",
   "metadata": {},
   "source": [
    "**05-08-24**"
   ]
  },
  {
   "cell_type": "code",
   "execution_count": null,
   "id": "bc2d26d3-2ffe-4c89-acb3-90d652de9ccf",
   "metadata": {},
   "outputs": [],
   "source": [
    "def average(a,b,c=100):\n",
    "    avg=(a+b+c)/3\n",
    "    avg1=round(avg,2)\n",
    "    print(f\"\""
   ]
  },
  {
   "cell_type": "code",
   "execution_count": null,
   "id": "4f3bdc25-bc25-45e8-9798-43d5dabf32c9",
   "metadata": {},
   "outputs": [],
   "source": []
  },
  {
   "cell_type": "markdown",
   "id": "9fb4d521-f71f-4aed-9d7c-457e50ad0b28",
   "metadata": {},
   "source": [
    "**Analogy with package**"
   ]
  },
  {
   "cell_type": "code",
   "execution_count": null,
   "id": "956b060f-565a-4a8f-b87b-d22f80b38e0e",
   "metadata": {},
   "outputs": [],
   "source": [
    " # A data type is complex\n",
    "# By default commplex has real=0 imagnery=0\n",
    "# When we dont provide any value bye default\n",
    "# 0+0j === > 0j\n",
    "#####################################################################\n",
    "# Take your cursor inside the bracket\n",
    "# If any function or method\n",
    "# We dont give any value still is giving\n",
    "# Which means that function has default value"
   ]
  },
  {
   "cell_type": "code",
   "execution_count": 8,
   "id": "a7706656-2497-4d29-ac75-19df50999037",
   "metadata": {},
   "outputs": [
    {
     "data": {
      "text/plain": [
       "0j"
      ]
     },
     "execution_count": 8,
     "metadata": {},
     "output_type": "execute_result"
    }
   ],
   "source": [
    "complex()"
   ]
  },
  {
   "cell_type": "code",
   "execution_count": 12,
   "id": "64d862ae-e5e2-4025-a846-cf73bbdefa01",
   "metadata": {},
   "outputs": [
    {
     "data": {
      "text/plain": [
       "(20+0j)"
      ]
     },
     "execution_count": 12,
     "metadata": {},
     "output_type": "execute_result"
    }
   ],
   "source": [
    "complex(20)"
   ]
  },
  {
   "cell_type": "code",
   "execution_count": 14,
   "id": "bccdff06-5aa4-46cb-b9fc-6f580d4a48b6",
   "metadata": {},
   "outputs": [
    {
     "data": {
      "text/plain": [
       "(2+3j)"
      ]
     },
     "execution_count": 14,
     "metadata": {},
     "output_type": "execute_result"
    }
   ],
   "source": [
    "# I want 2+3j\n",
    "complex(real=2,imag=3)"
   ]
  },
  {
   "cell_type": "code",
   "execution_count": 16,
   "id": "25e50b87-d200-4492-a2ce-236f087338b2",
   "metadata": {},
   "outputs": [
    {
     "data": {
      "text/plain": [
       "(2+3j)"
      ]
     },
     "execution_count": 16,
     "metadata": {},
     "output_type": "execute_result"
    }
   ],
   "source": [
    "complex(2+3j)"
   ]
  },
  {
   "cell_type": "code",
   "execution_count": 18,
   "id": "e39dc973-b6e0-4d2a-8bbe-2ca567619edf",
   "metadata": {},
   "outputs": [
    {
     "data": {
      "text/plain": [
       "(-2+2j)"
      ]
     },
     "execution_count": 18,
     "metadata": {},
     "output_type": "execute_result"
    }
   ],
   "source": [
    "complex(2,2+4j)"
   ]
  },
  {
   "cell_type": "code",
   "execution_count": null,
   "id": "05349cda-a8e2-4a72-8b50-724f3b12f4e9",
   "metadata": {},
   "outputs": [],
   "source": [
    "value() \n"
   ]
  },
  {
   "cell_type": "code",
   "execution_count": 24,
   "id": "d02df378-bf4d-4cb5-b6d3-3bfaf053486c",
   "metadata": {},
   "outputs": [
    {
     "ename": "NameError",
     "evalue": "name 'value' is not defined",
     "output_type": "error",
     "traceback": [
      "\u001b[1;31m---------------------------------------------------------------------------\u001b[0m",
      "\u001b[1;31mNameError\u001b[0m                                 Traceback (most recent call last)",
      "Cell \u001b[1;32mIn[24], line 4\u001b[0m\n\u001b[0;32m      1\u001b[0m \u001b[38;5;66;03m# 100 will come \u001b[39;00m\n\u001b[0;32m      2\u001b[0m \u001b[38;5;66;03m# We need to change the function default value\u001b[39;00m\n\u001b[0;32m      3\u001b[0m \u001b[38;5;66;03m# While calling the function we need to provide the value\u001b[39;00m\n\u001b[1;32m----> 4\u001b[0m value(\u001b[38;5;241m100\u001b[39m)\n",
      "\u001b[1;31mNameError\u001b[0m: name 'value' is not defined"
     ]
    }
   ],
   "source": [
    "# 100 will come \n",
    "# We need to change the function default value\n",
    "# While calling the function we need to provide the value\n",
    "value(100)"
   ]
  },
  {
   "cell_type": "code",
   "execution_count": 26,
   "id": "aa7ab0a9-4add-4497-b29f-1072f9d5d789",
   "metadata": {},
   "outputs": [
    {
     "ename": "TypeError",
     "evalue": "Random.randint() missing 2 required positional arguments: 'a' and 'b'",
     "output_type": "error",
     "traceback": [
      "\u001b[1;31m---------------------------------------------------------------------------\u001b[0m",
      "\u001b[1;31mTypeError\u001b[0m                                 Traceback (most recent call last)",
      "Cell \u001b[1;32mIn[26], line 2\u001b[0m\n\u001b[0;32m      1\u001b[0m \u001b[38;5;28;01mimport\u001b[39;00m \u001b[38;5;21;01mrandom\u001b[39;00m\n\u001b[1;32m----> 2\u001b[0m random\u001b[38;5;241m.\u001b[39mrandint()\n",
      "\u001b[1;31mTypeError\u001b[0m: Random.randint() missing 2 required positional arguments: 'a' and 'b'"
     ]
    }
   ],
   "source": [
    "import random\n",
    "random.randint()"
   ]
  },
  {
   "cell_type": "code",
   "execution_count": 28,
   "id": "55209722-0e61-4559-9b39-8f4e2ad63355",
   "metadata": {},
   "outputs": [
    {
     "data": {
      "text/plain": [
       "19"
      ]
     },
     "execution_count": 28,
     "metadata": {},
     "output_type": "execute_result"
    }
   ],
   "source": [
    "import random\n",
    "random.randint(10,20)"
   ]
  },
  {
   "cell_type": "code",
   "execution_count": 30,
   "id": "a740212f-b633-424b-9a87-a1d5397c9d51",
   "metadata": {},
   "outputs": [
    {
     "data": {
      "text/plain": [
       "0.06597446411290475"
      ]
     },
     "execution_count": 30,
     "metadata": {},
     "output_type": "execute_result"
    }
   ],
   "source": [
    "random.random()"
   ]
  },
  {
   "cell_type": "code",
   "execution_count": 32,
   "id": "3f6f391f-e293-4118-9c31-3dc31ace51bb",
   "metadata": {},
   "outputs": [
    {
     "name": "stdout",
     "output_type": "stream",
     "text": [
      "100\n"
     ]
    }
   ],
   "source": [
    "def value1():\n",
    "    print(100)\n",
    "\n",
    "value1()"
   ]
  },
  {
   "cell_type": "code",
   "execution_count": null,
   "id": "070a24e1-2f94-4347-bd09-490cff2fdbae",
   "metadata": {},
   "outputs": [],
   "source": [
    "- complex\n",
    "\n",
    "- random.randint\n",
    "\n",
    "- random.random"
   ]
  },
  {
   "cell_type": "code",
   "execution_count": 37,
   "id": "d6f437bb-0355-4c06-8fe6-f5e0ef7e6e0b",
   "metadata": {},
   "outputs": [
    {
     "ename": "TypeError",
     "evalue": "complex() can't take second arg if first is a string",
     "output_type": "error",
     "traceback": [
      "\u001b[1;31m---------------------------------------------------------------------------\u001b[0m",
      "\u001b[1;31mTypeError\u001b[0m                                 Traceback (most recent call last)",
      "Cell \u001b[1;32mIn[37], line 1\u001b[0m\n\u001b[1;32m----> 1\u001b[0m \u001b[38;5;28mcomplex\u001b[39m(\u001b[38;5;124m'\u001b[39m\u001b[38;5;124m2\u001b[39m\u001b[38;5;124m'\u001b[39m,\u001b[38;5;124m'\u001b[39m\u001b[38;5;124m2\u001b[39m\u001b[38;5;124m'\u001b[39m)\n",
      "\u001b[1;31mTypeError\u001b[0m: complex() can't take second arg if first is a string"
     ]
    }
   ],
   "source": [
    "complex('2','2')"
   ]
  },
  {
   "cell_type": "code",
   "execution_count": 39,
   "id": "e61cf3d8-d46f-4ccc-94e9-8ea490cb58fe",
   "metadata": {},
   "outputs": [
    {
     "data": {
      "text/plain": [
       "(-1+2j)"
      ]
     },
     "execution_count": 39,
     "metadata": {},
     "output_type": "execute_result"
    }
   ],
   "source": [
    "complex(3,2+4j)"
   ]
  },
  {
   "cell_type": "code",
   "execution_count": null,
   "id": "ed86c122-082e-4117-a5bb-9fa215fb37e6",
   "metadata": {},
   "outputs": [],
   "source": [
    "4j*j === 4j^2 === 4*-1 === -4\n",
    "\n",
    "2-4= -2"
   ]
  },
  {
   "cell_type": "markdown",
   "id": "302259e6-d2ab-4875-aa7a-9ea78ea960cd",
   "metadata": {},
   "source": [
    "# 3) Global variable  - Local variable"
   ]
  },
  {
   "cell_type": "code",
   "execution_count": 44,
   "id": "f62b5f06-2c2f-4a36-9bd4-4a48ba91ec4d",
   "metadata": {},
   "outputs": [
    {
     "name": "stdout",
     "output_type": "stream",
     "text": [
      "30\n"
     ]
    }
   ],
   "source": [
    "def add1():\n",
    "    a=10\n",
    "    b=20\n",
    "    c=a+b\n",
    "    print(c)\n",
    "add1()"
   ]
  },
  {
   "cell_type": "code",
   "execution_count": 9,
   "id": "34a546ce-d157-407a-b14a-65b820e67cde",
   "metadata": {},
   "outputs": [
    {
     "name": "stdout",
     "output_type": "stream",
     "text": [
      "30\n"
     ]
    }
   ],
   "source": [
    "a1=10\n",
    "b1=20\n",
    "def add2():\n",
    "    c1=a1+b1\n",
    "    print(c1)\n",
    "add2()\n"
   ]
  },
  {
   "cell_type": "markdown",
   "id": "dcb66360-9988-48a9-8b61-7503e4653eba",
   "metadata": {},
   "source": [
    "- variables inside function is called as **Local variable**\n",
    "\n",
    "- variable outside function is called as **global variable**\n",
    "\n",
    "- Global variable can use any where at any time \n",
    "\n",
    "- Imageine that you created 10 function all 10 function using same variable\n",
    "\n",
    "- so why we want initialize every time for every function\n",
    "\n",
    "- "
   ]
  },
  {
   "cell_type": "code",
   "execution_count": 58,
   "id": "97421230-4ec9-47a1-b59b-9d0c6fed2f3b",
   "metadata": {},
   "outputs": [
    {
     "name": "stdout",
     "output_type": "stream",
     "text": [
      "30\n",
      "200\n"
     ]
    }
   ],
   "source": [
    "def add():\n",
    "    a=10\n",
    "    b=20\n",
    "    print(a+b)\n",
    "    \n",
    "def mul():\n",
    "     a=10\n",
    "     b=20\n",
    "     print(a*b)\n",
    "\n",
    "add()\n",
    "mul()"
   ]
  },
  {
   "cell_type": "code",
   "execution_count": 60,
   "id": "e1f23a1e-5062-4b94-bbd8-cb198b7149ad",
   "metadata": {},
   "outputs": [
    {
     "name": "stdout",
     "output_type": "stream",
     "text": [
      "300\n",
      "20000\n"
     ]
    }
   ],
   "source": [
    "a=100\n",
    "b=200\n",
    "def add():\n",
    "    print(a+b)\n",
    "\n",
    "def mul():\n",
    "    print(a*b)\n",
    "\n",
    "add()\n",
    "mul()"
   ]
  },
  {
   "cell_type": "code",
   "execution_count": 62,
   "id": "125ad6ff-52c5-4f25-bde4-2887ff1b6854",
   "metadata": {},
   "outputs": [
    {
     "name": "stdout",
     "output_type": "stream",
     "text": [
      "130\n"
     ]
    }
   ],
   "source": [
    "# case-4\n",
    "\n",
    "def add(a,b,c=100):\n",
    "    summ=a+b+c\n",
    "    print(summ)\n",
    "\n",
    "add(10,20)"
   ]
  },
  {
   "cell_type": "code",
   "execution_count": 64,
   "id": "211990f4-3dac-46f0-93ac-f90b84f92f35",
   "metadata": {},
   "outputs": [
    {
     "name": "stdout",
     "output_type": "stream",
     "text": [
      "530\n"
     ]
    }
   ],
   "source": [
    "# case-5\n",
    "\n",
    "c=500\n",
    "def add(a,b):\n",
    "    summ=a+b+c\n",
    "    print(summ)\n",
    "\n",
    "add(10,20)"
   ]
  },
  {
   "cell_type": "code",
   "execution_count": 66,
   "id": "99af6199-3316-40cc-a2cc-27ccfd1fb686",
   "metadata": {},
   "outputs": [
    {
     "name": "stdout",
     "output_type": "stream",
     "text": [
      "730\n"
     ]
    }
   ],
   "source": [
    "# case-6\n",
    "\n",
    "c=500\n",
    "def add(a,b):\n",
    "    summ=a+b+c\n",
    "    print(summ)\n",
    "c=700\n",
    "add(10,20)\n",
    "\n",
    "# python is step by step process\n",
    "# first  c=500\n",
    "# When we defined there is no c,  c=500\n",
    "# after that  c=700\n",
    "# while calling the function no c value \n",
    "# initialize  c=500 === 500"
   ]
  },
  {
   "cell_type": "code",
   "execution_count": 68,
   "id": "32e8aa12-da92-4477-b85f-ec3009ba9c33",
   "metadata": {},
   "outputs": [
    {
     "name": "stdout",
     "output_type": "stream",
     "text": [
      "730\n"
     ]
    }
   ],
   "source": [
    "# case-7\n",
    "\n",
    "c=500\n",
    "def add(a,b):\n",
    "    summ=a+b+c\n",
    "    print(summ)\n",
    "c=700\n",
    "add(10,20)\n",
    "c=800"
   ]
  },
  {
   "cell_type": "code",
   "execution_count": 70,
   "id": "6f9dbcb5-b360-46cb-a43e-b853127b0eba",
   "metadata": {},
   "outputs": [
    {
     "name": "stdout",
     "output_type": "stream",
     "text": [
      "1030\n"
     ]
    }
   ],
   "source": [
    "# case-7\n",
    "\n",
    "c=500\n",
    "def add(a,b,c=1000):\n",
    "    summ=a+b+c\n",
    "    print(summ)\n",
    "c=700\n",
    "add(10,20)\n",
    "c=800"
   ]
  },
  {
   "cell_type": "code",
   "execution_count": 72,
   "id": "f4f821a6-d64d-433e-9cb5-716b85a779ab",
   "metadata": {},
   "outputs": [
    {
     "name": "stdout",
     "output_type": "stream",
     "text": [
      "9030\n"
     ]
    }
   ],
   "source": [
    "# case-7\n",
    "\n",
    "c=500\n",
    "def add(a,b):\n",
    "    c=9000\n",
    "    summ=a+b+c\n",
    "    print(summ)\n",
    "c=700\n",
    "add(10,20)\n",
    "c=800"
   ]
  },
  {
   "cell_type": "markdown",
   "id": "9c86b59e-7396-4fe2-9243-fe3d14ec7a1d",
   "metadata": {},
   "source": [
    "# 06 - 08 -24 "
   ]
  },
  {
   "cell_type": "code",
   "execution_count": null,
   "id": "cf0b05cb-02ef-4d78-bc77-edaed5241754",
   "metadata": {},
   "outputs": [],
   "source": [
    "# Global means outside the function\n",
    "# Local variable\n"
   ]
  },
  {
   "cell_type": "code",
   "execution_count": 1,
   "id": "59edc36d-6124-4196-8f26-9b8f7d19c4e5",
   "metadata": {},
   "outputs": [],
   "source": [
    "\n",
    "def add():\n",
    "    a=10\n",
    "    b=20\n",
    "    summ=30\n",
    "    print(summ)"
   ]
  },
  {
   "cell_type": "code",
   "execution_count": 3,
   "id": "cc97ab93-fdea-466f-bf9c-d12b828b74ea",
   "metadata": {},
   "outputs": [
    {
     "name": "stdout",
     "output_type": "stream",
     "text": [
      "30\n"
     ]
    }
   ],
   "source": [
    "add()"
   ]
  },
  {
   "cell_type": "code",
   "execution_count": 5,
   "id": "4514e52a-e746-4ed2-844e-9cfed5bd19ba",
   "metadata": {},
   "outputs": [
    {
     "ename": "NameError",
     "evalue": "name 'a' is not defined",
     "output_type": "error",
     "traceback": [
      "\u001b[1;31m---------------------------------------------------------------------------\u001b[0m",
      "\u001b[1;31mNameError\u001b[0m                                 Traceback (most recent call last)",
      "Cell \u001b[1;32mIn[5], line 1\u001b[0m\n\u001b[1;32m----> 1\u001b[0m a\n",
      "\u001b[1;31mNameError\u001b[0m: name 'a' is not defined"
     ]
    }
   ],
   "source": [
    "a"
   ]
  },
  {
   "cell_type": "code",
   "execution_count": 10,
   "id": "7c8e6280-30fb-4cab-b8f5-13672b8542d0",
   "metadata": {},
   "outputs": [
    {
     "ename": "NameError",
     "evalue": "name 'summ' is not defined",
     "output_type": "error",
     "traceback": [
      "\u001b[1;31m---------------------------------------------------------------------------\u001b[0m",
      "\u001b[1;31mNameError\u001b[0m                                 Traceback (most recent call last)",
      "Cell \u001b[1;32mIn[10], line 1\u001b[0m\n\u001b[1;32m----> 1\u001b[0m summ\n",
      "\u001b[1;31mNameError\u001b[0m: name 'summ' is not defined"
     ]
    }
   ],
   "source": [
    "summ"
   ]
  },
  {
   "cell_type": "markdown",
   "id": "2c140510-120b-429e-ab5c-70f94b363e61",
   "metadata": {},
   "source": [
    "- local variable can not use outside the function\n",
    "\n",
    "- there a,b, sum are local variable\n",
    "\n",
    "- there are working and we are able to print the answer also\n",
    "\n",
    "- but when we want print **summ,a,b**\n",
    "\n",
    "- we are not able to access the value"
   ]
  },
  {
   "cell_type": "code",
   "execution_count": 20,
   "id": "9437cb18-fe9e-4743-b62c-322da2fabcfb",
   "metadata": {},
   "outputs": [
    {
     "name": "stdout",
     "output_type": "stream",
     "text": [
      "60\n",
      "n1: 20\n",
      "n2: 40\n"
     ]
    },
    {
     "ename": "NameError",
     "evalue": "name 'summ1' is not defined",
     "output_type": "error",
     "traceback": [
      "\u001b[1;31m---------------------------------------------------------------------------\u001b[0m",
      "\u001b[1;31mNameError\u001b[0m                                 Traceback (most recent call last)",
      "Cell \u001b[1;32mIn[20], line 10\u001b[0m\n\u001b[0;32m      8\u001b[0m \u001b[38;5;28mprint\u001b[39m(\u001b[38;5;124m'\u001b[39m\u001b[38;5;124mn1:\u001b[39m\u001b[38;5;124m'\u001b[39m,n1)\n\u001b[0;32m      9\u001b[0m \u001b[38;5;28mprint\u001b[39m(\u001b[38;5;124m'\u001b[39m\u001b[38;5;124mn2:\u001b[39m\u001b[38;5;124m'\u001b[39m,n2)\n\u001b[1;32m---> 10\u001b[0m \u001b[38;5;28mprint\u001b[39m(summ1)\n",
      "\u001b[1;31mNameError\u001b[0m: name 'summ1' is not defined"
     ]
    }
   ],
   "source": [
    "n1=20\n",
    "n2=40\n",
    "def add1():\n",
    "    summ1=n1+n2\n",
    "    print(summ1)\n",
    "\n",
    "add1()\n",
    "print('n1:',n1)\n",
    "print('n2:',n2)\n",
    "print(summ1)\n"
   ]
  },
  {
   "cell_type": "code",
   "execution_count": 14,
   "id": "ef887f0c-ac7d-4edc-b3bc-8e43f2a659dd",
   "metadata": {},
   "outputs": [
    {
     "data": {
      "text/plain": [
       "6"
      ]
     },
     "execution_count": 14,
     "metadata": {},
     "output_type": "execute_result"
    }
   ],
   "source": [
    "sum([1,2,3])\n",
    "\n",
    "# do not use sum as variable"
   ]
  },
  {
   "cell_type": "markdown",
   "id": "cbc8ef36-40f3-4040-8e26-edc77b6dbf30",
   "metadata": {},
   "source": [
    "**How to use local variable outside the function**\n",
    "\n",
    "- we already know that local variable can not use outside the function call\n",
    "\n",
    "- But we can use those local variable outside function call\n",
    "\n",
    "- by using a keyword called **global**"
   ]
  },
  {
   "cell_type": "code",
   "execution_count": 29,
   "id": "01a19cd3-4299-403a-bad0-0745d140ba4a",
   "metadata": {},
   "outputs": [
    {
     "name": "stdout",
     "output_type": "stream",
     "text": [
      "30\n",
      "summ is : 30\n"
     ]
    }
   ],
   "source": [
    "def add():\n",
    "    global summ\n",
    "    a=10\n",
    "    b=20\n",
    "    summ=30\n",
    "    print(summ)\n",
    "\n",
    "add()\n",
    "print(\"summ is :\",summ)"
   ]
  },
  {
   "cell_type": "code",
   "execution_count": 113,
   "id": "c2352d08-f75d-4794-967e-7d637a4c061b",
   "metadata": {},
   "outputs": [
    {
     "name": "stdout",
     "output_type": "stream",
     "text": [
      "30\n",
      "summ is : 30\n"
     ]
    }
   ],
   "source": [
    "def add_sub():\n",
    "    global summ,sub\n",
    "    a=10\n",
    "    b=20\n",
    "    summ=a+b\n",
    "    sub=a-b\n",
    "    print(summ)\n",
    "\n",
    "add_sub()\n",
    "print(\"summ is :\",summ)"
   ]
  },
  {
   "cell_type": "code",
   "execution_count": null,
   "id": "fc9d0749-f562-41f1-a2d7-2cd10dbb79af",
   "metadata": {},
   "outputs": [],
   "source": [
    "**use case**\n",
    "\n",
    "- imagine we initialize a value with sum number\n",
    "\n",
    "- we update that value inside function\n",
    "\n",
    "- we upf"
   ]
  },
  {
   "cell_type": "code",
   "execution_count": 31,
   "id": "c942243b-b885-4714-89ce-a0b554dfda6d",
   "metadata": {},
   "outputs": [
    {
     "name": "stdout",
     "output_type": "stream",
     "text": [
      "30\n"
     ]
    }
   ],
   "source": [
    "age=0\n",
    "\n",
    "def age_update():\n",
    "    age=30\n",
    "    print(age)\n",
    "\n",
    "age_update()"
   ]
  },
  {
   "cell_type": "code",
   "execution_count": 33,
   "id": "b277820d-e5e6-4c19-a1bd-cd9cfaa88854",
   "metadata": {},
   "outputs": [
    {
     "data": {
      "text/plain": [
       "0"
      ]
     },
     "execution_count": 33,
     "metadata": {},
     "output_type": "execute_result"
    }
   ],
   "source": [
    "age"
   ]
  },
  {
   "cell_type": "code",
   "execution_count": 36,
   "id": "659d4a6d-8214-4bb6-bd46-8484438b3b19",
   "metadata": {},
   "outputs": [
    {
     "ename": "UnboundLocalError",
     "evalue": "cannot access local variable 'x' where it is not associated with a value",
     "output_type": "error",
     "traceback": [
      "\u001b[1;31m---------------------------------------------------------------------------\u001b[0m",
      "\u001b[1;31mUnboundLocalError\u001b[0m                         Traceback (most recent call last)",
      "Cell \u001b[1;32mIn[36], line 7\u001b[0m\n\u001b[0;32m      4\u001b[0m     \u001b[38;5;28mprint\u001b[39m(x)\n\u001b[0;32m      5\u001b[0m     x\u001b[38;5;241m=\u001b[39m\u001b[38;5;241m30\u001b[39m\n\u001b[1;32m----> 7\u001b[0m fun1()\n",
      "Cell \u001b[1;32mIn[36], line 4\u001b[0m, in \u001b[0;36mfun1\u001b[1;34m()\u001b[0m\n\u001b[0;32m      3\u001b[0m \u001b[38;5;28;01mdef\u001b[39;00m \u001b[38;5;21mfun1\u001b[39m():\n\u001b[1;32m----> 4\u001b[0m     \u001b[38;5;28mprint\u001b[39m(x)\n\u001b[0;32m      5\u001b[0m     x\u001b[38;5;241m=\u001b[39m\u001b[38;5;241m30\u001b[39m\n",
      "\u001b[1;31mUnboundLocalError\u001b[0m: cannot access local variable 'x' where it is not associated with a value"
     ]
    }
   ],
   "source": [
    "x=10\n",
    "\n",
    "def fun1():\n",
    "    print(x)\n",
    "    x=30\n",
    "\n",
    "fun1()"
   ]
  },
  {
   "cell_type": "code",
   "execution_count": 38,
   "id": "daea9aaf-b70d-4a16-8479-8fc08d9b9a82",
   "metadata": {},
   "outputs": [
    {
     "name": "stdout",
     "output_type": "stream",
     "text": [
      "30\n"
     ]
    }
   ],
   "source": [
    "x=10\n",
    "\n",
    "def fun1():\n",
    "    x=30\n",
    "    print(x)\n",
    "\n",
    "fun1()"
   ]
  },
  {
   "cell_type": "code",
   "execution_count": 40,
   "id": "04a11ff9-1d7a-48da-afed-80fecbc60c13",
   "metadata": {},
   "outputs": [
    {
     "name": "stdout",
     "output_type": "stream",
     "text": [
      "10\n"
     ]
    }
   ],
   "source": [
    "x=10\n",
    "\n",
    "def fun1():\n",
    "    print(x)\n",
    "\n",
    "fun1()"
   ]
  },
  {
   "cell_type": "markdown",
   "id": "9e1faf4e-131d-42b2-a745-af68d4aaf259",
   "metadata": {},
   "source": [
    "- First check local variable and global variablr both have same name\n",
    "\n",
    "- Inside function with out intializing are we useing local variable "
   ]
  },
  {
   "cell_type": "code",
   "execution_count": 43,
   "id": "54523d7c-74ee-4424-96d7-b80a3d2090fd",
   "metadata": {},
   "outputs": [
    {
     "name": "stdout",
     "output_type": "stream",
     "text": [
      "10\n"
     ]
    }
   ],
   "source": [
    "s=0\n",
    "\n",
    "def fun2():\n",
    "    a=s+10\n",
    "    print(a)\n",
    "\n",
    "fun2()"
   ]
  },
  {
   "cell_type": "code",
   "execution_count": 45,
   "id": "030eeda2-da2a-4907-8486-9e77be2ee64c",
   "metadata": {},
   "outputs": [
    {
     "ename": "UnboundLocalError",
     "evalue": "cannot access local variable 's' where it is not associated with a value",
     "output_type": "error",
     "traceback": [
      "\u001b[1;31m---------------------------------------------------------------------------\u001b[0m",
      "\u001b[1;31mUnboundLocalError\u001b[0m                         Traceback (most recent call last)",
      "Cell \u001b[1;32mIn[45], line 7\u001b[0m\n\u001b[0;32m      4\u001b[0m     s\u001b[38;5;241m=\u001b[39ms\u001b[38;5;241m+\u001b[39m\u001b[38;5;241m10\u001b[39m\n\u001b[0;32m      5\u001b[0m     \u001b[38;5;28mprint\u001b[39m(a)\n\u001b[1;32m----> 7\u001b[0m fun2()\n",
      "Cell \u001b[1;32mIn[45], line 4\u001b[0m, in \u001b[0;36mfun2\u001b[1;34m()\u001b[0m\n\u001b[0;32m      3\u001b[0m \u001b[38;5;28;01mdef\u001b[39;00m \u001b[38;5;21mfun2\u001b[39m():\n\u001b[1;32m----> 4\u001b[0m     s\u001b[38;5;241m=\u001b[39ms\u001b[38;5;241m+\u001b[39m\u001b[38;5;241m10\u001b[39m\n\u001b[0;32m      5\u001b[0m     \u001b[38;5;28mprint\u001b[39m(a)\n",
      "\u001b[1;31mUnboundLocalError\u001b[0m: cannot access local variable 's' where it is not associated with a value"
     ]
    }
   ],
   "source": [
    "s=0\n",
    "\n",
    "def fun2():\n",
    "    s=s+10\n",
    "    print(a)\n",
    "\n",
    "fun2()"
   ]
  },
  {
   "cell_type": "code",
   "execution_count": 47,
   "id": "586732bf-c8f3-4a0e-a24e-f5f9d271b657",
   "metadata": {},
   "outputs": [
    {
     "ename": "UnboundLocalError",
     "evalue": "cannot access local variable 's' where it is not associated with a value",
     "output_type": "error",
     "traceback": [
      "\u001b[1;31m---------------------------------------------------------------------------\u001b[0m",
      "\u001b[1;31mUnboundLocalError\u001b[0m                         Traceback (most recent call last)",
      "Cell \u001b[1;32mIn[47], line 8\u001b[0m\n\u001b[0;32m      5\u001b[0m     s\u001b[38;5;241m=\u001b[39ms\u001b[38;5;241m+\u001b[39m\u001b[38;5;241m10\u001b[39m\n\u001b[0;32m      6\u001b[0m     \u001b[38;5;28mprint\u001b[39m(a)\n\u001b[1;32m----> 8\u001b[0m fun2()\n",
      "Cell \u001b[1;32mIn[47], line 4\u001b[0m, in \u001b[0;36mfun2\u001b[1;34m()\u001b[0m\n\u001b[0;32m      3\u001b[0m \u001b[38;5;28;01mdef\u001b[39;00m \u001b[38;5;21mfun2\u001b[39m():\n\u001b[1;32m----> 4\u001b[0m     \u001b[38;5;28mprint\u001b[39m(s)\n\u001b[0;32m      5\u001b[0m     s\u001b[38;5;241m=\u001b[39ms\u001b[38;5;241m+\u001b[39m\u001b[38;5;241m10\u001b[39m\n\u001b[0;32m      6\u001b[0m     \u001b[38;5;28mprint\u001b[39m(a)\n",
      "\u001b[1;31mUnboundLocalError\u001b[0m: cannot access local variable 's' where it is not associated with a value"
     ]
    }
   ],
   "source": [
    "s=0\n",
    "\n",
    "def fun2():                    # here we not initialized\n",
    "    print(s)\n",
    "    s=s+10\n",
    "    print(a)\n",
    "\n",
    "fun2()"
   ]
  },
  {
   "cell_type": "markdown",
   "id": "fd2dceba-f271-4604-8691-b49e09e19b21",
   "metadata": {},
   "source": [
    "**case-1**"
   ]
  },
  {
   "cell_type": "code",
   "execution_count": 50,
   "id": "d25c736f-9574-4aba-9a10-a492e4eb1605",
   "metadata": {},
   "outputs": [
    {
     "name": "stdout",
     "output_type": "stream",
     "text": [
      "10\n"
     ]
    }
   ],
   "source": [
    "x=10\n",
    "\n",
    "def fun1():\n",
    "    print(x)\n",
    "\n",
    "fun1()\n",
    "\n",
    "# No error"
   ]
  },
  {
   "cell_type": "markdown",
   "id": "a78707da-c939-477f-997a-ebebc57f25d5",
   "metadata": {},
   "source": [
    "**case-2**"
   ]
  },
  {
   "cell_type": "code",
   "execution_count": 53,
   "id": "b45116a9-6d0b-4bc9-85ab-95a94226cc9f",
   "metadata": {},
   "outputs": [
    {
     "name": "stdout",
     "output_type": "stream",
     "text": [
      "30\n"
     ]
    }
   ],
   "source": [
    "x=10\n",
    "\n",
    "def fun1():\n",
    "    x=30\n",
    "    print(x)\n",
    "\n",
    "fun1()\n",
    "\n",
    "# No error"
   ]
  },
  {
   "cell_type": "markdown",
   "id": "b3d20119-e76b-455d-8eac-9cc4ce750d9a",
   "metadata": {},
   "source": [
    "**case-3**"
   ]
  },
  {
   "cell_type": "code",
   "execution_count": 56,
   "id": "1efba49b-68eb-4265-a295-18842d0488c2",
   "metadata": {},
   "outputs": [
    {
     "ename": "UnboundLocalError",
     "evalue": "cannot access local variable 'x' where it is not associated with a value",
     "output_type": "error",
     "traceback": [
      "\u001b[1;31m---------------------------------------------------------------------------\u001b[0m",
      "\u001b[1;31mUnboundLocalError\u001b[0m                         Traceback (most recent call last)",
      "Cell \u001b[1;32mIn[56], line 7\u001b[0m\n\u001b[0;32m      4\u001b[0m     \u001b[38;5;28mprint\u001b[39m(x)\n\u001b[0;32m      5\u001b[0m     x\u001b[38;5;241m=\u001b[39m\u001b[38;5;241m30\u001b[39m\n\u001b[1;32m----> 7\u001b[0m fun1()\n",
      "Cell \u001b[1;32mIn[56], line 4\u001b[0m, in \u001b[0;36mfun1\u001b[1;34m()\u001b[0m\n\u001b[0;32m      3\u001b[0m \u001b[38;5;28;01mdef\u001b[39;00m \u001b[38;5;21mfun1\u001b[39m():\n\u001b[1;32m----> 4\u001b[0m     \u001b[38;5;28mprint\u001b[39m(x)\n\u001b[0;32m      5\u001b[0m     x\u001b[38;5;241m=\u001b[39m\u001b[38;5;241m30\u001b[39m\n",
      "\u001b[1;31mUnboundLocalError\u001b[0m: cannot access local variable 'x' where it is not associated with a value"
     ]
    }
   ],
   "source": [
    "x=10\n",
    "\n",
    "def fun1():\n",
    "    print(x)\n",
    "    x=30\n",
    "\n",
    "fun1()\n",
    "\n",
    "# Error"
   ]
  },
  {
   "cell_type": "markdown",
   "id": "9868b163-d1fe-4507-bc99-94dd35d01e5a",
   "metadata": {},
   "source": [
    "**case-4**"
   ]
  },
  {
   "cell_type": "code",
   "execution_count": 59,
   "id": "8acb0bd4-f4b1-4e7e-a8c4-1cd8f2df9e86",
   "metadata": {},
   "outputs": [
    {
     "ename": "UnboundLocalError",
     "evalue": "cannot access local variable 's' where it is not associated with a value",
     "output_type": "error",
     "traceback": [
      "\u001b[1;31m---------------------------------------------------------------------------\u001b[0m",
      "\u001b[1;31mUnboundLocalError\u001b[0m                         Traceback (most recent call last)",
      "Cell \u001b[1;32mIn[59], line 7\u001b[0m\n\u001b[0;32m      4\u001b[0m     s\u001b[38;5;241m=\u001b[39ms\u001b[38;5;241m+\u001b[39m\u001b[38;5;241m10\u001b[39m\n\u001b[0;32m      5\u001b[0m     \u001b[38;5;28mprint\u001b[39m(x)\n\u001b[1;32m----> 7\u001b[0m fun2()\n",
      "Cell \u001b[1;32mIn[59], line 4\u001b[0m, in \u001b[0;36mfun2\u001b[1;34m()\u001b[0m\n\u001b[0;32m      3\u001b[0m \u001b[38;5;28;01mdef\u001b[39;00m \u001b[38;5;21mfun2\u001b[39m():\n\u001b[1;32m----> 4\u001b[0m     s\u001b[38;5;241m=\u001b[39ms\u001b[38;5;241m+\u001b[39m\u001b[38;5;241m10\u001b[39m\n\u001b[0;32m      5\u001b[0m     \u001b[38;5;28mprint\u001b[39m(x)\n",
      "\u001b[1;31mUnboundLocalError\u001b[0m: cannot access local variable 's' where it is not associated with a value"
     ]
    }
   ],
   "source": [
    "x=10\n",
    "\n",
    "def fun2():\n",
    "    s=s+10\n",
    "    print(x)\n",
    "\n",
    "fun2()\n",
    "\n",
    "# Error "
   ]
  },
  {
   "cell_type": "code",
   "execution_count": 63,
   "id": "dc59c723-43bd-4757-9947-c5a3537bc5cb",
   "metadata": {},
   "outputs": [
    {
     "name": "stdout",
     "output_type": "stream",
     "text": [
      "20\n"
     ]
    }
   ],
   "source": [
    "s=10\n",
    "\n",
    "def fun2():\n",
    "    global s\n",
    "    s=s+10\n",
    "    print(s)\n",
    "\n",
    "fun2()"
   ]
  },
  {
   "cell_type": "code",
   "execution_count": 65,
   "id": "c7f3535c-ad9a-4413-ae5e-2cbce6fe3f49",
   "metadata": {},
   "outputs": [
    {
     "name": "stdout",
     "output_type": "stream",
     "text": [
      "10\n"
     ]
    }
   ],
   "source": [
    "x=10\n",
    "def fun1():\n",
    "    global x\n",
    "    print(x)\n",
    "    x=30\n",
    "\n",
    "fun1()"
   ]
  },
  {
   "cell_type": "code",
   "execution_count": null,
   "id": "18052f6e-70fa-4b32-8f9b-3bf29e85cc0a",
   "metadata": {},
   "outputs": [],
   "source": [
    "n1=10\n",
    "n2=20\n",
    "n3=30\n",
    "def fun3():\n",
    "    n1=100\n",
    "    n2=n1+n2 ################### this point is error point\n",
    "    n3=n1+n2\n",
    "    print(n1+n2+n3)\n",
    "\n",
    "fun3()"
   ]
  },
  {
   "cell_type": "code",
   "execution_count": 73,
   "id": "019f83fe-54bf-4b81-901c-f7e45ed99447",
   "metadata": {},
   "outputs": [
    {
     "name": "stdout",
     "output_type": "stream",
     "text": [
      "440\n"
     ]
    }
   ],
   "source": [
    "n1=10\n",
    "n2=20\n",
    "n3=30\n",
    "def fun3():\n",
    "    global n1,n2,n3\n",
    "    n1=100\n",
    "    n2=n1+n2 \n",
    "    n3=n1+n2\n",
    "    print(n1+n2+n3)\n",
    "\n",
    "fun3()"
   ]
  },
  {
   "cell_type": "code",
   "execution_count": 71,
   "id": "b9218f88-22fa-40b7-bd62-988fe930ed00",
   "metadata": {},
   "outputs": [
    {
     "name": "stdout",
     "output_type": "stream",
     "text": [
      "340\n"
     ]
    }
   ],
   "source": [
    "n1=10\n",
    "n2=20\n",
    "n3=30\n",
    "def fun3():\n",
    "    n1=100\n",
    "    n3=n1+n2 \n",
    "    n4=n1+n2\n",
    "    print(n1+n3+n4)\n",
    "\n",
    "fun3()"
   ]
  },
  {
   "cell_type": "code",
   "execution_count": 75,
   "id": "0bf3f912-bcb2-46dc-968d-554c6023ab8a",
   "metadata": {},
   "outputs": [
    {
     "name": "stdout",
     "output_type": "stream",
     "text": [
      "20\n",
      "340\n"
     ]
    }
   ],
   "source": [
    "n1=10\n",
    "n2=20\n",
    "n3=30\n",
    "def fun3():\n",
    "    n1=100\n",
    "    print(n2)\n",
    "    n3=n1+n2 \n",
    "    n4=n1+n2\n",
    "    print(n1+n3+n4)\n",
    "\n",
    "fun3()"
   ]
  },
  {
   "cell_type": "code",
   "execution_count": 77,
   "id": "08b57e0f-d3ec-4ffa-9f05-7704c79a7ac8",
   "metadata": {},
   "outputs": [
    {
     "ename": "UnboundLocalError",
     "evalue": "cannot access local variable 'n2' where it is not associated with a value",
     "output_type": "error",
     "traceback": [
      "\u001b[1;31m---------------------------------------------------------------------------\u001b[0m",
      "\u001b[1;31mUnboundLocalError\u001b[0m                         Traceback (most recent call last)",
      "Cell \u001b[1;32mIn[77], line 8\u001b[0m\n\u001b[0;32m      5\u001b[0m     n1\u001b[38;5;241m=\u001b[39mn2                     \u001b[38;5;66;03m# 20  n1=20\u001b[39;00m\n\u001b[0;32m      6\u001b[0m     n2\u001b[38;5;241m=\u001b[39mn2\u001b[38;5;241m+\u001b[39mn3                  \u001b[38;5;66;03m# 20+30=50\u001b[39;00m\n\u001b[1;32m----> 8\u001b[0m fun3()\n",
      "Cell \u001b[1;32mIn[77], line 5\u001b[0m, in \u001b[0;36mfun3\u001b[1;34m()\u001b[0m\n\u001b[0;32m      4\u001b[0m \u001b[38;5;28;01mdef\u001b[39;00m \u001b[38;5;21mfun3\u001b[39m():\n\u001b[1;32m----> 5\u001b[0m     n1\u001b[38;5;241m=\u001b[39mn2                     \u001b[38;5;66;03m# 20  n1=20\u001b[39;00m\n\u001b[0;32m      6\u001b[0m     n2\u001b[38;5;241m=\u001b[39mn2\u001b[38;5;241m+\u001b[39mn3\n",
      "\u001b[1;31mUnboundLocalError\u001b[0m: cannot access local variable 'n2' where it is not associated with a value"
     ]
    }
   ],
   "source": [
    "n1=10\n",
    "n2=20\n",
    "n3=30\n",
    "def fun3():\n",
    "    n1=n2                     # 20  n1=20\n",
    "    n2=n2+n3                  # 20+30=50\n",
    "\n",
    "fun3()"
   ]
  },
  {
   "cell_type": "code",
   "execution_count": 79,
   "id": "26802ea1-cb43-4b54-95f4-9dbb067c515a",
   "metadata": {},
   "outputs": [
    {
     "ename": "UnboundLocalError",
     "evalue": "cannot access local variable 'a' where it is not associated with a value",
     "output_type": "error",
     "traceback": [
      "\u001b[1;31m---------------------------------------------------------------------------\u001b[0m",
      "\u001b[1;31mUnboundLocalError\u001b[0m                         Traceback (most recent call last)",
      "Cell \u001b[1;32mIn[79], line 8\u001b[0m\n\u001b[0;32m      5\u001b[0m     a\u001b[38;5;241m=\u001b[39ma\u001b[38;5;241m+\u001b[39mb\n\u001b[0;32m      6\u001b[0m     \u001b[38;5;28mprint\u001b[39m(a,b,c)\n\u001b[1;32m----> 8\u001b[0m fun4()\n",
      "Cell \u001b[1;32mIn[79], line 5\u001b[0m, in \u001b[0;36mfun4\u001b[1;34m()\u001b[0m\n\u001b[0;32m      4\u001b[0m \u001b[38;5;28;01mdef\u001b[39;00m \u001b[38;5;21mfun4\u001b[39m():\n\u001b[1;32m----> 5\u001b[0m     a\u001b[38;5;241m=\u001b[39ma\u001b[38;5;241m+\u001b[39mb\n\u001b[0;32m      6\u001b[0m     \u001b[38;5;28mprint\u001b[39m(a,b,c)\n",
      "\u001b[1;31mUnboundLocalError\u001b[0m: cannot access local variable 'a' where it is not associated with a value"
     ]
    }
   ],
   "source": [
    "a=10\n",
    "b=20\n",
    "c=30\n",
    "def fun4():\n",
    "    a=a+b\n",
    "    print(a,b,c)\n",
    "\n",
    "fun4()"
   ]
  },
  {
   "cell_type": "code",
   "execution_count": 83,
   "id": "a4b3db3e-ccd3-43ae-9acb-5c8cc114f9a3",
   "metadata": {},
   "outputs": [
    {
     "name": "stdout",
     "output_type": "stream",
     "text": [
      "0\n"
     ]
    }
   ],
   "source": [
    "c=0\n",
    "def fun5():\n",
    "    a=c+1\n",
    "    print(c)\n",
    "\n",
    "fun5()"
   ]
  },
  {
   "cell_type": "markdown",
   "id": "d69921a4-cba6-41ef-92d1-b549b58b8cf2",
   "metadata": {},
   "source": [
    "# 5) Return\n",
    "\n",
    "- As of nw are defining function\n",
    "\n",
    "- We are calling the function\n",
    "\n",
    "- if any operation we are performing inside function\n",
    "\n",
    "- we are able to use tat value using **global** keyword\n",
    "\n",
    "- we also can use that value using **return** statement"
   ]
  },
  {
   "cell_type": "code",
   "execution_count": 86,
   "id": "058ff0a4-9e6d-49d1-a36c-4a5e8663b324",
   "metadata": {},
   "outputs": [
    {
     "name": "stdout",
     "output_type": "stream",
     "text": [
      "20.0\n"
     ]
    }
   ],
   "source": [
    "def average(a,b,c):\n",
    "    avg=(a+b+c)/3\n",
    "    print(avg)\n",
    "\n",
    "average(10,20,30)"
   ]
  },
  {
   "cell_type": "code",
   "execution_count": 88,
   "id": "a56efc41-b593-400a-8655-ba7ecc2dc21e",
   "metadata": {},
   "outputs": [
    {
     "ename": "NameError",
     "evalue": "name 'avg' is not defined",
     "output_type": "error",
     "traceback": [
      "\u001b[1;31m---------------------------------------------------------------------------\u001b[0m",
      "\u001b[1;31mNameError\u001b[0m                                 Traceback (most recent call last)",
      "Cell \u001b[1;32mIn[88], line 1\u001b[0m\n\u001b[1;32m----> 1\u001b[0m avg\n",
      "\u001b[1;31mNameError\u001b[0m: name 'avg' is not defined"
     ]
    }
   ],
   "source": [
    "avg"
   ]
  },
  {
   "cell_type": "code",
   "execution_count": 96,
   "id": "585c354d-7de1-419b-ba70-f1a654e7beca",
   "metadata": {},
   "outputs": [],
   "source": [
    "def average(a,b,c):\n",
    "    avg=(a+b+c)/3\n",
    "    return(avg)\n",
    "    \n",
    "# The above function performing\n",
    "# avg calculation and it is returning\n",
    "# that return value we are storing in a variable\n",
    "# called avg\n",
    "\n",
    "# generaly we will keep the variable same as \n",
    "# return variable only\n",
    "\n",
    "avg=average(10,20,30)"
   ]
  },
  {
   "cell_type": "code",
   "execution_count": 98,
   "id": "06908405-2749-4b15-b493-24b074904a7e",
   "metadata": {},
   "outputs": [
    {
     "data": {
      "text/plain": [
       "20.0"
      ]
     },
     "execution_count": 98,
     "metadata": {},
     "output_type": "execute_result"
    }
   ],
   "source": [
    "avg"
   ]
  },
  {
   "cell_type": "code",
   "execution_count": 12,
   "id": "0d6dcfed-ab34-4313-b753-2df70067fc79",
   "metadata": {},
   "outputs": [
    {
     "data": {
      "text/plain": [
       "(30.0, 90)"
      ]
     },
     "execution_count": 12,
     "metadata": {},
     "output_type": "execute_result"
    }
   ],
   "source": [
    "def fun5(a,b,c):\n",
    "    avg=(a+b+c)/3\n",
    "    summ=a+b+c\n",
    "    return(avg,summ)\n",
    "\n",
    "fun5(20,30,40)"
   ]
  },
  {
   "cell_type": "code",
   "execution_count": null,
   "id": "3c4d32c5-0350-493e-8bf3-18bef38e2fe4",
   "metadata": {},
   "outputs": [],
   "source": [
    "a=10\n",
    "b=20\n",
    "a=10,20\n",
    "a,b=10,20\n",
    "a,b=10"
   ]
  },
  {
   "cell_type": "code",
   "execution_count": 102,
   "id": "35b332cc-8127-48fc-a67e-19ffb87c9d3d",
   "metadata": {},
   "outputs": [
    {
     "data": {
      "text/plain": [
       "(10, 20)"
      ]
     },
     "execution_count": 102,
     "metadata": {},
     "output_type": "execute_result"
    }
   ],
   "source": [
    "a=10,20\n",
    "a"
   ]
  },
  {
   "cell_type": "code",
   "execution_count": 104,
   "id": "f0fe3722-33dc-44a4-83e9-4ea4ac888d93",
   "metadata": {},
   "outputs": [
    {
     "data": {
      "text/plain": [
       "20"
      ]
     },
     "execution_count": 104,
     "metadata": {},
     "output_type": "execute_result"
    }
   ],
   "source": [
    "a,b=10,20\n",
    "a\n",
    "b"
   ]
  },
  {
   "cell_type": "code",
   "execution_count": 106,
   "id": "3c60c390-37b1-4936-b81b-a1a682ccf589",
   "metadata": {},
   "outputs": [
    {
     "ename": "TypeError",
     "evalue": "cannot unpack non-iterable int object",
     "output_type": "error",
     "traceback": [
      "\u001b[1;31m---------------------------------------------------------------------------\u001b[0m",
      "\u001b[1;31mTypeError\u001b[0m                                 Traceback (most recent call last)",
      "Cell \u001b[1;32mIn[106], line 1\u001b[0m\n\u001b[1;32m----> 1\u001b[0m a,b\u001b[38;5;241m=\u001b[39m\u001b[38;5;241m10\u001b[39m\n",
      "\u001b[1;31mTypeError\u001b[0m: cannot unpack non-iterable int object"
     ]
    }
   ],
   "source": [
    "a,b=10"
   ]
  },
  {
   "cell_type": "code",
   "execution_count": 108,
   "id": "1d79a4ab-878e-43c3-bf73-647480c2f6f1",
   "metadata": {},
   "outputs": [
    {
     "name": "stdout",
     "output_type": "stream",
     "text": [
      "30.0\n",
      "90\n"
     ]
    }
   ],
   "source": [
    "def fun5(a,b,c):\n",
    "    avg=(a+b+c)/3\n",
    "    summ=a+b+c\n",
    "    return(avg,summ)\n",
    "\n",
    "value1,value2=fun5(20,30,40)\n",
    "print(value1)\n",
    "print(value2)"
   ]
  },
  {
   "cell_type": "markdown",
   "id": "e536eadd-fba6-4d3d-b21e-a6e315ee0f8c",
   "metadata": {},
   "source": [
    "# 07 - 08 -24"
   ]
  },
  {
   "cell_type": "code",
   "execution_count": null,
   "id": "4f4abc1b-13b2-4bd8-a194-9d7b0956c293",
   "metadata": {},
   "outputs": [],
   "source": [
    "# Q1)\n",
    "\n",
    "# wap create the function\n",
    "# For bill pay\n",
    "# Bill amount\n",
    "# Tip per\n",
    "# calculate total bill\n",
    "# Return the total bill"
   ]
  },
  {
   "cell_type": "code",
   "execution_count": 3,
   "id": "476fa268-488d-4c6e-a427-e09ae0599c4e",
   "metadata": {},
   "outputs": [
    {
     "name": "stdout",
     "output_type": "stream",
     "text": [
      "the total bill is: 1100.0\n"
     ]
    }
   ],
   "source": [
    "# Q1.1)\n",
    "def bill_pay(bill_amount,tip_per):\n",
    "    tip_amount=bill_amount*tip_per/100\n",
    "    total_bill=tip_amount+bill_amount\n",
    "    return(total_bill)\n",
    "\n",
    "total_bill=bill_pay(1000,10)\n",
    "print(\"the total bill is:\",total_bill)"
   ]
  },
  {
   "cell_type": "code",
   "execution_count": 7,
   "id": "cf60fe28-7259-4131-bb56-7ff55cd60b0e",
   "metadata": {},
   "outputs": [
    {
     "name": "stdout",
     "output_type": "stream",
     "text": [
      "the total bill is: 1100.0\n",
      "the tip amount is: 100.0\n"
     ]
    }
   ],
   "source": [
    "# Q1.2)\n",
    "\n",
    "def bill_pay(bill_amount,tip_per):\n",
    "    tip_amount=bill_amount*tip_per/100\n",
    "    total_bill=tip_amount+bill_amount\n",
    "    return(tip_amount,total_bill)\n",
    "\n",
    "tip_amount,total_bill=bill_pay(1000,10)\n",
    "print(\"the total bill is:\",total_bill)\n",
    "print(\"the tip amount is:\",tip_amount)"
   ]
  },
  {
   "cell_type": "code",
   "execution_count": 9,
   "id": "515fc096-c2bf-44fa-8ef5-4f3eab673f70",
   "metadata": {},
   "outputs": [
    {
     "name": "stdout",
     "output_type": "stream",
     "text": [
      "the total bill is: (100.0, 1100.0)\n"
     ]
    }
   ],
   "source": [
    "# Q1.3)\n",
    "\n",
    "def bill_pay(bill_amount,tip_per):\n",
    "    tip_amount=bill_amount*tip_per/100\n",
    "    total_bill=tip_amount+bill_amount\n",
    "    return(tip_amount,total_bill)\n",
    "\n",
    "total_bill=bill_pay(1000,10)\n",
    "print(\"the total bill is:\",total_bill)"
   ]
  },
  {
   "cell_type": "code",
   "execution_count": null,
   "id": "fa4f8aa4-85e8-4cc2-ab84-faf08392dc15",
   "metadata": {},
   "outputs": [],
   "source": [
    "def bill_per():\n",
    "    bill=eval(input(\"enter bill amount: \"))\n",
    "    tip_per=eval(input(\"enter\"))\n",
    "   \n",
    "total_bill=bill_pay(1000,10)\n",
    "print(\"the total bill is:\",total_bill)"
   ]
  },
  {
   "cell_type": "code",
   "execution_count": 11,
   "id": "099af93c-f0b7-4572-b2b2-864d912360c1",
   "metadata": {},
   "outputs": [
    {
     "name": "stdout",
     "output_type": "stream",
     "text": [
      "10\n"
     ]
    }
   ],
   "source": [
    "def fun():\n",
    "    a=10\n",
    "    b=20\n",
    "    print(a)\n",
    "\n",
    "fun()"
   ]
  },
  {
   "cell_type": "code",
   "execution_count": 13,
   "id": "3a89f1ed-40b3-49bf-a74b-6de2f1bf906a",
   "metadata": {},
   "outputs": [],
   "source": [
    "def fun():\n",
    "    a=10\n",
    "    b=20\n",
    "    return(a)\n",
    "\n",
    "a=fun()"
   ]
  },
  {
   "cell_type": "code",
   "execution_count": 15,
   "id": "5da7cfef-f220-48d3-8504-d4e27957cf8c",
   "metadata": {},
   "outputs": [
    {
     "data": {
      "text/plain": [
       "10"
      ]
     },
     "execution_count": 15,
     "metadata": {},
     "output_type": "execute_result"
    }
   ],
   "source": [
    "a"
   ]
  },
  {
   "cell_type": "code",
   "execution_count": null,
   "id": "2538b589-24f3-4e60-93d4-a18718c1ee40",
   "metadata": {},
   "outputs": [],
   "source": [
    "fun()   === with argument\n",
    "fun(a,b)  ===== with argument"
   ]
  },
  {
   "cell_type": "code",
   "execution_count": 19,
   "id": "e13e41fe-0b2f-4905-b611-adc013f712f6",
   "metadata": {},
   "outputs": [
    {
     "name": "stdin",
     "output_type": "stream",
     "text": [
      " 500\n",
      " 20\n"
     ]
    },
    {
     "name": "stdout",
     "output_type": "stream",
     "text": [
      "the total bill is: 600.0\n"
     ]
    }
   ],
   "source": [
    "def bill_pay(bill_amount,tip_per):\n",
    "    tip_amount=bill_amount*tip_per/100\n",
    "    total_bill=tip_amount+bill_amount\n",
    "    return(total_bill)\n",
    "\n",
    "bill_amount=eval(input())\n",
    "tip_per=eval(input())\n",
    "\n",
    "total_bill=bill_pay(bill_amount,tip_per)\n",
    "print(\"the total bill is:\",total_bill)\n",
    "\n",
    "# s-1: define the function\n",
    "# s-2: "
   ]
  },
  {
   "cell_type": "markdown",
   "id": "159eaf56-b3e0-42f0-835a-ec04620d5ace",
   "metadata": {},
   "source": [
    "- Global variable can intialise anywhere\n",
    "\n",
    "- By the time of the calling function\n",
    "\n",
    "- Is variable are available or not ?\n",
    "\n",
    "- If the variable are available then  that function "
   ]
  },
  {
   "cell_type": "code",
   "execution_count": null,
   "id": "39476bb9-264b-46e7-ab40-132467eb9313",
   "metadata": {},
   "outputs": [],
   "source": [
    "def bill_pay1():\n",
    "        tip_amount1=bill_amount1*tip_per1/100\n",
    "        total_bill1=tip_amount1+bill_amount1\n",
    "        return(total_bill1)\n",
    "\n",
    "total_bill1=bill_pay1()\n",
    "\n",
    "bill_amount1=eval(input())\n",
    "tip_per1=eval(input())"
   ]
  },
  {
   "cell_type": "markdown",
   "id": "b62123fd-875f-48c6-9903-279cb349b0cd",
   "metadata": {},
   "source": [
    "- Function with argument\n",
    "\n",
    "- Function with argument \n",
    "\n",
    "- Function with default argument\n",
    "\n",
    "- Local variable vs global variable\n",
    "\n",
    "- global keyword\n",
    "\n",
    "- return\n",
    "\n",
    "- function in function"
   ]
  },
  {
   "cell_type": "code",
   "execution_count": 24,
   "id": "913cc70d-6bf5-4f9d-b0ce-57bde3acaf6f",
   "metadata": {},
   "outputs": [
    {
     "name": "stdout",
     "output_type": "stream",
     "text": [
      "hello good morninig\n",
      "good night\n"
     ]
    }
   ],
   "source": [
    "def greet1():\n",
    "    print('hello good morninig')\n",
    "\n",
    "def greet2():\n",
    "    print('good night')\n",
    "\n",
    "greet1()\n",
    "greet2()"
   ]
  },
  {
   "cell_type": "code",
   "execution_count": 26,
   "id": "f8bfdbf1-04ce-4533-9170-eeb22dbb1c9f",
   "metadata": {},
   "outputs": [
    {
     "name": "stdout",
     "output_type": "stream",
     "text": [
      "hello good morninig\n",
      "good night\n"
     ]
    }
   ],
   "source": [
    "def greet1():\n",
    "    print('hello good morninig')\n",
    "    greet2()\n",
    "\n",
    "def greet2():\n",
    "    print('good night')\n",
    "\n",
    "greet1()\n",
    "\n",
    "\n",
    "# step-1:  define the greet1\n",
    "# step-2: definet the greet2\n",
    "# step-3: calling the greet1()\n",
    "# step-4: run the greet1()\n",
    "#         print=====hello\n",
    "#         calling the greet2()\n",
    "#         print ==== good night"
   ]
  },
  {
   "cell_type": "code",
   "execution_count": 38,
   "id": "3e2abdcd-7078-4854-a225-a048ecf2a336",
   "metadata": {},
   "outputs": [
    {
     "ename": "IndentationError",
     "evalue": "unindent does not match any outer indentation level (<string>, line 8)",
     "output_type": "error",
     "traceback": [
      "\u001b[1;36m  File \u001b[1;32m<string>:8\u001b[1;36m\u001b[0m\n\u001b[1;33m    greet2()\u001b[0m\n\u001b[1;37m            ^\u001b[0m\n\u001b[1;31mIndentationError\u001b[0m\u001b[1;31m:\u001b[0m unindent does not match any outer indentation level\n"
     ]
    }
   ],
   "source": [
    "def greet1():\n",
    "    print('hello good morninig')\n",
    "   \n",
    "def greet2():\n",
    "    print('good night')\n",
    "     greet1()\n",
    "\n",
    " greet2()\n",
    "\n"
   ]
  },
  {
   "cell_type": "code",
   "execution_count": null,
   "id": "8995e060-4ac5-4c13-864a-06c12fb9ee0c",
   "metadata": {},
   "outputs": [],
   "source": []
  },
  {
   "cell_type": "markdown",
   "id": "6942c424-65b8-4606-9fed-cfa2c45932f9",
   "metadata": {},
   "source": [
    "**task-1**\n",
    "\n",
    "- create a function1\n",
    "\n",
    "- take the 3 value from user inside the function\n",
    "\n",
    "- num1=eval(input()), num2=eval(input()),num3=eval(input())\n",
    "\n",
    "\n",
    "\n",
    "- return those three values\n",
    "\n",
    "- create a function2\n",
    "\n",
    "- inside function2 call the function1\n",
    "\n",
    "- we already know function1 returninig 3 values\n",
    "\n",
    "- so here store in threee variable\n",
    "\n",
    "- and find the average and return it"
   ]
  },
  {
   "cell_type": "code",
   "execution_count": 47,
   "id": "bb1bc70e-0c62-4abc-b7f7-ae379c9eef37",
   "metadata": {},
   "outputs": [
    {
     "name": "stdin",
     "output_type": "stream",
     "text": [
      "enter the num1:  10\n",
      "enter the num2:  20\n",
      "enter the num3:  30\n"
     ]
    },
    {
     "name": "stdout",
     "output_type": "stream",
     "text": [
      "20.0\n"
     ]
    }
   ],
   "source": [
    "def fun1():\n",
    "    n1=eval(input('enter the num1: '))\n",
    "    n2=eval(input('enter the num2: '))\n",
    "    n3=eval(input('enter the num3: '))\n",
    "    return(n1,n2,n3)\n",
    "\n",
    "def Average():\n",
    "    n1,n2,n3=fun1()\n",
    "    avg=(n1+n2+n3)/3\n",
    "    return(avg)\n",
    "\n",
    "avg=Average()\n",
    "print(avg)"
   ]
  },
  {
   "cell_type": "code",
   "execution_count": 49,
   "id": "b45d92cb-ecc9-48c8-9c0a-cfb8a9d45c3f",
   "metadata": {},
   "outputs": [
    {
     "name": "stdin",
     "output_type": "stream",
     "text": [
      "enter the num1:  10\n",
      "enter the num2:  20\n"
     ]
    },
    {
     "name": "stdout",
     "output_type": "stream",
     "text": [
      "15.0\n"
     ]
    }
   ],
   "source": [
    "def fun1():\n",
    "    n1=eval(input('enter the num1: '))\n",
    "    n2=eval(input('enter the num2: '))\n",
    "    return(n1,n2)\n",
    "\n",
    "def Average():\n",
    "    n1,n2=fun1()\n",
    "    avg=(n1+n2)/2\n",
    "    return(avg)\n",
    "\n",
    "avg=Average()\n",
    "print(avg)"
   ]
  },
  {
   "cell_type": "code",
   "execution_count": 53,
   "id": "89b22b18-16ca-4cc5-a1c7-e69add8021c5",
   "metadata": {},
   "outputs": [
    {
     "name": "stdin",
     "output_type": "stream",
     "text": [
      "enter the num1:  2\n",
      "enter the num2:  2\n"
     ]
    },
    {
     "name": "stdout",
     "output_type": "stream",
     "text": [
      "2.0\n"
     ]
    },
    {
     "name": "stdin",
     "output_type": "stream",
     "text": [
      "enter the num1:  2\n",
      "enter the num2:  2\n"
     ]
    },
    {
     "name": "stdout",
     "output_type": "stream",
     "text": [
      "the addition is :  4\n"
     ]
    }
   ],
   "source": [
    "def fun1():\n",
    "    n1=eval(input('enter the num1: '))\n",
    "    n2=eval(input('enter the num2: '))\n",
    "    return(n1,n2)\n",
    "\n",
    "def Average():\n",
    "    n1,n2=fun1()\n",
    "    avg=(n1+n2)/2\n",
    "    return(avg)\n",
    "\n",
    "def addition():\n",
    "    n1,n2=fun1()\n",
    "    add=(n1+n2)\n",
    "    return(add)\n",
    "\n",
    "avg=Average()\n",
    "print(avg)\n",
    "add=addition()\n",
    "\n",
    "print('the addition is : ',add)"
   ]
  },
  {
   "cell_type": "code",
   "execution_count": null,
   "id": "7e3fd1d8-335d-499b-a485-3254bc8500bd",
   "metadata": {},
   "outputs": [],
   "source": [
    "# step-1: create a add function\n",
    "         # return the value\n",
    "# examplw\n",
    "         def add(a,b):\n",
    "             return(a+b)\n",
    "\n",
    "# step-2: mul\n",
    "# step-3: sub\n",
    "# step-4: div\n",
    "\n",
    "# step-5: if-else calculator\n",
    "#        print the statement\n",
    "# enter 1 ==== add\n",
    "# enter 2 ==== sub\n",
    "# enter 3 ==== mul\n",
    "# enter 4 ==== diiv\n",
    "\n",
    "# step-6: ask the user enter the option\n",
    "# step-7: ask the user enter two value a,b\n",
    "# step-8: if option==1\n",
    "#            add()\n",
    "#            print the value\n",
    "# step-9\n",
    "# step-10\n",
    "\n",
    "  "
   ]
  }
 ],
 "metadata": {
  "kernelspec": {
   "display_name": "Python 3 (ipykernel)",
   "language": "python",
   "name": "python3"
  },
  "language_info": {
   "codemirror_mode": {
    "name": "ipython",
    "version": 3
   },
   "file_extension": ".py",
   "mimetype": "text/x-python",
   "name": "python",
   "nbconvert_exporter": "python",
   "pygments_lexer": "ipython3",
   "version": "3.12.4"
  }
 },
 "nbformat": 4,
 "nbformat_minor": 5
}
