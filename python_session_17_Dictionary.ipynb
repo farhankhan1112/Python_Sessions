{
 "cells": [
  {
   "cell_type": "code",
   "execution_count": null,
   "id": "77e8131e-6de6-493f-82de-11ef06f60c7e",
   "metadata": {},
   "outputs": [],
   "source": [
    "string='Rashidh'\n",
    "list=['Rashidh']\n",
    "tuple=('Rashidh')\n",
    "set= {'Rashidh'}"
   ]
  },
  {
   "cell_type": "code",
   "execution_count": 1,
   "id": "77c1ae73-a893-4105-8dc1-77d7acc20986",
   "metadata": {},
   "outputs": [
    {
     "name": "stdout",
     "output_type": "stream",
     "text": [
      "Ramesh has age 21\n",
      "Suresh has age 22\n",
      "Mahesh has age 23\n"
     ]
    }
   ],
   "source": [
    "Names= ['Ramesh','Suresh','Mahesh']\n",
    "Age=[21,22,23]\n",
    "# Ramesh age is 21\n",
    "# Suresh age is 22\n",
    "\n",
    "for i in range(len(Names)):\n",
    "    print(f\"{Names[i]} has age {Age[i]}\")"
   ]
  },
  {
   "cell_type": "markdown",
   "id": "9a2ce663-5517-40e0-adb7-30d1cf71b0bb",
   "metadata": {},
   "source": [
    "# 1) Zip"
   ]
  },
  {
   "cell_type": "code",
   "execution_count": 4,
   "id": "f85c5cc2-a2a1-46e1-be7c-aeecb06022a4",
   "metadata": {},
   "outputs": [
    {
     "data": {
      "text/plain": [
       "<zip at 0x1150aaa45c0>"
      ]
     },
     "execution_count": 4,
     "metadata": {},
     "output_type": "execute_result"
    }
   ],
   "source": [
    "zip(Names,Age)"
   ]
  },
  {
   "cell_type": "code",
   "execution_count": 6,
   "id": "3a2ac191-2936-41f8-9e46-5aa595df640e",
   "metadata": {},
   "outputs": [
    {
     "data": {
      "text/plain": [
       "[('Ramesh', 21), ('Suresh', 22), ('Mahesh', 23)]"
      ]
     },
     "execution_count": 6,
     "metadata": {},
     "output_type": "execute_result"
    }
   ],
   "source": [
    "list(zip(Names,Age))"
   ]
  },
  {
   "cell_type": "code",
   "execution_count": 8,
   "id": "4f9451d9-e0eb-426b-a8c2-ff2f0afdf1a4",
   "metadata": {},
   "outputs": [
    {
     "name": "stdout",
     "output_type": "stream",
     "text": [
      "('Ramesh', 21)\n",
      "('Suresh', 22)\n",
      "('Mahesh', 23)\n"
     ]
    }
   ],
   "source": [
    "for i in zip(Names,Age):\n",
    "    print(i)"
   ]
  },
  {
   "cell_type": "code",
   "execution_count": 10,
   "id": "0d932e33-57dc-46d2-b74e-1e1cf4132933",
   "metadata": {},
   "outputs": [
    {
     "data": {
      "text/plain": [
       "(10, 20)"
      ]
     },
     "execution_count": 10,
     "metadata": {},
     "output_type": "execute_result"
    }
   ],
   "source": [
    "a=10,20\n",
    "a"
   ]
  },
  {
   "cell_type": "code",
   "execution_count": 14,
   "id": "0e26e0ad-4ae5-48c8-8613-8e3812e8098c",
   "metadata": {},
   "outputs": [
    {
     "data": {
      "text/plain": [
       "10"
      ]
     },
     "execution_count": 14,
     "metadata": {},
     "output_type": "execute_result"
    }
   ],
   "source": [
    "a,b=10,20\n",
    "a"
   ]
  },
  {
   "cell_type": "code",
   "execution_count": 18,
   "id": "6c7d3e63-86ac-4b3e-9b01-2eeaa812a533",
   "metadata": {},
   "outputs": [
    {
     "name": "stdout",
     "output_type": "stream",
     "text": [
      "the Ramesh age is 21\n",
      "the Suresh age is 22\n",
      "the Mahesh age is 23\n"
     ]
    }
   ],
   "source": [
    "for i,j in zip(Names,Age):\n",
    "    print(f\"the {i} age is {j}\")"
   ]
  },
  {
   "cell_type": "markdown",
   "id": "4243a7d1-4db0-464c-a7ef-7d60688debb7",
   "metadata": {},
   "source": [
    "# 2)  Dictionary\n",
    "\n",
    "- Dictionary represents with curly braes\n",
    "\n",
    "- Dictionary has key : value pair\n",
    "\n",
    "- {key:value}"
   ]
  },
  {
   "cell_type": "code",
   "execution_count": 1,
   "id": "b195d501-e792-4f2d-8656-5785240d8b91",
   "metadata": {},
   "outputs": [
    {
     "data": {
      "text/plain": [
       "{'Ramesh': 21, 'Suresh': 22, 'Mahesh': 23}"
      ]
     },
     "execution_count": 1,
     "metadata": {},
     "output_type": "execute_result"
    }
   ],
   "source": [
    "d1={'Ramesh':21,'Suresh':22,'Mahesh':23}\n",
    "d1"
   ]
  },
  {
   "cell_type": "code",
   "execution_count": 23,
   "id": "7d4224c2-e793-45f1-8771-f39fa0c19667",
   "metadata": {},
   "outputs": [
    {
     "data": {
      "text/plain": [
       "dict"
      ]
     },
     "execution_count": 23,
     "metadata": {},
     "output_type": "execute_result"
    }
   ],
   "source": [
    "type(d1)"
   ]
  },
  {
   "cell_type": "code",
   "execution_count": 3,
   "id": "eff659b8-1276-48ce-b66b-c25be25b5c74",
   "metadata": {},
   "outputs": [
    {
     "data": {
      "text/plain": [
       "{'Ramesh': '21', 'Suresh': '22', 'Mahesh': '23'}"
      ]
     },
     "execution_count": 3,
     "metadata": {},
     "output_type": "execute_result"
    }
   ],
   "source": [
    "d1={'Ramesh':'21','Suresh':'22','Mahesh':'23'}\n",
    "d1"
   ]
  },
  {
   "cell_type": "code",
   "execution_count": 29,
   "id": "71139c82-3b8d-4274-82c5-2c0215760536",
   "metadata": {},
   "outputs": [
    {
     "data": {
      "text/plain": [
       "{21: 'Ramesh'}"
      ]
     },
     "execution_count": 29,
     "metadata": {},
     "output_type": "execute_result"
    }
   ],
   "source": [
    "d3={21:'Ramesh'}\n",
    "d3"
   ]
  },
  {
   "cell_type": "code",
   "execution_count": 31,
   "id": "763ffe95-7d01-489e-b481-6489b5cdc4ab",
   "metadata": {},
   "outputs": [
    {
     "data": {
      "text/plain": [
       "{'Ramesh': 25}"
      ]
     },
     "execution_count": 31,
     "metadata": {},
     "output_type": "execute_result"
    }
   ],
   "source": [
    "d4={'Ramesh':21,'Ramesh':25}\n",
    "d4 # Latest value"
   ]
  },
  {
   "cell_type": "code",
   "execution_count": null,
   "id": "133d95b8-8752-4e09-9112-1b3216c335f5",
   "metadata": {},
   "outputs": [],
   "source": [
    "d5={'Ramesh'}"
   ]
  },
  {
   "cell_type": "code",
   "execution_count": 33,
   "id": "cad113c3-4e12-4cf7-880b-4f337a8d923e",
   "metadata": {},
   "outputs": [
    {
     "data": {
      "text/plain": [
       "{21: 'Suresh'}"
      ]
     },
     "execution_count": 33,
     "metadata": {},
     "output_type": "execute_result"
    }
   ],
   "source": [
    "d6={21:'Ramesh',21:'Suresh'}\n",
    "d6\n",
    " # keys are important\n",
    "# duplicate keys not allowed"
   ]
  },
  {
   "cell_type": "code",
   "execution_count": null,
   "id": "b06df6c1-9a71-4779-9394-8752c1a630cd",
   "metadata": {},
   "outputs": [],
   "source": [
    "d7="
   ]
  },
  {
   "cell_type": "code",
   "execution_count": null,
   "id": "448d8ea4-519d-4f08-ae78-9e08ad0ba8a0",
   "metadata": {},
   "outputs": [],
   "source": [
    "d8"
   ]
  },
  {
   "cell_type": "code",
   "execution_count": null,
   "id": "5e603303-fb57-45d9-9d7d-a7f050230610",
   "metadata": {},
   "outputs": [],
   "source": [
    "d9=[1,2,3,]"
   ]
  },
  {
   "cell_type": "code",
   "execution_count": null,
   "id": "b7a2701e-9a4b-454c-a64c-df8d1838d5da",
   "metadata": {},
   "outputs": [],
   "source": [
    "# keys are important\n",
    "list mutable\n",
    "tuple immutable\n"
   ]
  },
  {
   "cell_type": "code",
   "execution_count": 35,
   "id": "5092c9d8-7ff2-4d6c-9623-991dff3e3055",
   "metadata": {},
   "outputs": [
    {
     "data": {
      "text/plain": [
       "{'Name': {'Ramesh': 25}}"
      ]
     },
     "execution_count": 35,
     "metadata": {},
     "output_type": "execute_result"
    }
   ],
   "source": [
    "d14={'Name':{'Ramesh':25}}\n",
    "d14"
   ]
  },
  {
   "cell_type": "code",
   "execution_count": 39,
   "id": "a2d726e4-f438-4765-86fb-2613a33032e4",
   "metadata": {},
   "outputs": [
    {
     "ename": "TypeError",
     "evalue": "unhashable type: 'dict'",
     "output_type": "error",
     "traceback": [
      "\u001b[1;31m---------------------------------------------------------------------------\u001b[0m",
      "\u001b[1;31mTypeError\u001b[0m                                 Traceback (most recent call last)",
      "Cell \u001b[1;32mIn[39], line 1\u001b[0m\n\u001b[1;32m----> 1\u001b[0m d15\u001b[38;5;241m=\u001b[39m{{\u001b[38;5;124m'\u001b[39m\u001b[38;5;124mRamesh\u001b[39m\u001b[38;5;124m'\u001b[39m:\u001b[38;5;241m25\u001b[39m}:\u001b[38;5;124m'\u001b[39m\u001b[38;5;124mName\u001b[39m\u001b[38;5;124m'\u001b[39m}\n\u001b[0;32m      2\u001b[0m d15\n",
      "\u001b[1;31mTypeError\u001b[0m: unhashable type: 'dict'"
     ]
    }
   ],
   "source": [
    "d15={{'Ramesh':25}:'Name'}\n",
    "d15"
   ]
  },
  {
   "cell_type": "code",
   "execution_count": null,
   "id": "807074b3-da82-4532-a532-e6eea6876210",
   "metadata": {},
   "outputs": [],
   "source": [
    "len\n",
    "min\n",
    "max\n",
    "sorted \n",
    "revers\n"
   ]
  },
  {
   "cell_type": "code",
   "execution_count": null,
   "id": "98c81ddb-b1ff-4dd0-9ca7-2791686211e1",
   "metadata": {},
   "outputs": [],
   "source": [
    "d9={[1,2,3,]:'list'}\n",
    "# keys ar eimportant\n",
    "# keys should be unique\n",
    "# list is applied  at key position  "
   ]
  },
  {
   "cell_type": "code",
   "execution_count": 9,
   "id": "95ad4e60-e3b2-4ae5-88e9-b81011cfa496",
   "metadata": {},
   "outputs": [
    {
     "data": {
      "text/plain": [
       "{'Ramesh': 21, 'Suresh': 22, 'Mahesh': 23}"
      ]
     },
     "execution_count": 9,
     "metadata": {},
     "output_type": "execute_result"
    }
   ],
   "source": [
    "d1={'Ramesh':21,'Suresh':22,'Mahesh':23}\n",
    "d1"
   ]
  },
  {
   "cell_type": "code",
   "execution_count": 3,
   "id": "ce9206cb-e522-4b38-8c59-8e7d394700c6",
   "metadata": {},
   "outputs": [
    {
     "data": {
      "text/plain": [
       "3"
      ]
     },
     "execution_count": 3,
     "metadata": {},
     "output_type": "execute_result"
    }
   ],
   "source": [
    "len(d1)"
   ]
  },
  {
   "cell_type": "code",
   "execution_count": 11,
   "id": "60c517fe-cf59-4e11-9e9a-4eaeffb4d077",
   "metadata": {},
   "outputs": [
    {
     "data": {
      "text/plain": [
       "'Suresh'"
      ]
     },
     "execution_count": 11,
     "metadata": {},
     "output_type": "execute_result"
    }
   ],
   "source": [
    "max(d1)  # keys are important"
   ]
  },
  {
   "cell_type": "code",
   "execution_count": 7,
   "id": "5aa64ac1-255b-4255-967b-f7a72da63f62",
   "metadata": {},
   "outputs": [
    {
     "data": {
      "text/plain": [
       "'Mahesh'"
      ]
     },
     "execution_count": 7,
     "metadata": {},
     "output_type": "execute_result"
    }
   ],
   "source": [
    "min(d1)  # keys are important"
   ]
  },
  {
   "cell_type": "code",
   "execution_count": 3,
   "id": "a3ab10c0-adaa-4ebf-aae3-8562cda7baeb",
   "metadata": {},
   "outputs": [
    {
     "data": {
      "text/plain": [
       "['Mahesh', 'Ramesh', 'Suresh']"
      ]
     },
     "execution_count": 3,
     "metadata": {},
     "output_type": "execute_result"
    }
   ],
   "source": [
    "d1={'Ramesh':21,'Suresh':22,'Mahesh':23}\n",
    "sorted(d1)"
   ]
  },
  {
   "cell_type": "code",
   "execution_count": 11,
   "id": "a8ea9f1b-e786-4a95-bb3a-f4c7d604339d",
   "metadata": {},
   "outputs": [
    {
     "data": {
      "text/plain": [
       "['Mahesh', 'Sursh', 'Ramesh']"
      ]
     },
     "execution_count": 11,
     "metadata": {},
     "output_type": "execute_result"
    }
   ],
   "source": [
    "list(reversed(d1))"
   ]
  },
  {
   "cell_type": "code",
   "execution_count": 17,
   "id": "14464e57-ac2b-47f5-acb0-b768fa503577",
   "metadata": {},
   "outputs": [
    {
     "name": "stdout",
     "output_type": "stream",
     "text": [
      "1 2 3 "
     ]
    }
   ],
   "source": [
    "for i in [1,2,3]:\n",
    "    print(i,end=' ')"
   ]
  },
  {
   "cell_type": "code",
   "execution_count": 21,
   "id": "25bdc574-2af9-4bd4-a2aa-2c6a4f8b7480",
   "metadata": {},
   "outputs": [
    {
     "name": "stdout",
     "output_type": "stream",
     "text": [
      "123"
     ]
    }
   ],
   "source": [
    "for i in '123':\n",
    "    print(i,end='')"
   ]
  },
  {
   "cell_type": "code",
   "execution_count": 27,
   "id": "bd31335d-3ff6-493a-84bd-52ee27a106a2",
   "metadata": {},
   "outputs": [
    {
     "name": "stdout",
     "output_type": "stream",
     "text": [
      "n1 n2 n3 "
     ]
    }
   ],
   "source": [
    "for i in {'n1':1,'n2':2,'n3':3}:\n",
    "    print(i,end=' ')"
   ]
  },
  {
   "cell_type": "code",
   "execution_count": 35,
   "id": "a36fdbc0-b132-4fb4-aaae-3e1092b176af",
   "metadata": {},
   "outputs": [
    {
     "data": {
      "text/plain": [
       "21"
      ]
     },
     "execution_count": 35,
     "metadata": {},
     "output_type": "execute_result"
    }
   ],
   "source": [
    "d1={'Ramesh':21,'Suresh':22,'Mahesh':23}\n",
    "d1['Ramesh']"
   ]
  },
  {
   "cell_type": "code",
   "execution_count": 37,
   "id": "3580aa5f-2371-4a39-85ea-6728b9c70eeb",
   "metadata": {},
   "outputs": [
    {
     "data": {
      "text/plain": [
       "22"
      ]
     },
     "execution_count": 37,
     "metadata": {},
     "output_type": "execute_result"
    }
   ],
   "source": [
    "d1['Suresh']"
   ]
  },
  {
   "cell_type": "code",
   "execution_count": null,
   "id": "c6910a3b-9ea9-40e7-b345-f156dd0aa582",
   "metadata": {},
   "outputs": [],
   "source": [
    "**if want to access value , first we need to use key as index"
   ]
  },
  {
   "cell_type": "code",
   "execution_count": null,
   "id": "418832fb-f78f-494d-881a-3da3aeace958",
   "metadata": {},
   "outputs": [],
   "source": [
    "d1['Ramesh']\n",
    "d1['Suresh']\n",
    "d1['Mahesh']\n",
    "\n",
    "d1[i]"
   ]
  },
  {
   "cell_type": "code",
   "execution_count": 41,
   "id": "6d24a3be-d27f-45a6-ab57-0e0ffc50c434",
   "metadata": {},
   "outputs": [
    {
     "name": "stdout",
     "output_type": "stream",
     "text": [
      "Ramesh 21\n",
      "Suresh 22\n",
      "Mahesh 23\n"
     ]
    }
   ],
   "source": [
    "for i in d1:\n",
    "    print(i,d1[i])"
   ]
  },
  {
   "cell_type": "code",
   "execution_count": 49,
   "id": "558bd37b-d2d0-4259-a11d-b6d04ad9e74e",
   "metadata": {},
   "outputs": [
    {
     "name": "stdout",
     "output_type": "stream",
     "text": [
      "The Ramesh age is 21\n",
      "The Suresh age is 22\n",
      "The Mahesh age is 23\n"
     ]
    }
   ],
   "source": [
    "d1={'Ramesh':21,'Suresh':22,'Mahesh':23}\n",
    "for i in d1:\n",
    "    print(f\"The {i} age is {d1[i]}\") "
   ]
  },
  {
   "cell_type": "code",
   "execution_count": null,
   "id": "c73c50fc-63ed-43a5-abcf-33637a675c04",
   "metadata": {},
   "outputs": [],
   "source": [
    "Names= ['Ramesh','Suresh','Mahesh']\n",
    "Age=[21,22,23]\n",
    "# Ramesh age is 21\n",
    "# Suresh age is 22\n",
    "\n",
    "for i in range(len(Names)):\n",
    "    print(f\"{Names[i]} has age {Age[i]}\")"
   ]
  },
  {
   "cell_type": "markdown",
   "id": "9b4c9793-0a24-457d-9f0c-58c65456abdb",
   "metadata": {},
   "source": [
    "**How to create empty dictionary**"
   ]
  },
  {
   "cell_type": "code",
   "execution_count": 52,
   "id": "471a59dc-7464-4c14-80a8-d6a9ac59d633",
   "metadata": {},
   "outputs": [
    {
     "data": {
      "text/plain": [
       "'p'"
      ]
     },
     "execution_count": 52,
     "metadata": {},
     "output_type": "execute_result"
    }
   ],
   "source": [
    "s=''\n",
    "s=s+'p'\n",
    "s"
   ]
  },
  {
   "cell_type": "code",
   "execution_count": 54,
   "id": "7bd6fcd1-a31b-4012-b0ac-e00d0f7b2dac",
   "metadata": {},
   "outputs": [
    {
     "data": {
      "text/plain": [
       "[10]"
      ]
     },
     "execution_count": 54,
     "metadata": {},
     "output_type": "execute_result"
    }
   ],
   "source": [
    "l=[]\n",
    "l.append(10)\n",
    "l"
   ]
  },
  {
   "cell_type": "code",
   "execution_count": 56,
   "id": "2862b275-51fe-41e9-b7af-bcd0a1b13312",
   "metadata": {},
   "outputs": [
    {
     "data": {
      "text/plain": [
       "{'Fruite': 'Apple'}"
      ]
     },
     "execution_count": 56,
     "metadata": {},
     "output_type": "execute_result"
    }
   ],
   "source": [
    "d={}\n",
    "d['Fruite']='Apple'\n",
    "d"
   ]
  },
  {
   "cell_type": "markdown",
   "id": "b459432e-37d2-4355-8a7e-dfc4c7bd103a",
   "metadata": {},
   "source": [
    "**create a dictionary using list**"
   ]
  },
  {
   "cell_type": "code",
   "execution_count": 7,
   "id": "68dd1903-dbf8-411d-b496-7c9ee4c30e61",
   "metadata": {},
   "outputs": [
    {
     "ename": "NameError",
     "evalue": "name 'value' is not defined",
     "output_type": "error",
     "traceback": [
      "\u001b[1;31m---------------------------------------------------------------------------\u001b[0m",
      "\u001b[1;31mNameError\u001b[0m                                 Traceback (most recent call last)",
      "Cell \u001b[1;32mIn[7], line 9\u001b[0m\n\u001b[0;32m      6\u001b[0m d[\u001b[38;5;124m'\u001b[39m\u001b[38;5;124mSuresh\u001b[39m\u001b[38;5;124m'\u001b[39m]\u001b[38;5;241m=\u001b[39m\u001b[38;5;241m22\u001b[39m\n\u001b[0;32m      7\u001b[0m d[\u001b[38;5;124m'\u001b[39m\u001b[38;5;124mMahesh\u001b[39m\u001b[38;5;124m'\u001b[39m]\u001b[38;5;241m=\u001b[39m\u001b[38;5;241m23\u001b[39m\n\u001b[1;32m----> 9\u001b[0m d[key]\u001b[38;5;241m=\u001b[39mvalue\n",
      "\u001b[1;31mNameError\u001b[0m: name 'value' is not defined"
     ]
    }
   ],
   "source": [
    "Names= ['Ramesh','Suresh','Mahesh']\n",
    "Age=[21,22,23]\n",
    "\n",
    "d={}\n",
    "d['Ramesh']=21\n",
    "d['Suresh']=22\n",
    "d['Mahesh']=23\n",
    "\n",
    "d[key]=value"
   ]
  },
  {
   "cell_type": "code",
   "execution_count": 69,
   "id": "837bcefa-233c-4928-baf1-6517337af2f3",
   "metadata": {},
   "outputs": [
    {
     "name": "stdout",
     "output_type": "stream",
     "text": [
      "Ramesh 21\n",
      "Suresh 22\n",
      "Mahesh 23\n"
     ]
    }
   ],
   "source": [
    "for i,j in zip(Names,Age):\n",
    "    print(i,j)"
   ]
  },
  {
   "cell_type": "code",
   "execution_count": 71,
   "id": "cb9d913c-85fc-416c-85b2-3970c69399b3",
   "metadata": {},
   "outputs": [
    {
     "data": {
      "text/plain": [
       "{'Ramesh': 21, 'Suresh': 22, 'Mahesh': 23}"
      ]
     },
     "execution_count": 71,
     "metadata": {},
     "output_type": "execute_result"
    }
   ],
   "source": [
    "d={}\n",
    "for i,j in zip(Names,Age):\n",
    "    d[i]=j\n",
    "d"
   ]
  },
  {
   "cell_type": "markdown",
   "id": "5ad06d9d-5ec7-40a0-8c07-0e9599eab7f3",
   "metadata": {},
   "source": [
    "**How to make list from dictionary**\n",
    "\n",
    "- dictionary has key and values\n",
    "\n",
    "- so we can make two lists\n",
    "\n",
    "- keys and valuesm"
   ]
  },
  {
   "cell_type": "code",
   "execution_count": 76,
   "id": "1a82fa26-a98f-4041-84a9-93425ca75744",
   "metadata": {},
   "outputs": [
    {
     "data": {
      "text/plain": [
       "(['Ramesh', 'Suresh', 'Mahesh'], [21, 22, 23])"
      ]
     },
     "execution_count": 76,
     "metadata": {},
     "output_type": "execute_result"
    }
   ],
   "source": [
    "keys=[]\n",
    "values=[]\n",
    "for i in d:\n",
    "    keys.append(i)\n",
    "    values.append(d[i])\n",
    "\n",
    "keys,values"
   ]
  },
  {
   "cell_type": "code",
   "execution_count": null,
   "id": "12059db3-324f-42c3-9f60-3de2db47ab08",
   "metadata": {},
   "outputs": [],
   "source": [
    "Names= ['Ramesh','Suresh','Mahesh']\n",
    "Age=[21,22,23]\n",
    "d={}\n",
    "for i,j in zip(Names,Age):\n",
    "    d[i]=j\n",
    "\n",
    "#################################################\n",
    "\n",
    "keys=[]\n",
    "values=[]\n",
    "for i in d:\n",
    "    keys.append(i)\n",
    "    values.append(d[i])\n",
    "\n",
    "keys,values"
   ]
  },
  {
   "cell_type": "markdown",
   "id": "3908a491-d7f6-4313-94ea-6c0d898df58f",
   "metadata": {},
   "source": [
    "**mutable-imutable**"
   ]
  },
  {
   "cell_type": "code",
   "execution_count": 79,
   "id": "f07a7956-a017-4edc-ab65-3898c61dd7a2",
   "metadata": {},
   "outputs": [
    {
     "data": {
      "text/plain": [
       "{'Ramesh': 32, 'Suresh': 22, 'Mahesh': 23}"
      ]
     },
     "execution_count": 79,
     "metadata": {},
     "output_type": "execute_result"
    }
   ],
   "source": [
    "d1={'Ramesh':21,'Suresh':22,'Mahesh':23}\n",
    "d1['Ramesh']=32\n",
    "d1\n",
    "\n",
    "######################\n",
    "s='hello'\n",
    "s[0]='HH' # error"
   ]
  },
  {
   "cell_type": "markdown",
   "id": "4313e86d-bc93-44dc-8514-ab9fa7a1c0da",
   "metadata": {},
   "source": [
    "- dictionary is mutable\n",
    "- list is mutable\n",
    "- string is immutable\n",
    "- tuple is immutable"
   ]
  },
  {
   "cell_type": "code",
   "execution_count": 87,
   "id": "bbfa1047-334c-44b4-8d3e-979488cb76cb",
   "metadata": {},
   "outputs": [
    {
     "data": {
      "text/plain": [
       "'Kashmir'"
      ]
     },
     "execution_count": 87,
     "metadata": {},
     "output_type": "execute_result"
    }
   ],
   "source": [
    "d1={'Fruites':{'Apple':'Kashmir'}}\n",
    "d1['Fruites']['Apple']\n"
   ]
  },
  {
   "cell_type": "code",
   "execution_count": 98,
   "id": "e599fcc1-da7b-4f09-aad9-e9124d0334b0",
   "metadata": {},
   "outputs": [
    {
     "data": {
      "text/plain": [
       "['Kashmir']"
      ]
     },
     "execution_count": 98,
     "metadata": {},
     "output_type": "execute_result"
    }
   ],
   "source": [
    "d2={'Fruites':{'Apple':['Kashmir']}}\n",
    "d2['Fruites'] ['Apple']\n",
    "# want Kashmir"
   ]
  },
  {
   "cell_type": "code",
   "execution_count": 15,
   "id": "c5292e5e-a900-4af3-ba54-acb4df377b80",
   "metadata": {},
   "outputs": [
    {
     "data": {
      "text/plain": [
       "'Kahsmir'"
      ]
     },
     "execution_count": 15,
     "metadata": {},
     "output_type": "execute_result"
    }
   ],
   "source": [
    "d3={'Fruites':[{'Apple':'Kahsmir'}]}\n",
    "d3['Fruites'][0]['Apple']"
   ]
  },
  {
   "cell_type": "code",
   "execution_count": 19,
   "id": "783d5c86-3e58-487b-a618-1438aa79866e",
   "metadata": {},
   "outputs": [
    {
     "data": {
      "text/plain": [
       "'Kahsmir'"
      ]
     },
     "execution_count": 19,
     "metadata": {},
     "output_type": "execute_result"
    }
   ],
   "source": [
    "d4={'Fruites':['Kahsmir']}\n",
    "d4['Fruites'][0]"
   ]
  },
  {
   "cell_type": "code",
   "execution_count": 104,
   "id": "97be2cc9-a77f-4b9c-9038-58228b7df42f",
   "metadata": {},
   "outputs": [
    {
     "data": {
      "text/plain": [
       "['India']"
      ]
     },
     "execution_count": 104,
     "metadata": {},
     "output_type": "execute_result"
    }
   ],
   "source": [
    "d5={'Fruites':['Apple',{'Kashmir':['India']}]}\n",
    "d5['Fruites'][1]['Kashmir']"
   ]
  },
  {
   "cell_type": "code",
   "execution_count": 106,
   "id": "b5716df5-28ce-4d28-bf58-aa95b870ce03",
   "metadata": {},
   "outputs": [
    {
     "data": {
      "text/plain": [
       "'India'"
      ]
     },
     "execution_count": 106,
     "metadata": {},
     "output_type": "execute_result"
    }
   ],
   "source": [
    "d5={'Fruites':['Apple',{'Kashmir':['India']}]}\n",
    "d5['Fruites'][1]['Kashmir'][0]"
   ]
  },
  {
   "cell_type": "code",
   "execution_count": 108,
   "id": "15607aa9-34b2-4830-a1ab-8e2a3a03b143",
   "metadata": {},
   "outputs": [
    {
     "data": {
      "text/plain": [
       "{'Fruites': {'Benganapply': {'Mango': {'Nagpur': {'MH': {'shivaji': 'Shamanji'}}}}}}"
      ]
     },
     "execution_count": 108,
     "metadata": {},
     "output_type": "execute_result"
    }
   ],
   "source": [
    "d6={'Fruites':\n",
    "    {'Benganapply':\n",
    "     {'Mango':\n",
    "      {'Nagpur':\n",
    "       {'MH':\n",
    "        {'shivaji':\n",
    "         'Shamanji'\n",
    "        }\n",
    "       }\n",
    "      }\n",
    "     }\n",
    "    }\n",
    "   }\n",
    "d6"
   ]
  },
  {
   "cell_type": "code",
   "execution_count": null,
   "id": "12180b7f-765c-4a92-bc6c-44f5e158dfe3",
   "metadata": {},
   "outputs": [],
   "source": [
    "d6['Fruites']['Benganapply']['Mango']"
   ]
  },
  {
   "cell_type": "code",
   "execution_count": 114,
   "id": "b1154c55-3bbd-44cd-8960-6b0bc02d4cb2",
   "metadata": {},
   "outputs": [
    {
     "ename": "NameError",
     "evalue": "name 'dictionary' is not defined",
     "output_type": "error",
     "traceback": [
      "\u001b[1;31m---------------------------------------------------------------------------\u001b[0m",
      "\u001b[1;31mNameError\u001b[0m                                 Traceback (most recent call last)",
      "Cell \u001b[1;32mIn[114], line 1\u001b[0m\n\u001b[1;32m----> 1\u001b[0m \u001b[38;5;28mdir\u001b[39m(dictionary)\n",
      "\u001b[1;31mNameError\u001b[0m: name 'dictionary' is not defined"
     ]
    }
   ],
   "source": []
  },
  {
   "cell_type": "code",
   "execution_count": null,
   "id": "4ba94b97-8eaf-4794-9c02-aff3f3c403fd",
   "metadata": {},
   "outputs": [],
   "source": [
    "'clear',\n",
    "'copy',\n"
   ]
  },
  {
   "cell_type": "markdown",
   "id": "170c6a59-e2a0-4568-a58a-704a6fa10436",
   "metadata": {},
   "source": [
    "# 02 - 09 - 24"
   ]
  },
  {
   "cell_type": "code",
   "execution_count": 1,
   "id": "7a0d6368-d4b5-4b33-b62f-8aae36ce707e",
   "metadata": {},
   "outputs": [],
   "source": [
    "d1={'Ramesh':21,'Suresh':22,'Mahesh':23}"
   ]
  },
  {
   "cell_type": "code",
   "execution_count": 8,
   "id": "b60aceab-ed53-4f1f-955c-be39a21b25f8",
   "metadata": {},
   "outputs": [
    {
     "data": {
      "text/plain": [
       "(['Ramesh', 'Suresh', 'Mahesh'], [21, 22, 23])"
      ]
     },
     "execution_count": 8,
     "metadata": {},
     "output_type": "execute_result"
    }
   ],
   "source": [
    "keys=[]\n",
    "values=[]\n",
    "for i in d1:\n",
    "    keys.append(i)\n",
    "    values.append(d1[i])\n",
    "\n",
    "keys,values"
   ]
  },
  {
   "cell_type": "markdown",
   "id": "92a98661-2ef2-477e-ac1e-b89800abd8b8",
   "metadata": {},
   "source": [
    "**Keys**"
   ]
  },
  {
   "cell_type": "code",
   "execution_count": 4,
   "id": "07b5b02a-2fb8-40eb-9374-ac265e587806",
   "metadata": {},
   "outputs": [
    {
     "data": {
      "text/plain": [
       "dict_keys(['Ramesh', 'Suresh', 'Mahesh'])"
      ]
     },
     "execution_count": 4,
     "metadata": {},
     "output_type": "execute_result"
    }
   ],
   "source": [
    "d1.keys()"
   ]
  },
  {
   "cell_type": "code",
   "execution_count": 10,
   "id": "7420f80e-521b-4415-9479-13bdd35d3995",
   "metadata": {},
   "outputs": [
    {
     "data": {
      "text/plain": [
       "['Ramesh', 'Suresh', 'Mahesh']"
      ]
     },
     "execution_count": 10,
     "metadata": {},
     "output_type": "execute_result"
    }
   ],
   "source": [
    "keys"
   ]
  },
  {
   "cell_type": "code",
   "execution_count": 12,
   "id": "6140c19c-0c3a-4702-999c-0526a30ff29c",
   "metadata": {},
   "outputs": [
    {
     "data": {
      "text/plain": [
       "dict_keys"
      ]
     },
     "execution_count": 12,
     "metadata": {},
     "output_type": "execute_result"
    }
   ],
   "source": [
    "type(d1.keys())"
   ]
  },
  {
   "cell_type": "code",
   "execution_count": 14,
   "id": "72dd6a8a-1e5c-4caa-bcbb-2394d9150675",
   "metadata": {},
   "outputs": [
    {
     "data": {
      "text/plain": [
       "0"
      ]
     },
     "execution_count": 14,
     "metadata": {},
     "output_type": "execute_result"
    }
   ],
   "source": [
    "keys.index('Ramesh')"
   ]
  },
  {
   "cell_type": "code",
   "execution_count": 25,
   "id": "2975837d-be9b-41dc-921f-2edf170cc3ab",
   "metadata": {},
   "outputs": [
    {
     "data": {
      "text/plain": [
       "2"
      ]
     },
     "execution_count": 25,
     "metadata": {},
     "output_type": "execute_result"
    }
   ],
   "source": [
    "keys.index('Mahesh')"
   ]
  },
  {
   "cell_type": "code",
   "execution_count": 16,
   "id": "02561a82-c77f-4fe4-a4a2-f875c175e61d",
   "metadata": {},
   "outputs": [
    {
     "ename": "AttributeError",
     "evalue": "'dict_keys' object has no attribute 'index'",
     "output_type": "error",
     "traceback": [
      "\u001b[1;31m---------------------------------------------------------------------------\u001b[0m",
      "\u001b[1;31mAttributeError\u001b[0m                            Traceback (most recent call last)",
      "Cell \u001b[1;32mIn[16], line 1\u001b[0m\n\u001b[1;32m----> 1\u001b[0m d1\u001b[38;5;241m.\u001b[39mkeys()\u001b[38;5;241m.\u001b[39mindex(\u001b[38;5;124m'\u001b[39m\u001b[38;5;124mRamesh\u001b[39m\u001b[38;5;124m'\u001b[39m)\n",
      "\u001b[1;31mAttributeError\u001b[0m: 'dict_keys' object has no attribute 'index'"
     ]
    }
   ],
   "source": [
    "d1.keys().index('Ramesh')"
   ]
  },
  {
   "cell_type": "code",
   "execution_count": null,
   "id": "80d44dab-9104-4ec9-bf12-349fcd4af7db",
   "metadata": {},
   "outputs": [],
   "source": [
    "# direct type to  list type\n"
   ]
  },
  {
   "cell_type": "code",
   "execution_count": 27,
   "id": "55689337-f6ac-4cd5-be00-ffa3933a5d84",
   "metadata": {},
   "outputs": [
    {
     "data": {
      "text/plain": [
       "dict_keys(['Ramesh', 'Suresh', 'Mahesh'])"
      ]
     },
     "execution_count": 27,
     "metadata": {},
     "output_type": "execute_result"
    }
   ],
   "source": [
    "d1.keys()"
   ]
  },
  {
   "cell_type": "code",
   "execution_count": 29,
   "id": "d1e5703f-d135-45ab-b254-b466ecb206d0",
   "metadata": {},
   "outputs": [
    {
     "data": {
      "text/plain": [
       "['Ramesh', 'Suresh', 'Mahesh']"
      ]
     },
     "execution_count": 29,
     "metadata": {},
     "output_type": "execute_result"
    }
   ],
   "source": [
    "list(d1.keys())"
   ]
  },
  {
   "cell_type": "markdown",
   "id": "97b29053-074a-4008-b302-e07ce8cb624e",
   "metadata": {},
   "source": [
    "**values**"
   ]
  },
  {
   "cell_type": "code",
   "execution_count": 31,
   "id": "8c67d9a1-c878-4389-81d3-c2bc316414f4",
   "metadata": {},
   "outputs": [
    {
     "data": {
      "text/plain": [
       "dict_values([21, 22, 23])"
      ]
     },
     "execution_count": 31,
     "metadata": {},
     "output_type": "execute_result"
    }
   ],
   "source": [
    "d1.values()"
   ]
  },
  {
   "cell_type": "code",
   "execution_count": 34,
   "id": "9b041763-7540-4267-9d66-b1b5184ce450",
   "metadata": {},
   "outputs": [
    {
     "data": {
      "text/plain": [
       "[21, 22, 23]"
      ]
     },
     "execution_count": 34,
     "metadata": {},
     "output_type": "execute_result"
    }
   ],
   "source": [
    "values"
   ]
  },
  {
   "cell_type": "code",
   "execution_count": 36,
   "id": "25b04928-6a42-45b1-941c-d9319b85838f",
   "metadata": {},
   "outputs": [
    {
     "data": {
      "text/plain": [
       "dict_values"
      ]
     },
     "execution_count": 36,
     "metadata": {},
     "output_type": "execute_result"
    }
   ],
   "source": [
    "type(d1.values())"
   ]
  },
  {
   "cell_type": "code",
   "execution_count": 38,
   "id": "c6d995fa-4298-4151-b1c2-c1a3817987da",
   "metadata": {},
   "outputs": [
    {
     "data": {
      "text/plain": [
       "[21, 22, 23]"
      ]
     },
     "execution_count": 38,
     "metadata": {},
     "output_type": "execute_result"
    }
   ],
   "source": [
    "list(d1.values())"
   ]
  },
  {
   "cell_type": "code",
   "execution_count": 40,
   "id": "1d42f1fe-ae68-4e64-82b4-95b79bfc4e18",
   "metadata": {},
   "outputs": [
    {
     "data": {
      "text/plain": [
       "dict_items([('Ramesh', 21), ('Suresh', 22), ('Mahesh', 23)])"
      ]
     },
     "execution_count": 40,
     "metadata": {},
     "output_type": "execute_result"
    }
   ],
   "source": [
    "d1.items()"
   ]
  },
  {
   "cell_type": "code",
   "execution_count": 42,
   "id": "85b86354-b68d-4516-87d0-1f772ff011cf",
   "metadata": {},
   "outputs": [
    {
     "data": {
      "text/plain": [
       "[('Ramesh', 21), ('Suresh', 22), ('Mahesh', 23)]"
      ]
     },
     "execution_count": 42,
     "metadata": {},
     "output_type": "execute_result"
    }
   ],
   "source": [
    "list(d1.items())"
   ]
  },
  {
   "cell_type": "code",
   "execution_count": 44,
   "id": "412ec2b4-0aaf-4fad-8bde-c918626b4b76",
   "metadata": {},
   "outputs": [
    {
     "ename": "TypeError",
     "evalue": "'dict_keys' object is not subscriptable",
     "output_type": "error",
     "traceback": [
      "\u001b[1;31m---------------------------------------------------------------------------\u001b[0m",
      "\u001b[1;31mTypeError\u001b[0m                                 Traceback (most recent call last)",
      "Cell \u001b[1;32mIn[44], line 1\u001b[0m\n\u001b[1;32m----> 1\u001b[0m d1\u001b[38;5;241m.\u001b[39mkeys() [\u001b[38;5;241m0\u001b[39m]\n",
      "\u001b[1;31mTypeError\u001b[0m: 'dict_keys' object is not subscriptable"
     ]
    }
   ],
   "source": [
    "d1.keys() [0]"
   ]
  },
  {
   "cell_type": "code",
   "execution_count": 46,
   "id": "59a6b509-0cce-4a55-a660-45d10ac099f0",
   "metadata": {},
   "outputs": [
    {
     "data": {
      "text/plain": [
       "{'Ramesh': 21, 'Suresh': 22, 'Mahesh': 23}"
      ]
     },
     "execution_count": 46,
     "metadata": {},
     "output_type": "execute_result"
    }
   ],
   "source": [
    "d1={'Ramesh':21,'Suresh':22,'Mahesh':23}\n",
    "d1"
   ]
  },
  {
   "cell_type": "code",
   "execution_count": 48,
   "id": "14df85b2-4bd6-49fe-abed-c20d816e493c",
   "metadata": {},
   "outputs": [
    {
     "data": {
      "text/plain": [
       "{'Ramesh': 21, 'Suresh': 22, 'Mahesh': 23, 'Amit': None}"
      ]
     },
     "execution_count": 48,
     "metadata": {},
     "output_type": "execute_result"
    }
   ],
   "source": [
    "d1.setdefault('Amit')\n",
    "d1"
   ]
  },
  {
   "cell_type": "code",
   "execution_count": 50,
   "id": "ad4a56ec-f69c-4205-b635-fd1aacc50a75",
   "metadata": {},
   "outputs": [
    {
     "data": {
      "text/plain": [
       "{'Ramesh': 21, 'Suresh': 22, 'Mahesh': 23, 'Amit': None, 'Avesh': 30}"
      ]
     },
     "execution_count": 50,
     "metadata": {},
     "output_type": "execute_result"
    }
   ],
   "source": [
    "d1.setdefault('Avesh',30)\n",
    "d1"
   ]
  },
  {
   "cell_type": "code",
   "execution_count": 52,
   "id": "516df438-015e-4bc9-a545-e24a796bc79b",
   "metadata": {},
   "outputs": [
    {
     "data": {
      "text/plain": [
       "21"
      ]
     },
     "execution_count": 52,
     "metadata": {},
     "output_type": "execute_result"
    }
   ],
   "source": [
    "d1.setdefault('Ramesh')"
   ]
  },
  {
   "cell_type": "code",
   "execution_count": 56,
   "id": "ba2e82fe-ee22-4b79-bfc0-4e2c49798fc0",
   "metadata": {},
   "outputs": [
    {
     "data": {
      "text/plain": [
       "{'Ramesh': 21, 'Suresh': 22, 'Mahesh': 23, 'Amit': None, 'Avesh': 30}"
      ]
     },
     "execution_count": 56,
     "metadata": {},
     "output_type": "execute_result"
    }
   ],
   "source": [
    "d1.setdefault('Ramesh',35)\n",
    "d1"
   ]
  },
  {
   "cell_type": "code",
   "execution_count": 58,
   "id": "adb35112-6cfd-4cb9-8f35-92ab6b7f727b",
   "metadata": {},
   "outputs": [
    {
     "data": {
      "text/plain": [
       "{'Ramesh': 21, 'Suresh': 22, 'Mahesh': 23, 'Amit': 25, 'Avesh': 30}"
      ]
     },
     "execution_count": 58,
     "metadata": {},
     "output_type": "execute_result"
    }
   ],
   "source": [
    "d1['Amit']=25\n",
    "d1"
   ]
  },
  {
   "cell_type": "markdown",
   "id": "a6cce274-d216-4248-a102-bf4bbd3bdb1d",
   "metadata": {},
   "source": [
    "**file handling**"
   ]
  },
  {
   "cell_type": "code",
   "execution_count": null,
   "id": "17fe6cc8-790a-4a25-bd04-d2e20e88d2da",
   "metadata": {},
   "outputs": [],
   "source": [
    "File Name                 Type of file\n",
    "\n",
    "======================structer and semi-structured ===================\n",
    "\n",
    "Text                     .txt\n",
    "\n",
    "Word                      .doc or .docx\n",
    "\n",
    "Pdf                       .pdf\n",
    "\n",
    "CSV(Exel)                  .csv (Comma seoreated value ) (tabular)\n",
    "\n",
    "Excel                      .xlsx  (Tabular)\n",
    "\n",
    "json                       .json (Dictionary key-value)\n",
    "\n",
    "\n",
    "======================= unstrctured ==========================\n",
    "\n",
    "XML                        .xml (Image data)\n",
    "\n",
    "Paruet                     .delta/.parquet (DE)\n",
    "\n",
    "Delta                      .delta (DE)\n",
    "\n",
    "Image                       .jpg,.JPEG,.png\n",
    "\n",
    "Video                        .mp4\n",
    "\n",
    "Audio                        .mp3"
   ]
  }
 ],
 "metadata": {
  "kernelspec": {
   "display_name": "Python 3 (ipykernel)",
   "language": "python",
   "name": "python3"
  },
  "language_info": {
   "codemirror_mode": {
    "name": "ipython",
    "version": 3
   },
   "file_extension": ".py",
   "mimetype": "text/x-python",
   "name": "python",
   "nbconvert_exporter": "python",
   "pygments_lexer": "ipython3",
   "version": "3.12.4"
  }
 },
 "nbformat": 4,
 "nbformat_minor": 5
}
