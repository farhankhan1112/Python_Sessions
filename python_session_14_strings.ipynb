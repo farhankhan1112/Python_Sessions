{
 "cells": [
  {
   "cell_type": "markdown",
   "id": "8c2c5884-d544-42b7-a384-a8ae601938f6",
   "metadata": {},
   "source": [
    "- we coverd\n",
    " - darta type\n",
    " - type casting\n",
    " - basic codes using eval and input\n",
    " - codition statement\n",
    " - Try-except\n",
    " - function\n",
    " - for and while loop\n",
    "###################################### part-2 #########################################\n",
    "\n",
    "- string\n",
    "- list\n",
    "- dictionary\n",
    "- tuple\n",
    "- "
   ]
  },
  {
   "cell_type": "markdown",
   "id": "dac3a2e6-053a-4600-8d8a-f6a60ecca725",
   "metadata": {},
   "source": [
    "# string"
   ]
  },
  {
   "cell_type": "markdown",
   "id": "d25bb2e8-078b-4152-8288-92380fb35944",
   "metadata": {},
   "source": [
    "- int\n",
    "\n",
    "- str\n",
    "\n",
    "- complex\n",
    "\n"
   ]
  },
  {
   "cell_type": "markdown",
   "id": "c3011c4d-9698-495c-8d12-09a1402731a6",
   "metadata": {},
   "source": [
    "- initialization\n",
    "- type\n",
    "- len\n",
    "- min\n",
    "- max\n",
    "- sorted\n",
    "- reversed\n",
    "- in\n",
    "- for loop with in\n",
    "- index\n",
    "- for loop with index\n",
    "- mutable immutable\n",
    "- concatenation\n",
    "- method\n",
    "- conditions"
   ]
  },
  {
   "cell_type": "code",
   "execution_count": 8,
   "id": "e1a2cd7e-3e11-402e-8a28-479cb4f9433b",
   "metadata": {},
   "outputs": [
    {
     "data": {
      "text/plain": [
       "'python'"
      ]
     },
     "execution_count": 8,
     "metadata": {},
     "output_type": "execute_result"
    }
   ],
   "source": [
    "str1='python'\n",
    "str1"
   ]
  },
  {
   "cell_type": "code",
   "execution_count": 10,
   "id": "e78e9ac5-04d9-4fd1-aaf1-20008c5c5356",
   "metadata": {},
   "outputs": [
    {
     "data": {
      "text/plain": [
       "'python'"
      ]
     },
     "execution_count": 10,
     "metadata": {},
     "output_type": "execute_result"
    }
   ],
   "source": [
    "str2=\"python\"\n",
    "str2"
   ]
  },
  {
   "cell_type": "code",
   "execution_count": 12,
   "id": "4ef28eb4-44b7-49ec-9f8f-681741cfc060",
   "metadata": {},
   "outputs": [
    {
     "name": "stdout",
     "output_type": "stream",
     "text": [
      "python\n"
     ]
    }
   ],
   "source": [
    "print(str1)   # without quotes"
   ]
  },
  {
   "cell_type": "markdown",
   "id": "3722f223-c0ad-4a92-a9d2-afd6c8ab109f",
   "metadata": {},
   "source": [
    "- String defined by using single quotes or double quotes\n",
    "\n",
    "- But python by default will give as single quotes only\n",
    "\n",
    "- When you print the string,the answer will display without quotes"
   ]
  },
  {
   "cell_type": "markdown",
   "id": "057f589c-c505-44d0-8ccb-408f75226b76",
   "metadata": {},
   "source": [
    "**doc sring**\n",
    "\n",
    "- We can write the string using triple quotes\n",
    "\n",
    "- This method calles as doc string\n",
    "\n",
    "- It is the way of communication information to the user\n",
    "\n",
    "- Do not apply triple quotes when you do the code"
   ]
  },
  {
   "cell_type": "code",
   "execution_count": null,
   "id": "cd567f18-3a6c-4684-95c8-8bbe0878f609",
   "metadata": {},
   "outputs": [],
   "source": [
    "import random\n",
    "random.randint()"
   ]
  },
  {
   "cell_type": "markdown",
   "id": "b6baa893-68fe-44bc-9c5f-1f6b410da3f4",
   "metadata": {},
   "source": [
    "**type**"
   ]
  },
  {
   "cell_type": "code",
   "execution_count": 21,
   "id": "1a7777f7-0aa2-40c1-81e2-0c9f4eb0f7c5",
   "metadata": {},
   "outputs": [
    {
     "data": {
      "text/plain": [
       "str"
      ]
     },
     "execution_count": 21,
     "metadata": {},
     "output_type": "execute_result"
    }
   ],
   "source": [
    "type(str1)"
   ]
  },
  {
   "cell_type": "code",
   "execution_count": 23,
   "id": "55771c8b-8123-43f7-bf5d-4b0ff993b712",
   "metadata": {},
   "outputs": [
    {
     "data": {
      "text/plain": [
       "6"
      ]
     },
     "execution_count": 23,
     "metadata": {},
     "output_type": "execute_result"
    }
   ],
   "source": [
    "len(str1)"
   ]
  },
  {
   "cell_type": "code",
   "execution_count": null,
   "id": "48f6d270-d224-46a3-8cdf-41c8d78c1eb8",
   "metadata": {},
   "outputs": [],
   "source": [
    " 'python'    has 6 letters\n"
   ]
  },
  {
   "cell_type": "code",
   "execution_count": 25,
   "id": "d53f53aa-2ae2-4e34-a80c-a244b9d353c2",
   "metadata": {},
   "outputs": [
    {
     "data": {
      "text/plain": [
       "'y'"
      ]
     },
     "execution_count": 25,
     "metadata": {},
     "output_type": "execute_result"
    }
   ],
   "source": [
    "max(str1)"
   ]
  },
  {
   "cell_type": "markdown",
   "id": "2ca198c8-b60a-48c1-9495-e3a5430348e6",
   "metadata": {},
   "source": [
    "- ascii number of 'y' is greater than compare t other"
   ]
  },
  {
   "cell_type": "code",
   "execution_count": 28,
   "id": "c6f7fbb8-fb89-433a-bd63-211cea72dd2b",
   "metadata": {},
   "outputs": [
    {
     "data": {
      "text/plain": [
       "6"
      ]
     },
     "execution_count": 28,
     "metadata": {},
     "output_type": "execute_result"
    }
   ],
   "source": [
    "len('abc123')"
   ]
  },
  {
   "cell_type": "code",
   "execution_count": 30,
   "id": "42a4b070-6258-4cb5-b0c3-89199dbb22fd",
   "metadata": {},
   "outputs": [
    {
     "data": {
      "text/plain": [
       "'c'"
      ]
     },
     "execution_count": 30,
     "metadata": {},
     "output_type": "execute_result"
    }
   ],
   "source": [
    "max('abc123')"
   ]
  },
  {
   "cell_type": "code",
   "execution_count": 32,
   "id": "e1709749-12da-49d3-843b-a65f76406362",
   "metadata": {},
   "outputs": [
    {
     "data": {
      "text/plain": [
       "'3'"
      ]
     },
     "execution_count": 32,
     "metadata": {},
     "output_type": "execute_result"
    }
   ],
   "source": [
    "max('321')"
   ]
  },
  {
   "cell_type": "code",
   "execution_count": 34,
   "id": "82a0242e-db0a-4174-b2c8-0047b35184c0",
   "metadata": {},
   "outputs": [
    {
     "data": {
      "text/plain": [
       "'1'"
      ]
     },
     "execution_count": 34,
     "metadata": {},
     "output_type": "execute_result"
    }
   ],
   "source": [
    "min('abc123')"
   ]
  },
  {
   "cell_type": "code",
   "execution_count": null,
   "id": "ed0e06c3-8780-4bdb-8ee4-b7903bede2e6",
   "metadata": {},
   "outputs": [],
   "source": [
    "type(<>)\n",
    "print(<>)\n",
    "len(<>)\n",
    "max(<>)\n",
    "min(<>)"
   ]
  },
  {
   "cell_type": "markdown",
   "id": "ad8fc0f9-1da0-4de2-bace-7b80698327b8",
   "metadata": {},
   "source": [
    "- If we observe the obove pattren \n",
    "\n",
    "- its like keyword() \n",
    "\n",
    "- These all are inbuilt function \n",
    "\n",
    "- inbuilt means these function can use any data types\n",
    "\n",
    "- means we can apply for string ,list,tuple,,dictionary etc"
   ]
  },
  {
   "cell_type": "markdown",
   "id": "4ec43010-6253-4a7c-8dda-9b723df29071",
   "metadata": {},
   "source": [
    "**diffrence between methodes and unbuilt functions**\n",
    "\n",
    "- methods come from pacakges\n",
    "\n",
    "- in order to use any method we need impot the package\n",
    "\n",
    "- for inbuilt functions no need of any packages\n",
    "\n",
    "- import random ==== random.randint\n",
    "\n",
    "- import math ====== math.sqrt\n",
    "\n",
    "- import time ===== time.sleep\n",
    "\n",
    "- type() print() min() max() len() \n",
    "\n"
   ]
  },
  {
   "cell_type": "markdown",
   "id": "c1d2a1c9-bcbd-4cb0-8fb0-c622d3fc9434",
   "metadata": {},
   "source": [
    "# reversed\n",
    "\n",
    "- is also inbuilt function"
   ]
  },
  {
   "cell_type": "code",
   "execution_count": 40,
   "id": "b918be14-1808-4d77-af6a-5a9e2c8fbb29",
   "metadata": {},
   "outputs": [
    {
     "data": {
      "text/plain": [
       "<reversed at 0x1fd5234a440>"
      ]
     },
     "execution_count": 40,
     "metadata": {},
     "output_type": "execute_result"
    }
   ],
   "source": [
    "reversed('python')"
   ]
  },
  {
   "cell_type": "markdown",
   "id": "349e1653-47be-4c44-8da7-67b425ef3268",
   "metadata": {},
   "source": [
    "- When we apply reversed in built functiom\n",
    "\n",
    "- the output will store at memory\n",
    "\n",
    "- we can see the output by iteratr a loop\n",
    "\n",
    "- we can see the ooutput by applying a list type cast"
   ]
  },
  {
   "cell_type": "code",
   "execution_count": 44,
   "id": "2a82322a-b0ca-494f-9145-c3d6a84d9dec",
   "metadata": {},
   "outputs": [
    {
     "name": "stdout",
     "output_type": "stream",
     "text": [
      "n\n",
      "o\n",
      "h\n",
      "t\n",
      "y\n",
      "p\n"
     ]
    }
   ],
   "source": [
    "out=reversed('python')\n",
    "for i in out :\n",
    "    print(i)"
   ]
  },
  {
   "cell_type": "code",
   "execution_count": 56,
   "id": "557947cb-5458-4902-8741-40454e7b033a",
   "metadata": {},
   "outputs": [
    {
     "name": "stdout",
     "output_type": "stream",
     "text": [
      "n o h t y p "
     ]
    }
   ],
   "source": [
    "out=reversed('python')\n",
    "for i in out :\n",
    "    print(i,end=' ' )"
   ]
  },
  {
   "cell_type": "code",
   "execution_count": 1,
   "id": "8d61efb5-c6fe-47a8-9595-981732c53bea",
   "metadata": {},
   "outputs": [
    {
     "name": "stdout",
     "output_type": "stream",
     "text": [
      "n o h t y p "
     ]
    }
   ],
   "source": [
    "o=reversed('python')\n",
    "for i in o :\n",
    "    print(i,end=' ' )"
   ]
  },
  {
   "cell_type": "code",
   "execution_count": 47,
   "id": "e542a52d-5f79-443d-995a-4c50624f9688",
   "metadata": {},
   "outputs": [
    {
     "data": {
      "text/plain": [
       "10"
      ]
     },
     "execution_count": 47,
     "metadata": {},
     "output_type": "execute_result"
    }
   ],
   "source": [
    "int('10')"
   ]
  },
  {
   "cell_type": "code",
   "execution_count": 3,
   "id": "93bc9482-1a30-4ddb-b129-380632895425",
   "metadata": {},
   "outputs": [
    {
     "data": {
      "text/plain": [
       "['n', 'o', 'h', 't', 'y', 'p']"
      ]
     },
     "execution_count": 3,
     "metadata": {},
     "output_type": "execute_result"
    }
   ],
   "source": [
    "list(reversed('python'))\n",
    "\n",
    "\n",
    "# eval()\n",
    "# int()\n",
    "# float()\n",
    "\n",
    "# these all are type casting"
   ]
  },
  {
   "cell_type": "code",
   "execution_count": 51,
   "id": "67dacec1-657f-40f4-872e-d43f2cd32377",
   "metadata": {},
   "outputs": [
    {
     "data": {
      "text/plain": [
       "('n', 'o', 'h', 't', 'y', 'p')"
      ]
     },
     "execution_count": 51,
     "metadata": {},
     "output_type": "execute_result"
    }
   ],
   "source": [
    "tuple(reversed('python'))"
   ]
  },
  {
   "cell_type": "code",
   "execution_count": 53,
   "id": "01e151bf-979e-4dc4-a6a3-801b8a231bad",
   "metadata": {},
   "outputs": [
    {
     "ename": "TypeError",
     "evalue": "reversed() takes no keyword arguments",
     "output_type": "error",
     "traceback": [
      "\u001b[1;31m---------------------------------------------------------------------------\u001b[0m",
      "\u001b[1;31mTypeError\u001b[0m                                 Traceback (most recent call last)",
      "Cell \u001b[1;32mIn[53], line 1\u001b[0m\n\u001b[1;32m----> 1\u001b[0m \u001b[38;5;28mreversed\u001b[39m(sequence\u001b[38;5;241m=\u001b[39m\u001b[38;5;124m'\u001b[39m\u001b[38;5;124mpython\u001b[39m\u001b[38;5;124m'\u001b[39m)\n",
      "\u001b[1;31mTypeError\u001b[0m: reversed() takes no keyword arguments"
     ]
    }
   ],
   "source": [
    "reversed(sequence='python')"
   ]
  },
  {
   "cell_type": "code",
   "execution_count": 55,
   "id": "33c15b25-deeb-4c83-93db-66e267ff5987",
   "metadata": {},
   "outputs": [
    {
     "data": {
      "text/plain": [
       "11"
      ]
     },
     "execution_count": 55,
     "metadata": {},
     "output_type": "execute_result"
    }
   ],
   "source": [
    "import random\n",
    "random.randint(a=10,b=20)"
   ]
  },
  {
   "cell_type": "code",
   "execution_count": null,
   "id": "37beaea2-445f-4a12-b1cf-d61807763679",
   "metadata": {},
   "outputs": [],
   "source": [
    "(a,/)\n",
    "a=10 === error\n",
    "10   ==== no error\n",
    "\n",
    "(a, / ,b)\n",
    "a=10,b=20 === error\n",
    "10,20 === no error\n",
    "10,b=20 === no error"
   ]
  },
  {
   "cell_type": "markdown",
   "id": "76b6bd2c-77cd-4f2e-8aad-e34571dcb89b",
   "metadata": {},
   "source": [
    "- / means possition only parameters\n",
    "\n",
    "- before / dont give the variable name\n",
    "\n",
    "- after / give variable name"
   ]
  },
  {
   "cell_type": "markdown",
   "id": "f3b09163-644d-42ab-b3fc-980ba7d390c7",
   "metadata": {},
   "source": [
    "# sorted"
   ]
  },
  {
   "cell_type": "code",
   "execution_count": 59,
   "id": "faac5a9a-6c06-4ded-ba3d-1ab4b21b4948",
   "metadata": {},
   "outputs": [
    {
     "data": {
      "text/plain": [
       "['h', 'n', 'o', 'p', 't', 'y']"
      ]
     },
     "execution_count": 59,
     "metadata": {},
     "output_type": "execute_result"
    }
   ],
   "source": [
    "sorted('python')"
   ]
  },
  {
   "cell_type": "code",
   "execution_count": 61,
   "id": "8b758ada-1499-4bcf-ba00-d672ad1fb4e1",
   "metadata": {},
   "outputs": [
    {
     "ename": "TypeError",
     "evalue": "sorted expected 1 argument, got 2",
     "output_type": "error",
     "traceback": [
      "\u001b[1;31m---------------------------------------------------------------------------\u001b[0m",
      "\u001b[1;31mTypeError\u001b[0m                                 Traceback (most recent call last)",
      "Cell \u001b[1;32mIn[61], line 1\u001b[0m\n\u001b[1;32m----> 1\u001b[0m \u001b[38;5;28msorted\u001b[39m(\u001b[38;5;124m'\u001b[39m\u001b[38;5;124mpython\u001b[39m\u001b[38;5;124m'\u001b[39m,\u001b[38;5;28;01mTrue\u001b[39;00m)\n",
      "\u001b[1;31mTypeError\u001b[0m: sorted expected 1 argument, got 2"
     ]
    }
   ],
   "source": [
    "sorted('python',True)"
   ]
  },
  {
   "cell_type": "code",
   "execution_count": 63,
   "id": "7ff7af32-7c1f-400f-a33b-8f05e5584426",
   "metadata": {},
   "outputs": [
    {
     "ename": "SyntaxError",
     "evalue": "positional argument follows keyword argument (511028825.py, line 1)",
     "output_type": "error",
     "traceback": [
      "\u001b[1;36m  Cell \u001b[1;32mIn[63], line 1\u001b[1;36m\u001b[0m\n\u001b[1;33m    sorted(iterable='python',True)\u001b[0m\n\u001b[1;37m                                 ^\u001b[0m\n\u001b[1;31mSyntaxError\u001b[0m\u001b[1;31m:\u001b[0m positional argument follows keyword argument\n"
     ]
    }
   ],
   "source": [
    "sorted(iterable='python',True)"
   ]
  },
  {
   "cell_type": "code",
   "execution_count": 65,
   "id": "9f947bfa-0818-4a7b-ade4-2d599d8a4683",
   "metadata": {},
   "outputs": [
    {
     "ename": "TypeError",
     "evalue": "sorted expected 1 argument, got 0",
     "output_type": "error",
     "traceback": [
      "\u001b[1;31m---------------------------------------------------------------------------\u001b[0m",
      "\u001b[1;31mTypeError\u001b[0m                                 Traceback (most recent call last)",
      "Cell \u001b[1;32mIn[65], line 1\u001b[0m\n\u001b[1;32m----> 1\u001b[0m \u001b[38;5;28msorted\u001b[39m(iterable\u001b[38;5;241m=\u001b[39m\u001b[38;5;124m'\u001b[39m\u001b[38;5;124mpython\u001b[39m\u001b[38;5;124m'\u001b[39m,reverse\u001b[38;5;241m=\u001b[39m\u001b[38;5;28;01mTrue\u001b[39;00m)\n",
      "\u001b[1;31mTypeError\u001b[0m: sorted expected 1 argument, got 0"
     ]
    }
   ],
   "source": [
    "sorted(iterable='python',reverse=True)"
   ]
  },
  {
   "cell_type": "code",
   "execution_count": 67,
   "id": "293bcc65-89f9-4ce4-a03f-9b4ecaf7660a",
   "metadata": {},
   "outputs": [
    {
     "data": {
      "text/plain": [
       "['y', 't', 'p', 'o', 'n', 'h']"
      ]
     },
     "execution_count": 67,
     "metadata": {},
     "output_type": "execute_result"
    }
   ],
   "source": [
    "sorted('python',reverse=True)"
   ]
  },
  {
   "cell_type": "code",
   "execution_count": null,
   "id": "3794db79-0432-478b-b14a-fd6dc8041654",
   "metadata": {},
   "outputs": [],
   "source": [
    "sorted('python',True)                  # error\n",
    "sorted(iterable='python',True)         # error\n",
    "sorted(iterable='python',reverse=True) # error\n",
    "sorted('python',reverse=True)          # works"
   ]
  },
  {
   "cell_type": "markdown",
   "id": "6189f2d0-db4a-4a56-9129-abb692cacb1a",
   "metadata": {},
   "source": [
    "- type\n",
    "-len\n",
    "- max\n",
    "- min\n",
    "- reversed\n",
    "- sorted"
   ]
  },
  {
   "cell_type": "markdown",
   "id": "f45e7bc1-f44a-4973-baed-4552b6a26151",
   "metadata": {},
   "source": [
    "# in"
   ]
  },
  {
   "cell_type": "code",
   "execution_count": 71,
   "id": "5df2ae47-7c4d-4536-aba4-ca4dbde022a1",
   "metadata": {},
   "outputs": [
    {
     "data": {
      "text/plain": [
       "True"
      ]
     },
     "execution_count": 71,
     "metadata": {},
     "output_type": "execute_result"
    }
   ],
   "source": [
    "'p' in str1"
   ]
  },
  {
   "cell_type": "code",
   "execution_count": 73,
   "id": "3eaac6f1-7680-43e2-be62-5a765273e40e",
   "metadata": {},
   "outputs": [
    {
     "name": "stdout",
     "output_type": "stream",
     "text": [
      "p y t h o n "
     ]
    }
   ],
   "source": [
    "for i in str1:\n",
    "    print(i,end=' ')"
   ]
  },
  {
   "cell_type": "markdown",
   "id": "88437040-6bf7-4d7a-9492-f378660e6464",
   "metadata": {},
   "source": [
    "# Q1) wap ask the user how many times 'a' repeated in a given string\n",
    "- string='hai hai hai'"
   ]
  },
  {
   "cell_type": "code",
   "execution_count": 75,
   "id": "1fbaa9fe-4f24-4a4b-9587-0f853f99340d",
   "metadata": {},
   "outputs": [
    {
     "name": "stdout",
     "output_type": "stream",
     "text": [
      "the numbers of 'a' are: 3\n"
     ]
    }
   ],
   "source": [
    "# idea \n",
    "# iterate each letters using in\n",
    "# apply the condition if that letters equal to 'a'\n",
    "# then count it \n",
    "\n",
    "count=0\n",
    "string='hai hai hai'\n",
    "for i in string:\n",
    "    if i=='a':\n",
    "        count=count+1\n",
    "\n",
    "print(\"the numbers of 'a' are:\",count)"
   ]
  },
  {
   "cell_type": "markdown",
   "id": "9ae091c6-fa01-4129-8209-2f35fed9188c",
   "metadata": {},
   "source": [
    "# Q2) wap to count the number of vowel in a given string\n",
    "\n",
    "- string= 'hai how are'\n",
    "- vowel = a,i,o,a,e:5\n",
    "\n",
    "- non repetaed vowel = a,i,o,e:4\n"
   ]
  },
  {
   "cell_type": "code",
   "execution_count": 8,
   "id": "f13cda12-e8a1-489e-a561-5cc78ab45740",
   "metadata": {},
   "outputs": [
    {
     "name": "stdout",
     "output_type": "stream",
     "text": [
      "hai hello how"
     ]
    }
   ],
   "source": [
    " string1='hai hello how'\n",
    "for i in string1:\n",
    "    \n",
    "    print(i,end='')\n",
    "    \n"
   ]
  },
  {
   "cell_type": "code",
   "execution_count": 5,
   "id": "a5110bd4-586c-4b04-bf7c-b488324f14e1",
   "metadata": {},
   "outputs": [
    {
     "name": "stdout",
     "output_type": "stream",
     "text": [
      "a\n",
      "i\n",
      "e\n",
      "o\n",
      "o\n"
     ]
    }
   ],
   "source": [
    " string1='hai hello how'\n",
    "vowels='aeiou'\n",
    "for i in string1:\n",
    "    if i in vowels:\n",
    "        print(i)\n",
    "\n",
    "# step-1: i='h' === > 'h' in 'aeiou'  F\n",
    "# step-2:\n",
    "# step-3:\n"
   ]
  },
  {
   "cell_type": "code",
   "execution_count": 12,
   "id": "f5039346-6525-486a-9d40-b2cd55744a93",
   "metadata": {},
   "outputs": [
    {
     "name": "stdout",
     "output_type": "stream",
     "text": [
      "a\n",
      "i\n",
      "o\n",
      "e\n"
     ]
    },
    {
     "data": {
      "text/plain": [
       "4"
      ]
     },
     "execution_count": 12,
     "metadata": {},
     "output_type": "execute_result"
    }
   ],
   "source": [
    "# We are creating a empty room\n",
    "# We are calling each person\n",
    "# WE are checking yhat person is available in the room or not \n",
    "# if he is not anailable \n",
    "#         We are checking the age\n",
    "#         he is our person\n",
    "\n",
    "s1='hai how are'\n",
    "s2='aeiou'\n",
    "s3=''\n",
    "\n",
    "for i in s1:\n",
    "    if i not in s3 and i in s2:\n",
    "        print(i)\n",
    "        s3=s3+i\n",
    "len(s3)\n",
    "      \n",
    "# step-1: \n",
    "# step-2: \n",
    "#         "
   ]
  },
  {
   "cell_type": "markdown",
   "id": "f1a9f719-5a7d-4590-9999-3622fc75acb0",
   "metadata": {},
   "source": [
    "# index"
   ]
  },
  {
   "cell_type": "code",
   "execution_count": null,
   "id": "a170a4d5-116f-41d5-942c-784d76d71eb8",
   "metadata": {},
   "outputs": [],
   "source": [
    "-6 -5 -4 -3 -2 -1    # Negative index\n",
    "p  y  t  h  o  n \n",
    "0  1  2  3  4  5     # Possitive index"
   ]
  },
  {
   "cell_type": "code",
   "execution_count": 17,
   "id": "89ade476-811b-4048-b772-49443eec4ac9",
   "metadata": {},
   "outputs": [
    {
     "data": {
      "text/plain": [
       "'n'"
      ]
     },
     "execution_count": 17,
     "metadata": {},
     "output_type": "execute_result"
    }
   ],
   "source": [
    "str1='python'\n",
    "str1[0]          # [] represent Access\n",
    "str1[1]\n",
    "str1[2]\n",
    "str1[3]\n",
    "str1[4]\n",
    "str1[5]\n",
    "\n"
   ]
  },
  {
   "cell_type": "code",
   "execution_count": null,
   "id": "760baa5c-3880-4714-b991-0d826ac628ae",
   "metadata": {},
   "outputs": [],
   "source": [
    "len()\n",
    "type()\n",
    "eval()\n",
    "input()\n",
    "int()\n",
    "float()\n"
   ]
  },
  {
   "cell_type": "code",
   "execution_count": 19,
   "id": "016d78ef-1b2d-4497-b3ab-5759875c2c6b",
   "metadata": {},
   "outputs": [
    {
     "name": "stdout",
     "output_type": "stream",
     "text": [
      "0 p\n",
      "1 y\n",
      "2 t\n",
      "3 h\n",
      "4 o\n"
     ]
    }
   ],
   "source": [
    "str1='python'\n",
    "for i in range(5):\n",
    "    print(i,str1[i])"
   ]
  },
  {
   "cell_type": "code",
   "execution_count": 27,
   "id": "fe643324-faef-4897-bdaa-be71c72ae7a4",
   "metadata": {},
   "outputs": [
    {
     "name": "stdout",
     "output_type": "stream",
     "text": [
      "the positive index of  p is 0\n",
      "the positive index of  y is 1\n",
      "the positive index of  t is 2\n",
      "the positive index of  h is 3\n",
      "the positive index of  o is 4\n",
      "the positive index of  n is 5\n"
     ]
    }
   ],
   "source": [
    "str1='python'\n",
    "n=len(str1)\n",
    "for i in range(n):\n",
    "    print(f\"the positive index of  {str1[i]} is {i}\")"
   ]
  },
  {
   "cell_type": "code",
   "execution_count": 29,
   "id": "f6e9fb31-7dc6-4015-bbf3-e11446ddf8f3",
   "metadata": {},
   "outputs": [
    {
     "name": "stdout",
     "output_type": "stream",
     "text": [
      "the positive index of  p is 0\n",
      "the positive index of  y is 1\n",
      "the positive index of  t is 2\n",
      "the positive index of  h is 3\n",
      "the positive index of  o is 4\n",
      "the positive index of  n is 5\n"
     ]
    }
   ],
   "source": [
    "str1='python'\n",
    "str1[0]        \n",
    "str1[2]\n",
    "str1[3]\n",
    "str1[4]\n",
    "str1[5]\n",
    "\n",
    "str1='python'\n",
    "n=len(str1)\n",
    "for i in range(n):\n",
    "    print(f\"the positive index of  {str1[i]} is {i}\")\n"
   ]
  },
  {
   "cell_type": "code",
   "execution_count": 3,
   "id": "0a8686ea-9034-41a3-bb99-67f9bbc53bdd",
   "metadata": {},
   "outputs": [
    {
     "name": "stdout",
     "output_type": "stream",
     "text": [
      "the Negative index of  p is -6\n",
      "the Negative index of  y is -5\n",
      "the Negative index of  t is -4\n",
      "the Negative index of  h is -3\n",
      "the Negative index of  o is -2\n",
      "the Negative index of  n is -1\n"
     ]
    }
   ],
   "source": [
    "str2='python'\n",
    "n=len(str2)\n",
    "for i in range(-6,0):\n",
    "        print(f\"the Negative index of  {str2[i]} is {i}\")\n"
   ]
  },
  {
   "cell_type": "code",
   "execution_count": 33,
   "id": "cd2fc8c8-d22b-438a-a978-35cb8b7bb9f4",
   "metadata": {},
   "outputs": [
    {
     "name": "stdout",
     "output_type": "stream",
     "text": [
      "the positive index of  p is -6\n",
      "the positive index of  y is -5\n",
      "the positive index of  t is -4\n",
      "the positive index of  h is -3\n",
      "the positive index of  o is -2\n",
      "the positive index of  n is -1\n"
     ]
    }
   ],
   "source": [
    "# Negative index means negative numbers\n",
    "#  -6  -5  -4  -3  -2  -1\n",
    "#  p   y   t   h   o   n \n",
    "#  0   1   2   3   4   5\n",
    "\n",
    "\n",
    "str1='python'\n",
    "n=len(str1)\n",
    "for i in range(-n,0):\n",
    "       print(f\"the positive index of  {str1[i]} is {i}\")\n",
    "  "
   ]
  },
  {
   "cell_type": "code",
   "execution_count": null,
   "id": "09b2cb2f-a7f0-492f-a998-18a45f00e09f",
   "metadata": {},
   "outputs": [],
   "source": [
    "# the possitive index of p is 0 and negative index is -6\n",
    "# the possitive index of y is 1 and negative index is -5\n",
    "\n",
    "# get the above answer using single for loop only"
   ]
  },
  {
   "cell_type": "code",
   "execution_count": 35,
   "id": "70a6933d-89d5-4501-914a-bd6a956a373b",
   "metadata": {},
   "outputs": [
    {
     "name": "stdout",
     "output_type": "stream",
     "text": [
      "0 -6\n",
      "1 -5\n",
      "2 -4\n",
      "3 -3\n",
      "4 -2\n",
      "5 -1\n"
     ]
    }
   ],
   "source": [
    "for i in range(6):\n",
    "    print(i,i-6)"
   ]
  },
  {
   "cell_type": "code",
   "execution_count": 37,
   "id": "fcd2bb0a-824b-477e-80dd-8ad4183b8ee3",
   "metadata": {},
   "outputs": [
    {
     "name": "stdout",
     "output_type": "stream",
     "text": [
      "the positive index of p is 0 and negative index is -6\n",
      "the positive index of y is 1 and negative index is -5\n",
      "the positive index of t is 2 and negative index is -4\n",
      "the positive index of h is 3 and negative index is -3\n",
      "the positive index of o is 4 and negative index is -2\n",
      "the positive index of n is 5 and negative index is -1\n"
     ]
    }
   ],
   "source": [
    "str1='python'\n",
    "n=len(str1)\n",
    "for i in range(n):\n",
    "    print(f\"the positive index of {str1[i]} is {i} and negative index is {i-n}\")"
   ]
  },
  {
   "cell_type": "markdown",
   "id": "74a42120-5447-4201-897f-1f2007ef463e",
   "metadata": {},
   "source": [
    "**Mutable-immutable**\n",
    "\n",
    "- mutable means change\n",
    "\n",
    "- immutable means not able to change\n",
    "\n",
    "- Example:  'Welocom'\n",
    "- output:    'Welcom'\n",
    "\n",
    "- is this posssible using **index operations**? No\n",
    "\n",
    "- String are **immutable**\n",
    "\n",
    "- We can not change the letters ussing index"
   ]
  },
  {
   "cell_type": "code",
   "execution_count": 40,
   "id": "81426254-6171-4ae5-9bb3-8f3e49cefc19",
   "metadata": {},
   "outputs": [
    {
     "ename": "TypeError",
     "evalue": "'str' object does not support item assignment",
     "output_type": "error",
     "traceback": [
      "\u001b[1;31m---------------------------------------------------------------------------\u001b[0m",
      "\u001b[1;31mTypeError\u001b[0m                                 Traceback (most recent call last)",
      "Cell \u001b[1;32mIn[40], line 2\u001b[0m\n\u001b[0;32m      1\u001b[0m str1\u001b[38;5;241m=\u001b[39m\u001b[38;5;124m'\u001b[39m\u001b[38;5;124mwelcom\u001b[39m\u001b[38;5;124m'\u001b[39m\n\u001b[1;32m----> 2\u001b[0m str1[\u001b[38;5;241m2\u001b[39m]\u001b[38;5;241m=\u001b[39m\u001b[38;5;124m'\u001b[39m\u001b[38;5;124mL\u001b[39m\u001b[38;5;124m'\u001b[39m\n",
      "\u001b[1;31mTypeError\u001b[0m: 'str' object does not support item assignment"
     ]
    }
   ],
   "source": [
    "str1='welcom'\n",
    "str1[2]='L'"
   ]
  },
  {
   "cell_type": "code",
   "execution_count": 42,
   "id": "bbf75950-3c42-42ec-8670-bfc17103823a",
   "metadata": {},
   "outputs": [
    {
     "data": {
      "text/plain": [
       "['w', 'e', 'L', 'c', 'o', 'm', 'e']"
      ]
     },
     "execution_count": 42,
     "metadata": {},
     "output_type": "execute_result"
    }
   ],
   "source": [
    "l=['w','e','l','c','o','m','e']\n",
    "l[2]='L'\n",
    "l"
   ]
  },
  {
   "cell_type": "markdown",
   "id": "f08a9abe-4ff5-4edf-a3c8-8d484b650abf",
   "metadata": {},
   "source": [
    "**When to use range and when to use in**\n",
    "\n",
    "- in operators acess the element directly\n",
    "\n",
    "- range operator access the element by using index\n",
    "\n",
    "- Fro example : str='welcome'\n",
    "\n",
    "- if you want to access each letter from str\n",
    "\n",
    "- we can use in and range\n",
    "\n",
    "- in : for i in str: i becomes w,e,l,o,m,e\n",
    "\n",
    "- range fir i in range(len(str)): i cecomes 0,1,2,3,4,5,\n",
    "  - str[i]"
   ]
  },
  {
   "cell_type": "markdown",
   "id": "d94f6d02-92d1-4fbd-9f79-8a4bd9f14afc",
   "metadata": {},
   "source": [
    "**Use the range operator when you required a index use**"
   ]
  },
  {
   "cell_type": "code",
   "execution_count": 46,
   "id": "06761f32-00e9-4f9d-a008-df9d91f61159",
   "metadata": {},
   "outputs": [
    {
     "name": "stdout",
     "output_type": "stream",
     "text": [
      "w\n",
      "e\n",
      "l\n",
      "c\n",
      "o\n",
      "m\n",
      "e\n",
      "w\n",
      "e\n",
      "l\n",
      "c\n",
      "o\n",
      "m\n",
      "e\n"
     ]
    }
   ],
   "source": [
    "str1='welcome'\n",
    "for i in str1:\n",
    "    print(i)\n",
    "\n",
    "for i in range(len(str1)):\n",
    "    print(str1[i])"
   ]
  },
  {
   "cell_type": "code",
   "execution_count": null,
   "id": "2d2f588d-f1b6-4239-b150-da2e4e3101da",
   "metadata": {},
   "outputs": [],
   "source": [
    "index ======= means   == number \n",
    "in or range == range\n",
    "how to "
   ]
  },
  {
   "cell_type": "code",
   "execution_count": null,
   "id": "b25faf24-1e2a-4da6-905b-2a9c99158b0c",
   "metadata": {},
   "outputs": [],
   "source": [
    "# Q1) count the number of 'a' in given ssring: in\n",
    "# Q2) count the number of 'a' in a given string : range\n",
    "# Q3) print the indexed of 'a' in a given string\n",
    "# Q4) sum the indexed of 'a' in a given string\n",
    "# string: 'hello how are you'\n",
    "# Q5) count the all the vowels in a given string : in\n",
    "# Q6) "
   ]
  },
  {
   "cell_type": "code",
   "execution_count": null,
   "id": "8f264e32-6689-4110-bbbc-32282048ee69",
   "metadata": {},
   "outputs": [],
   "source": []
  },
  {
   "cell_type": "markdown",
   "id": "ecbfb984-3aae-497d-8b89-32ea41eebf6a",
   "metadata": {},
   "source": [
    "# Slice\n",
    "\n",
    "- Slice means part of string\n",
    "\n",
    "- It is exactly sam like range operation start,stop,step\n",
    "\n",
    "- str[start:stop:step]"
   ]
  },
  {
   "cell_type": "code",
   "execution_count": null,
   "id": "6ce2836a-c37c-4345-a6f5-8a88db45c92c",
   "metadata": {},
   "outputs": [],
   "source": [
    "s='hai how are you'\n",
    "# -15  -14  -13   -12  -11\n",
    "# h     a    i     h    o   w    a  r  e  y  o  u\n",
    "# 0     1    2  3  4    5   6  7 8 "
   ]
  },
  {
   "cell_type": "markdown",
   "id": "42a0de12-0575-420e-af58-64379c6a393f",
   "metadata": {},
   "source": [
    "$pattern-1$\n",
    "\n",
    "**string[start:]**\n",
    "\n",
    "- start means start value only\n",
    "\n",
    "- incremennt by one only\n",
    "\n",
    "- Nothing mentioned at the stop position means till last"
   ]
  },
  {
   "cell_type": "code",
   "execution_count": 5,
   "id": "d17b0a92-2269-4e5b-9a6f-ce81622ec866",
   "metadata": {},
   "outputs": [
    {
     "data": {
      "text/plain": [
       "'i how are you'"
      ]
     },
     "execution_count": 5,
     "metadata": {},
     "output_type": "execute_result"
    }
   ],
   "source": [
    "s='hai how are you'\n",
    "s[2:]\n"
   ]
  },
  {
   "cell_type": "markdown",
   "id": "e341ff67-36e1-4f17-8361-952e7c213861",
   "metadata": {},
   "source": [
    "$pattern-2$\n",
    "\n",
    "**string[start:stop]**\n",
    "\n",
    "- start means start value only \n",
    "\n",
    "- increment by one only\n",
    "\n",
    "- last=stop-1\n",
    "\n",
    "- string[2:10]\n",
    "\n",
    "   - start=2\n",
    "\n",
    "    - last=10-1=9"
   ]
  },
  {
   "cell_type": "code",
   "execution_count": 6,
   "id": "fa46390b-d59d-44e8-ac1a-46d6e2b82ed8",
   "metadata": {},
   "outputs": [
    {
     "data": {
      "text/plain": [
       "'i how ar'"
      ]
     },
     "execution_count": 6,
     "metadata": {},
     "output_type": "execute_result"
    }
   ],
   "source": [
    "s='hai how are you'\n",
    "s[2:10]\n"
   ]
  },
  {
   "cell_type": "code",
   "execution_count": 8,
   "id": "7df8c0bd-118e-498d-a29e-18219de19c98",
   "metadata": {},
   "outputs": [
    {
     "data": {
      "text/plain": [
       "'ai how are'"
      ]
     },
     "execution_count": 8,
     "metadata": {},
     "output_type": "execute_result"
    }
   ],
   "source": [
    "s[-14:-4]\n",
    "\n",
    "# start= -14\n",
    "# last = -4-1 = -5"
   ]
  },
  {
   "cell_type": "code",
   "execution_count": 10,
   "id": "2ab69bed-f1e3-4822-87c9-fe2763bf1ea2",
   "metadata": {},
   "outputs": [
    {
     "data": {
      "text/plain": [
       "'i how are y'"
      ]
     },
     "execution_count": 10,
     "metadata": {},
     "output_type": "execute_result"
    }
   ],
   "source": [
    "s[2:-2]\n",
    "\n",
    "# start = -2\n",
    "# last = -2-2 = -3"
   ]
  },
  {
   "cell_type": "code",
   "execution_count": 12,
   "id": "bcbac088-9195-4b63-b66c-8ad61a51e98f",
   "metadata": {},
   "outputs": [
    {
     "data": {
      "text/plain": [
       "''"
      ]
     },
     "execution_count": 12,
     "metadata": {},
     "output_type": "execute_result"
    }
   ],
   "source": [
    "s[10:2]"
   ]
  },
  {
   "cell_type": "code",
   "execution_count": 14,
   "id": "5fca4a72-fab3-4f63-8421-6b08d6d56a4f",
   "metadata": {},
   "outputs": [],
   "source": [
    "for i in range(10,2):\n",
    "    print(i)\n"
   ]
  },
  {
   "cell_type": "code",
   "execution_count": 16,
   "id": "6498f22d-13ca-4fb2-9aa1-4328621050ef",
   "metadata": {},
   "outputs": [],
   "source": [
    "s[2:-2]  # ans \n",
    "\n",
    "for i in range(2,-2):     # no ans\n",
    "    print(i)"
   ]
  },
  {
   "cell_type": "markdown",
   "id": "d9a36f14-96ae-46bf-bae5-358634cbdff0",
   "metadata": {},
   "source": [
    "**$pattern-3$\n",
    "\n",
    "**string[start:sstop:steep]**\n",
    "\n",
    "- start means start value only\n",
    "\n",
    "- step means how much gap\n",
    "\n",
    "    - positive value indicate positive direction\n",
    "\n",
    "         - last=stop-1\n",
    "\n",
    "     - negative value indicates negative direction\n",
    "\n",
    "          - last=stop+1"
   ]
  },
  {
   "cell_type": "code",
   "execution_count": 20,
   "id": "7586c577-575a-4139-b20f-fe807ee51b2e",
   "metadata": {},
   "outputs": [
    {
     "data": {
      "text/plain": [
       "'ihwae'"
      ]
     },
     "execution_count": 20,
     "metadata": {},
     "output_type": "execute_result"
    }
   ],
   "source": [
    "s='hai how are you'\n",
    "s[2:12:2]\n",
    "\n",
    "# "
   ]
  },
  {
   "cell_type": "code",
   "execution_count": 22,
   "id": "043d1f59-453b-433e-b7f6-306a0a8a9ccb",
   "metadata": {},
   "outputs": [
    {
     "data": {
      "text/plain": [
       "'ihwaey'"
      ]
     },
     "execution_count": 22,
     "metadata": {},
     "output_type": "execute_result"
    }
   ],
   "source": [
    "s[2:-2:2]\n",
    "\n",
    "# start= 2\n",
    "# step= 2 positive\n",
    "# last= 12-1= 11"
   ]
  },
  {
   "cell_type": "code",
   "execution_count": 24,
   "id": "282b1aeb-e8b3-4733-9576-eb553d3abf6e",
   "metadata": {},
   "outputs": [
    {
     "data": {
      "text/plain": [
       "''"
      ]
     },
     "execution_count": 24,
     "metadata": {},
     "output_type": "execute_result"
    }
   ],
   "source": [
    "s[2:-2:- 2]    # no ans no error\n"
   ]
  },
  {
   "cell_type": "code",
   "execution_count": 32,
   "id": "d03f2f72-e215-4a72-a5f2-f691da8d6899",
   "metadata": {},
   "outputs": [
    {
     "name": "stdout",
     "output_type": "stream",
     "text": [
      "1:  wry\n",
      "2: \n",
      "3: \n",
      "4: h\n",
      "5: y\n",
      "6: \n",
      "7: \n",
      "8: oe h\n",
      "9: \n",
      "10: o\n",
      "11: i\n"
     ]
    }
   ],
   "source": [
    "print('1:',s[3:13:3])\n",
    "print('2:',s[3:13:-3])\n",
    "print('3:',s[4:-13:3])\n",
    "print('4:',s[4:-13:-3])\n",
    "print('5:',s[-3:13:3])\n",
    "print('6:',s[-3:13:-3])\n",
    "print('7:',s[13:3:3])\n",
    "print('8:',s[13:3:-3])\n",
    "print('9:',s[13:-3:3])\n",
    "print('10:',s[13:-3:-3])\n",
    "print('11:',s[-13:3:3])"
   ]
  },
  {
   "cell_type": "markdown",
   "id": "ac1c8801-2791-4cf4-bbfa-6b26a9c89b5a",
   "metadata": {},
   "source": [
    "**Comcatenation**\n",
    "\n",
    "- Take two string\n",
    "\n",
    "- Apply + - / *\n",
    "\n",
    "- Tell me which works and which not work"
   ]
  },
  {
   "cell_type": "code",
   "execution_count": 35,
   "id": "01525570-5a26-4826-ad71-0ef1d8258722",
   "metadata": {},
   "outputs": [
    {
     "data": {
      "text/plain": [
       "'hellohai'"
      ]
     },
     "execution_count": 35,
     "metadata": {},
     "output_type": "execute_result"
    }
   ],
   "source": [
    "str1='hello'\n",
    "str2='hai'\n",
    "str1+str2"
   ]
  },
  {
   "cell_type": "code",
   "execution_count": 37,
   "id": "5c0cf58a-9511-4e29-b9cd-98b4645948f9",
   "metadata": {},
   "outputs": [
    {
     "ename": "TypeError",
     "evalue": "can't multiply sequence by non-int of type 'str'",
     "output_type": "error",
     "traceback": [
      "\u001b[1;31m---------------------------------------------------------------------------\u001b[0m",
      "\u001b[1;31mTypeError\u001b[0m                                 Traceback (most recent call last)",
      "Cell \u001b[1;32mIn[37], line 1\u001b[0m\n\u001b[1;32m----> 1\u001b[0m str1\u001b[38;5;241m*\u001b[39mstr2\n",
      "\u001b[1;31mTypeError\u001b[0m: can't multiply sequence by non-int of type 'str'"
     ]
    }
   ],
   "source": [
    "str1*str2"
   ]
  },
  {
   "cell_type": "code",
   "execution_count": 39,
   "id": "077e4068-a16e-4ab5-9b01-7fd18fe0f155",
   "metadata": {},
   "outputs": [
    {
     "ename": "TypeError",
     "evalue": "unsupported operand type(s) for -: 'str' and 'str'",
     "output_type": "error",
     "traceback": [
      "\u001b[1;31m---------------------------------------------------------------------------\u001b[0m",
      "\u001b[1;31mTypeError\u001b[0m                                 Traceback (most recent call last)",
      "Cell \u001b[1;32mIn[39], line 1\u001b[0m\n\u001b[1;32m----> 1\u001b[0m str1\u001b[38;5;241m-\u001b[39mstr2\n",
      "\u001b[1;31mTypeError\u001b[0m: unsupported operand type(s) for -: 'str' and 'str'"
     ]
    }
   ],
   "source": [
    "str1-str2"
   ]
  },
  {
   "cell_type": "code",
   "execution_count": 41,
   "id": "5c7a9c18-65f7-4cd0-bcfc-7543d2433eb5",
   "metadata": {},
   "outputs": [
    {
     "ename": "TypeError",
     "evalue": "unsupported operand type(s) for /: 'str' and 'str'",
     "output_type": "error",
     "traceback": [
      "\u001b[1;31m---------------------------------------------------------------------------\u001b[0m",
      "\u001b[1;31mTypeError\u001b[0m                                 Traceback (most recent call last)",
      "Cell \u001b[1;32mIn[41], line 1\u001b[0m\n\u001b[1;32m----> 1\u001b[0m str1\u001b[38;5;241m/\u001b[39mstr2\n",
      "\u001b[1;31mTypeError\u001b[0m: unsupported operand type(s) for /: 'str' and 'str'"
     ]
    }
   ],
   "source": [
    "str1/str2"
   ]
  },
  {
   "cell_type": "code",
   "execution_count": null,
   "id": "cda7f2a1-d147-4fa8-9e26-885d23843953",
   "metadata": {},
   "outputs": [],
   "source": [
    "* :TypeError: can't multiply sequence by non-int of type 'str'\n",
    "- : TypeError: unsupported operand type(s) for -: 'str' and 'str\n",
    "/ : TypeError: unsupported operand type(s) for /: 'str' and 'str'"
   ]
  },
  {
   "cell_type": "code",
   "execution_count": null,
   "id": "8a2009c0-d690-4d60-b317-96bff2468b35",
   "metadata": {},
   "outputs": [],
   "source": [
    "- subtrac"
   ]
  },
  {
   "cell_type": "code",
   "execution_count": 43,
   "id": "cf4242f4-6e4c-4ae6-bae8-1cb5852d612f",
   "metadata": {},
   "outputs": [
    {
     "data": {
      "text/plain": [
       "'haihaihai'"
      ]
     },
     "execution_count": 43,
     "metadata": {},
     "output_type": "execute_result"
    }
   ],
   "source": [
    "str1='hai'\n",
    "str1*3"
   ]
  },
  {
   "cell_type": "code",
   "execution_count": null,
   "id": "541e3266-5fd5-4376-9a28-971f3034a82b",
   "metadata": {},
   "outputs": [],
   "source": [
    "str1+str1+str1 === str1*3"
   ]
  },
  {
   "cell_type": "markdown",
   "id": "3ce5ef4b-63bb-4c85-b47c-85f4cc37fce1",
   "metadata": {},
   "source": [
    "**we have coverd**\n",
    "\n",
    "- initialixation\n",
    "\n",
    "- len \n",
    "\n",
    "- type \n",
    "\n",
    "- men \n",
    "\n",
    "- max\n",
    "\n",
    "- reversed\n",
    "\n",
    "- sorted\n",
    "\n",
    "- in \n",
    "\n",
    "- index\n",
    "\n",
    "- mutable \n",
    "\n",
    "- immutable\n",
    "\n",
    "- slice\n",
    "\n",
    "- concatenation"
   ]
  },
  {
   "cell_type": "markdown",
   "id": "b93ebdcc-62e8-49b1-a1f7-aba3b9241535",
   "metadata": {},
   "source": [
    "**string method**"
   ]
  },
  {
   "cell_type": "code",
   "execution_count": 47,
   "id": "40e98e16-d34d-4036-9f14-5b234ebad400",
   "metadata": {},
   "outputs": [
    {
     "data": {
      "text/plain": [
       "['__add__',\n",
       " '__class__',\n",
       " '__contains__',\n",
       " '__delattr__',\n",
       " '__dir__',\n",
       " '__doc__',\n",
       " '__eq__',\n",
       " '__format__',\n",
       " '__ge__',\n",
       " '__getattribute__',\n",
       " '__getitem__',\n",
       " '__getnewargs__',\n",
       " '__getstate__',\n",
       " '__gt__',\n",
       " '__hash__',\n",
       " '__init__',\n",
       " '__init_subclass__',\n",
       " '__iter__',\n",
       " '__le__',\n",
       " '__len__',\n",
       " '__lt__',\n",
       " '__mod__',\n",
       " '__mul__',\n",
       " '__ne__',\n",
       " '__new__',\n",
       " '__reduce__',\n",
       " '__reduce_ex__',\n",
       " '__repr__',\n",
       " '__rmod__',\n",
       " '__rmul__',\n",
       " '__setattr__',\n",
       " '__sizeof__',\n",
       " '__str__',\n",
       " '__subclasshook__',\n",
       " 'capitalize',\n",
       " 'casefold',\n",
       " 'center',\n",
       " 'count',\n",
       " 'encode',\n",
       " 'endswith',\n",
       " 'expandtabs',\n",
       " 'find',\n",
       " 'format',\n",
       " 'format_map',\n",
       " 'index',\n",
       " 'isalnum',\n",
       " 'isalpha',\n",
       " 'isascii',\n",
       " 'isdecimal',\n",
       " 'isdigit',\n",
       " 'isidentifier',\n",
       " 'islower',\n",
       " 'isnumeric',\n",
       " 'isprintable',\n",
       " 'isspace',\n",
       " 'istitle',\n",
       " 'isupper',\n",
       " 'join',\n",
       " 'ljust',\n",
       " 'lower',\n",
       " 'lstrip',\n",
       " 'maketrans',\n",
       " 'partition',\n",
       " 'removeprefix',\n",
       " 'removesuffix',\n",
       " 'replace',\n",
       " 'rfind',\n",
       " 'rindex',\n",
       " 'rjust',\n",
       " 'rpartition',\n",
       " 'rsplit',\n",
       " 'rstrip',\n",
       " 'split',\n",
       " 'splitlines',\n",
       " 'startswith',\n",
       " 'strip',\n",
       " 'swapcase',\n",
       " 'title',\n",
       " 'translate',\n",
       " 'upper',\n",
       " 'zfill']"
      ]
     },
     "execution_count": 47,
     "metadata": {},
     "output_type": "execute_result"
    }
   ],
   "source": [
    "# import the package\n",
    "# dir(package)\n",
    "str1='abc'\n",
    "dir('')  # or dir(str1)"
   ]
  },
  {
   "cell_type": "code",
   "execution_count": null,
   "id": "d015a1fb-dfe8-4124-835c-340b9b69955e",
   "metadata": {},
   "outputs": [],
   "source": [
    "# imort package\n",
    "# package_name.method_name()\n",
    "\n",
    "# len()\n",
    "# type()"
   ]
  },
  {
   "cell_type": "markdown",
   "id": "26290c02-de99-4d55-9b6b-8987eb11f945",
   "metadata": {},
   "source": [
    "# upper"
   ]
  },
  {
   "cell_type": "markdown",
   "id": "d8cebe11-427b-4744-9165-ed2fb7f3dfb2",
   "metadata": {},
   "source": [
    "- upper is a string method\n",
    "\n",
    "- Will cinvert string into upper case\n"
   ]
  },
  {
   "cell_type": "code",
   "execution_count": null,
   "id": "41cc55f8-305d-4b58-8b06-68311978cb1a",
   "metadata": {},
   "outputs": [],
   "source": []
  },
  {
   "cell_type": "code",
   "execution_count": 52,
   "id": "426f8cac-7703-4890-9bf7-11805446b50a",
   "metadata": {},
   "outputs": [
    {
     "data": {
      "text/plain": [
       "'HELLO'"
      ]
     },
     "execution_count": 52,
     "metadata": {},
     "output_type": "execute_result"
    }
   ],
   "source": [
    "str1='hello'\n",
    "str1.upper()\n",
    "# upper(str1)    # It is not a inbuilt \n"
   ]
  },
  {
   "cell_type": "code",
   "execution_count": 54,
   "id": "ef3504e3-e524-4eae-bcf3-0064af014419",
   "metadata": {},
   "outputs": [
    {
     "data": {
      "text/plain": [
       "'WELCOM'"
      ]
     },
     "execution_count": 54,
     "metadata": {},
     "output_type": "execute_result"
    }
   ],
   "source": [
    "str1='welcom'\n",
    "str1.upper()"
   ]
  },
  {
   "cell_type": "code",
   "execution_count": null,
   "id": "7abf3540-2450-4728-aa99-ced4e0ebbc91",
   "metadata": {},
   "outputs": [],
   "source": [
    "- lower\n",
    "\n",
    "- casefold\n",
    "\n",
    "- capitalize\n",
    "\n",
    "- center"
   ]
  },
  {
   "cell_type": "code",
   "execution_count": 56,
   "id": "00ac2d89-f24a-412f-82a5-8d44b552cf97",
   "metadata": {},
   "outputs": [
    {
     "data": {
      "text/plain": [
       "'hello brother'"
      ]
     },
     "execution_count": 56,
     "metadata": {},
     "output_type": "execute_result"
    }
   ],
   "source": [
    "str1='hello brother'\n",
    "str1.lower()"
   ]
  },
  {
   "cell_type": "code",
   "execution_count": 58,
   "id": "96976a4b-3130-411b-aad6-dc6479244b36",
   "metadata": {},
   "outputs": [
    {
     "data": {
      "text/plain": [
       "'hello brother'"
      ]
     },
     "execution_count": 58,
     "metadata": {},
     "output_type": "execute_result"
    }
   ],
   "source": [
    "str1='hello brother'\n",
    "str1.casefold()"
   ]
  },
  {
   "cell_type": "code",
   "execution_count": 60,
   "id": "b6b828b6-a197-450c-9c10-778516787449",
   "metadata": {},
   "outputs": [
    {
     "data": {
      "text/plain": [
       "'Hello brother'"
      ]
     },
     "execution_count": 60,
     "metadata": {},
     "output_type": "execute_result"
    }
   ],
   "source": [
    "str1='hello brother'\n",
    "str1.capitalize()"
   ]
  },
  {
   "cell_type": "code",
   "execution_count": 64,
   "id": "5ff4142a-15a4-4cc5-bd1a-108d424bbb68",
   "metadata": {},
   "outputs": [
    {
     "ename": "TypeError",
     "evalue": "center expected at least 1 argument, got 0",
     "output_type": "error",
     "traceback": [
      "\u001b[1;31m---------------------------------------------------------------------------\u001b[0m",
      "\u001b[1;31mTypeError\u001b[0m                                 Traceback (most recent call last)",
      "Cell \u001b[1;32mIn[64], line 2\u001b[0m\n\u001b[0;32m      1\u001b[0m str1\u001b[38;5;241m=\u001b[39m\u001b[38;5;124m'\u001b[39m\u001b[38;5;124mwelcome\u001b[39m\u001b[38;5;124m'\u001b[39m\n\u001b[1;32m----> 2\u001b[0m str1\u001b[38;5;241m.\u001b[39mcenter()\n",
      "\u001b[1;31mTypeError\u001b[0m: center expected at least 1 argument, got 0"
     ]
    }
   ],
   "source": [
    "str1='welcome'\n",
    "str1.center()"
   ]
  },
  {
   "cell_type": "code",
   "execution_count": 66,
   "id": "e20e4471-2b27-4a67-8873-f5cd02526629",
   "metadata": {},
   "outputs": [
    {
     "data": {
      "text/plain": [
       "'Hello'"
      ]
     },
     "execution_count": 66,
     "metadata": {},
     "output_type": "execute_result"
    }
   ],
   "source": [
    "s1='hello'\n",
    "s1.capitalize()"
   ]
  },
  {
   "cell_type": "code",
   "execution_count": 68,
   "id": "fb866b01-f6c1-4882-920d-e382b890ef1d",
   "metadata": {},
   "outputs": [
    {
     "data": {
      "text/plain": [
       "'hello'"
      ]
     },
     "execution_count": 68,
     "metadata": {},
     "output_type": "execute_result"
    }
   ],
   "source": [
    "s1='hello'\n",
    "s1.lower()"
   ]
  },
  {
   "cell_type": "code",
   "execution_count": 70,
   "id": "0df2ed1c-7736-453b-a847-efd1036f613f",
   "metadata": {},
   "outputs": [
    {
     "data": {
      "text/plain": [
       "'hello'"
      ]
     },
     "execution_count": 70,
     "metadata": {},
     "output_type": "execute_result"
    }
   ],
   "source": [
    "s1='hello'\n",
    "s1.casefold()"
   ]
  },
  {
   "cell_type": "markdown",
   "id": "b42b5de8-61c5-4c6e-8a42-b8042bbdb54c",
   "metadata": {},
   "source": [
    "- lower and casefold will give caseless means lower case"
   ]
  },
  {
   "cell_type": "code",
   "execution_count": 73,
   "id": "86c59f01-a575-4610-82f1-f433c69d193b",
   "metadata": {},
   "outputs": [
    {
     "data": {
      "text/plain": [
       "'  hello   '"
      ]
     },
     "execution_count": 73,
     "metadata": {},
     "output_type": "execute_result"
    }
   ],
   "source": [
    ":s1='hello'\n",
    "s1.center(10)"
   ]
  },
  {
   "cell_type": "code",
   "execution_count": null,
   "id": "40aa859b-7539-48d9-8d92-486172c0bd5d",
   "metadata": {},
   "outputs": [],
   "source": [
    "'hello' ===== '   hello      '"
   ]
  },
  {
   "cell_type": "code",
   "execution_count": 77,
   "id": "31ecd0da-7978-4f26-8c10-424ce3538cff",
   "metadata": {},
   "outputs": [
    {
     "data": {
      "text/plain": [
       "10"
      ]
     },
     "execution_count": 77,
     "metadata": {},
     "output_type": "execute_result"
    }
   ],
   "source": [
    "s1='hello'\n",
    "s2=s1.center(10 ,'*')\n",
    "len(s2)"
   ]
  },
  {
   "cell_type": "code",
   "execution_count": 79,
   "id": "0039ca52-3d5e-44a1-ae5e-40b5fdca4f8b",
   "metadata": {},
   "outputs": [
    {
     "data": {
      "text/plain": [
       "'**gmail***'"
      ]
     },
     "execution_count": 79,
     "metadata": {},
     "output_type": "execute_result"
    }
   ],
   "source": [
    "s1='gmail'\n",
    "s1.center(10,'*')"
   ]
  },
  {
   "cell_type": "markdown",
   "id": "e9301b02-f4d2-4add-b8d4-70e34116dbce",
   "metadata": {},
   "source": [
    "**Title**"
   ]
  },
  {
   "cell_type": "markdown",
   "id": "ff8ac354-2193-4932-aa9b-a31e4082f229",
   "metadata": {},
   "source": [
    "s='hello how are you'\n",
    "s.title()\n",
    "\n",
    "# understand the diffrence\n",
    "2# capitalize and upper"
   ]
  },
  {
   "cell_type": "markdown",
   "id": "231ab230-4f08-4e1f-a2d8-1a4cdfb697d9",
   "metadata": {},
   "source": [
    "# Count"
   ]
  },
  {
   "cell_type": "code",
   "execution_count": 85,
   "id": "92daaa4a-dd28-4110-b861-732f50389fa7",
   "metadata": {},
   "outputs": [
    {
     "name": "stdout",
     "output_type": "stream",
     "text": [
      "2\n"
     ]
    }
   ],
   "source": [
    "str1='hello hai how are you'\n",
    "# I want to know how many 'a' are available\n",
    "\n",
    "count=0\n",
    "for i in str1:\n",
    "    if i=='a':\n",
    "        count=count+1\n",
    "\n",
    "print(count)"
   ]
  },
  {
   "cell_type": "code",
   "execution_count": 87,
   "id": "30fb7fbd-5cd7-4e8c-b82a-1c51829801aa",
   "metadata": {},
   "outputs": [
    {
     "data": {
      "text/plain": [
       "2"
      ]
     },
     "execution_count": 87,
     "metadata": {},
     "output_type": "execute_result"
    }
   ],
   "source": [
    "str1='hello hai how are you'\n",
    "xstr1.count('a')\n",
    "\n",
    "# with out using any method"
   ]
  },
  {
   "cell_type": "code",
   "execution_count": null,
   "id": "921f9834-1bdc-4618-a947-0df331521af8",
   "metadata": {},
   "outputs": [],
   "source": [
    "# Q1) str='hello hai how are you'\n",
    "#     str=''"
   ]
  },
  {
   "cell_type": "code",
   "execution_count": 89,
   "id": "e1061d50-2052-4a3a-b0e6-faa8bbae1c21",
   "metadata": {},
   "outputs": [
    {
     "data": {
      "text/plain": [
       "1"
      ]
     },
     "execution_count": 89,
     "metadata": {},
     "output_type": "execute_result"
    }
   ],
   "source": [
    "str1='ola ola ola '\n",
    "str1.count('ola ola ola')\n",
    "str1.count(str1)"
   ]
  },
  {
   "cell_type": "code",
   "execution_count": 91,
   "id": "7b4a8384-1420-4f0a-a8f7-e5d0d6b22d42",
   "metadata": {},
   "outputs": [
    {
     "data": {
      "text/plain": [
       "0"
      ]
     },
     "execution_count": 91,
     "metadata": {},
     "output_type": "execute_result"
    }
   ],
   "source": [
    "str1.count('uber')"
   ]
  },
  {
   "cell_type": "code",
   "execution_count": null,
   "id": "fc3c514d-1b70-4576-98e8-d545463294e4",
   "metadata": {},
   "outputs": [],
   "source": [
    " # Q2) str='ola ola ola'\n",
    "#     count=3   with out using method"
   ]
  },
  {
   "cell_type": "markdown",
   "id": "7c37e838-e8ac-4ac5-86af-a6ea02b7ad6f",
   "metadata": {},
   "source": [
    "# 19 - 08 - 2024"
   ]
  },
  {
   "cell_type": "code",
   "execution_count": null,
   "id": "751708c7-aca4-489b-b755-0771d2a8afa2",
   "metadata": {},
   "outputs": [],
   "source": [
    "e# idea is you need to divide the sentence into words\n",
    "# you need to iterate each and apply  .title\n",
    "# again you neeed to concatenate with all the words"
   ]
  },
  {
   "cell_type": "code",
   "execution_count": 1,
   "id": "696e7b6c-e7e7-47aa-ab3a-64d35de53300",
   "metadata": {},
   "outputs": [
    {
     "data": {
      "text/plain": [
       "3"
      ]
     },
     "execution_count": 1,
     "metadata": {},
     "output_type": "execute_result"
    }
   ],
   "source": [
    "str1='ola ola ola '\n",
    "str1.count('o')"
   ]
  },
  {
   "cell_type": "code",
   "execution_count": 12,
   "id": "3262e237-927c-4aff-ae1c-2464b0c051e0",
   "metadata": {},
   "outputs": [
    {
     "data": {
      "text/plain": [
       "2"
      ]
     },
     "execution_count": 12,
     "metadata": {},
     "output_type": "execute_result"
    }
   ],
   "source": [
    "str1='ola ola ola'\n",
    "str1.count('o',2)   # we are searching the number of 'o' after 2nd  index"
   ]
  },
  {
   "cell_type": "code",
   "execution_count": 14,
   "id": "534205cd-770a-4897-bbf9-6d729935b515",
   "metadata": {},
   "outputs": [
    {
     "data": {
      "text/plain": [
       "1"
      ]
     },
     "execution_count": 14,
     "metadata": {},
     "output_type": "execute_result"
    }
   ],
   "source": [
    "str1='ola ola ola'\n",
    "str1.count('o',8)"
   ]
  },
  {
   "cell_type": "code",
   "execution_count": 10,
   "id": "57932693-fcf2-4e66-a303-a446bf5393d6",
   "metadata": {},
   "outputs": [
    {
     "data": {
      "text/plain": [
       "1"
      ]
     },
     "execution_count": 10,
     "metadata": {},
     "output_type": "execute_result"
    }
   ],
   "source": [
    "str1='ola ola ola'\n",
    "str1.count('o',2,5) "
   ]
  },
  {
   "cell_type": "code",
   "execution_count": 16,
   "id": "a6973e17-774e-417b-8310-14847599e671",
   "metadata": {},
   "outputs": [
    {
     "data": {
      "text/plain": [
       "0"
      ]
     },
     "execution_count": 16,
     "metadata": {},
     "output_type": "execute_result"
    }
   ],
   "source": [
    "str1='ola ola ola'\n",
    "str1.count('o',2,4) "
   ]
  },
  {
   "cell_type": "code",
   "execution_count": 6,
   "id": "ba7f5243-d12f-4a7e-8165-60d18c095bac",
   "metadata": {},
   "outputs": [
    {
     "data": {
      "text/plain": [
       "'a ola ola '"
      ]
     },
     "execution_count": 6,
     "metadata": {},
     "output_type": "execute_result"
    }
   ],
   "source": [
    "# o  l  a       o   l   a       o   l   a\n",
    "# 0  1  2  3    4   5   6  7    8   9   10\n",
    "str1[2:]"
   ]
  },
  {
   "cell_type": "code",
   "execution_count": 20,
   "id": "9d95b37f-7a3b-4e14-9444-75054e637b1b",
   "metadata": {},
   "outputs": [
    {
     "data": {
      "text/plain": [
       "'a '"
      ]
     },
     "execution_count": 20,
     "metadata": {},
     "output_type": "execute_result"
    }
   ],
   "source": [
    "# o  l  a       o   l   a       o   l   a\n",
    "# 0  1  2  3    4   5   6  7    8   9   10\n",
    "str1[2:4]"
   ]
  },
  {
   "cell_type": "markdown",
   "id": "36477bbe-9a5f-49b3-a8d4-de8a71b49c83",
   "metadata": {},
   "source": [
    "**Replace**"
   ]
  },
  {
   "cell_type": "code",
   "execution_count": 26,
   "id": "c2e85e0d-37bb-438e-b79b-3afaba400ee5",
   "metadata": {},
   "outputs": [],
   "source": [
    "str1='welcome'\n",
    "# o/p: 'welcome'"
   ]
  },
  {
   "cell_type": "code",
   "execution_count": 28,
   "id": "a707c94d-de85-4b12-99c1-b4215c62974c",
   "metadata": {},
   "outputs": [
    {
     "ename": "TypeError",
     "evalue": "'str' object does not support item assignment",
     "output_type": "error",
     "traceback": [
      "\u001b[1;31m---------------------------------------------------------------------------\u001b[0m",
      "\u001b[1;31mTypeError\u001b[0m                                 Traceback (most recent call last)",
      "Cell \u001b[1;32mIn[28], line 1\u001b[0m\n\u001b[1;32m----> 1\u001b[0m str1[\u001b[38;5;241m2\u001b[39m]\u001b[38;5;241m=\u001b[39m\u001b[38;5;124m'\u001b[39m\u001b[38;5;124mL\u001b[39m\u001b[38;5;124m'\u001b[39m\n",
      "\u001b[1;31mTypeError\u001b[0m: 'str' object does not support item assignment"
     ]
    }
   ],
   "source": [
    "str1[2]='L'"
   ]
  },
  {
   "cell_type": "code",
   "execution_count": 3,
   "id": "ddd849d7-b1d5-4d91-a4fe-e7b30e2bd9cb",
   "metadata": {},
   "outputs": [
    {
     "data": {
      "text/plain": [
       "'welcome'"
      ]
     },
     "execution_count": 3,
     "metadata": {},
     "output_type": "execute_result"
    }
   ],
   "source": [
    "str1='welcome'\n",
    "str1.replace('1','L')"
   ]
  },
  {
   "cell_type": "code",
   "execution_count": 32,
   "id": "9efe8cce-a825-4e1b-a31d-800843f39ad6",
   "metadata": {},
   "outputs": [
    {
     "data": {
      "text/plain": [
       "'wLLLcome'"
      ]
     },
     "execution_count": 32,
     "metadata": {},
     "output_type": "execute_result"
    }
   ],
   "source": [
    "str1='w111come'\n",
    "str1.replace('1','L')\n",
    "# by default it will replace all occurence\n",
    "# old='L'"
   ]
  },
  {
   "cell_type": "code",
   "execution_count": 34,
   "id": "50b97eee-289c-4b40-af95-d69c9c2607a0",
   "metadata": {},
   "outputs": [
    {
     "data": {
      "text/plain": [
       "'wL11come'"
      ]
     },
     "execution_count": 34,
     "metadata": {},
     "output_type": "execute_result"
    }
   ],
   "source": [
    "str1='w111come'\n",
    "str1.replace('1','L',1)\n",
    "# old='L'  new='L'\n",
    "# count=1\n",
    "# replace"
   ]
  },
  {
   "cell_type": "code",
   "execution_count": 36,
   "id": "2f5a6f4a-04fc-49c2-8576-5515afaad859",
   "metadata": {},
   "outputs": [
    {
     "data": {
      "text/plain": [
       "'wLL1come'"
      ]
     },
     "execution_count": 36,
     "metadata": {},
     "output_type": "execute_result"
    }
   ],
   "source": [
    "str1='w111come'\n",
    "str1.replace('1','L',2)\n",
    "\n",
    "# w    1    1      1    c    o     m    e\n",
    "# 0    1    2  3   4    5    6  7  8    9"
   ]
  },
  {
   "cell_type": "code",
   "execution_count": 38,
   "id": "647be85e-33cd-44b0-a0b5-3158b74f9528",
   "metadata": {},
   "outputs": [
    {
     "data": {
      "text/plain": [
       "'wLLLcome'"
      ]
     },
     "execution_count": 38,
     "metadata": {},
     "output_type": "execute_result"
    }
   ],
   "source": [
    "str1='w111come'\n",
    "str1.replace('1','L',3)"
   ]
  },
  {
   "cell_type": "code",
   "execution_count": 40,
   "id": "fd0f73fb-a05b-4916-8a17-4b8e3e80cbe3",
   "metadata": {},
   "outputs": [
    {
     "data": {
      "text/plain": [
       "'wLLLcome'"
      ]
     },
     "execution_count": 40,
     "metadata": {},
     "output_type": "execute_result"
    }
   ],
   "source": [
    "str1='w111come'\n",
    "str1.replace('1','L',4)"
   ]
  },
  {
   "cell_type": "code",
   "execution_count": 5,
   "id": "9f03893b-00d7-4dfe-8439-4df4d8cf3cbf",
   "metadata": {},
   "outputs": [
    {
     "data": {
      "text/plain": [
       "'w111Lome'"
      ]
     },
     "execution_count": 5,
     "metadata": {},
     "output_type": "execute_result"
    }
   ],
   "source": [
    "str1='w111come'\n",
    "str1.replace('c','L',5)"
   ]
  },
  {
   "cell_type": "code",
   "execution_count": 7,
   "id": "1767c29a-3bd9-4d57-8c4e-22d8b1850f35",
   "metadata": {},
   "outputs": [],
   "source": [
    "# str='restart'\n",
    "# op='resta$t'\n",
    "str1=''"
   ]
  },
  {
   "cell_type": "code",
   "execution_count": 54,
   "id": "103e8fea-f798-4fd2-a8af-06addc9a4080",
   "metadata": {},
   "outputs": [
    {
     "name": "stdout",
     "output_type": "stream",
     "text": [
      "resta$t\n"
     ]
    }
   ],
   "source": [
    "str1='restart'\n",
    "str1=str1.replace('r','$',2)\n",
    "str1=str1.replace('$','r',1)\n",
    "print(str1)"
   ]
  },
  {
   "cell_type": "code",
   "execution_count": null,
   "id": "aae17da2-3210-40e9-9cad-39441a5332f8",
   "metadata": {},
   "outputs": [],
   "source": [
    "str1='restart'\n",
    "s1=str1[:1]\n",
    "s1 # 'r'\n",
    "s2=str1[1:]\n",
    "s2\n",
    "s3=s2.replace('r','$')\n",
    "s3\n",
    "s4"
   ]
  },
  {
   "cell_type": "code",
   "execution_count": 56,
   "id": "19a8c4c1-db1a-486b-a3e0-67fcf713c14e",
   "metadata": {},
   "outputs": [
    {
     "data": {
      "text/plain": [
       "'$esta$t'"
      ]
     },
     "execution_count": 56,
     "metadata": {},
     "output_type": "execute_result"
    }
   ],
   "source": [
    "str1[::-1].replace('r','$',1)[::-1]"
   ]
  },
  {
   "cell_type": "code",
   "execution_count": 93,
   "id": "ece4e361-0d9e-49e7-90ca-207ff7beb50d",
   "metadata": {},
   "outputs": [
    {
     "data": {
      "text/plain": [
       "'ola ola ola'"
      ]
     },
     "execution_count": 93,
     "metadata": {},
     "output_type": "execute_result"
    }
   ],
   "source": [
    "s1=str1[::-1 ]\n",
    "s2=s1.replace('r','$',1)\n",
    "s3=s2[::-1]\n",
    "s3"
   ]
  },
  {
   "cell_type": "code",
   "execution_count": null,
   "id": "79271bbf-35bc-4341-b744-68816a505cbe",
   "metadata": {},
   "outputs": [],
   "source": []
  },
  {
   "cell_type": "code",
   "execution_count": 60,
   "id": "6073f6c3-313d-4e5e-94e5-fd205436bbc2",
   "metadata": {},
   "outputs": [
    {
     "data": {
      "text/plain": [
       "'hello '"
      ]
     },
     "execution_count": 60,
     "metadata": {},
     "output_type": "execute_result"
    }
   ],
   "source": [
    "s1='hello python hello restart'\n",
    "s1[:6]"
   ]
  },
  {
   "cell_type": "markdown",
   "id": "e790ad98-8729-4752-b61d-abacec5cb4da",
   "metadata": {},
   "source": [
    "**Index-find**\n",
    "\n",
    "- Index\n",
    "\n",
    "    - in above example we are counting the 'r' by own \n",
    "\n",
    "    - here 'r' is first letter then we are able to do \n",
    "\n",
    "    - imagination that 'r' is after 100 character, we are not able to do \n",
    "\n",
    "     - the index of the 'r' should come automatically"
   ]
  },
  {
   "cell_type": "code",
   "execution_count": 67,
   "id": "f0c8e6cd-9415-43e1-82bf-656124598309",
   "metadata": {},
   "outputs": [
    {
     "data": {
      "text/plain": [
       "'llo hai how are you'"
      ]
     },
     "execution_count": 67,
     "metadata": {},
     "output_type": "execute_result"
    }
   ],
   "source": [
    "s='hello hai how are you'\n",
    "#s[start:stop:step]\n",
    "#s[start:stop]\n",
    "s[2:]  # start=2   stop="
   ]
  },
  {
   "cell_type": "code",
   "execution_count": 69,
   "id": "9ea8f073-3287-442d-8a52-9fc07746c602",
   "metadata": {},
   "outputs": [
    {
     "data": {
      "text/plain": [
       "'hello hai '"
      ]
     },
     "execution_count": 69,
     "metadata": {},
     "output_type": "execute_result"
    }
   ],
   "source": [
    "s[:10] # start=0   stop = till last"
   ]
  },
  {
   "cell_type": "code",
   "execution_count": 71,
   "id": "478dfc88-5c16-4dad-87d1-fda0f5b9eab3",
   "metadata": {},
   "outputs": [
    {
     "data": {
      "text/plain": [
       "'hello hai how are you'"
      ]
     },
     "execution_count": 71,
     "metadata": {},
     "output_type": "execute_result"
    }
   ],
   "source": [
    "s[::] # start=0  stop = tilll last"
   ]
  },
  {
   "cell_type": "code",
   "execution_count": 73,
   "id": "b0915d39-68ec-43a9-95f4-32ca1e3a273e",
   "metadata": {},
   "outputs": [
    {
     "data": {
      "text/plain": [
       "'uoy era woh iah olleh'"
      ]
     },
     "execution_count": 73,
     "metadata": {},
     "output_type": "execute_result"
    }
   ],
   "source": [
    "s[::-1]"
   ]
  },
  {
   "cell_type": "code",
   "execution_count": 87,
   "id": "a6ab51a8-d7c4-4547-97d5-e35fdfabfe4e",
   "metadata": {},
   "outputs": [
    {
     "data": {
      "text/plain": [
       "9"
      ]
     },
     "execution_count": 87,
     "metadata": {},
     "output_type": "execute_result"
    }
   ],
   "source": [
    "str1='ola ola ola'\n",
    "#str1.count()\n",
    "#str1.replace()\n",
    "str1.index('l')\n",
    "str1.index('l',6)"
   ]
  },
  {
   "cell_type": "code",
   "execution_count": 95,
   "id": "114893bc-86d4-4ef9-93d2-226ee28d6eeb",
   "metadata": {},
   "outputs": [
    {
     "data": {
      "text/plain": [
       "'ola ola ola '"
      ]
     },
     "execution_count": 95,
     "metadata": {},
     "output_type": "execute_result"
    }
   ],
   "source": [
    "str1='ola ola ola '\n",
    "str1.replace('z', 'l')"
   ]
  },
  {
   "cell_type": "code",
   "execution_count": 97,
   "id": "97eeadf2-9e71-4cdc-8e59-0538ef071f12",
   "metadata": {},
   "outputs": [
    {
     "data": {
      "text/plain": [
       "0"
      ]
     },
     "execution_count": 97,
     "metadata": {},
     "output_type": "execute_result"
    }
   ],
   "source": [
    "str1.count('z')"
   ]
  },
  {
   "cell_type": "code",
   "execution_count": 103,
   "id": "005fa7e1-d71f-4571-a6fc-5ca719c06c3e",
   "metadata": {},
   "outputs": [
    {
     "data": {
      "text/plain": [
       "9"
      ]
     },
     "execution_count": 103,
     "metadata": {},
     "output_type": "execute_result"
    }
   ],
   "source": [
    "str1='ola ola ola '\n",
    "# I want all 'L' indexes\n",
    "str1.index('l')\n",
    "\n",
    "# if i want to get 2nd \n",
    "\n",
    "str1.index('l',2)\n",
    "str1.index('l',6)"
   ]
  },
  {
   "cell_type": "code",
   "execution_count": 111,
   "id": "19278fbc-5784-49d1-987e-bf0109d1a1a1",
   "metadata": {},
   "outputs": [
    {
     "data": {
      "text/plain": [
       "17"
      ]
     },
     "execution_count": 111,
     "metadata": {},
     "output_type": "execute_result"
    }
   ],
   "source": [
    "str1='ola ola ola ola ola '\n",
    "str1.index('l',1+0)\n",
    "str1.index('l',1+1)\n",
    "str1.index('l',1+5)\n",
    "str1.index('l',1+9)\n",
    "str1.index('l',1+13)"
   ]
  },
  {
   "cell_type": "code",
   "execution_count": null,
   "id": "a9bc9d47-0240-4254-9152-9806b2e8f79a",
   "metadata": {},
   "outputs": [],
   "source": [
    "str1='ola ola ola ola ola '\n",
    "i1=str1.index()"
   ]
  },
  {
   "cell_type": "code",
   "execution_count": 113,
   "id": "d87efd9f-1c9f-48b5-b852-0758de3bfb43",
   "metadata": {},
   "outputs": [
    {
     "data": {
      "text/plain": [
       "5"
      ]
     },
     "execution_count": 113,
     "metadata": {},
     "output_type": "execute_result"
    }
   ],
   "source": [
    "str1='ola ola ola ola ola '\n",
    "str1.index('l')\n",
    "str1.index('l',2)\n",
    "str1.index('l',3)"
   ]
  },
  {
   "cell_type": "code",
   "execution_count": 115,
   "id": "d516f421-b7f6-4f37-a9a9-b564ebe6ffd6",
   "metadata": {},
   "outputs": [],
   "source": [
    "str1='ola ola ola ola ola '\n",
    "i1=str1.index('l')\n",
    "i2=str1.index('l',1+i1)"
   ]
  },
  {
   "cell_type": "code",
   "execution_count": 123,
   "id": "ba374021-9c75-43ca-b147-9c8c3ac27096",
   "metadata": {},
   "outputs": [
    {
     "data": {
      "text/plain": [
       "5"
      ]
     },
     "execution_count": 123,
     "metadata": {},
     "output_type": "execute_result"
    }
   ],
   "source": [
    "# how do we come up with numbrs of 5,9 and 13\n",
    "\n",
    "str1='ola ola ola ola ola '\n",
    "# 2nd index of 'L'\n",
    "str1.index('l',2)"
   ]
  },
  {
   "cell_type": "markdown",
   "id": "4633b744-d7db-4e40-b511-3138018f7075",
   "metadata": {},
   "source": [
    "**Find**\n",
    "\n",
    "- Tell me the difference between index and find"
   ]
  },
  {
   "cell_type": "code",
   "execution_count": null,
   "id": "e1cc9669-4be9-4644-be22-1d230119d165",
   "metadata": {},
   "outputs": [],
   "source": []
  },
  {
   "cell_type": "code",
   "execution_count": null,
   "id": "38479a45-035f-4993-84f2-e76c8a1cc551",
   "metadata": {},
   "outputs": [],
   "source": []
  },
  {
   "cell_type": "markdown",
   "id": "707f8ce5-f1f7-4302-af07-86d91b4d7fff",
   "metadata": {},
   "source": [
    "# 20 - 08 - 24"
   ]
  },
  {
   "cell_type": "code",
   "execution_count": null,
   "id": "dd1b688c-1571-478d-8897-a9b24601c601",
   "metadata": {},
   "outputs": [],
   "source": [
    "str1='ola ola ola '\n",
    "str1.count('z')    # 0\n",
    "str1.replace('z','a')  # same string\n",
    "str1.index('z')  # value error\n",
    "str1.find('z')  # -1"
   ]
  },
  {
   "cell_type": "markdown",
   "id": "4a0af039-546e-4169-933a-9f1704851f79",
   "metadata": {},
   "source": [
    "# lstrip-rstrip-strip"
   ]
  },
  {
   "cell_type": "code",
   "execution_count": null,
   "id": "3172db82-6937-485e-afb3-077fb288a8ab",
   "metadata": {},
   "outputs": [],
   "source": [
    "str1='  hai how are you '   # strip  (space on both sied )\n",
    "str2='hai how are you  '    # rstrip   right side\n",
    "str3='  hai how are you'     # srtip   left side"
   ]
  },
  {
   "cell_type": "code",
   "execution_count": 6,
   "id": "08af8372-8c9b-4eee-9ffd-dac0ef9c0208",
   "metadata": {},
   "outputs": [
    {
     "data": {
      "text/plain": [
       "'hai how are you'"
      ]
     },
     "execution_count": 6,
     "metadata": {},
     "output_type": "execute_result"
    }
   ],
   "source": [
    "str1='  hai how are you ' \n",
    "str1.strip()"
   ]
  },
  {
   "cell_type": "code",
   "execution_count": 10,
   "id": "48349dc9-74fd-4f61-bd4b-21fe6e4aeb4e",
   "metadata": {},
   "outputs": [
    {
     "data": {
      "text/plain": [
       "('hai how are you', 'hai how are you', 'hai how are you')"
      ]
     },
     "execution_count": 10,
     "metadata": {},
     "output_type": "execute_result"
    }
   ],
   "source": [
    "str1='  hai how are you '   # strip  (space on both sied )\n",
    "str2='hai how are you  '    # rstrip   right side\n",
    "str3='  hai how are you'\n",
    "\n",
    "str1.strip(),str2.rstrip(),str3.lstrip()"
   ]
  },
  {
   "cell_type": "code",
   "execution_count": 12,
   "id": "06c48cef-968f-4bb5-9864-484efcb4d7c1",
   "metadata": {},
   "outputs": [
    {
     "ename": "NameError",
     "evalue": "name 'str2' is not defined",
     "output_type": "error",
     "traceback": [
      "\u001b[1;31m---------------------------------------------------------------------------\u001b[0m",
      "\u001b[1;31mNameError\u001b[0m                                 Traceback (most recent call last)",
      "Cell \u001b[1;32mIn[12], line 1\u001b[0m\n\u001b[1;32m----> 1\u001b[0m str2\u001b[38;5;241m.\u001b[39mstrip(),str2\u001b[38;5;241m.\u001b[39mrstrip(),str2\u001b[38;5;241m.\u001b[39mlstrip()\n",
      "\u001b[1;31mNameError\u001b[0m: name 'str2' is not defined"
     ]
    }
   ],
   "source": [
    "str2.strip(),str2.rstrip(),str2.lstrip()"
   ]
  },
  {
   "cell_type": "markdown",
   "id": "d8173a11-7ca5-4a36-9b2b-779d1dd19bc5",
   "metadata": {},
   "source": [
    "# startwith-endwith"
   ]
  },
  {
   "cell_type": "code",
   "execution_count": 15,
   "id": "cb7a4711-25fc-4d3b-8112-ce3238452950",
   "metadata": {},
   "outputs": [
    {
     "data": {
      "text/plain": [
       "True"
      ]
     },
     "execution_count": 15,
     "metadata": {},
     "output_type": "execute_result"
    }
   ],
   "source": [
    "str1='hello hai how are you'\n",
    "str1.startswith('hello')"
   ]
  },
  {
   "cell_type": "code",
   "execution_count": 17,
   "id": "6157f27a-58a2-4ebf-ac4d-caf10498be80",
   "metadata": {},
   "outputs": [
    {
     "data": {
      "text/plain": [
       "False"
      ]
     },
     "execution_count": 17,
     "metadata": {},
     "output_type": "execute_result"
    }
   ],
   "source": [
    "str1='hello hai how are you'\n",
    "str1.startswith('Hello')"
   ]
  },
  {
   "cell_type": "code",
   "execution_count": 19,
   "id": "6b4bfef8-cf06-43fd-8750-59e39782d69f",
   "metadata": {},
   "outputs": [
    {
     "data": {
      "text/plain": [
       "False"
      ]
     },
     "execution_count": 19,
     "metadata": {},
     "output_type": "execute_result"
    }
   ],
   "source": [
    "str1='hello hai how are you'\n",
    "str1.endswith('hello')"
   ]
  },
  {
   "cell_type": "code",
   "execution_count": 21,
   "id": "cfd1d42d-6c61-47f5-9bad-d8afb3102b3b",
   "metadata": {},
   "outputs": [
    {
     "data": {
      "text/plain": [
       "True"
      ]
     },
     "execution_count": 21,
     "metadata": {},
     "output_type": "execute_result"
    }
   ],
   "source": [
    "str1='hello hai how are you'\n",
    "str1.endswith('ou')"
   ]
  },
  {
   "cell_type": "code",
   "execution_count": 23,
   "id": "85a5ca4c-b618-408d-932e-8e847c9489b1",
   "metadata": {},
   "outputs": [
    {
     "data": {
      "text/plain": [
       "True"
      ]
     },
     "execution_count": 23,
     "metadata": {},
     "output_type": "execute_result"
    }
   ],
   "source": [
    "str1.startswith(str1)\n",
    "str1.endswith(str1)"
   ]
  },
  {
   "cell_type": "code",
   "execution_count": null,
   "id": "2a339410-351d-4b0b-bc73-261cec093cfa",
   "metadata": {},
   "outputs": [],
   "source": [
    "'omkar.nallagoni@cognizant.con'\n",
    "'virat.kohli@rcb.com'\n",
    "'rohit.sharma@mi.com'\n",
    "\n",
    "# 3 indexes\n",
    "# first dot index\n",
    "# @ index\n",
    "# second dot index\n",
    "# apply the slice"
   ]
  },
  {
   "cell_type": "code",
   "execution_count": 43,
   "id": "44a9e754-66be-439b-b7fb-5835b486546c",
   "metadata": {},
   "outputs": [],
   "source": [
    "str1='omkar.nallagoni@cognizant.con'\n",
    "i1_dot=str1.index('.')\n",
    "i2_dot=str1.index('.',1+i1_dot)\n",
    "i3_dot=str1.index('@')\n",
    "\n",
    "fname=str1[:i1_dot]\n",
    "sname=str1[i1_dot+1:i3_dot]"
   ]
  },
  {
   "cell_type": "markdown",
   "id": "c30fd431-d194-4f2a-930e-1baa0c6abd61",
   "metadata": {},
   "source": [
    "# split"
   ]
  },
  {
   "cell_type": "code",
   "execution_count": 48,
   "id": "3473a5a0-a0e1-4251-aaff-d1148aba079c",
   "metadata": {},
   "outputs": [
    {
     "data": {
      "text/plain": [
       "['hello', 'hai', 'how', 'are', 'you']"
      ]
     },
     "execution_count": 48,
     "metadata": {},
     "output_type": "execute_result"
    }
   ],
   "source": [
    "str1='hello hai how are you'\n",
    "str1.split()"
   ]
  },
  {
   "cell_type": "code",
   "execution_count": 50,
   "id": "50173032-5cc9-4e5d-8148-5f2c4f8c8a24",
   "metadata": {},
   "outputs": [
    {
     "data": {
      "text/plain": [
       "['hello hai', ' how are you']"
      ]
     },
     "execution_count": 50,
     "metadata": {},
     "output_type": "execute_result"
    }
   ],
   "source": [
    "str1='hello hai, how are you'\n",
    "str1.split(',')"
   ]
  },
  {
   "cell_type": "code",
   "execution_count": 1,
   "id": "9e3a549a-df43-4d67-b64c-44286f320f9b",
   "metadata": {},
   "outputs": [
    {
     "data": {
      "text/plain": [
       "['', 'ello ', 'ai ', 'ow are you']"
      ]
     },
     "execution_count": 1,
     "metadata": {},
     "output_type": "execute_result"
    }
   ],
   "source": [
    "str1='hello hai how are you'\n",
    "str1.split('h')                                                                                                                                                             "
   ]
  },
  {
   "cell_type": "code",
   "execution_count": null,
   "id": "8779932b-43c3-481e-96ea-fb27bf9652d8",
   "metadata": {},
   "outputs": [],
   "source": []
  }
 ],
 "metadata": {
  "kernelspec": {
   "display_name": "Python 3 (ipykernel)",
   "language": "python",
   "name": "python3"
  },
  "language_info": {
   "codemirror_mode": {
    "name": "ipython",
    "version": 3
   },
   "file_extension": ".py",
   "mimetype": "text/x-python",
   "name": "python",
   "nbconvert_exporter": "python",
   "pygments_lexer": "ipython3",
   "version": "3.12.4"
  }
 },
 "nbformat": 4,
 "nbformat_minor": 5
}
